{
 "cells": [
  {
   "cell_type": "markdown",
   "id": "6be10c9a-014a-4f73-9fdc-8ebc91c98f39",
   "metadata": {
    "jp-MarkdownHeadingCollapsed": true
   },
   "source": [
    "### Import and Install Libraries"
   ]
  },
  {
   "cell_type": "code",
   "execution_count": 13,
   "id": "dc5db3c5-fa0a-49a0-8c5a-35cc3a5b671c",
   "metadata": {},
   "outputs": [],
   "source": [
    "#!pip install sqlalchemy\n",
    "#!pip install pymysql"
   ]
  },
  {
   "cell_type": "code",
   "execution_count": 14,
   "id": "a33ec7c5-6fec-42fd-8e15-e46091c1ff22",
   "metadata": {},
   "outputs": [],
   "source": [
    "import requests\n",
    "import pandas as pd\n",
    "from IPython.display import JSON\n",
    "import my_stuff\n",
    "from datetime import datetime,timedelta\n",
    "from pytz import timezone"
   ]
  },
  {
   "cell_type": "code",
   "execution_count": 15,
   "id": "cefeb006-37fb-450a-a9e1-2b6a505c5e55",
   "metadata": {},
   "outputs": [],
   "source": [
    "schema = \"gans\"\n",
    "host = \"127.0.0.1\"\n",
    "user = \"root\"\n",
    "password =my_stuff.my_sql_password\n",
    "port = 3306\n",
    "\n",
    "connection_string = f'mysql+pymysql://{user}:{password}@{host}:{port}/{schema}'"
   ]
  },
  {
   "cell_type": "markdown",
   "id": "31ec7561-a9ea-4577-929f-6a2da6fde1ea",
   "metadata": {
    "jp-MarkdownHeadingCollapsed": true
   },
   "source": [
    "## Weather Details"
   ]
  },
  {
   "cell_type": "markdown",
   "id": "95df2830-4c0b-403d-a8c2-0821741c2d71",
   "metadata": {
    "jp-MarkdownHeadingCollapsed": true
   },
   "source": [
    "#### API Calls"
   ]
  },
  {
   "cell_type": "code",
   "execution_count": 16,
   "id": "d8a5e048-7cbf-41c2-b944-bc9e513c5120",
   "metadata": {},
   "outputs": [],
   "source": [
    "Response= requests.get(f\"http://api.openweathermap.org/data/2.5/forecast?q={'Berlin'}&appid={my_stuff.my_API_Key}&units=metric\")"
   ]
  },
  {
   "cell_type": "code",
   "execution_count": 17,
   "id": "ca587e72-0fff-457c-882f-ea550a67aeec",
   "metadata": {
    "scrolled": true
   },
   "outputs": [],
   "source": [
    "Response_= Response.json()\n"
   ]
  },
  {
   "cell_type": "code",
   "execution_count": 18,
   "id": "6b31dcb6-2aad-4a10-a1ed-0b6b31889b1d",
   "metadata": {},
   "outputs": [
    {
     "data": {
      "application/json": {
       "city": {
        "coord": {
         "lat": 52.5244,
         "lon": 13.4105
        },
        "country": "DE",
        "id": 2950159,
        "name": "Berlin",
        "population": 1000000,
        "sunrise": 1715915209,
        "sunset": 1715972336,
        "timezone": 7200
       },
       "cnt": 40,
       "cod": "200",
       "list": [
        {
         "clouds": {
          "all": 0
         },
         "dt": 1715947200,
         "dt_txt": "2024-05-17 12:00:00",
         "main": {
          "feels_like": 23.73,
          "grnd_level": 1004,
          "humidity": 28,
          "pressure": 1008,
          "sea_level": 1008,
          "temp": 24.49,
          "temp_kf": 0.13,
          "temp_max": 24.49,
          "temp_min": 24.36
         },
         "pop": 0,
         "sys": {
          "pod": "d"
         },
         "visibility": 10000,
         "weather": [
          {
           "description": "clear sky",
           "icon": "01d",
           "id": 800,
           "main": "Clear"
          }
         ],
         "wind": {
          "deg": 102,
          "gust": 10.27,
          "speed": 7.58
         }
        },
        {
         "clouds": {
          "all": 9
         },
         "dt": 1715958000,
         "dt_txt": "2024-05-17 15:00:00",
         "main": {
          "feels_like": 23.67,
          "grnd_level": 1004,
          "humidity": 29,
          "pressure": 1008,
          "sea_level": 1008,
          "temp": 24.42,
          "temp_kf": 0.13,
          "temp_max": 24.42,
          "temp_min": 24.29
         },
         "pop": 0,
         "sys": {
          "pod": "d"
         },
         "visibility": 10000,
         "weather": [
          {
           "description": "clear sky",
           "icon": "01d",
           "id": 800,
           "main": "Clear"
          }
         ],
         "wind": {
          "deg": 95,
          "gust": 10,
          "speed": 7.57
         }
        },
        {
         "clouds": {
          "all": 37
         },
         "dt": 1715968800,
         "dt_txt": "2024-05-17 18:00:00",
         "main": {
          "feels_like": 19.93,
          "grnd_level": 1005,
          "humidity": 43,
          "pressure": 1010,
          "sea_level": 1010,
          "temp": 20.68,
          "temp_kf": 1.91,
          "temp_max": 20.68,
          "temp_min": 18.77
         },
         "pop": 0,
         "sys": {
          "pod": "d"
         },
         "visibility": 10000,
         "weather": [
          {
           "description": "scattered clouds",
           "icon": "03d",
           "id": 802,
           "main": "Clouds"
          }
         ],
         "wind": {
          "deg": 164,
          "gust": 6.19,
          "speed": 3.32
         }
        },
        {
         "clouds": {
          "all": 54
         },
         "dt": 1715979600,
         "dt_txt": "2024-05-17 21:00:00",
         "main": {
          "feels_like": 14.84,
          "grnd_level": 1006,
          "humidity": 60,
          "pressure": 1011,
          "sea_level": 1011,
          "temp": 15.65,
          "temp_kf": 0,
          "temp_max": 15.65,
          "temp_min": 15.65
         },
         "pop": 0,
         "sys": {
          "pod": "n"
         },
         "visibility": 10000,
         "weather": [
          {
           "description": "broken clouds",
           "icon": "04n",
           "id": 803,
           "main": "Clouds"
          }
         ],
         "wind": {
          "deg": 123,
          "gust": 4.69,
          "speed": 2.28
         }
        },
        {
         "clouds": {
          "all": 51
         },
         "dt": 1715990400,
         "dt_txt": "2024-05-18 00:00:00",
         "main": {
          "feels_like": 12.81,
          "grnd_level": 1006,
          "humidity": 70,
          "pressure": 1011,
          "sea_level": 1011,
          "temp": 13.57,
          "temp_kf": 0,
          "temp_max": 13.57,
          "temp_min": 13.57
         },
         "pop": 0,
         "sys": {
          "pod": "n"
         },
         "visibility": 10000,
         "weather": [
          {
           "description": "broken clouds",
           "icon": "04n",
           "id": 803,
           "main": "Clouds"
          }
         ],
         "wind": {
          "deg": 114,
          "gust": 5.12,
          "speed": 2.57
         }
        },
        {
         "clouds": {
          "all": 72
         },
         "dt": 1716001200,
         "dt_txt": "2024-05-18 03:00:00",
         "main": {
          "feels_like": 12.89,
          "grnd_level": 1005,
          "humidity": 71,
          "pressure": 1011,
          "sea_level": 1011,
          "temp": 13.62,
          "temp_kf": 0,
          "temp_max": 13.62,
          "temp_min": 13.62
         },
         "pop": 0,
         "sys": {
          "pod": "n"
         },
         "visibility": 10000,
         "weather": [
          {
           "description": "broken clouds",
           "icon": "04n",
           "id": 803,
           "main": "Clouds"
          }
         ],
         "wind": {
          "deg": 112,
          "gust": 7.3,
          "speed": 3.67
         }
        },
        {
         "clouds": {
          "all": 86
         },
         "dt": 1716012000,
         "dt_txt": "2024-05-18 06:00:00",
         "main": {
          "feels_like": 13.22,
          "grnd_level": 1006,
          "humidity": 74,
          "pressure": 1011,
          "sea_level": 1011,
          "temp": 13.85,
          "temp_kf": 0,
          "temp_max": 13.85,
          "temp_min": 13.85
         },
         "pop": 0,
         "sys": {
          "pod": "d"
         },
         "visibility": 10000,
         "weather": [
          {
           "description": "overcast clouds",
           "icon": "04d",
           "id": 804,
           "main": "Clouds"
          }
         ],
         "wind": {
          "deg": 124,
          "gust": 7.18,
          "speed": 4.17
         }
        },
        {
         "clouds": {
          "all": 100
         },
         "dt": 1716022800,
         "dt_txt": "2024-05-18 09:00:00",
         "main": {
          "feels_like": 13.64,
          "grnd_level": 1006,
          "humidity": 71,
          "pressure": 1012,
          "sea_level": 1012,
          "temp": 14.3,
          "temp_kf": 0,
          "temp_max": 14.3,
          "temp_min": 14.3
         },
         "pop": 0,
         "sys": {
          "pod": "d"
         },
         "visibility": 10000,
         "weather": [
          {
           "description": "overcast clouds",
           "icon": "04d",
           "id": 804,
           "main": "Clouds"
          }
         ],
         "wind": {
          "deg": 140,
          "gust": 8.89,
          "speed": 4.67
         }
        },
        {
         "clouds": {
          "all": 100
         },
         "dt": 1716033600,
         "dt_txt": "2024-05-18 12:00:00",
         "main": {
          "feels_like": 14.69,
          "grnd_level": 1006,
          "humidity": 65,
          "pressure": 1012,
          "sea_level": 1012,
          "temp": 15.4,
          "temp_kf": 0,
          "temp_max": 15.4,
          "temp_min": 15.4
         },
         "pop": 0,
         "sys": {
          "pod": "d"
         },
         "visibility": 10000,
         "weather": [
          {
           "description": "overcast clouds",
           "icon": "04d",
           "id": 804,
           "main": "Clouds"
          }
         ],
         "wind": {
          "deg": 148,
          "gust": 8.45,
          "speed": 4.23
         }
        },
        {
         "clouds": {
          "all": 95
         },
         "dt": 1716044400,
         "dt_txt": "2024-05-18 15:00:00",
         "main": {
          "feels_like": 16.32,
          "grnd_level": 1006,
          "humidity": 60,
          "pressure": 1011,
          "sea_level": 1011,
          "temp": 17,
          "temp_kf": 0,
          "temp_max": 17,
          "temp_min": 17
         },
         "pop": 0,
         "sys": {
          "pod": "d"
         },
         "visibility": 10000,
         "weather": [
          {
           "description": "overcast clouds",
           "icon": "04d",
           "id": 804,
           "main": "Clouds"
          }
         ],
         "wind": {
          "deg": 172,
          "gust": 9.15,
          "speed": 5.06
         }
        },
        {
         "clouds": {
          "all": 97
         },
         "dt": 1716055200,
         "dt_txt": "2024-05-18 18:00:00",
         "main": {
          "feels_like": 14.64,
          "grnd_level": 1005,
          "humidity": 69,
          "pressure": 1011,
          "sea_level": 1011,
          "temp": 15.26,
          "temp_kf": 0,
          "temp_max": 15.26,
          "temp_min": 15.26
         },
         "pop": 0,
         "sys": {
          "pod": "d"
         },
         "visibility": 10000,
         "weather": [
          {
           "description": "overcast clouds",
           "icon": "04d",
           "id": 804,
           "main": "Clouds"
          }
         ],
         "wind": {
          "deg": 152,
          "gust": 9.05,
          "speed": 3.85
         }
        },
        {
         "clouds": {
          "all": 100
         },
         "dt": 1716066000,
         "dt_txt": "2024-05-18 21:00:00",
         "main": {
          "feels_like": 13.68,
          "grnd_level": 1006,
          "humidity": 76,
          "pressure": 1011,
          "sea_level": 1011,
          "temp": 14.22,
          "temp_kf": 0,
          "temp_max": 14.22,
          "temp_min": 14.22
         },
         "pop": 0.2,
         "rain": {
          "3h": 0.24
         },
         "sys": {
          "pod": "n"
         },
         "visibility": 10000,
         "weather": [
          {
           "description": "light rain",
           "icon": "10n",
           "id": 500,
           "main": "Rain"
          }
         ],
         "wind": {
          "deg": 141,
          "gust": 8.21,
          "speed": 2.68
         }
        },
        {
         "clouds": {
          "all": 100
         },
         "dt": 1716076800,
         "dt_txt": "2024-05-19 00:00:00",
         "main": {
          "feels_like": 13.76,
          "grnd_level": 1005,
          "humidity": 79,
          "pressure": 1011,
          "sea_level": 1011,
          "temp": 14.22,
          "temp_kf": 0,
          "temp_max": 14.22,
          "temp_min": 14.22
         },
         "pop": 0,
         "sys": {
          "pod": "n"
         },
         "visibility": 10000,
         "weather": [
          {
           "description": "overcast clouds",
           "icon": "04n",
           "id": 804,
           "main": "Clouds"
          }
         ],
         "wind": {
          "deg": 97,
          "gust": 6.22,
          "speed": 2.16
         }
        },
        {
         "clouds": {
          "all": 98
         },
         "dt": 1716087600,
         "dt_txt": "2024-05-19 03:00:00",
         "main": {
          "feels_like": 12.17,
          "grnd_level": 1005,
          "humidity": 89,
          "pressure": 1010,
          "sea_level": 1010,
          "temp": 12.54,
          "temp_kf": 0,
          "temp_max": 12.54,
          "temp_min": 12.54
         },
         "pop": 0.28,
         "rain": {
          "3h": 0.18
         },
         "sys": {
          "pod": "n"
         },
         "visibility": 10000,
         "weather": [
          {
           "description": "light rain",
           "icon": "10n",
           "id": 500,
           "main": "Rain"
          }
         ],
         "wind": {
          "deg": 132,
          "gust": 6.03,
          "speed": 3.1
         }
        },
        {
         "clouds": {
          "all": 99
         },
         "dt": 1716098400,
         "dt_txt": "2024-05-19 06:00:00",
         "main": {
          "feels_like": 13.92,
          "grnd_level": 1006,
          "humidity": 76,
          "pressure": 1011,
          "sea_level": 1011,
          "temp": 14.44,
          "temp_kf": 0,
          "temp_max": 14.44,
          "temp_min": 14.44
         },
         "pop": 0,
         "sys": {
          "pod": "d"
         },
         "visibility": 10000,
         "weather": [
          {
           "description": "overcast clouds",
           "icon": "04d",
           "id": 804,
           "main": "Clouds"
          }
         ],
         "wind": {
          "deg": 177,
          "gust": 4.97,
          "speed": 3.2
         }
        },
        {
         "clouds": {
          "all": 99
         },
         "dt": 1716109200,
         "dt_txt": "2024-05-19 09:00:00",
         "main": {
          "feels_like": 18.82,
          "grnd_level": 1006,
          "humidity": 54,
          "pressure": 1011,
          "sea_level": 1011,
          "temp": 19.41,
          "temp_kf": 0,
          "temp_max": 19.41,
          "temp_min": 19.41
         },
         "pop": 0,
         "sys": {
          "pod": "d"
         },
         "visibility": 10000,
         "weather": [
          {
           "description": "overcast clouds",
           "icon": "04d",
           "id": 804,
           "main": "Clouds"
          }
         ],
         "wind": {
          "deg": 183,
          "gust": 4.7,
          "speed": 3.3
         }
        },
        {
         "clouds": {
          "all": 90
         },
         "dt": 1716120000,
         "dt_txt": "2024-05-19 12:00:00",
         "main": {
          "feels_like": 21.53,
          "grnd_level": 1005,
          "humidity": 43,
          "pressure": 1010,
          "sea_level": 1010,
          "temp": 22.14,
          "temp_kf": 0,
          "temp_max": 22.14,
          "temp_min": 22.14
         },
         "pop": 0,
         "sys": {
          "pod": "d"
         },
         "visibility": 10000,
         "weather": [
          {
           "description": "overcast clouds",
           "icon": "04d",
           "id": 804,
           "main": "Clouds"
          }
         ],
         "wind": {
          "deg": 192,
          "gust": 5.63,
          "speed": 4.49
         }
        },
        {
         "clouds": {
          "all": 100
         },
         "dt": 1716130800,
         "dt_txt": "2024-05-19 15:00:00",
         "main": {
          "feels_like": 21.53,
          "grnd_level": 1004,
          "humidity": 43,
          "pressure": 1010,
          "sea_level": 1010,
          "temp": 22.14,
          "temp_kf": 0,
          "temp_max": 22.14,
          "temp_min": 22.14
         },
         "pop": 0,
         "sys": {
          "pod": "d"
         },
         "visibility": 10000,
         "weather": [
          {
           "description": "overcast clouds",
           "icon": "04d",
           "id": 804,
           "main": "Clouds"
          }
         ],
         "wind": {
          "deg": 237,
          "gust": 4.94,
          "speed": 3.53
         }
        },
        {
         "clouds": {
          "all": 92
         },
         "dt": 1716141600,
         "dt_txt": "2024-05-19 18:00:00",
         "main": {
          "feels_like": 18.87,
          "grnd_level": 1005,
          "humidity": 58,
          "pressure": 1011,
          "sea_level": 1011,
          "temp": 19.36,
          "temp_kf": 0,
          "temp_max": 19.36,
          "temp_min": 19.36
         },
         "pop": 0.2,
         "rain": {
          "3h": 0.21
         },
         "sys": {
          "pod": "d"
         },
         "visibility": 10000,
         "weather": [
          {
           "description": "light rain",
           "icon": "10d",
           "id": 500,
           "main": "Rain"
          }
         ],
         "wind": {
          "deg": 207,
          "gust": 4.57,
          "speed": 2.64
         }
        },
        {
         "clouds": {
          "all": 61
         },
         "dt": 1716152400,
         "dt_txt": "2024-05-19 21:00:00",
         "main": {
          "feels_like": 14.92,
          "grnd_level": 1006,
          "humidity": 89,
          "pressure": 1012,
          "sea_level": 1012,
          "temp": 15.04,
          "temp_kf": 0,
          "temp_max": 15.04,
          "temp_min": 15.04
         },
         "pop": 0.98,
         "rain": {
          "3h": 0.6
         },
         "sys": {
          "pod": "n"
         },
         "visibility": 10000,
         "weather": [
          {
           "description": "light rain",
           "icon": "10n",
           "id": 500,
           "main": "Rain"
          }
         ],
         "wind": {
          "deg": 151,
          "gust": 5.09,
          "speed": 2.59
         }
        },
        {
         "clouds": {
          "all": 81
         },
         "dt": 1716163200,
         "dt_txt": "2024-05-20 00:00:00",
         "main": {
          "feels_like": 13.96,
          "grnd_level": 1007,
          "humidity": 85,
          "pressure": 1012,
          "sea_level": 1012,
          "temp": 14.26,
          "temp_kf": 0,
          "temp_max": 14.26,
          "temp_min": 14.26
         },
         "pop": 0.33,
         "sys": {
          "pod": "n"
         },
         "visibility": 10000,
         "weather": [
          {
           "description": "broken clouds",
           "icon": "04n",
           "id": 803,
           "main": "Clouds"
          }
         ],
         "wind": {
          "deg": 149,
          "gust": 4.77,
          "speed": 2.17
         }
        },
        {
         "clouds": {
          "all": 100
         },
         "dt": 1716174000,
         "dt_txt": "2024-05-20 03:00:00",
         "main": {
          "feels_like": 13.87,
          "grnd_level": 1007,
          "humidity": 87,
          "pressure": 1013,
          "sea_level": 1013,
          "temp": 14.13,
          "temp_kf": 0,
          "temp_max": 14.13,
          "temp_min": 14.13
         },
         "pop": 0,
         "sys": {
          "pod": "n"
         },
         "visibility": 10000,
         "weather": [
          {
           "description": "overcast clouds",
           "icon": "04n",
           "id": 804,
           "main": "Clouds"
          }
         ],
         "wind": {
          "deg": 124,
          "gust": 3.16,
          "speed": 1.88
         }
        },
        {
         "clouds": {
          "all": 100
         },
         "dt": 1716184800,
         "dt_txt": "2024-05-20 06:00:00",
         "main": {
          "feels_like": 14.42,
          "grnd_level": 1008,
          "humidity": 85,
          "pressure": 1014,
          "sea_level": 1014,
          "temp": 14.68,
          "temp_kf": 0,
          "temp_max": 14.68,
          "temp_min": 14.68
         },
         "pop": 0.2,
         "rain": {
          "3h": 0.14
         },
         "sys": {
          "pod": "d"
         },
         "visibility": 10000,
         "weather": [
          {
           "description": "light rain",
           "icon": "10d",
           "id": 500,
           "main": "Rain"
          }
         ],
         "wind": {
          "deg": 138,
          "gust": 3.67,
          "speed": 1.78
         }
        },
        {
         "clouds": {
          "all": 98
         },
         "dt": 1716195600,
         "dt_txt": "2024-05-20 09:00:00",
         "main": {
          "feels_like": 17.03,
          "grnd_level": 1009,
          "humidity": 68,
          "pressure": 1014,
          "sea_level": 1014,
          "temp": 17.45,
          "temp_kf": 0,
          "temp_max": 17.45,
          "temp_min": 17.45
         },
         "pop": 0.01,
         "sys": {
          "pod": "d"
         },
         "visibility": 10000,
         "weather": [
          {
           "description": "overcast clouds",
           "icon": "04d",
           "id": 804,
           "main": "Clouds"
          }
         ],
         "wind": {
          "deg": 111,
          "gust": 4.29,
          "speed": 3.06
         }
        },
        {
         "clouds": {
          "all": 87
         },
         "dt": 1716206400,
         "dt_txt": "2024-05-20 12:00:00",
         "main": {
          "feels_like": 20.19,
          "grnd_level": 1008,
          "humidity": 54,
          "pressure": 1013,
          "sea_level": 1013,
          "temp": 20.66,
          "temp_kf": 0,
          "temp_max": 20.66,
          "temp_min": 20.66
         },
         "pop": 0,
         "sys": {
          "pod": "d"
         },
         "visibility": 10000,
         "weather": [
          {
           "description": "overcast clouds",
           "icon": "04d",
           "id": 804,
           "main": "Clouds"
          }
         ],
         "wind": {
          "deg": 78,
          "gust": 2.86,
          "speed": 2.5
         }
        },
        {
         "clouds": {
          "all": 91
         },
         "dt": 1716217200,
         "dt_txt": "2024-05-20 15:00:00",
         "main": {
          "feels_like": 22.6,
          "grnd_level": 1007,
          "humidity": 44,
          "pressure": 1012,
          "sea_level": 1012,
          "temp": 23.09,
          "temp_kf": 0,
          "temp_max": 23.09,
          "temp_min": 23.09
         },
         "pop": 0,
         "sys": {
          "pod": "d"
         },
         "visibility": 10000,
         "weather": [
          {
           "description": "overcast clouds",
           "icon": "04d",
           "id": 804,
           "main": "Clouds"
          }
         ],
         "wind": {
          "deg": 32,
          "gust": 2.83,
          "speed": 2.6
         }
        },
        {
         "clouds": {
          "all": 79
         },
         "dt": 1716228000,
         "dt_txt": "2024-05-20 18:00:00",
         "main": {
          "feels_like": 17.46,
          "grnd_level": 1007,
          "humidity": 75,
          "pressure": 1012,
          "sea_level": 1012,
          "temp": 17.68,
          "temp_kf": 0,
          "temp_max": 17.68,
          "temp_min": 17.68
         },
         "pop": 0.39,
         "rain": {
          "3h": 0.57
         },
         "sys": {
          "pod": "d"
         },
         "visibility": 10000,
         "weather": [
          {
           "description": "light rain",
           "icon": "10d",
           "id": 500,
           "main": "Rain"
          }
         ],
         "wind": {
          "deg": 57,
          "gust": 7.98,
          "speed": 4.98
         }
        },
        {
         "clouds": {
          "all": 47
         },
         "dt": 1716238800,
         "dt_txt": "2024-05-20 21:00:00",
         "main": {
          "feels_like": 14.45,
          "grnd_level": 1007,
          "humidity": 85,
          "pressure": 1013,
          "sea_level": 1013,
          "temp": 14.7,
          "temp_kf": 0,
          "temp_max": 14.7,
          "temp_min": 14.7
         },
         "pop": 1,
         "rain": {
          "3h": 1.95
         },
         "sys": {
          "pod": "n"
         },
         "visibility": 10000,
         "weather": [
          {
           "description": "light rain",
           "icon": "10n",
           "id": 500,
           "main": "Rain"
          }
         ],
         "wind": {
          "deg": 68,
          "gust": 9.92,
          "speed": 3.18
         }
        },
        {
         "clouds": {
          "all": 46
         },
         "dt": 1716249600,
         "dt_txt": "2024-05-21 00:00:00",
         "main": {
          "feels_like": 14.17,
          "grnd_level": 1007,
          "humidity": 90,
          "pressure": 1012,
          "sea_level": 1012,
          "temp": 14.33,
          "temp_kf": 0,
          "temp_max": 14.33,
          "temp_min": 14.33
         },
         "pop": 1,
         "rain": {
          "3h": 0.39
         },
         "sys": {
          "pod": "n"
         },
         "visibility": 10000,
         "weather": [
          {
           "description": "light rain",
           "icon": "10n",
           "id": 500,
           "main": "Rain"
          }
         ],
         "wind": {
          "deg": 78,
          "gust": 8.57,
          "speed": 3.17
         }
        },
        {
         "clouds": {
          "all": 1
         },
         "dt": 1716260400,
         "dt_txt": "2024-05-21 03:00:00",
         "main": {
          "feels_like": 13.71,
          "grnd_level": 1006,
          "humidity": 92,
          "pressure": 1012,
          "sea_level": 1012,
          "temp": 13.87,
          "temp_kf": 0,
          "temp_max": 13.87,
          "temp_min": 13.87
         },
         "pop": 0,
         "sys": {
          "pod": "n"
         },
         "visibility": 10000,
         "weather": [
          {
           "description": "clear sky",
           "icon": "01n",
           "id": 800,
           "main": "Clear"
          }
         ],
         "wind": {
          "deg": 81,
          "gust": 7.04,
          "speed": 2.67
         }
        },
        {
         "clouds": {
          "all": 1
         },
         "dt": 1716271200,
         "dt_txt": "2024-05-21 06:00:00",
         "main": {
          "feels_like": 17.13,
          "grnd_level": 1006,
          "humidity": 78,
          "pressure": 1012,
          "sea_level": 1012,
          "temp": 17.31,
          "temp_kf": 0,
          "temp_max": 17.31,
          "temp_min": 17.31
         },
         "pop": 0,
         "sys": {
          "pod": "d"
         },
         "visibility": 10000,
         "weather": [
          {
           "description": "clear sky",
           "icon": "01d",
           "id": 800,
           "main": "Clear"
          }
         ],
         "wind": {
          "deg": 78,
          "gust": 6.66,
          "speed": 3.57
         }
        },
        {
         "clouds": {
          "all": 11
         },
         "dt": 1716282000,
         "dt_txt": "2024-05-21 09:00:00",
         "main": {
          "feels_like": 23.14,
          "grnd_level": 1006,
          "humidity": 51,
          "pressure": 1011,
          "sea_level": 1011,
          "temp": 23.41,
          "temp_kf": 0,
          "temp_max": 23.41,
          "temp_min": 23.41
         },
         "pop": 0,
         "sys": {
          "pod": "d"
         },
         "visibility": 10000,
         "weather": [
          {
           "description": "few clouds",
           "icon": "02d",
           "id": 801,
           "main": "Clouds"
          }
         ],
         "wind": {
          "deg": 90,
          "gust": 6.6,
          "speed": 4.89
         }
        },
        {
         "clouds": {
          "all": 12
         },
         "dt": 1716292800,
         "dt_txt": "2024-05-21 12:00:00",
         "main": {
          "feels_like": 26.74,
          "grnd_level": 1004,
          "humidity": 32,
          "pressure": 1009,
          "sea_level": 1009,
          "temp": 27.36,
          "temp_kf": 0,
          "temp_max": 27.36,
          "temp_min": 27.36
         },
         "pop": 0,
         "sys": {
          "pod": "d"
         },
         "visibility": 10000,
         "weather": [
          {
           "description": "few clouds",
           "icon": "02d",
           "id": 801,
           "main": "Clouds"
          }
         ],
         "wind": {
          "deg": 86,
          "gust": 6.32,
          "speed": 5.64
         }
        },
        {
         "clouds": {
          "all": 62
         },
         "dt": 1716303600,
         "dt_txt": "2024-05-21 15:00:00",
         "main": {
          "feels_like": 26.65,
          "grnd_level": 1003,
          "humidity": 32,
          "pressure": 1008,
          "sea_level": 1008,
          "temp": 27.23,
          "temp_kf": 0,
          "temp_max": 27.23,
          "temp_min": 27.23
         },
         "pop": 0,
         "sys": {
          "pod": "d"
         },
         "visibility": 10000,
         "weather": [
          {
           "description": "broken clouds",
           "icon": "04d",
           "id": 803,
           "main": "Clouds"
          }
         ],
         "wind": {
          "deg": 76,
          "gust": 7.09,
          "speed": 6.54
         }
        },
        {
         "clouds": {
          "all": 81
         },
         "dt": 1716314400,
         "dt_txt": "2024-05-21 18:00:00",
         "main": {
          "feels_like": 22.59,
          "grnd_level": 1002,
          "humidity": 52,
          "pressure": 1008,
          "sea_level": 1008,
          "temp": 22.89,
          "temp_kf": 0,
          "temp_max": 22.89,
          "temp_min": 22.89
         },
         "pop": 0,
         "sys": {
          "pod": "d"
         },
         "visibility": 10000,
         "weather": [
          {
           "description": "broken clouds",
           "icon": "04d",
           "id": 803,
           "main": "Clouds"
          }
         ],
         "wind": {
          "deg": 82,
          "gust": 11.36,
          "speed": 6.45
         }
        },
        {
         "clouds": {
          "all": 99
         },
         "dt": 1716325200,
         "dt_txt": "2024-05-21 21:00:00",
         "main": {
          "feels_like": 20.09,
          "grnd_level": 1003,
          "humidity": 59,
          "pressure": 1008,
          "sea_level": 1008,
          "temp": 20.45,
          "temp_kf": 0,
          "temp_max": 20.45,
          "temp_min": 20.45
         },
         "pop": 0,
         "sys": {
          "pod": "n"
         },
         "visibility": 10000,
         "weather": [
          {
           "description": "overcast clouds",
           "icon": "04n",
           "id": 804,
           "main": "Clouds"
          }
         ],
         "wind": {
          "deg": 82,
          "gust": 12.51,
          "speed": 5.64
         }
        },
        {
         "clouds": {
          "all": 100
         },
         "dt": 1716336000,
         "dt_txt": "2024-05-22 00:00:00",
         "main": {
          "feels_like": 18.21,
          "grnd_level": 1002,
          "humidity": 66,
          "pressure": 1007,
          "sea_level": 1007,
          "temp": 18.57,
          "temp_kf": 0,
          "temp_max": 18.57,
          "temp_min": 18.57
         },
         "pop": 0,
         "sys": {
          "pod": "n"
         },
         "visibility": 10000,
         "weather": [
          {
           "description": "overcast clouds",
           "icon": "04n",
           "id": 804,
           "main": "Clouds"
          }
         ],
         "wind": {
          "deg": 80,
          "gust": 13.34,
          "speed": 5.4
         }
        },
        {
         "clouds": {
          "all": 99
         },
         "dt": 1716346800,
         "dt_txt": "2024-05-22 03:00:00",
         "main": {
          "feels_like": 16.7,
          "grnd_level": 1001,
          "humidity": 76,
          "pressure": 1007,
          "sea_level": 1007,
          "temp": 16.96,
          "temp_kf": 0,
          "temp_max": 16.96,
          "temp_min": 16.96
         },
         "pop": 0,
         "sys": {
          "pod": "d"
         },
         "visibility": 10000,
         "weather": [
          {
           "description": "overcast clouds",
           "icon": "04d",
           "id": 804,
           "main": "Clouds"
          }
         ],
         "wind": {
          "deg": 78,
          "gust": 12.46,
          "speed": 4.98
         }
        },
        {
         "clouds": {
          "all": 83
         },
         "dt": 1716357600,
         "dt_txt": "2024-05-22 06:00:00",
         "main": {
          "feels_like": 18.74,
          "grnd_level": 1001,
          "humidity": 71,
          "pressure": 1006,
          "sea_level": 1006,
          "temp": 18.94,
          "temp_kf": 0,
          "temp_max": 18.94,
          "temp_min": 18.94
         },
         "pop": 0,
         "sys": {
          "pod": "d"
         },
         "visibility": 10000,
         "weather": [
          {
           "description": "broken clouds",
           "icon": "04d",
           "id": 803,
           "main": "Clouds"
          }
         ],
         "wind": {
          "deg": 87,
          "gust": 10.06,
          "speed": 5.48
         }
        },
        {
         "clouds": {
          "all": 47
         },
         "dt": 1716368400,
         "dt_txt": "2024-05-22 09:00:00",
         "main": {
          "feels_like": 24.53,
          "grnd_level": 1000,
          "humidity": 50,
          "pressure": 1005,
          "sea_level": 1005,
          "temp": 24.7,
          "temp_kf": 0,
          "temp_max": 24.7,
          "temp_min": 24.7
         },
         "pop": 0,
         "sys": {
          "pod": "d"
         },
         "visibility": 10000,
         "weather": [
          {
           "description": "scattered clouds",
           "icon": "03d",
           "id": 802,
           "main": "Clouds"
          }
         ],
         "wind": {
          "deg": 98,
          "gust": 8.85,
          "speed": 5.88
         }
        }
       ],
       "message": 0
      },
      "text/plain": [
       "<IPython.core.display.JSON object>"
      ]
     },
     "execution_count": 18,
     "metadata": {
      "application/json": {
       "expanded": false,
       "root": "root"
      }
     },
     "output_type": "execute_result"
    }
   ],
   "source": [
    "JSON(Response_)"
   ]
  },
  {
   "cell_type": "markdown",
   "id": "aef943a8-6e71-404d-9fd4-44abf522c8b6",
   "metadata": {
    "jp-MarkdownHeadingCollapsed": true
   },
   "source": [
    "#### Preliminary"
   ]
  },
  {
   "cell_type": "code",
   "execution_count": 19,
   "id": "cb30b2b7-aeb9-43e0-95ad-3a8cfd0ff555",
   "metadata": {
    "scrolled": true
   },
   "outputs": [],
   "source": [
    "#Response_['list'][0]"
   ]
  },
  {
   "cell_type": "code",
   "execution_count": 20,
   "id": "0ac332ff-ea75-482f-a9af-af32dac0ff0d",
   "metadata": {},
   "outputs": [
    {
     "data": {
      "text/plain": [
       "24.49"
      ]
     },
     "execution_count": 20,
     "metadata": {},
     "output_type": "execute_result"
    }
   ],
   "source": [
    "Response_['list'][0]['main']['temp']"
   ]
  },
  {
   "cell_type": "code",
   "execution_count": 21,
   "id": "a1b3bdea-13d3-437e-a7be-fbdffefa2b15",
   "metadata": {},
   "outputs": [
    {
     "data": {
      "text/plain": [
       "28"
      ]
     },
     "execution_count": 21,
     "metadata": {},
     "output_type": "execute_result"
    }
   ],
   "source": [
    "Response_['list'][0]['main']['humidity']"
   ]
  },
  {
   "cell_type": "code",
   "execution_count": 22,
   "id": "c3c273db-292d-4e68-aea1-418c45683c03",
   "metadata": {},
   "outputs": [
    {
     "data": {
      "text/plain": [
       "0"
      ]
     },
     "execution_count": 22,
     "metadata": {},
     "output_type": "execute_result"
    }
   ],
   "source": [
    "Response_['list'][0]['pop']"
   ]
  },
  {
   "cell_type": "code",
   "execution_count": 23,
   "id": "136eb564-949b-4f9b-a108-aa8d18c274cf",
   "metadata": {},
   "outputs": [
    {
     "data": {
      "text/plain": [
       "'Clear'"
      ]
     },
     "execution_count": 23,
     "metadata": {},
     "output_type": "execute_result"
    }
   ],
   "source": [
    "Response_['list'][0]['weather'][0]['main']"
   ]
  },
  {
   "cell_type": "code",
   "execution_count": 24,
   "id": "2ec06a6a-fa6a-4af7-93c5-c823ea620108",
   "metadata": {},
   "outputs": [
    {
     "data": {
      "text/plain": [
       "7.58"
      ]
     },
     "execution_count": 24,
     "metadata": {},
     "output_type": "execute_result"
    }
   ],
   "source": [
    "Response_['list'][0]['wind']['speed']"
   ]
  },
  {
   "cell_type": "markdown",
   "id": "05ebfb31-b053-49a0-91d5-028d8e3e07a6",
   "metadata": {
    "jp-MarkdownHeadingCollapsed": true
   },
   "source": [
    "#### Looping through"
   ]
  },
  {
   "cell_type": "code",
   "execution_count": 25,
   "id": "1f8c8cb0-4b29-4bf1-87e4-dd88a9b70b7c",
   "metadata": {},
   "outputs": [
    {
     "data": {
      "text/html": [
       "<div>\n",
       "<style scoped>\n",
       "    .dataframe tbody tr th:only-of-type {\n",
       "        vertical-align: middle;\n",
       "    }\n",
       "\n",
       "    .dataframe tbody tr th {\n",
       "        vertical-align: top;\n",
       "    }\n",
       "\n",
       "    .dataframe thead th {\n",
       "        text-align: right;\n",
       "    }\n",
       "</style>\n",
       "<table border=\"1\" class=\"dataframe\">\n",
       "  <thead>\n",
       "    <tr style=\"text-align: right;\">\n",
       "      <th></th>\n",
       "      <th>city</th>\n",
       "      <th>Time_stamp</th>\n",
       "      <th>Temperature</th>\n",
       "      <th>Humidity</th>\n",
       "      <th>Outlook</th>\n",
       "      <th>Rain_probability</th>\n",
       "      <th>Wind_speed</th>\n",
       "    </tr>\n",
       "  </thead>\n",
       "  <tbody>\n",
       "    <tr>\n",
       "      <th>0</th>\n",
       "      <td>Berlin</td>\n",
       "      <td>2024-05-17 12:00:00</td>\n",
       "      <td>24.49</td>\n",
       "      <td>28</td>\n",
       "      <td>Clear</td>\n",
       "      <td>0.0</td>\n",
       "      <td>7.58</td>\n",
       "    </tr>\n",
       "    <tr>\n",
       "      <th>1</th>\n",
       "      <td>Berlin</td>\n",
       "      <td>2024-05-17 15:00:00</td>\n",
       "      <td>24.42</td>\n",
       "      <td>29</td>\n",
       "      <td>Clear</td>\n",
       "      <td>0.0</td>\n",
       "      <td>7.57</td>\n",
       "    </tr>\n",
       "  </tbody>\n",
       "</table>\n",
       "</div>"
      ],
      "text/plain": [
       "     city           Time_stamp  Temperature  Humidity Outlook  \\\n",
       "0  Berlin  2024-05-17 12:00:00        24.49        28   Clear   \n",
       "1  Berlin  2024-05-17 15:00:00        24.42        29   Clear   \n",
       "\n",
       "   Rain_probability  Wind_speed  \n",
       "0               0.0        7.58  \n",
       "1               0.0        7.57  "
      ]
     },
     "execution_count": 25,
     "metadata": {},
     "output_type": "execute_result"
    }
   ],
   "source": [
    "city= 'Berlin'\n",
    "weather_information= {\"city\":[],\n",
    "                \"Time_stamp\":[],\n",
    "                \"Temperature\":[],\n",
    "                \"Humidity\":[],\n",
    "                \"Outlook\": [],\n",
    "                \"Rain_probability\":[],\n",
    "                \"Wind_speed\":[]}\n",
    "\n",
    "for info in Response_[\"list\"]:\n",
    "    weather_information[\"city\"].append(city)\n",
    "    weather_information[\"Time_stamp\"].append(info.get(\"dt_txt\", None)),\n",
    "    weather_information[\"Humidity\"].append(info[\"main\"].get(\"humidity\", None))\n",
    "    weather_information[\"Temperature\"].append(info[\"main\"].get(\"temp\", None))\n",
    "    weather_information[\"Outlook\"].append(info[\"weather\"][0].get(\"main\", None))\n",
    "    weather_information[\"Rain_probability\"].append(info.get(\"rain\", {}).get(\"3h\", 0))\n",
    "    weather_information[\"Wind_speed\"].append(info[\"wind\"].get(\"speed\", None))\n",
    "\n",
    "weather_information= pd.DataFrame(weather_information)\n",
    "weather_information.head(2)\n",
    "\n",
    "\n"
   ]
  },
  {
   "cell_type": "markdown",
   "id": "df6a981b-f81a-4064-8818-51ebe00bccce",
   "metadata": {
    "jp-MarkdownHeadingCollapsed": true
   },
   "source": [
    "#### Weather info for 24 hours"
   ]
  },
  {
   "cell_type": "code",
   "execution_count": 26,
   "id": "146fe201-0a70-4cd6-9fa3-92bbefa44570",
   "metadata": {},
   "outputs": [],
   "source": [
    "#Simply slice through the first eight entries"
   ]
  },
  {
   "cell_type": "code",
   "execution_count": 27,
   "id": "805ed003-f7f1-4f97-a2bb-d8cc08e4c4be",
   "metadata": {},
   "outputs": [],
   "source": [
    "city= 'Berlin'\n",
    "weather_information= {\"city\":[],\n",
    "                \"Time_stamp\":[],\n",
    "                \"Temperature\":[],\n",
    "                \"Humidity\":[],\n",
    "                \"Outlook\": [],\n",
    "                \"Rain_probability\":[],\n",
    "                \"Wind_speed\":[]}\n",
    "\n",
    "for info in Response_[\"list\"][:8]:#Simply slice \n",
    "    weather_information[\"city\"].append(city)\n",
    "    weather_information[\"Time_stamp\"].append(info.get(\"dt_txt\", None)),\n",
    "    weather_information[\"Humidity\"].append(info[\"main\"].get(\"humidity\", None))\n",
    "    weather_information[\"Temperature\"].append(info[\"main\"].get(\"temp\", None))\n",
    "    weather_information[\"Outlook\"].append(info[\"weather\"][0].get(\"main\", None))\n",
    "    weather_information[\"Rain_probability\"].append(info.get(\"rain\", {}).get(\"3h\", 0))\n",
    "    weather_information[\"Wind_speed\"].append(info[\"wind\"].get(\"speed\", None))\n",
    "\n",
    "weather_information= pd.DataFrame(weather_information)\n",
    "\n"
   ]
  },
  {
   "cell_type": "markdown",
   "id": "517c3bfb-32f6-486b-9ae3-6ffc0ae277cb",
   "metadata": {
    "jp-MarkdownHeadingCollapsed": true
   },
   "source": [
    "#### Looping for multiple cities"
   ]
  },
  {
   "cell_type": "code",
   "execution_count": 28,
   "id": "9d4ddd9b-e423-49bc-bdd2-524d5c0be5e6",
   "metadata": {},
   "outputs": [],
   "source": [
    "from datetime import datetime,timedelta\n",
    "from pytz import timezone\n",
    "\n",
    "berlin_timezone = timezone('Europe/Berlin')\n",
    "cities=['Berlin','London']"
   ]
  },
  {
   "cell_type": "code",
   "execution_count": 29,
   "id": "f9fa4fb3-9860-4c32-9605-70e602f8cf02",
   "metadata": {},
   "outputs": [],
   "source": [
    "weather_info= {\"city\":[],\n",
    "                \"Time_stamp\":[],\n",
    "                \"Temperature\":[],\n",
    "                \"Humidity\":[],\n",
    "                \"Outlook\": [],\n",
    "                \"Rain_probability\":[],\n",
    "                \"Wind_speed\":[],\n",
    "                \"Date_retrieved\":[]}\n",
    "for city in cities:\n",
    "    url= (f\"http://api.openweathermap.org/data/2.5/forecast?q={'city'}&appid={my_stuff.my_API_Key}&units=metric\")\n",
    "    response= requests.get(url)\n",
    "    weather_details = response.json()\n",
    "    timestamp= datetime.now(berlin_timezone).strftime(\"%Y-%m-%d %H:%M:%S\")\n",
    "    \n",
    "    for info in weather_details[\"list\"][:8]:\n",
    "        weather_info[\"city\"].append(city)\n",
    "        weather_info[\"Time_stamp\"].append(info.get(\"dt_txt\", None)),\n",
    "        weather_info[\"Temperature\"].append(info[\"main\"].get(\"temp\", None)),\n",
    "        weather_info[\"Humidity\"].append(info[\"main\"].get(\"humidity\", None)),\n",
    "        weather_info[\"Outlook\"].append(info[\"weather\"][0].get(\"main\", None)),\n",
    "        weather_info[\"Rain_probability\"].append(info.get(\"rain\", {}).get(\"3h\", 0)),\n",
    "        weather_info[\"Wind_speed\"].append(info[\"wind\"].get(\"speed\", None)),\n",
    "        weather_info[\"Date_retrieved\"].append(timestamp)\n",
    "\n",
    "weather_information_2 =pd.DataFrame(weather_info)\n"
   ]
  },
  {
   "cell_type": "code",
   "execution_count": 30,
   "id": "08b83ed8-109f-4ebc-84e7-95cd86377b44",
   "metadata": {},
   "outputs": [
    {
     "data": {
      "text/html": [
       "<div>\n",
       "<style scoped>\n",
       "    .dataframe tbody tr th:only-of-type {\n",
       "        vertical-align: middle;\n",
       "    }\n",
       "\n",
       "    .dataframe tbody tr th {\n",
       "        vertical-align: top;\n",
       "    }\n",
       "\n",
       "    .dataframe thead th {\n",
       "        text-align: right;\n",
       "    }\n",
       "</style>\n",
       "<table border=\"1\" class=\"dataframe\">\n",
       "  <thead>\n",
       "    <tr style=\"text-align: right;\">\n",
       "      <th></th>\n",
       "      <th>city_id</th>\n",
       "      <th>city</th>\n",
       "      <th>country</th>\n",
       "      <th>population</th>\n",
       "      <th>latitude</th>\n",
       "      <th>longitude</th>\n",
       "    </tr>\n",
       "  </thead>\n",
       "  <tbody>\n",
       "    <tr>\n",
       "      <th>0</th>\n",
       "      <td>1</td>\n",
       "      <td>Berlin</td>\n",
       "      <td>Germany</td>\n",
       "      <td>3755251</td>\n",
       "      <td>52°31′12″N</td>\n",
       "      <td>13°24′18″E</td>\n",
       "    </tr>\n",
       "    <tr>\n",
       "      <th>1</th>\n",
       "      <td>2</td>\n",
       "      <td>London</td>\n",
       "      <td>United Kingdom</td>\n",
       "      <td>8799800</td>\n",
       "      <td>51°30′26″N</td>\n",
       "      <td>0°7′39″W</td>\n",
       "    </tr>\n",
       "  </tbody>\n",
       "</table>\n",
       "</div>"
      ],
      "text/plain": [
       "   city_id    city         country  population    latitude   longitude\n",
       "0        1  Berlin         Germany     3755251  52°31′12″N  13°24′18″E\n",
       "1        2  London  United Kingdom     8799800  51°30′26″N    0°7′39″W"
      ]
     },
     "execution_count": 30,
     "metadata": {},
     "output_type": "execute_result"
    }
   ],
   "source": [
    "city_df=pd.read_sql('city', con=connection_string)\n",
    "city_df"
   ]
  },
  {
   "cell_type": "markdown",
   "id": "83cfb36d-08cd-428a-86b7-d861d5249c8b",
   "metadata": {
    "jp-MarkdownHeadingCollapsed": true
   },
   "source": [
    "#### Creating a Function"
   ]
  },
  {
   "cell_type": "code",
   "execution_count": 31,
   "id": "42c0414c-e4b7-4629-948c-01af3d676715",
   "metadata": {},
   "outputs": [],
   "source": [
    "def get_connection_string():\n",
    "    schema=\"gans\"  \n",
    "    host=\"127.0.0.1\"       \n",
    "    user=\"root\"\n",
    "    password=my_stuff.my_sql_password \n",
    "    port=3306\n",
    "    connection_string = f'mysql+pymysql://{user}:{password}@{host}:{port}/{schema}'\n",
    "    return connection_string\n",
    "\n",
    "connect = get_connection_string()"
   ]
  },
  {
   "cell_type": "code",
   "execution_count": 32,
   "id": "9a628b89-57ee-45eb-b5b0-b0245d23dd94",
   "metadata": {},
   "outputs": [],
   "source": [
    "def get_weather_information(city_df):\n",
    "    weather_info= {\"city_id\":[],\n",
    "                \"city\":[],\n",
    "                \"Time_stamp\":[],\n",
    "                \"Temperature\":[],\n",
    "                \"Humidity\":[],\n",
    "                \"Outlook\": [],\n",
    "                \"Rain_probability\":[],\n",
    "                \"Wind_speed\":[],\n",
    "                \"Date_retrieved\":[]\n",
    "                }\n",
    "    for i,row in city_df.iterrows():#iterrows iterates through each index and row in the dataframe\n",
    "        url= (f\"http://api.openweathermap.org/data/2.5/forecast?q={row['city']}&appid={my_stuff.my_API_Key}&units=metric\")\n",
    "        response= requests.get(url)\n",
    "        weather_details = response.json()\n",
    "        timestamp= datetime.now(berlin_timezone).strftime(\"%Y-%m-%d %H:%M:%S\")\n",
    "    \n",
    "        for info in weather_details[\"list\"][:8]:\n",
    "            weather_info[\"city_id\"].append(row[\"city_id\"])\n",
    "            weather_info[\"city\"].append(row[\"city\"])\n",
    "            weather_info[\"Time_stamp\"].append(info.get(\"dt_txt\", None)),\n",
    "            weather_info[\"Temperature\"].append(info[\"main\"].get(\"temp\", None)),\n",
    "            weather_info[\"Humidity\"].append(info[\"main\"].get(\"humidity\", None)),\n",
    "            weather_info[\"Outlook\"].append(info[\"weather\"][0].get(\"main\", None)),\n",
    "            weather_info[\"Rain_probability\"].append(info.get(\"rain\", {}).get(\"3h\", 0)),\n",
    "            weather_info[\"Wind_speed\"].append(info[\"wind\"].get(\"speed\", None)),\n",
    "            weather_info[\"Date_retrieved\"].append(timestamp)\n",
    "\n",
    "    weather_df =pd.DataFrame(weather_info)\n",
    "    #weather_df.to_sql('weather',if_exists = 'append', con =connect, index = False)\n",
    "    "
   ]
  },
  {
   "cell_type": "code",
   "execution_count": 33,
   "id": "f5f20680-4aac-4141-aa43-c65705add267",
   "metadata": {},
   "outputs": [],
   "source": [
    "#get_weather_information(city_df)"
   ]
  },
  {
   "cell_type": "markdown",
   "id": "9583fffa-b419-4f69-8954-8635c21382ed",
   "metadata": {
    "jp-MarkdownHeadingCollapsed": true
   },
   "source": [
    "## Flight Details"
   ]
  },
  {
   "cell_type": "markdown",
   "id": "48330529-8723-4954-8ef9-9be780303aa3",
   "metadata": {
    "jp-MarkdownHeadingCollapsed": true
   },
   "source": [
    "#### API Calls"
   ]
  },
  {
   "cell_type": "code",
   "execution_count": 34,
   "id": "4c8d9819-9d34-4233-abc5-5b6bec033e2f",
   "metadata": {},
   "outputs": [],
   "source": [
    "import requests\n",
    "\n",
    "url = \"https://aerodatabox.p.rapidapi.com/flights/airports/icao/EDDB/2024-05-08T12:00/2024-05-09T00:00\"\n",
    "\n",
    "querystring = {\"withLeg\":\"true\",\"withCancelled\":\"true\",\"withCodeshared\":\"true\",\"withCargo\":\"true\",\"withPrivate\":\"true\",\"withLocation\":\"true\"}\n",
    "\n",
    "headers = {\n",
    "\t\"X-RapidAPI-Key\": my_stuff.my_Rapid_Key,\n",
    "\t\"X-RapidAPI-Host\": \"aerodatabox.p.rapidapi.com\"\n",
    "}\n",
    "\n",
    "response = requests.get(url, headers=headers, params=querystring)\n"
   ]
  },
  {
   "cell_type": "code",
   "execution_count": 35,
   "id": "cd4622ea-dc7e-479e-8b41-e14606d12397",
   "metadata": {},
   "outputs": [
    {
     "data": {
      "text/plain": [
       "200"
      ]
     },
     "execution_count": 35,
     "metadata": {},
     "output_type": "execute_result"
    }
   ],
   "source": [
    "response.status_code"
   ]
  },
  {
   "cell_type": "markdown",
   "id": "6b6e4b1a-7767-4cd6-aa7a-bba5551a760c",
   "metadata": {
    "jp-MarkdownHeadingCollapsed": true
   },
   "source": [
    "#### Preliminaries"
   ]
  },
  {
   "cell_type": "code",
   "execution_count": 36,
   "id": "eb1b7a35-6719-4516-a550-242c1c4eeb68",
   "metadata": {},
   "outputs": [
    {
     "data": {
      "application/json": {
       "arrivals": [
        {
         "aircraft": {
          "modeS": "4CAD3A",
          "model": "Boeing 737 MAX 8",
          "reg": "EI-HGN"
         },
         "airline": {
          "iata": "FR",
          "icao": "RYR",
          "name": "Ryanair"
         },
         "arrival": {
          "baggageBelt": "C1",
          "gate": "Z34",
          "quality": [
           "Basic",
           "Live"
          ],
          "revisedTime": {
           "local": "2024-05-08 12:22+02:00",
           "utc": "2024-05-08 10:22Z"
          },
          "scheduledTime": {
           "local": "2024-05-08 11:10+02:00",
           "utc": "2024-05-08 09:10Z"
          },
          "terminal": "2"
         },
         "callSign": "RYR37TH",
         "codeshareStatus": "IsOperator",
         "departure": {
          "airport": {
           "iata": "LIS",
           "icao": "LPPT",
           "name": "Lisbon"
          },
          "quality": [
           "Basic",
           "Live"
          ],
          "revisedTime": {
           "local": "2024-05-08 08:15+01:00",
           "utc": "2024-05-08 07:15Z"
          },
          "runwayTime": {
           "local": "2024-05-08 08:17+01:00",
           "utc": "2024-05-08 07:17Z"
          },
          "scheduledTime": {
           "local": "2024-05-08 06:45+01:00",
           "utc": "2024-05-08 05:45Z"
          },
          "terminal": "2"
         },
         "isCargo": false,
         "number": "FR 1143",
         "status": "Arrived"
        },
        {
         "aircraft": {
          "modeS": "461F69",
          "model": "Airbus A320-200",
          "reg": "OH-LXH"
         },
         "airline": {
          "iata": "AY",
          "icao": "FIN",
          "name": "Finnair"
         },
         "arrival": {
          "baggageBelt": "A3",
          "gate": "A36",
          "quality": [
           "Basic",
           "Live"
          ],
          "revisedTime": {
           "local": "2024-05-08 12:10+02:00",
           "utc": "2024-05-08 10:10Z"
          },
          "runwayTime": {
           "local": "2024-05-08 12:09+02:00",
           "utc": "2024-05-08 10:09Z"
          },
          "scheduledTime": {
           "local": "2024-05-08 12:25+02:00",
           "utc": "2024-05-08 10:25Z"
          },
          "terminal": "1"
         },
         "callSign": "FIN50M",
         "codeshareStatus": "IsOperator",
         "departure": {
          "airport": {
           "iata": "HEL",
           "icao": "EFHK",
           "name": "Helsinki"
          },
          "checkInDesk": "211",
          "gate": "18",
          "quality": [
           "Basic",
           "Live"
          ],
          "revisedTime": {
           "local": "2024-05-08 11:18+03:00",
           "utc": "2024-05-08 08:18Z"
          },
          "runwayTime": {
           "local": "2024-05-08 11:32+03:00",
           "utc": "2024-05-08 08:32Z"
          },
          "scheduledTime": {
           "local": "2024-05-08 11:25+03:00",
           "utc": "2024-05-08 08:25Z"
          },
          "terminal": "2"
         },
         "isCargo": false,
         "number": "AY 1433",
         "status": "Arrived"
        },
        {
         "aircraft": {
          "modeS": "440062",
          "model": "Airbus A320",
          "reg": "OE-IVF"
         },
         "airline": {
          "iata": "EC",
          "icao": "EJU",
          "name": "EasyJet Europe"
         },
         "arrival": {
          "baggageBelt": "A3",
          "gate": "A32",
          "quality": [
           "Basic",
           "Live"
          ],
          "revisedTime": {
           "local": "2024-05-08 12:24+02:00",
           "utc": "2024-05-08 10:24Z"
          },
          "scheduledTime": {
           "local": "2024-05-08 12:40+02:00",
           "utc": "2024-05-08 10:40Z"
          },
          "terminal": "1"
         },
         "callSign": "EJU38ZK",
         "codeshareStatus": "IsCodeshared",
         "departure": {
          "airport": {
           "iata": "LIN",
           "icao": "LIML",
           "name": "Milan"
          },
          "quality": []
         },
         "isCargo": false,
         "number": "EC 5064",
         "status": "Arrived"
        },
        {
         "aircraft": {
          "modeS": "3C56F3",
          "model": "Airbus A320",
          "reg": "D-AEWS"
         },
         "airline": {
          "iata": "EW",
          "icao": "EWG",
          "name": "Eurowings"
         },
         "arrival": {
          "baggageBelt": "A1",
          "gate": "A31",
          "quality": [
           "Basic",
           "Live"
          ],
          "revisedTime": {
           "local": "2024-05-08 12:06+02:00",
           "utc": "2024-05-08 10:06Z"
          },
          "scheduledTime": {
           "local": "2024-05-08 12:35+02:00",
           "utc": "2024-05-08 10:35Z"
          },
          "terminal": "1"
         },
         "callSign": "EWG8J",
         "codeshareStatus": "IsOperator",
         "departure": {
          "airport": {
           "iata": "OPO",
           "icao": "LPPR",
           "name": "Porto"
          },
          "quality": [
           "Basic",
           "Live"
          ],
          "revisedTime": {
           "local": "2024-05-08 08:13+01:00",
           "utc": "2024-05-08 07:13Z"
          },
          "runwayTime": {
           "local": "2024-05-08 08:14+01:00",
           "utc": "2024-05-08 07:14Z"
          },
          "scheduledTime": {
           "local": "2024-05-08 08:10+01:00",
           "utc": "2024-05-08 07:10Z"
          },
          "terminal": "1"
         },
         "isCargo": false,
         "number": "EW 8601",
         "status": "Arrived"
        },
        {
         "aircraft": {
          "modeS": "4D2221",
          "model": "Boeing 737-800",
          "reg": "9H-QCH"
         },
         "airline": {
          "iata": "FR",
          "icao": "RYR",
          "name": "Ryanair"
         },
         "arrival": {
          "baggageBelt": "C3",
          "gate": "Z36",
          "quality": [
           "Basic",
           "Live"
          ],
          "revisedTime": {
           "local": "2024-05-08 12:12+02:00",
           "utc": "2024-05-08 10:12Z"
          },
          "runwayTime": {
           "local": "2024-05-08 12:12+02:00",
           "utc": "2024-05-08 10:12Z"
          },
          "scheduledTime": {
           "local": "2024-05-08 12:15+02:00",
           "utc": "2024-05-08 10:15Z"
          },
          "terminal": "2"
         },
         "callSign": "RYR1JM",
         "codeshareStatus": "IsOperator",
         "departure": {
          "airport": {
           "iata": "CDT",
           "icao": "LECH",
           "name": "Castellón de la Plana"
          },
          "quality": [
           "Basic"
          ],
          "scheduledTime": {
           "local": "2024-05-08 09:25+02:00",
           "utc": "2024-05-08 07:25Z"
          }
         },
         "isCargo": false,
         "number": "FR 1508",
         "status": "Arrived"
        },
        {
         "aircraft": {
          "modeS": "3C66E7",
          "model": "Airbus A320",
          "reg": "D-AIWG"
         },
         "airline": {
          "iata": "LH",
          "icao": "DLH",
          "name": "Lufthansa"
         },
         "arrival": {
          "baggageBelt": "B3",
          "gate": "B10",
          "quality": [
           "Basic",
           "Live"
          ],
          "revisedTime": {
           "local": "2024-05-08 12:35+02:00",
           "utc": "2024-05-08 10:35Z"
          },
          "scheduledTime": {
           "local": "2024-05-08 12:55+02:00",
           "utc": "2024-05-08 10:55Z"
          },
          "terminal": "1"
         },
         "codeshareStatus": "IsOperator",
         "departure": {
          "airport": {
           "iata": "FRA",
           "icao": "EDDF",
           "name": "Frankfurt-am-Main"
          },
          "checkInDesk": "259-335",
          "gate": "A50",
          "quality": [
           "Basic",
           "Live"
          ],
          "revisedTime": {
           "local": "2024-05-08 11:45+02:00",
           "utc": "2024-05-08 09:45Z"
          },
          "scheduledTime": {
           "local": "2024-05-08 11:45+02:00",
           "utc": "2024-05-08 09:45Z"
          },
          "terminal": "1"
         },
         "isCargo": false,
         "number": "LH 182",
         "status": "Arrived"
        },
        {
         "aircraft": {
          "modeS": "3C6653",
          "model": "Airbus A321",
          "reg": "D-AIRS"
         },
         "airline": {
          "iata": "LH",
          "icao": "DLH",
          "name": "Lufthansa"
         },
         "arrival": {
          "baggageBelt": "B3",
          "gate": "B17",
          "quality": [
           "Basic",
           "Live"
          ],
          "revisedTime": {
           "local": "2024-05-08 12:08+02:00",
           "utc": "2024-05-08 10:08Z"
          },
          "scheduledTime": {
           "local": "2024-05-08 12:05+02:00",
           "utc": "2024-05-08 10:05Z"
          },
          "terminal": "1"
         },
         "callSign": "DLH1926",
         "codeshareStatus": "IsOperator",
         "departure": {
          "airport": {
           "iata": "MUC",
           "icao": "EDDM",
           "name": "Munich"
          },
          "quality": [
           "Basic",
           "Live"
          ],
          "revisedTime": {
           "local": "2024-05-08 11:00+02:00",
           "utc": "2024-05-08 09:00Z"
          },
          "runwayTime": {
           "local": "2024-05-08 11:21+02:00",
           "utc": "2024-05-08 09:21Z"
          },
          "scheduledTime": {
           "local": "2024-05-08 11:00+02:00",
           "utc": "2024-05-08 09:00Z"
          },
          "terminal": "2"
         },
         "isCargo": false,
         "number": "LH 1926",
         "status": "Arrived"
        },
        {
         "aircraft": {
          "modeS": "44022D",
          "model": "Airbus A320",
          "reg": "OE-LXC"
         },
         "airline": {
          "iata": "OS",
          "icao": "AUA",
          "name": "Austrian"
         },
         "arrival": {
          "baggageBelt": "B1",
          "gate": "B20",
          "quality": [
           "Basic",
           "Live"
          ],
          "revisedTime": {
           "local": "2024-05-08 12:41+02:00",
           "utc": "2024-05-08 10:41Z"
          },
          "runwayTime": {
           "local": "2024-05-08 12:41+02:00",
           "utc": "2024-05-08 10:41Z"
          },
          "scheduledTime": {
           "local": "2024-05-08 12:40+02:00",
           "utc": "2024-05-08 10:40Z"
          },
          "terminal": "1"
         },
         "callSign": "AUA227",
         "codeshareStatus": "IsOperator",
         "departure": {
          "airport": {
           "iata": "VIE",
           "icao": "LOWW",
           "name": "Vienna"
          },
          "checkInDesk": "351-372",
          "gate": "F04",
          "quality": [
           "Basic",
           "Live"
          ],
          "revisedTime": {
           "local": "2024-05-08 11:50+02:00",
           "utc": "2024-05-08 09:50Z"
          },
          "scheduledTime": {
           "local": "2024-05-08 11:30+02:00",
           "utc": "2024-05-08 09:30Z"
          },
          "terminal": "3"
         },
         "isCargo": false,
         "number": "OS 227",
         "status": "Arrived"
        },
        {
         "aircraft": {
          "modeS": "4ACAAF",
          "model": "Airbus A320 NEO",
          "reg": "SE-RUO"
         },
         "airline": {
          "iata": "SK",
          "icao": "SAS",
          "name": "SAS"
         },
         "arrival": {
          "baggageBelt": "A1",
          "gate": "A30",
          "quality": [
           "Basic",
           "Live"
          ],
          "revisedTime": {
           "local": "2024-05-08 12:26+02:00",
           "utc": "2024-05-08 10:26Z"
          },
          "scheduledTime": {
           "local": "2024-05-08 12:35+02:00",
           "utc": "2024-05-08 10:35Z"
          },
          "terminal": "1"
         },
         "callSign": "SAS62T",
         "codeshareStatus": "IsOperator",
         "departure": {
          "airport": {
           "iata": "OSL",
           "icao": "ENGM",
           "name": "Oslo"
          },
          "checkInDesk": "123",
          "gate": "D9",
          "quality": [
           "Basic",
           "Live"
          ],
          "revisedTime": {
           "local": "2024-05-08 10:55+02:00",
           "utc": "2024-05-08 08:55Z"
          },
          "runwayTime": {
           "local": "2024-05-08 11:09+02:00",
           "utc": "2024-05-08 09:09Z"
          },
          "scheduledTime": {
           "local": "2024-05-08 10:55+02:00",
           "utc": "2024-05-08 08:55Z"
          }
         },
         "isCargo": false,
         "number": "SK 4723",
         "status": "Arrived"
        },
        {
         "aircraft": {
          "modeS": "4952CC",
          "model": "Airbus A320 NEO",
          "reg": "CS-TVL"
         },
         "airline": {
          "iata": "TP",
          "icao": "TAP",
          "name": "TAP Air Portugal"
         },
         "arrival": {
          "baggageBelt": "A4",
          "gate": "A35",
          "quality": [
           "Basic",
           "Live"
          ],
          "revisedTime": {
           "local": "2024-05-08 12:14+02:00",
           "utc": "2024-05-08 10:14Z"
          },
          "runwayTime": {
           "local": "2024-05-08 12:14+02:00",
           "utc": "2024-05-08 10:14Z"
          },
          "scheduledTime": {
           "local": "2024-05-08 12:20+02:00",
           "utc": "2024-05-08 10:20Z"
          },
          "terminal": "1"
         },
         "callSign": "TAP530",
         "codeshareStatus": "IsOperator",
         "departure": {
          "airport": {
           "iata": "LIS",
           "icao": "LPPT",
           "name": "Lisbon"
          },
          "quality": [
           "Basic",
           "Live"
          ],
          "revisedTime": {
           "local": "2024-05-08 08:13+01:00",
           "utc": "2024-05-08 07:13Z"
          },
          "runwayTime": {
           "local": "2024-05-08 08:15+01:00",
           "utc": "2024-05-08 07:15Z"
          },
          "scheduledTime": {
           "local": "2024-05-08 08:00+01:00",
           "utc": "2024-05-08 07:00Z"
          },
          "terminal": "1"
         },
         "isCargo": false,
         "number": "TP 530",
         "status": "Arrived"
        },
        {
         "aircraft": {
          "modeS": "406017",
          "model": "Airbus A320",
          "reg": "G-EZTN"
         },
         "airline": {
          "iata": "U2",
          "icao": "EZY",
          "name": "easyJet"
         },
         "arrival": {
          "baggageBelt": "A4",
          "gate": "X02",
          "quality": [
           "Basic",
           "Live"
          ],
          "revisedTime": {
           "local": "2024-05-08 12:55+02:00",
           "utc": "2024-05-08 10:55Z"
          },
          "scheduledTime": {
           "local": "2024-05-08 12:55+02:00",
           "utc": "2024-05-08 10:55Z"
          },
          "terminal": "1"
         },
         "callSign": "EZY74HP",
         "codeshareStatus": "IsOperator",
         "departure": {
          "airport": {
           "iata": "EDI",
           "icao": "EGPH",
           "name": "Edinburgh"
          },
          "quality": [
           "Basic",
           "Live"
          ],
          "revisedTime": {
           "local": "2024-05-08 10:07+01:00",
           "utc": "2024-05-08 09:07Z"
          },
          "runwayTime": {
           "local": "2024-05-08 10:08+01:00",
           "utc": "2024-05-08 09:08Z"
          },
          "scheduledTime": {
           "local": "2024-05-08 09:45+01:00",
           "utc": "2024-05-08 08:45Z"
          }
         },
         "isCargo": false,
         "number": "U2 3261",
         "status": "Arrived"
        },
        {
         "aircraft": {
          "modeS": "440062",
          "model": "Airbus A320",
          "reg": "OE-IVF"
         },
         "airline": {
          "iata": "U2",
          "icao": "EZY",
          "name": "easyJet"
         },
         "arrival": {
          "baggageBelt": "A3",
          "gate": "A32",
          "quality": [
           "Basic",
           "Live"
          ],
          "revisedTime": {
           "local": "2024-05-08 12:24+02:00",
           "utc": "2024-05-08 10:24Z"
          },
          "scheduledTime": {
           "local": "2024-05-08 12:40+02:00",
           "utc": "2024-05-08 10:40Z"
          },
          "terminal": "1"
         },
         "callSign": "EJU38ZK",
         "codeshareStatus": "IsOperator",
         "departure": {
          "airport": {
           "iata": "LIN",
           "icao": "LIML",
           "name": "Milan"
          },
          "quality": [
           "Basic",
           "Live"
          ],
          "revisedTime": {
           "local": "2024-05-08 11:07+02:00",
           "utc": "2024-05-08 09:07Z"
          },
          "runwayTime": {
           "local": "2024-05-08 11:07+02:00",
           "utc": "2024-05-08 09:07Z"
          },
          "scheduledTime": {
           "local": "2024-05-08 11:00+02:00",
           "utc": "2024-05-08 09:00Z"
          }
         },
         "isCargo": false,
         "number": "U2 5064",
         "status": "Arrived"
        },
        {
         "aircraft": {
          "modeS": "5140C2",
          "model": "Boeing 737",
          "reg": "4L-NIK"
         },
         "airline": {
          "iata": "A9",
          "icao": "TGZ",
          "name": "Georgian Airways"
         },
         "arrival": {
          "baggageBelt": "B4",
          "gate": "N01",
          "quality": [
           "Basic",
           "Live"
          ],
          "revisedTime": {
           "local": "2024-05-08 13:33+02:00",
           "utc": "2024-05-08 11:33Z"
          },
          "scheduledTime": {
           "local": "2024-05-08 13:40+02:00",
           "utc": "2024-05-08 11:40Z"
          },
          "terminal": "1"
         },
         "callSign": "TGZ781",
         "codeshareStatus": "IsOperator",
         "departure": {
          "airport": {
           "iata": "TBS",
           "icao": "UGTB",
           "name": "Tbilisi"
          },
          "checkInDesk": "22",
          "gate": "102",
          "quality": [
           "Basic",
           "Live"
          ],
          "revisedTime": {
           "local": "2024-05-08 11:39+04:00",
           "utc": "2024-05-08 07:39Z"
          },
          "runwayTime": {
           "local": "2024-05-08 11:40+04:00",
           "utc": "2024-05-08 07:40Z"
          },
          "scheduledTime": {
           "local": "2024-05-08 11:40+04:00",
           "utc": "2024-05-08 07:40Z"
          }
         },
         "isCargo": false,
         "number": "A9 781",
         "status": "Arrived"
        },
        {
         "aircraft": {
          "modeS": "3C6746",
          "model": "Airbus A320",
          "reg": "D-AIZF"
         },
         "airline": {
          "iata": "CL",
          "icao": "CLH",
          "name": "Lufthansa CityLine"
         },
         "arrival": {
          "quality": [
           "Basic",
           "Live"
          ],
          "revisedTime": {
           "local": "2024-05-08 13:58+02:00",
           "utc": "2024-05-08 11:58Z"
          },
          "runwayTime": {
           "local": "2024-05-08 13:58+02:00",
           "utc": "2024-05-08 11:58Z"
          },
          "scheduledTime": {
           "local": "2024-05-08 13:58+02:00",
           "utc": "2024-05-08 11:58Z"
          }
         },
         "callSign": "CLH9872",
         "codeshareStatus": "IsCodeshared",
         "departure": {
          "airport": {
           "name": "Unknown"
          },
          "quality": []
         },
         "isCargo": false,
         "number": "CL 9872",
         "status": "Arrived"
        },
        {
         "aircraft": {
          "modeS": "47875A",
          "model": "Boeing 737",
          "reg": "LN-DYT"
         },
         "airline": {
          "iata": "DY",
          "icao": "NOZ",
          "name": "Norwegian Air Shuttle"
         },
         "arrival": {
          "baggageBelt": "C1",
          "gate": "Z30",
          "quality": [
           "Basic",
           "Live"
          ],
          "revisedTime": {
           "local": "2024-05-08 13:26+02:00",
           "utc": "2024-05-08 11:26Z"
          },
          "runwayTime": {
           "local": "2024-05-08 13:26+02:00",
           "utc": "2024-05-08 11:26Z"
          },
          "scheduledTime": {
           "local": "2024-05-08 13:30+02:00",
           "utc": "2024-05-08 11:30Z"
          },
          "terminal": "2"
         },
         "callSign": "NOZ1104",
         "codeshareStatus": "IsOperator",
         "departure": {
          "airport": {
           "iata": "OSL",
           "icao": "ENGM",
           "name": "Oslo"
          },
          "checkInDesk": "123",
          "gate": "D11",
          "quality": [
           "Basic",
           "Live"
          ],
          "revisedTime": {
           "local": "2024-05-08 12:00+02:00",
           "utc": "2024-05-08 10:00Z"
          },
          "runwayTime": {
           "local": "2024-05-08 12:12+02:00",
           "utc": "2024-05-08 10:12Z"
          },
          "scheduledTime": {
           "local": "2024-05-08 11:55+02:00",
           "utc": "2024-05-08 09:55Z"
          }
         },
         "isCargo": false,
         "number": "DY 1104",
         "status": "Arrived"
        },
        {
         "aircraft": {
          "modeS": "440484",
          "model": "Airbus A319",
          "reg": "OE-LKC"
         },
         "airline": {
          "iata": "EC",
          "icao": "EJU",
          "name": "EasyJet Europe"
         },
         "arrival": {
          "baggageBelt": "A3",
          "gate": "A38",
          "quality": [
           "Basic",
           "Live"
          ],
          "revisedTime": {
           "local": "2024-05-08 12:53+02:00",
           "utc": "2024-05-08 10:53Z"
          },
          "runwayTime": {
           "local": "2024-05-08 12:53+02:00",
           "utc": "2024-05-08 10:53Z"
          },
          "scheduledTime": {
           "local": "2024-05-08 13:00+02:00",
           "utc": "2024-05-08 11:00Z"
          },
          "terminal": "1"
         },
         "callSign": "EJU4086",
         "codeshareStatus": "IsCodeshared",
         "departure": {
          "airport": {
           "iata": "BSL",
           "icao": "LFSB",
           "name": "Bâle/Mulhouse"
          },
          "checkInDesk": "42-50",
          "gate": "42",
          "quality": [
           "Basic",
           "Live"
          ],
          "revisedTime": {
           "local": "2024-05-08 11:49+02:00",
           "utc": "2024-05-08 09:49Z"
          },
          "runwayTime": {
           "local": "2024-05-08 11:50+02:00",
           "utc": "2024-05-08 09:50Z"
          },
          "scheduledTime": {
           "local": "2024-05-08 11:30+02:00",
           "utc": "2024-05-08 09:30Z"
          }
         },
         "isCargo": false,
         "number": "EC 4086",
         "status": "Arrived"
        },
        {
         "aircraft": {
          "modeS": "440209",
          "model": "Airbus A320",
          "reg": "OE-IZH"
         },
         "airline": {
          "iata": "EC",
          "icao": "EJU",
          "name": "EasyJet Europe"
         },
         "arrival": {
          "baggageBelt": "A4",
          "gate": "A30",
          "quality": [
           "Basic",
           "Live"
          ],
          "revisedTime": {
           "local": "2024-05-08 13:38+02:00",
           "utc": "2024-05-08 11:38Z"
          },
          "scheduledTime": {
           "local": "2024-05-08 13:40+02:00",
           "utc": "2024-05-08 11:40Z"
          },
          "terminal": "1"
         },
         "callSign": "EJU75ZA",
         "codeshareStatus": "IsCodeshared",
         "departure": {
          "airport": {
           "iata": "VLC",
           "icao": "LEVC",
           "name": "Valencia"
          },
          "checkInDesk": "25-26",
          "gate": "5",
          "quality": [
           "Basic",
           "Live"
          ],
          "revisedTime": {
           "local": "2024-05-08 10:43+02:00",
           "utc": "2024-05-08 08:43Z"
          },
          "runwayTime": {
           "local": "2024-05-08 10:55+02:00",
           "utc": "2024-05-08 08:55Z"
          },
          "scheduledTime": {
           "local": "2024-05-08 10:40+02:00",
           "utc": "2024-05-08 08:40Z"
          },
          "terminal": "1"
         },
         "isCargo": false,
         "number": "EC 5104",
         "status": "Arrived"
        },
        {
         "aircraft": {
          "modeS": "440185",
          "model": "Airbus A320",
          "reg": "OE-IJI"
         },
         "airline": {
          "iata": "EC",
          "icao": "EJU",
          "name": "EasyJet Europe"
         },
         "arrival": {
          "baggageBelt": "A2",
          "gate": "A38",
          "quality": [
           "Basic",
           "Live"
          ],
          "revisedTime": {
           "local": "2024-05-08 14:13+02:00",
           "utc": "2024-05-08 12:13Z"
          },
          "scheduledTime": {
           "local": "2024-05-08 13:45+02:00",
           "utc": "2024-05-08 11:45Z"
          },
          "terminal": "1"
         },
         "callSign": "EJU57EM",
         "codeshareStatus": "IsCodeshared",
         "departure": {
          "airport": {
           "iata": "AGP",
           "icao": "LEMG",
           "name": "Málaga"
          },
          "checkInDesk": "254-262",
          "gate": "D64",
          "quality": [
           "Basic",
           "Live"
          ],
          "revisedTime": {
           "local": "2024-05-08 10:25+02:00",
           "utc": "2024-05-08 08:25Z"
          },
          "runwayTime": {
           "local": "2024-05-08 11:02+02:00",
           "utc": "2024-05-08 09:02Z"
          },
          "scheduledTime": {
           "local": "2024-05-08 10:15+02:00",
           "utc": "2024-05-08 08:15Z"
          },
          "terminal": "PAX"
         },
         "isCargo": false,
         "number": "EC 5106",
         "status": "Arrived"
        },
        {
         "aircraft": {
          "modeS": "4D2229",
          "model": "Boeing 737-800",
          "reg": "9H-QCI"
         },
         "airline": {
          "iata": "FR",
          "icao": "RYR",
          "name": "Ryanair"
         },
         "arrival": {
          "baggageBelt": "C3",
          "gate": "Z33",
          "quality": [
           "Basic",
           "Live"
          ],
          "revisedTime": {
           "local": "2024-05-08 13:31+02:00",
           "utc": "2024-05-08 11:31Z"
          },
          "scheduledTime": {
           "local": "2024-05-08 13:40+02:00",
           "utc": "2024-05-08 11:40Z"
          },
          "terminal": "2"
         },
         "callSign": "RYR59XV",
         "codeshareStatus": "IsOperator",
         "departure": {
          "airport": {
           "iata": "FCO",
           "icao": "LIRF",
           "name": "Rome"
          },
          "quality": [
           "Basic",
           "Live"
          ],
          "revisedTime": {
           "local": "2024-05-08 11:51+02:00",
           "utc": "2024-05-08 09:51Z"
          },
          "runwayTime": {
           "local": "2024-05-08 11:51+02:00",
           "utc": "2024-05-08 09:51Z"
          },
          "scheduledTime": {
           "local": "2024-05-08 11:30+02:00",
           "utc": "2024-05-08 09:30Z"
          },
          "terminal": "1"
         },
         "isCargo": false,
         "number": "FR 141",
         "status": "Arrived"
        },
        {
         "aircraft": {
          "modeS": "4D2304",
          "model": "Boeing 737-800",
          "reg": "9H-VUF"
         },
         "airline": {
          "iata": "FR",
          "icao": "RYR",
          "name": "Ryanair"
         },
         "arrival": {
          "baggageBelt": "C3",
          "gate": "Z34",
          "quality": [
           "Basic",
           "Live"
          ],
          "revisedTime": {
           "local": "2024-05-08 13:35+02:00",
           "utc": "2024-05-08 11:35Z"
          },
          "scheduledTime": {
           "local": "2024-05-08 13:35+02:00",
           "utc": "2024-05-08 11:35Z"
          },
          "terminal": "2"
         },
         "callSign": "RYR13RX",
         "codeshareStatus": "IsOperator",
         "departure": {
          "airport": {
           "iata": "AGP",
           "icao": "LEMG",
           "name": "Málaga"
          },
          "checkInDesk": "363-372",
          "gate": "D47",
          "quality": [
           "Basic",
           "Live"
          ],
          "revisedTime": {
           "local": "2024-05-08 10:21+02:00",
           "utc": "2024-05-08 08:21Z"
          },
          "runwayTime": {
           "local": "2024-05-08 10:30+02:00",
           "utc": "2024-05-08 08:30Z"
          },
          "scheduledTime": {
           "local": "2024-05-08 10:10+02:00",
           "utc": "2024-05-08 08:10Z"
          },
          "terminal": "PAX"
         },
         "isCargo": false,
         "number": "FR 235",
         "status": "Arrived"
        },
        {
         "aircraft": {
          "modeS": "48C132",
          "model": "Boeing 737-800",
          "reg": "SP-RKT"
         },
         "airline": {
          "iata": "FR",
          "icao": "RYR",
          "name": "Ryanair"
         },
         "arrival": {
          "baggageBelt": "C2",
          "gate": "Z36",
          "quality": [
           "Basic",
           "Live"
          ],
          "revisedTime": {
           "local": "2024-05-08 13:37+02:00",
           "utc": "2024-05-08 11:37Z"
          },
          "scheduledTime": {
           "local": "2024-05-08 13:55+02:00",
           "utc": "2024-05-08 11:55Z"
          },
          "terminal": "2"
         },
         "callSign": "RYR5HY",
         "codeshareStatus": "IsOperator",
         "departure": {
          "airport": {
           "iata": "BUD",
           "icao": "LHBP",
           "name": "Budapest"
          },
          "quality": [
           "Basic",
           "Live"
          ],
          "revisedTime": {
           "local": "2024-05-08 12:26+02:00",
           "utc": "2024-05-08 10:26Z"
          },
          "runwayTime": {
           "local": "2024-05-08 12:27+02:00",
           "utc": "2024-05-08 10:27Z"
          },
          "scheduledTime": {
           "local": "2024-05-08 12:25+02:00",
           "utc": "2024-05-08 10:25Z"
          },
          "terminal": "2B"
         },
         "isCargo": false,
         "number": "FR 3306",
         "status": "Arrived"
        },
        {
         "aircraft": {
          "modeS": "3C5EF5",
          "model": "Airbus A319",
          "reg": "D-AGWU"
         },
         "airline": {
          "iata": "EW",
          "icao": "EWG",
          "name": "Eurowings"
         },
         "arrival": {
          "baggageBelt": "A1",
          "gate": "A33",
          "quality": [
           "Basic",
           "Live"
          ],
          "revisedTime": {
           "local": "2024-05-08 13:00+02:00",
           "utc": "2024-05-08 11:00Z"
          },
          "scheduledTime": {
           "local": "2024-05-08 13:10+02:00",
           "utc": "2024-05-08 11:10Z"
          },
          "terminal": "1"
         },
         "codeshareStatus": "IsOperator",
         "departure": {
          "airport": {
           "iata": "CGN",
           "icao": "EDDK",
           "name": "Cologne"
          },
          "quality": [
           "Basic"
          ],
          "scheduledTime": {
           "local": "2024-05-08 12:00+02:00",
           "utc": "2024-05-08 10:00Z"
          },
          "terminal": "1"
         },
         "isCargo": false,
         "number": "EW 8051",
         "status": "Arrived"
        },
        {
         "aircraft": {
          "modeS": "4CC52F",
          "model": "Boeing 737-900",
          "reg": "TF-ICC"
         },
         "airline": {
          "iata": "FI",
          "icao": "ICE",
          "name": "Icelandair"
         },
         "arrival": {
          "baggageBelt": "A2",
          "gate": "A37",
          "quality": [
           "Basic",
           "Live"
          ],
          "revisedTime": {
           "local": "2024-05-08 12:43+02:00",
           "utc": "2024-05-08 10:43Z"
          },
          "scheduledTime": {
           "local": "2024-05-08 13:10+02:00",
           "utc": "2024-05-08 11:10Z"
          },
          "terminal": "1"
         },
         "codeshareStatus": "IsOperator",
         "departure": {
          "airport": {
           "iata": "KEF",
           "icao": "BIKF",
           "name": "Reykjavik"
          },
          "gate": "C28",
          "quality": [
           "Basic",
           "Live"
          ],
          "revisedTime": {
           "local": "2024-05-08 07:34+00:00",
           "utc": "2024-05-08 07:34Z"
          },
          "runwayTime": {
           "local": "2024-05-08 07:50+00:00",
           "utc": "2024-05-08 07:50Z"
          },
          "scheduledTime": {
           "local": "2024-05-08 07:35+00:00",
           "utc": "2024-05-08 07:35Z"
          }
         },
         "isCargo": false,
         "number": "FI 528",
         "status": "Arrived"
        },
        {
         "aircraft": {
          "modeS": "484162",
          "model": "Boeing 737",
          "reg": "PH-BXI"
         },
         "airline": {
          "iata": "KL",
          "icao": "KLM",
          "name": "KLM"
         },
         "arrival": {
          "baggageBelt": "A1",
          "gate": "A22",
          "quality": [
           "Basic",
           "Live"
          ],
          "revisedTime": {
           "local": "2024-05-08 13:57+02:00",
           "utc": "2024-05-08 11:57Z"
          },
          "runwayTime": {
           "local": "2024-05-08 13:56+02:00",
           "utc": "2024-05-08 11:56Z"
          },
          "scheduledTime": {
           "local": "2024-05-08 13:45+02:00",
           "utc": "2024-05-08 11:45Z"
          },
          "terminal": "1"
         },
         "callSign": "KLM29G",
         "codeshareStatus": "IsOperator",
         "departure": {
          "airport": {
           "iata": "AMS",
           "icao": "EHAM",
           "name": "Amsterdam"
          },
          "checkInDesk": "6-8",
          "gate": "D78",
          "quality": [
           "Basic",
           "Live"
          ],
          "revisedTime": {
           "local": "2024-05-08 12:57+02:00",
           "utc": "2024-05-08 10:57Z"
          },
          "runwayTime": {
           "local": "2024-05-08 13:03+02:00",
           "utc": "2024-05-08 11:03Z"
          },
          "scheduledTime": {
           "local": "2024-05-08 12:30+02:00",
           "utc": "2024-05-08 10:30Z"
          },
          "terminal": "1"
         },
         "isCargo": false,
         "number": "KL 1777",
         "status": "Arrived"
        },
        {
         "aircraft": {
          "modeS": "3C6650",
          "model": "Airbus A321",
          "reg": "D-AIRP"
         },
         "airline": {
          "iata": "LH",
          "icao": "DLH",
          "name": "Lufthansa"
         },
         "arrival": {
          "baggageBelt": "B3",
          "gate": "B20",
          "quality": [
           "Basic",
           "Live"
          ],
          "revisedTime": {
           "local": "2024-05-08 14:07+02:00",
           "utc": "2024-05-08 12:07Z"
          },
          "scheduledTime": {
           "local": "2024-05-08 13:55+02:00",
           "utc": "2024-05-08 11:55Z"
          },
          "terminal": "1"
         },
         "callSign": "DLH9MW",
         "codeshareStatus": "IsOperator",
         "departure": {
          "airport": {
           "iata": "FRA",
           "icao": "EDDF",
           "name": "Frankfurt-am-Main"
          },
          "checkInDesk": "259-335",
          "gate": "A52",
          "quality": [
           "Basic",
           "Live"
          ],
          "revisedTime": {
           "local": "2024-05-08 13:10+02:00",
           "utc": "2024-05-08 11:10Z"
          },
          "runwayTime": {
           "local": "2024-05-08 13:28+02:00",
           "utc": "2024-05-08 11:28Z"
          },
          "scheduledTime": {
           "local": "2024-05-08 12:45+02:00",
           "utc": "2024-05-08 10:45Z"
          },
          "terminal": "1"
         },
         "isCargo": false,
         "number": "LH 184",
         "status": "Arrived"
        },
        {
         "aircraft": {
          "modeS": "3C6746",
          "model": "Airbus A320",
          "reg": "D-AIZF"
         },
         "airline": {
          "iata": "LH",
          "icao": "DLH",
          "name": "Lufthansa"
         },
         "arrival": {
          "quality": [
           "Basic",
           "Live"
          ],
          "revisedTime": {
           "local": "2024-05-08 13:58+02:00",
           "utc": "2024-05-08 11:58Z"
          },
          "runwayTime": {
           "local": "2024-05-08 13:58+02:00",
           "utc": "2024-05-08 11:58Z"
          },
          "scheduledTime": {
           "local": "2024-05-08 13:58+02:00",
           "utc": "2024-05-08 11:58Z"
          }
         },
         "callSign": "DLH9872",
         "codeshareStatus": "IsOperator",
         "departure": {
          "airport": {
           "name": "Unknown"
          },
          "quality": []
         },
         "isCargo": false,
         "number": "LH 9872",
         "status": "Arrived"
        },
        {
         "aircraft": {
          "modeS": "4B19FD",
          "model": "Embraer 190",
          "reg": "HB-JVX"
         },
         "airline": {
          "iata": "LX",
          "icao": "SWR",
          "name": "SWISS"
         },
         "arrival": {
          "baggageBelt": "B1",
          "gate": "B07",
          "quality": [
           "Basic",
           "Live"
          ],
          "revisedTime": {
           "local": "2024-05-08 13:48+02:00",
           "utc": "2024-05-08 11:48Z"
          },
          "scheduledTime": {
           "local": "2024-05-08 13:55+02:00",
           "utc": "2024-05-08 11:55Z"
          },
          "terminal": "1"
         },
         "callSign": "SWR6TB",
         "codeshareStatus": "IsOperator",
         "departure": {
          "airport": {
           "iata": "ZRH",
           "icao": "LSZH",
           "name": "Zurich"
          },
          "checkInDesk": "1",
          "gate": "A54",
          "quality": [
           "Basic",
           "Live"
          ],
          "revisedTime": {
           "local": "2024-05-08 12:35+02:00",
           "utc": "2024-05-08 10:35Z"
          },
          "runwayTime": {
           "local": "2024-05-08 12:46+02:00",
           "utc": "2024-05-08 10:46Z"
          },
          "scheduledTime": {
           "local": "2024-05-08 12:30+02:00",
           "utc": "2024-05-08 10:30Z"
          }
         },
         "isCargo": false,
         "number": "LX 966",
         "status": "Arrived"
        },
        {
         "aircraft": {
          "modeS": "06A2E8",
          "model": "Boeing 787-9",
          "reg": "A7-BHE"
         },
         "airline": {
          "iata": "QR",
          "icao": "QTR",
          "name": "Qatar Airways"
         },
         "arrival": {
          "baggageBelt": "A3",
          "gate": "X07",
          "quality": [
           "Basic",
           "Live"
          ],
          "revisedTime": {
           "local": "2024-05-08 13:43+02:00",
           "utc": "2024-05-08 11:43Z"
          },
          "scheduledTime": {
           "local": "2024-05-08 13:55+02:00",
           "utc": "2024-05-08 11:55Z"
          },
          "terminal": "1"
         },
         "callSign": "QTR75L",
         "codeshareStatus": "IsOperator",
         "departure": {
          "airport": {
           "iata": "DOH",
           "icao": "OTHH",
           "name": "Doha"
          },
          "quality": [
           "Basic"
          ],
          "scheduledTime": {
           "local": "2024-05-08 08:55+03:00",
           "utc": "2024-05-08 05:55Z"
          }
         },
         "isCargo": false,
         "number": "QR 81",
         "status": "Arrived"
        },
        {
         "aircraft": {
          "modeS": "4AC9E4",
          "model": "Airbus A321 (Sharklets)",
          "reg": "SE-ROD"
         },
         "airline": {
          "iata": "SK",
          "icao": "SAS",
          "name": "SAS"
         },
         "arrival": {
          "baggageBelt": "A2",
          "gate": "A06",
          "quality": [
           "Basic",
           "Live"
          ],
          "revisedTime": {
           "local": "2024-05-08 13:01+02:00",
           "utc": "2024-05-08 11:01Z"
          },
          "scheduledTime": {
           "local": "2024-05-08 13:05+02:00",
           "utc": "2024-05-08 11:05Z"
          },
          "terminal": "1"
         },
         "callSign": "SAS1677",
         "codeshareStatus": "IsOperator",
         "departure": {
          "airport": {
           "iata": "CPH",
           "icao": "EKCH",
           "name": "Copenhagen"
          },
          "gate": "B8",
          "quality": [
           "Basic",
           "Live"
          ],
          "revisedTime": {
           "local": "2024-05-08 12:00+02:00",
           "utc": "2024-05-08 10:00Z"
          },
          "runwayTime": {
           "local": "2024-05-08 12:18+02:00",
           "utc": "2024-05-08 10:18Z"
          },
          "scheduledTime": {
           "local": "2024-05-08 12:00+02:00",
           "utc": "2024-05-08 10:00Z"
          },
          "terminal": "erminal3"
         },
         "isCargo": false,
         "number": "SK 1677",
         "status": "Arrived"
        },
        {
         "aircraft": {
          "modeS": "3C6581",
          "model": "Airbus A319",
          "reg": "D-AILA"
         },
         "airline": {
          "iata": "LH",
          "icao": "DLH",
          "name": "Lufthansa"
         },
         "arrival": {
          "baggageBelt": "B3",
          "gate": "S01",
          "quality": [
           "Basic",
           "Live"
          ],
          "revisedTime": {
           "local": "2024-05-08 13:16+02:00",
           "utc": "2024-05-08 11:16Z"
          },
          "scheduledTime": {
           "local": "2024-05-08 13:05+02:00",
           "utc": "2024-05-08 11:05Z"
          },
          "terminal": "1"
         },
         "callSign": "DLH04N",
         "codeshareStatus": "IsOperator",
         "departure": {
          "airport": {
           "iata": "MUC",
           "icao": "EDDM",
           "name": "Munich"
          },
          "quality": [
           "Basic",
           "Live"
          ],
          "revisedTime": {
           "local": "2024-05-08 12:00+02:00",
           "utc": "2024-05-08 10:00Z"
          },
          "runwayTime": {
           "local": "2024-05-08 12:05+02:00",
           "utc": "2024-05-08 10:05Z"
          },
          "scheduledTime": {
           "local": "2024-05-08 12:00+02:00",
           "utc": "2024-05-08 10:00Z"
          },
          "terminal": "2"
         },
         "isCargo": false,
         "number": "LH 1938",
         "status": "Arrived"
        },
        {
         "aircraft": {
          "modeS": "4A3121",
          "model": "Airbus A320",
          "reg": "YR-LIA"
         },
         "airline": {
          "iata": "SM",
          "icao": "MSC",
          "name": "Air Cairo"
         },
         "arrival": {
          "baggageBelt": "B4",
          "gate": "N01",
          "quality": [
           "Basic",
           "Live"
          ],
          "revisedTime": {
           "local": "2024-05-08 13:05+02:00",
           "utc": "2024-05-08 11:05Z"
          },
          "scheduledTime": {
           "local": "2024-05-08 13:10+02:00",
           "utc": "2024-05-08 11:10Z"
          },
          "terminal": "1"
         },
         "callSign": "MSC2960",
         "codeshareStatus": "IsOperator",
         "departure": {
          "airport": {
           "iata": "HRG",
           "icao": "HEGN",
           "name": "Hurghada"
          },
          "quality": [
           "Basic"
          ],
          "scheduledTime": {
           "local": "2024-05-08 09:25+03:00",
           "utc": "2024-05-08 06:25Z"
          },
          "terminal": "2"
         },
         "isCargo": false,
         "number": "SM 2960",
         "status": "Arrived"
        },
        {
         "aircraft": {
          "modeS": "40631A",
          "model": "Airbus A319",
          "reg": "G-EZFV"
         },
         "airline": {
          "iata": "U2",
          "icao": "EZY",
          "name": "easyJet"
         },
         "arrival": {
          "baggageBelt": "A4",
          "gate": "X03",
          "quality": [
           "Basic",
           "Live"
          ],
          "revisedTime": {
           "local": "2024-05-08 13:32+02:00",
           "utc": "2024-05-08 11:32Z"
          },
          "scheduledTime": {
           "local": "2024-05-08 13:35+02:00",
           "utc": "2024-05-08 11:35Z"
          },
          "terminal": "1"
         },
         "callSign": "EZY87PQ",
         "codeshareStatus": "IsOperator",
         "departure": {
          "airport": {
           "iata": "GLA",
           "icao": "EGPF",
           "name": "Glasgow"
          },
          "quality": [
           "Basic",
           "Live"
          ],
          "revisedTime": {
           "local": "2024-05-08 10:44+01:00",
           "utc": "2024-05-08 09:44Z"
          },
          "runwayTime": {
           "local": "2024-05-08 10:44+01:00",
           "utc": "2024-05-08 09:44Z"
          },
          "scheduledTime": {
           "local": "2024-05-08 10:25+01:00",
           "utc": "2024-05-08 09:25Z"
          },
          "terminal": "M"
         },
         "isCargo": false,
         "number": "U2 3161",
         "status": "Arrived"
        },
        {
         "aircraft": {
          "modeS": "440484",
          "model": "Airbus A319",
          "reg": "OE-LKC"
         },
         "airline": {
          "iata": "U2",
          "icao": "EZY",
          "name": "easyJet"
         },
         "arrival": {
          "baggageBelt": "A3",
          "gate": "A38",
          "quality": [
           "Basic",
           "Live"
          ],
          "revisedTime": {
           "local": "2024-05-08 12:53+02:00",
           "utc": "2024-05-08 10:53Z"
          },
          "runwayTime": {
           "local": "2024-05-08 12:53+02:00",
           "utc": "2024-05-08 10:53Z"
          },
          "scheduledTime": {
           "local": "2024-05-08 13:00+02:00",
           "utc": "2024-05-08 11:00Z"
          },
          "terminal": "1"
         },
         "callSign": "EJU4086",
         "codeshareStatus": "IsOperator",
         "departure": {
          "airport": {
           "iata": "BSL",
           "icao": "LFSB",
           "name": "Bâle/Mulhouse"
          },
          "checkInDesk": "42-50",
          "gate": "42",
          "quality": [
           "Basic",
           "Live"
          ],
          "revisedTime": {
           "local": "2024-05-08 11:49+02:00",
           "utc": "2024-05-08 09:49Z"
          },
          "runwayTime": {
           "local": "2024-05-08 11:50+02:00",
           "utc": "2024-05-08 09:50Z"
          },
          "scheduledTime": {
           "local": "2024-05-08 11:30+02:00",
           "utc": "2024-05-08 09:30Z"
          }
         },
         "isCargo": false,
         "number": "U2 4086",
         "status": "Arrived"
        },
        {
         "aircraft": {
          "modeS": "440209",
          "model": "Airbus A320",
          "reg": "OE-IZH"
         },
         "airline": {
          "iata": "U2",
          "icao": "EZY",
          "name": "easyJet"
         },
         "arrival": {
          "baggageBelt": "A4",
          "gate": "A30",
          "quality": [
           "Basic",
           "Live"
          ],
          "revisedTime": {
           "local": "2024-05-08 13:38+02:00",
           "utc": "2024-05-08 11:38Z"
          },
          "scheduledTime": {
           "local": "2024-05-08 13:40+02:00",
           "utc": "2024-05-08 11:40Z"
          },
          "terminal": "1"
         },
         "callSign": "EJU75ZA",
         "codeshareStatus": "IsOperator",
         "departure": {
          "airport": {
           "iata": "VLC",
           "icao": "LEVC",
           "name": "Valencia"
          },
          "checkInDesk": "25-26",
          "gate": "5",
          "quality": [
           "Basic",
           "Live"
          ],
          "revisedTime": {
           "local": "2024-05-08 10:43+02:00",
           "utc": "2024-05-08 08:43Z"
          },
          "runwayTime": {
           "local": "2024-05-08 10:55+02:00",
           "utc": "2024-05-08 08:55Z"
          },
          "scheduledTime": {
           "local": "2024-05-08 10:40+02:00",
           "utc": "2024-05-08 08:40Z"
          },
          "terminal": "1"
         },
         "isCargo": false,
         "number": "U2 5104",
         "status": "Arrived"
        },
        {
         "aircraft": {
          "modeS": "440185",
          "model": "Airbus A320",
          "reg": "OE-IJI"
         },
         "airline": {
          "iata": "U2",
          "icao": "EZY",
          "name": "easyJet"
         },
         "arrival": {
          "baggageBelt": "A2",
          "gate": "A38",
          "quality": [
           "Basic",
           "Live"
          ],
          "revisedTime": {
           "local": "2024-05-08 14:13+02:00",
           "utc": "2024-05-08 12:13Z"
          },
          "scheduledTime": {
           "local": "2024-05-08 13:45+02:00",
           "utc": "2024-05-08 11:45Z"
          },
          "terminal": "1"
         },
         "callSign": "EJU57EM",
         "codeshareStatus": "IsOperator",
         "departure": {
          "airport": {
           "iata": "AGP",
           "icao": "LEMG",
           "name": "Málaga"
          },
          "checkInDesk": "254-262",
          "gate": "D64",
          "quality": [
           "Basic",
           "Live"
          ],
          "revisedTime": {
           "local": "2024-05-08 10:25+02:00",
           "utc": "2024-05-08 08:25Z"
          },
          "runwayTime": {
           "local": "2024-05-08 11:02+02:00",
           "utc": "2024-05-08 09:02Z"
          },
          "scheduledTime": {
           "local": "2024-05-08 10:15+02:00",
           "utc": "2024-05-08 08:15Z"
          },
          "terminal": "PAX"
         },
         "isCargo": false,
         "number": "U2 5106",
         "status": "Arrived"
        },
        {
         "aircraft": {
          "modeS": "4BCDF6",
          "model": "Boeing 737",
          "reg": "TC-SOV"
         },
         "airline": {
          "iata": "XQ",
          "icao": "SXS",
          "name": "Sun Express"
         },
         "arrival": {
          "baggageBelt": "A2",
          "gate": "X01",
          "quality": [
           "Basic",
           "Live"
          ],
          "revisedTime": {
           "local": "2024-05-08 13:23+02:00",
           "utc": "2024-05-08 11:23Z"
          },
          "runwayTime": {
           "local": "2024-05-08 13:22+02:00",
           "utc": "2024-05-08 11:22Z"
          },
          "scheduledTime": {
           "local": "2024-05-08 13:30+02:00",
           "utc": "2024-05-08 11:30Z"
          },
          "terminal": "1"
         },
         "callSign": "SXS2JQ",
         "codeshareStatus": "IsOperator",
         "departure": {
          "airport": {
           "iata": "AYT",
           "icao": "LTAI",
           "name": "Antalya"
          },
          "checkInDesk": "120-131",
          "quality": [
           "Basic",
           "Live"
          ],
          "revisedTime": {
           "local": "2024-05-08 10:55+03:00",
           "utc": "2024-05-08 07:55Z"
          },
          "scheduledTime": {
           "local": "2024-05-08 10:55+03:00",
           "utc": "2024-05-08 07:55Z"
          },
          "terminal": "1"
         },
         "isCargo": false,
         "number": "XQ 664",
         "status": "Arrived"
        },
        {
         "aircraft": {
          "modeS": "4BCDEE",
          "model": "Boeing 737-800",
          "reg": "TC-SON"
         },
         "airline": {
          "iata": "XQ",
          "icao": "SXS",
          "name": "Sun Express"
         },
         "arrival": {
          "baggageBelt": "B1",
          "gate": "Y02",
          "quality": [
           "Basic",
           "Live"
          ],
          "revisedTime": {
           "local": "2024-05-08 13:25+02:00",
           "utc": "2024-05-08 11:25Z"
          },
          "runwayTime": {
           "local": "2024-05-08 13:24+02:00",
           "utc": "2024-05-08 11:24Z"
          },
          "scheduledTime": {
           "local": "2024-05-08 13:40+02:00",
           "utc": "2024-05-08 11:40Z"
          },
          "terminal": "1"
         },
         "callSign": "SXS2YJ",
         "codeshareStatus": "IsOperator",
         "departure": {
          "airport": {
           "iata": "ADB",
           "icao": "LTBJ",
           "name": "İzmir"
          },
          "checkInDesk": "54",
          "gate": "29",
          "quality": [
           "Basic",
           "Live"
          ],
          "revisedTime": {
           "local": "2024-05-08 11:45+03:00",
           "utc": "2024-05-08 08:45Z"
          },
          "runwayTime": {
           "local": "2024-05-08 11:49+03:00",
           "utc": "2024-05-08 08:49Z"
          },
          "scheduledTime": {
           "local": "2024-05-08 11:35+03:00",
           "utc": "2024-05-08 08:35Z"
          },
          "terminal": "I"
         },
         "isCargo": false,
         "number": "XQ 946",
         "status": "Arrived"
        },
        {
         "aircraft": {
          "modeS": "4D403F",
          "model": "Dassault Falcon 8X",
          "reg": "3A-MGA"
         },
         "airline": {
          "name": "Unknown/Private owner"
         },
         "arrival": {
          "quality": [
           "Basic",
           "Live"
          ],
          "revisedTime": {
           "local": "2024-05-08 14:00+02:00",
           "utc": "2024-05-08 12:00Z"
          },
          "runwayTime": {
           "local": "2024-05-08 14:00+02:00",
           "utc": "2024-05-08 12:00Z"
          },
          "scheduledTime": {
           "local": "2024-05-08 14:00+02:00",
           "utc": "2024-05-08 12:00Z"
          }
         },
         "callSign": "3AMGA",
         "codeshareStatus": "IsOperator",
         "departure": {
          "airport": {
           "name": "Unknown"
          },
          "quality": []
         },
         "isCargo": false,
         "number": "3AMGA",
         "status": "Arrived"
        },
        {
         "aircraft": {
          "modeS": "39E691",
          "model": "Airbus A220-300",
          "reg": "F-HZUR"
         },
         "airline": {
          "iata": "AF",
          "icao": "AFR",
          "name": "Air France"
         },
         "arrival": {
          "baggageBelt": "A4",
          "gate": "A03",
          "quality": [
           "Basic",
           "Live"
          ],
          "revisedTime": {
           "local": "2024-05-08 14:49+02:00",
           "utc": "2024-05-08 12:49Z"
          },
          "scheduledTime": {
           "local": "2024-05-08 14:45+02:00",
           "utc": "2024-05-08 12:45Z"
          },
          "terminal": "1"
         },
         "callSign": "AFR87UB",
         "codeshareStatus": "IsOperator",
         "departure": {
          "airport": {
           "iata": "CDG",
           "icao": "LFPG",
           "name": "Paris"
          },
          "quality": [
           "Basic",
           "Live"
          ],
          "revisedTime": {
           "local": "2024-05-08 13:35+02:00",
           "utc": "2024-05-08 11:35Z"
          },
          "runwayTime": {
           "local": "2024-05-08 13:35+02:00",
           "utc": "2024-05-08 11:35Z"
          },
          "scheduledTime": {
           "local": "2024-05-08 13:05+02:00",
           "utc": "2024-05-08 11:05Z"
          },
          "terminal": "2F"
         },
         "isCargo": false,
         "number": "AF 1234",
         "status": "Arrived"
        },
        {
         "aircraft": {
          "modeS": "40799C",
          "model": "Embraer 190",
          "reg": "G-LCAD"
         },
         "airline": {
          "iata": "BA",
          "icao": "BAW",
          "name": "British Airways"
         },
         "arrival": {
          "baggageBelt": "B1",
          "gate": "Y07",
          "quality": [
           "Basic",
           "Live"
          ],
          "revisedTime": {
           "local": "2024-05-08 15:37+02:00",
           "utc": "2024-05-08 13:37Z"
          },
          "scheduledTime": {
           "local": "2024-05-08 14:55+02:00",
           "utc": "2024-05-08 12:55Z"
          },
          "terminal": "1"
         },
         "callSign": "CFE691",
         "codeshareStatus": "IsOperator",
         "departure": {
          "airport": {
           "iata": "LCY",
           "icao": "EGLC",
           "name": "London"
          },
          "gate": "9",
          "quality": [
           "Basic",
           "Live"
          ],
          "revisedTime": {
           "local": "2024-05-08 13:08+01:00",
           "utc": "2024-05-08 12:08Z"
          },
          "runway": "09",
          "runwayTime": {
           "local": "2024-05-08 13:16+01:00",
           "utc": "2024-05-08 12:16Z"
          },
          "scheduledTime": {
           "local": "2024-05-08 12:10+01:00",
           "utc": "2024-05-08 11:10Z"
          }
         },
         "isCargo": false,
         "number": "BA 7027",
         "status": "Arrived"
        },
        {
         "aircraft": {
          "modeS": "4008B5",
          "model": "Airbus A319",
          "reg": "G-EUPU"
         },
         "airline": {
          "iata": "BA",
          "icao": "BAW",
          "name": "British Airways"
         },
         "arrival": {
          "baggageBelt": "A2",
          "gate": "X02",
          "quality": [
           "Basic",
           "Live"
          ],
          "revisedTime": {
           "local": "2024-05-08 14:03+02:00",
           "utc": "2024-05-08 12:03Z"
          },
          "runwayTime": {
           "local": "2024-05-08 14:02+02:00",
           "utc": "2024-05-08 12:02Z"
          },
          "scheduledTime": {
           "local": "2024-05-08 14:10+02:00",
           "utc": "2024-05-08 12:10Z"
          },
          "terminal": "1"
         },
         "callSign": "BAW992G",
         "codeshareStatus": "IsOperator",
         "departure": {
          "airport": {
           "iata": "LHR",
           "icao": "EGLL",
           "name": "London"
          },
          "checkInDesk": "D",
          "quality": [
           "Basic",
           "Live"
          ],
          "revisedTime": {
           "local": "2024-05-08 11:35+01:00",
           "utc": "2024-05-08 10:35Z"
          },
          "runwayTime": {
           "local": "2024-05-08 11:36+01:00",
           "utc": "2024-05-08 10:36Z"
          },
          "scheduledTime": {
           "local": "2024-05-08 11:20+01:00",
           "utc": "2024-05-08 10:20Z"
          },
          "terminal": "5"
         },
         "isCargo": false,
         "number": "BA 992",
         "status": "Arrived"
        },
        {
         "aircraft": {
          "modeS": "02A1B1",
          "model": "Airbus A320",
          "reg": "TS-INR"
         },
         "airline": {
          "iata": "BJ",
          "icao": "LBT",
          "name": "Nouvelair Tunisie"
         },
         "arrival": {
          "baggageBelt": "A1",
          "gate": "X19",
          "quality": [
           "Basic",
           "Live"
          ],
          "revisedTime": {
           "local": "2024-05-08 14:43+02:00",
           "utc": "2024-05-08 12:43Z"
          },
          "scheduledTime": {
           "local": "2024-05-08 14:50+02:00",
           "utc": "2024-05-08 12:50Z"
          },
          "terminal": "1"
         },
         "callSign": "LBT232",
         "codeshareStatus": "IsOperator",
         "departure": {
          "airport": {
           "iata": "TUN",
           "icao": "DTTA",
           "name": "Tunis"
          },
          "quality": [
           "Basic"
          ],
          "scheduledTime": {
           "local": "2024-05-08 11:05+01:00",
           "utc": "2024-05-08 10:05Z"
          },
          "terminal": "M"
         },
         "isCargo": false,
         "number": "BJ 232",
         "status": "Arrived"
        },
        {
         "aircraft": {
          "modeS": "440CF8",
          "model": "Airbus A320",
          "reg": "OE-IBF"
         },
         "airline": {
          "iata": "EC",
          "icao": "EJU",
          "name": "EasyJet Europe"
         },
         "arrival": {
          "baggageBelt": "A3",
          "gate": "A06",
          "quality": [
           "Basic",
           "Live"
          ],
          "revisedTime": {
           "local": "2024-05-08 14:33+02:00",
           "utc": "2024-05-08 12:33Z"
          },
          "runwayTime": {
           "local": "2024-05-08 14:32+02:00",
           "utc": "2024-05-08 12:32Z"
          },
          "scheduledTime": {
           "local": "2024-05-08 14:50+02:00",
           "utc": "2024-05-08 12:50Z"
          },
          "terminal": "1"
         },
         "callSign": "EJU38DX",
         "codeshareStatus": "IsCodeshared",
         "departure": {
          "airport": {
           "iata": "CHQ",
           "icao": "LGSA",
           "name": "Souda"
          },
          "quality": []
         },
         "isCargo": false,
         "number": "EC 5010",
         "status": "Arrived"
        },
        {
         "aircraft": {
          "modeS": "4402AE",
          "model": "Airbus A320",
          "reg": "OE-IVZ"
         },
         "airline": {
          "iata": "EC",
          "icao": "EJU",
          "name": "EasyJet Europe"
         },
         "arrival": {
          "baggageBelt": "A2",
          "gate": "A31",
          "quality": [
           "Basic",
           "Live"
          ],
          "revisedTime": {
           "local": "2024-05-08 14:35+02:00",
           "utc": "2024-05-08 12:35Z"
          },
          "runwayTime": {
           "local": "2024-05-08 14:35+02:00",
           "utc": "2024-05-08 12:35Z"
          },
          "scheduledTime": {
           "local": "2024-05-08 14:40+02:00",
           "utc": "2024-05-08 12:40Z"
          },
          "terminal": "1"
         },
         "callSign": "EJU42HU",
         "codeshareStatus": "IsCodeshared",
         "departure": {
          "airport": {
           "iata": "RHO",
           "icao": "LGRP",
           "name": "Rodes Island"
          },
          "quality": []
         },
         "isCargo": false,
         "number": "EC 5014",
         "status": "Arrived"
        },
        {
         "aircraft": {
          "modeS": "4406F0",
          "model": "Airbus A319",
          "reg": "OE-LQU"
         },
         "airline": {
          "iata": "EC",
          "icao": "EJU",
          "name": "EasyJet Europe"
         },
         "arrival": {
          "baggageBelt": "A3",
          "gate": "A35",
          "quality": [
           "Basic",
           "Live"
          ],
          "revisedTime": {
           "local": "2024-05-08 14:45+02:00",
           "utc": "2024-05-08 12:45Z"
          },
          "scheduledTime": {
           "local": "2024-05-08 14:55+02:00",
           "utc": "2024-05-08 12:55Z"
          },
          "terminal": "1"
         },
         "callSign": "EJU89KF",
         "codeshareStatus": "IsCodeshared",
         "departure": {
          "airport": {
           "iata": "BCN",
           "icao": "LEBL",
           "name": "Barcelona"
          },
          "checkInDesk": "C29-C33",
          "gate": "R11",
          "quality": [
           "Basic",
           "Live"
          ],
          "revisedTime": {
           "local": "2024-05-08 12:02+02:00",
           "utc": "2024-05-08 10:02Z"
          },
          "runwayTime": {
           "local": "2024-05-08 12:27+02:00",
           "utc": "2024-05-08 10:27Z"
          },
          "scheduledTime": {
           "local": "2024-05-08 12:05+02:00",
           "utc": "2024-05-08 10:05Z"
          },
          "terminal": "2"
         },
         "isCargo": false,
         "number": "EC 7174",
         "status": "Arrived"
        },
        {
         "aircraft": {
          "modeS": "3C56F1",
          "model": "Airbus A320",
          "reg": "D-AEWQ"
         },
         "airline": {
          "iata": "EW",
          "icao": "EWG",
          "name": "Eurowings"
         },
         "arrival": {
          "baggageBelt": "A3",
          "gate": "A36",
          "quality": [
           "Basic",
           "Live"
          ],
          "revisedTime": {
           "local": "2024-05-08 14:23+02:00",
           "utc": "2024-05-08 12:23Z"
          },
          "scheduledTime": {
           "local": "2024-05-08 14:40+02:00",
           "utc": "2024-05-08 12:40Z"
          },
          "terminal": "1"
         },
         "codeshareStatus": "IsOperator",
         "departure": {
          "airport": {
           "iata": "STR",
           "icao": "EDDS",
           "name": "Stuttgart"
          },
          "gate": "316",
          "quality": [
           "Basic",
           "Live"
          ],
          "revisedTime": {
           "local": "2024-05-08 13:30+02:00",
           "utc": "2024-05-08 11:30Z"
          },
          "scheduledTime": {
           "local": "2024-05-08 13:30+02:00",
           "utc": "2024-05-08 11:30Z"
          },
          "terminal": "3"
         },
         "isCargo": false,
         "number": "EW 2018",
         "status": "Arrived"
        },
        {
         "aircraft": {
          "modeS": "3C648F",
          "model": "Airbus A321",
          "reg": "D-AIDO"
         },
         "airline": {
          "iata": "EW",
          "icao": "EWG",
          "name": "Eurowings"
         },
         "arrival": {
          "baggageBelt": "A4",
          "gate": "A32",
          "quality": [
           "Basic",
           "Live"
          ],
          "revisedTime": {
           "local": "2024-05-08 14:18+02:00",
           "utc": "2024-05-08 12:18Z"
          },
          "scheduledTime": {
           "local": "2024-05-08 14:40+02:00",
           "utc": "2024-05-08 12:40Z"
          },
          "terminal": "1"
         },
         "callSign": "EWG4FU",
         "codeshareStatus": "IsOperator",
         "departure": {
          "airport": {
           "iata": "GOT",
           "icao": "ESGG",
           "name": "Goteborg"
          },
          "checkInDesk": "47-48",
          "gate": "13",
          "quality": [
           "Basic",
           "Live"
          ],
          "revisedTime": {
           "local": "2024-05-08 13:15+02:00",
           "utc": "2024-05-08 11:15Z"
          },
          "runwayTime": {
           "local": "2024-05-08 13:26+02:00",
           "utc": "2024-05-08 11:26Z"
          },
          "scheduledTime": {
           "local": "2024-05-08 13:15+02:00",
           "utc": "2024-05-08 11:15Z"
          },
          "terminal": "1"
         },
         "isCargo": false,
         "number": "EW 8221",
         "status": "Arrived"
        },
        {
         "aircraft": {
          "modeS": "3C5EE4",
          "model": "Airbus A319",
          "reg": "D-AGWD"
         },
         "airline": {
          "iata": "EW",
          "icao": "EWG",
          "name": "Eurowings"
         },
         "arrival": {
          "baggageBelt": "A3",
          "gate": "A37",
          "quality": [
           "Basic",
           "Live"
          ],
          "revisedTime": {
           "local": "2024-05-08 14:40+02:00",
           "utc": "2024-05-08 12:40Z"
          },
          "runwayTime": {
           "local": "2024-05-08 14:39+02:00",
           "utc": "2024-05-08 12:39Z"
          },
          "scheduledTime": {
           "local": "2024-05-08 14:35+02:00",
           "utc": "2024-05-08 12:35Z"
          },
          "terminal": "1"
         },
         "callSign": "EWG8433",
         "codeshareStatus": "IsOperator",
         "departure": {
          "airport": {
           "iata": "BIA",
           "icao": "LFKB",
           "name": "Bastia/Poretta"
          },
          "quality": [
           "Basic"
          ],
          "scheduledTime": {
           "local": "2024-05-08 12:40+02:00",
           "utc": "2024-05-08 10:40Z"
          }
         },
         "isCargo": false,
         "number": "EW 8433",
         "status": "Arrived"
        },
        {
         "aircraft": {
          "modeS": "4CA6A9",
          "model": "Boeing 737-800",
          "reg": "EI-DYV"
         },
         "airline": {
          "iata": "FR",
          "icao": "RYR",
          "name": "Ryanair"
         },
         "arrival": {
          "baggageBelt": "C1",
          "gate": "Z43",
          "quality": [
           "Basic",
           "Live"
          ],
          "revisedTime": {
           "local": "2024-05-08 14:37+02:00",
           "utc": "2024-05-08 12:37Z"
          },
          "runwayTime": {
           "local": "2024-05-08 14:37+02:00",
           "utc": "2024-05-08 12:37Z"
          },
          "scheduledTime": {
           "local": "2024-05-08 14:30+02:00",
           "utc": "2024-05-08 12:30Z"
          },
          "terminal": "2"
         },
         "callSign": "RYR927E",
         "codeshareStatus": "IsOperator",
         "departure": {
          "airport": {
           "iata": "STN",
           "icao": "EGSS",
           "name": "London"
          },
          "gate": "34",
          "quality": [
           "Basic",
           "Live"
          ],
          "revisedTime": {
           "local": "2024-05-08 12:03+01:00",
           "utc": "2024-05-08 11:03Z"
          },
          "runwayTime": {
           "local": "2024-05-08 12:17+01:00",
           "utc": "2024-05-08 11:17Z"
          },
          "scheduledTime": {
           "local": "2024-05-08 11:45+01:00",
           "utc": "2024-05-08 10:45Z"
          },
          "terminal": "1"
         },
         "isCargo": false,
         "number": "FR 145",
         "status": "Arrived"
        },
        {
         "aircraft": {
          "modeS": "4D2274",
          "model": "Boeing 737-800",
          "reg": "9H-QBC"
         },
         "airline": {
          "iata": "FR",
          "icao": "RYR",
          "name": "Ryanair"
         },
         "arrival": {
          "baggageBelt": "C3",
          "gate": "Z29",
          "quality": [
           "Basic",
           "Live"
          ],
          "revisedTime": {
           "local": "2024-05-08 14:10+02:00",
           "utc": "2024-05-08 12:10Z"
          },
          "scheduledTime": {
           "local": "2024-05-08 14:05+02:00",
           "utc": "2024-05-08 12:05Z"
          },
          "terminal": "2"
         },
         "callSign": "RYR59LE",
         "codeshareStatus": "IsOperator",
         "departure": {
          "airport": {
           "iata": "PMI",
           "icao": "LEPA",
           "name": "Palma De Mallorca"
          },
          "checkInDesk": "002-017",
          "gate": "C61",
          "quality": [
           "Basic",
           "Live"
          ],
          "revisedTime": {
           "local": "2024-05-08 11:33+02:00",
           "utc": "2024-05-08 09:33Z"
          },
          "runwayTime": {
           "local": "2024-05-08 11:49+02:00",
           "utc": "2024-05-08 09:49Z"
          },
          "scheduledTime": {
           "local": "2024-05-08 11:20+02:00",
           "utc": "2024-05-08 09:20Z"
          },
          "terminal": "N"
         },
         "isCargo": false,
         "number": "FR 217",
         "status": "Arrived"
        },
        {
         "aircraft": {
          "modeS": "010204",
          "model": "Airbus A320 NEO",
          "reg": "SU-GFJ"
         },
         "airline": {
          "iata": "MS",
          "icao": "MSR",
          "name": "EgyptAir"
         },
         "arrival": {
          "baggageBelt": "B1",
          "gate": "Y10",
          "quality": [
           "Basic",
           "Live"
          ],
          "revisedTime": {
           "local": "2024-05-08 14:30+02:00",
           "utc": "2024-05-08 12:30Z"
          },
          "runwayTime": {
           "local": "2024-05-08 14:30+02:00",
           "utc": "2024-05-08 12:30Z"
          },
          "scheduledTime": {
           "local": "2024-05-08 14:45+02:00",
           "utc": "2024-05-08 12:45Z"
          },
          "terminal": "1"
         },
         "callSign": "MSR731",
         "codeshareStatus": "IsOperator",
         "departure": {
          "airport": {
           "iata": "CAI",
           "icao": "HECA",
           "name": "Cairo"
          },
          "quality": [
           "Basic"
          ],
          "scheduledTime": {
           "local": "2024-05-08 11:35+03:00",
           "utc": "2024-05-08 08:35Z"
          },
          "terminal": "3"
         },
         "isCargo": false,
         "number": "MS 731",
         "status": "Arrived"
        },
        {
         "aircraft": {
          "modeS": "440CAC",
          "model": "Airbus A320 NEO",
          "reg": "OE-LZO"
         },
         "airline": {
          "iata": "OS",
          "icao": "AUA",
          "name": "Austrian"
         },
         "arrival": {
          "baggageBelt": "B4",
          "gate": "B06",
          "quality": [
           "Basic",
           "Live"
          ],
          "revisedTime": {
           "local": "2024-05-08 14:08+02:00",
           "utc": "2024-05-08 12:08Z"
          },
          "scheduledTime": {
           "local": "2024-05-08 14:20+02:00",
           "utc": "2024-05-08 12:20Z"
          },
          "terminal": "1"
         },
         "callSign": "AUA2GN",
         "codeshareStatus": "IsOperator",
         "departure": {
          "airport": {
           "iata": "VIE",
           "icao": "LOWW",
           "name": "Vienna"
          },
          "checkInDesk": "351-372",
          "gate": "F05",
          "quality": [
           "Basic",
           "Live"
          ],
          "revisedTime": {
           "local": "2024-05-08 13:18+02:00",
           "utc": "2024-05-08 11:18Z"
          },
          "runwayTime": {
           "local": "2024-05-08 13:18+02:00",
           "utc": "2024-05-08 11:18Z"
          },
          "scheduledTime": {
           "local": "2024-05-08 13:10+02:00",
           "utc": "2024-05-08 11:10Z"
          },
          "terminal": "3"
         },
         "isCargo": false,
         "number": "OS 229",
         "status": "Arrived"
        },
        {
         "aircraft": {
          "modeS": "4BAA90",
          "model": "Airbus A321",
          "reg": "TC-JTP"
         },
         "airline": {
          "iata": "TK",
          "icao": "THY",
          "name": "Turkish"
         },
         "arrival": {
          "baggageBelt": "A1",
          "gate": "X17",
          "quality": [
           "Basic",
           "Live"
          ],
          "revisedTime": {
           "local": "2024-05-08 14:42+02:00",
           "utc": "2024-05-08 12:42Z"
          },
          "scheduledTime": {
           "local": "2024-05-08 14:10+02:00",
           "utc": "2024-05-08 12:10Z"
          },
          "terminal": "1"
         },
         "callSign": "THY7RG",
         "codeshareStatus": "IsOperator",
         "departure": {
          "airport": {
           "iata": "IST",
           "icao": "LTFM",
           "name": "Istanbul"
          },
          "checkInDesk": "E-F",
          "gate": "F8B",
          "quality": [
           "Basic",
           "Live"
          ],
          "revisedTime": {
           "local": "2024-05-08 12:40+03:00",
           "utc": "2024-05-08 09:40Z"
          },
          "scheduledTime": {
           "local": "2024-05-08 12:20+03:00",
           "utc": "2024-05-08 09:20Z"
          }
         },
         "isCargo": false,
         "number": "TK 1725",
         "status": "Arrived"
        },
        {
         "aircraft": {
          "modeS": "440CF8",
          "model": "Airbus A320",
          "reg": "OE-IBF"
         },
         "airline": {
          "iata": "U2",
          "icao": "EZY",
          "name": "easyJet"
         },
         "arrival": {
          "baggageBelt": "A3",
          "gate": "A06",
          "quality": [
           "Basic",
           "Live"
          ],
          "revisedTime": {
           "local": "2024-05-08 14:33+02:00",
           "utc": "2024-05-08 12:33Z"
          },
          "runwayTime": {
           "local": "2024-05-08 14:32+02:00",
           "utc": "2024-05-08 12:32Z"
          },
          "scheduledTime": {
           "local": "2024-05-08 14:50+02:00",
           "utc": "2024-05-08 12:50Z"
          },
          "terminal": "1"
         },
         "callSign": "EJU38DX",
         "codeshareStatus": "IsOperator",
         "departure": {
          "airport": {
           "iata": "CHQ",
           "icao": "LGSA",
           "name": "Souda"
          },
          "quality": [
           "Basic"
          ],
          "scheduledTime": {
           "local": "2024-05-08 12:30+03:00",
           "utc": "2024-05-08 09:30Z"
          }
         },
         "isCargo": false,
         "number": "U2 5010",
         "status": "Arrived"
        },
        {
         "aircraft": {
          "modeS": "4402AE",
          "model": "Airbus A320",
          "reg": "OE-IVZ"
         },
         "airline": {
          "iata": "U2",
          "icao": "EZY",
          "name": "easyJet"
         },
         "arrival": {
          "baggageBelt": "A2",
          "gate": "A31",
          "quality": [
           "Basic",
           "Live"
          ],
          "revisedTime": {
           "local": "2024-05-08 14:35+02:00",
           "utc": "2024-05-08 12:35Z"
          },
          "runwayTime": {
           "local": "2024-05-08 14:35+02:00",
           "utc": "2024-05-08 12:35Z"
          },
          "scheduledTime": {
           "local": "2024-05-08 14:40+02:00",
           "utc": "2024-05-08 12:40Z"
          },
          "terminal": "1"
         },
         "callSign": "EJU42HU",
         "codeshareStatus": "IsOperator",
         "departure": {
          "airport": {
           "iata": "RHO",
           "icao": "LGRP",
           "name": "Rodes Island"
          },
          "quality": [
           "Basic"
          ],
          "scheduledTime": {
           "local": "2024-05-08 12:20+03:00",
           "utc": "2024-05-08 09:20Z"
          }
         },
         "isCargo": false,
         "number": "U2 5014",
         "status": "Arrived"
        },
        {
         "aircraft": {
          "modeS": "471F6C",
          "model": "Airbus A321",
          "reg": "HA-LXK"
         },
         "airline": {
          "iata": "W4",
          "icao": "WMT",
          "name": "Aero Services Executive"
         },
         "arrival": {
          "baggageBelt": "C1",
          "gate": "Z44",
          "quality": [
           "Basic",
           "Live"
          ],
          "revisedTime": {
           "local": "2024-05-08 13:46+02:00",
           "utc": "2024-05-08 11:46Z"
          },
          "scheduledTime": {
           "local": "2024-05-08 14:05+02:00",
           "utc": "2024-05-08 12:05Z"
          },
          "terminal": "2"
         },
         "codeshareStatus": "IsOperator",
         "departure": {
          "airport": {
           "iata": "TIA",
           "icao": "LATI",
           "name": "Tirana"
          },
          "quality": [
           "Basic"
          ],
          "scheduledTime": {
           "local": "2024-05-08 11:40+02:00",
           "utc": "2024-05-08 09:40Z"
          }
         },
         "isCargo": false,
         "number": "W4 5105",
         "status": "Arrived"
        },
        {
         "aircraft": {
          "modeS": "3C5EF5",
          "model": "Airbus A319",
          "reg": "D-AGWU"
         },
         "airline": {
          "iata": "4U",
          "icao": "GWI",
          "name": "Germanwings"
         },
         "arrival": {
          "quality": [
           "Basic",
           "Live"
          ],
          "revisedTime": {
           "local": "2024-05-08 17:10+02:00",
           "utc": "2024-05-08 15:10Z"
          },
          "runwayTime": {
           "local": "2024-05-08 17:10+02:00",
           "utc": "2024-05-08 15:10Z"
          },
          "scheduledTime": {
           "local": "2024-05-08 15:58+02:00",
           "utc": "2024-05-08 13:58Z"
          }
         },
         "callSign": "GWI27LR",
         "codeshareStatus": "IsOperator",
         "departure": {
          "airport": {
           "iata": "DUS",
           "icao": "EDDL",
           "name": "Duesseldorf"
          },
          "quality": [
           "Basic",
           "Live"
          ],
          "revisedTime": {
           "local": "2024-05-08 15:08+02:00",
           "utc": "2024-05-08 13:08Z"
          },
          "runwayTime": {
           "local": "2024-05-08 15:08+02:00",
           "utc": "2024-05-08 13:08Z"
          },
          "scheduledTime": {
           "local": "2024-05-08 15:08+02:00",
           "utc": "2024-05-08 13:08Z"
          }
         },
         "isCargo": false,
         "number": "4U 4ZU",
         "status": "Arrived"
        },
        {
         "aircraft": {
          "modeS": "4406F0",
          "model": "Airbus A319",
          "reg": "OE-LQU"
         },
         "airline": {
          "iata": "U2",
          "icao": "EZY",
          "name": "easyJet"
         },
         "arrival": {
          "baggageBelt": "A3",
          "gate": "A35",
          "quality": [
           "Basic",
           "Live"
          ],
          "revisedTime": {
           "local": "2024-05-08 14:45+02:00",
           "utc": "2024-05-08 12:45Z"
          },
          "scheduledTime": {
           "local": "2024-05-08 14:55+02:00",
           "utc": "2024-05-08 12:55Z"
          },
          "terminal": "1"
         },
         "callSign": "EJU89KF",
         "codeshareStatus": "IsOperator",
         "departure": {
          "airport": {
           "iata": "BCN",
           "icao": "LEBL",
           "name": "Barcelona"
          },
          "checkInDesk": "C29-C33",
          "gate": "R11",
          "quality": [
           "Basic",
           "Live"
          ],
          "revisedTime": {
           "local": "2024-05-08 12:02+02:00",
           "utc": "2024-05-08 10:02Z"
          },
          "runwayTime": {
           "local": "2024-05-08 12:27+02:00",
           "utc": "2024-05-08 10:27Z"
          },
          "scheduledTime": {
           "local": "2024-05-08 12:05+02:00",
           "utc": "2024-05-08 10:05Z"
          },
          "terminal": "2"
         },
         "isCargo": false,
         "number": "U2 7174",
         "status": "Arrived"
        },
        {
         "aircraft": {
          "modeS": "345206",
          "model": "Airbus A320",
          "reg": "EC-MLE"
         },
         "airline": {
          "iata": "VY",
          "icao": "VLG",
          "name": "Vueling"
         },
         "arrival": {
          "baggageBelt": "C2",
          "gate": "Z36",
          "quality": [
           "Basic",
           "Live"
          ],
          "revisedTime": {
           "local": "2024-05-08 13:52+02:00",
           "utc": "2024-05-08 11:52Z"
          },
          "runwayTime": {
           "local": "2024-05-08 13:52+02:00",
           "utc": "2024-05-08 11:52Z"
          },
          "scheduledTime": {
           "local": "2024-05-08 14:15+02:00",
           "utc": "2024-05-08 12:15Z"
          },
          "terminal": "2"
         },
         "callSign": "VLG15YZ",
         "codeshareStatus": "IsOperator",
         "departure": {
          "airport": {
           "iata": "BCN",
           "icao": "LEBL",
           "name": "Barcelona"
          },
          "checkInDesk": "501-514",
          "gate": "B39",
          "quality": [
           "Basic",
           "Live"
          ],
          "revisedTime": {
           "local": "2024-05-08 11:23+02:00",
           "utc": "2024-05-08 09:23Z"
          },
          "runwayTime": {
           "local": "2024-05-08 11:38+02:00",
           "utc": "2024-05-08 09:38Z"
          },
          "scheduledTime": {
           "local": "2024-05-08 11:25+02:00",
           "utc": "2024-05-08 09:25Z"
          },
          "terminal": "1"
         },
         "isCargo": false,
         "number": "VY 1886",
         "status": "Arrived"
        },
        {
         "aircraft": {
          "modeS": "440190",
          "model": "Embraer 135",
          "reg": "OE-IRK"
         },
         "airline": {
          "name": "AOJ"
         },
         "arrival": {
          "quality": [
           "Basic",
           "Live"
          ],
          "revisedTime": {
           "local": "2024-05-08 15:55+02:00",
           "utc": "2024-05-08 13:55Z"
          },
          "scheduledTime": {
           "local": "2024-05-08 15:55+02:00",
           "utc": "2024-05-08 13:55Z"
          }
         },
         "callSign": "AOJ81R",
         "codeshareStatus": "IsOperator",
         "departure": {
          "airport": {
           "iata": "NCE",
           "icao": "LFMN",
           "name": "Nice"
          },
          "quality": [
           "Basic",
           "Live"
          ],
          "revisedTime": {
           "local": "2024-05-08 14:20+02:00",
           "utc": "2024-05-08 12:20Z"
          },
          "runwayTime": {
           "local": "2024-05-08 14:20+02:00",
           "utc": "2024-05-08 12:20Z"
          },
          "scheduledTime": {
           "local": "2024-05-08 14:20+02:00",
           "utc": "2024-05-08 12:20Z"
          }
         },
         "isCargo": false,
         "number": "AOJ 81R",
         "status": "Approaching"
        },
        {
         "aircraft": {
          "modeS": "3C45C4",
          "model": "Dassault Falcon 8X",
          "reg": "D-AAND"
         },
         "airline": {
          "name": "AYJ"
         },
         "arrival": {
          "quality": [
           "Basic",
           "Live"
          ],
          "revisedTime": {
           "local": "2024-05-08 15:50+02:00",
           "utc": "2024-05-08 13:50Z"
          },
          "runwayTime": {
           "local": "2024-05-08 15:50+02:00",
           "utc": "2024-05-08 13:50Z"
          },
          "scheduledTime": {
           "local": "2024-05-08 15:50+02:00",
           "utc": "2024-05-08 13:50Z"
          }
         },
         "callSign": "AYJ193",
         "codeshareStatus": "IsOperator",
         "departure": {
          "airport": {
           "name": "Unknown"
          },
          "quality": []
         },
         "isCargo": false,
         "number": "AYJ 193",
         "status": "Arrived"
        },
        {
         "aircraft": {
          "modeS": "502D29",
          "model": "Airbus A220-300",
          "reg": "YL-AAY"
         },
         "airline": {
          "iata": "BT",
          "icao": "BTI",
          "name": "airBaltic"
         },
         "arrival": {
          "baggageBelt": "A4",
          "gate": "A33",
          "quality": [
           "Basic",
           "Live"
          ],
          "revisedTime": {
           "local": "2024-05-08 15:09+02:00",
           "utc": "2024-05-08 13:09Z"
          },
          "runwayTime": {
           "local": "2024-05-08 15:09+02:00",
           "utc": "2024-05-08 13:09Z"
          },
          "scheduledTime": {
           "local": "2024-05-08 15:00+02:00",
           "utc": "2024-05-08 13:00Z"
          },
          "terminal": "1"
         },
         "callSign": "BTI3BP",
         "codeshareStatus": "IsOperator",
         "departure": {
          "airport": {
           "iata": "TLL",
           "icao": "EETN",
           "name": "Tallinn"
          },
          "quality": [
           "Basic",
           "Live"
          ],
          "revisedTime": {
           "local": "2024-05-08 14:30+03:00",
           "utc": "2024-05-08 11:30Z"
          },
          "runwayTime": {
           "local": "2024-05-08 14:30+03:00",
           "utc": "2024-05-08 11:30Z"
          },
          "scheduledTime": {
           "local": "2024-05-08 14:10+03:00",
           "utc": "2024-05-08 11:10Z"
          }
         },
         "isCargo": false,
         "number": "BT 821",
         "status": "Arrived"
        },
        {
         "aircraft": {
          "modeS": "4D2413",
          "model": "Airbus A320",
          "reg": "9H-EWA"
         },
         "airline": {
          "iata": "EW",
          "icao": "EWG",
          "name": "Eurowings"
         },
         "arrival": {
          "baggageBelt": "A2",
          "gate": "A36",
          "quality": [
           "Basic",
           "Live"
          ],
          "revisedTime": {
           "local": "2024-05-08 15:31+02:00",
           "utc": "2024-05-08 13:31Z"
          },
          "scheduledTime": {
           "local": "2024-05-08 15:40+02:00",
           "utc": "2024-05-08 13:40Z"
          },
          "terminal": "1"
         },
         "callSign": "EWG12A",
         "codeshareStatus": "IsOperator",
         "departure": {
          "airport": {
           "iata": "ARN",
           "icao": "ESSA",
           "name": "Stockholm"
          },
          "checkInDesk": "22-24",
          "gate": "C41",
          "quality": [
           "Basic",
           "Live"
          ],
          "revisedTime": {
           "local": "2024-05-08 14:07+02:00",
           "utc": "2024-05-08 12:07Z"
          },
          "runwayTime": {
           "local": "2024-05-08 14:18+02:00",
           "utc": "2024-05-08 12:18Z"
          },
          "scheduledTime": {
           "local": "2024-05-08 14:05+02:00",
           "utc": "2024-05-08 12:05Z"
          },
          "terminal": "5"
         },
         "isCargo": false,
         "number": "EW 4608",
         "status": "Arrived"
        },
        {
         "aircraft": {
          "modeS": "452142",
          "model": "Airbus A220-300",
          "reg": "LZ-AMS"
         },
         "airline": {
          "iata": "FB",
          "icao": "LZB",
          "name": "Bulgaria Air"
         },
         "arrival": {
          "baggageBelt": "B4",
          "gate": "B06",
          "quality": [
           "Basic",
           "Live"
          ],
          "revisedTime": {
           "local": "2024-05-08 16:02+02:00",
           "utc": "2024-05-08 14:02Z"
          },
          "scheduledTime": {
           "local": "2024-05-08 15:55+02:00",
           "utc": "2024-05-08 13:55Z"
          },
          "terminal": "1"
         },
         "callSign": "LZB319",
         "codeshareStatus": "IsOperator",
         "departure": {
          "airport": {
           "iata": "SOF",
           "icao": "LBSF",
           "name": "Sofia"
          },
          "quality": [
           "Basic",
           "Live"
          ],
          "revisedTime": {
           "local": "2024-05-08 15:13+03:00",
           "utc": "2024-05-08 12:13Z"
          },
          "runwayTime": {
           "local": "2024-05-08 15:13+03:00",
           "utc": "2024-05-08 12:13Z"
          },
          "scheduledTime": {
           "local": "2024-05-08 14:45+03:00",
           "utc": "2024-05-08 11:45Z"
          },
          "terminal": "2"
         },
         "isCargo": false,
         "number": "FB 319",
         "status": "Arrived"
        },
        {
         "aircraft": {
          "modeS": "4D24EB",
          "model": "Boeing 737 MAX 8",
          "reg": "9H-VVM"
         },
         "airline": {
          "iata": "FR",
          "icao": "RYR",
          "name": "Ryanair"
         },
         "arrival": {
          "baggageBelt": "C3",
          "gate": "Z30",
          "quality": [
           "Basic",
           "Live"
          ],
          "revisedTime": {
           "local": "2024-05-08 15:57+02:00",
           "utc": "2024-05-08 13:57Z"
          },
          "scheduledTime": {
           "local": "2024-05-08 15:25+02:00",
           "utc": "2024-05-08 13:25Z"
          },
          "terminal": "2"
         },
         "callSign": "RYR8JN",
         "codeshareStatus": "IsOperator",
         "departure": {
          "airport": {
           "iata": "BLQ",
           "icao": "LIPE",
           "name": "Bologna"
          },
          "quality": [
           "Basic",
           "Live"
          ],
          "revisedTime": {
           "local": "2024-05-08 14:41+02:00",
           "utc": "2024-05-08 12:41Z"
          },
          "runwayTime": {
           "local": "2024-05-08 14:41+02:00",
           "utc": "2024-05-08 12:41Z"
          },
          "scheduledTime": {
           "local": "2024-05-08 13:40+02:00",
           "utc": "2024-05-08 11:40Z"
          }
         },
         "isCargo": false,
         "number": "FR 137",
         "status": "Arrived"
        },
        {
         "aircraft": {
          "modeS": "48C239",
          "model": "Boeing 737-800",
          "reg": "SP-RSQ"
         },
         "airline": {
          "iata": "FR",
          "icao": "RYR",
          "name": "Ryanair"
         },
         "arrival": {
          "baggageBelt": "C2",
          "gate": "Z36",
          "quality": [
           "Basic",
           "Live"
          ],
          "revisedTime": {
           "local": "2024-05-08 15:35+02:00",
           "utc": "2024-05-08 13:35Z"
          },
          "scheduledTime": {
           "local": "2024-05-08 15:45+02:00",
           "utc": "2024-05-08 13:45Z"
          },
          "terminal": "2"
         },
         "codeshareStatus": "IsOperator",
         "departure": {
          "airport": {
           "iata": "VNO",
           "icao": "EYVI",
           "name": "Vilnius"
          },
          "quality": [
           "Basic"
          ],
          "scheduledTime": {
           "local": "2024-05-08 15:05+03:00",
           "utc": "2024-05-08 12:05Z"
          }
         },
         "isCargo": false,
         "number": "FR 1571",
         "status": "Arrived"
        },
        {
         "aircraft": {
          "modeS": "4D2384",
          "model": "Boeing 737-800",
          "reg": "9H-VUW"
         },
         "airline": {
          "iata": "FR",
          "icao": "RYR",
          "name": "Ryanair"
         },
         "arrival": {
          "baggageBelt": "C1",
          "gate": "Z34",
          "quality": [
           "Basic",
           "Live"
          ],
          "revisedTime": {
           "local": "2024-05-08 15:46+02:00",
           "utc": "2024-05-08 13:46Z"
          },
          "runwayTime": {
           "local": "2024-05-08 15:46+02:00",
           "utc": "2024-05-08 13:46Z"
          },
          "scheduledTime": {
           "local": "2024-05-08 15:35+02:00",
           "utc": "2024-05-08 13:35Z"
          },
          "terminal": "2"
         },
         "callSign": "RYR4HC",
         "codeshareStatus": "IsOperator",
         "departure": {
          "airport": {
           "iata": "BGY",
           "icao": "LIME",
           "name": "Bergamo"
          },
          "quality": [
           "Basic",
           "Live"
          ],
          "revisedTime": {
           "local": "2024-05-08 14:30+02:00",
           "utc": "2024-05-08 12:30Z"
          },
          "runwayTime": {
           "local": "2024-05-08 14:30+02:00",
           "utc": "2024-05-08 12:30Z"
          },
          "scheduledTime": {
           "local": "2024-05-08 13:55+02:00",
           "utc": "2024-05-08 11:55Z"
          }
         },
         "isCargo": false,
         "number": "FR 3391",
         "status": "Arrived"
        },
        {
         "aircraft": {
          "model": "Airbus A320 NEO"
         },
         "airline": {
          "iata": "LH",
          "icao": "DLH",
          "name": "Lufthansa"
         },
         "arrival": {
          "quality": [
           "Basic",
           "Live"
          ],
          "revisedTime": {
           "local": "2024-05-08 15:55+02:00",
           "utc": "2024-05-08 13:55Z"
          },
          "scheduledTime": {
           "local": "2024-05-08 15:55+02:00",
           "utc": "2024-05-08 13:55Z"
          },
          "terminal": "1"
         },
         "codeshareStatus": "IsOperator",
         "departure": {
          "airport": {
           "iata": "FRA",
           "icao": "EDDF",
           "name": "Frankfurt-am-Main"
          },
          "quality": []
         },
         "isCargo": false,
         "number": "LH 188",
         "status": "Canceled"
        },
        {
         "aircraft": {
          "modeS": "3C666A",
          "model": "Airbus A321-200",
          "reg": "D-AISJ"
         },
         "airline": {
          "iata": "LH",
          "icao": "DLH",
          "name": "Lufthansa"
         },
         "arrival": {
          "baggageBelt": "B4",
          "gate": "B17",
          "quality": [
           "Basic",
           "Live"
          ],
          "revisedTime": {
           "local": "2024-05-08 15:05+02:00",
           "utc": "2024-05-08 13:05Z"
          },
          "scheduledTime": {
           "local": "2024-05-08 15:05+02:00",
           "utc": "2024-05-08 13:05Z"
          },
          "terminal": "1"
         },
         "callSign": "DLH8UJ",
         "codeshareStatus": "IsOperator",
         "departure": {
          "airport": {
           "iata": "MUC",
           "icao": "EDDM",
           "name": "Munich"
          },
          "quality": [
           "Basic",
           "Live"
          ],
          "revisedTime": {
           "local": "2024-05-08 14:00+02:00",
           "utc": "2024-05-08 12:00Z"
          },
          "runwayTime": {
           "local": "2024-05-08 13:49+02:00",
           "utc": "2024-05-08 11:49Z"
          },
          "scheduledTime": {
           "local": "2024-05-08 14:00+02:00",
           "utc": "2024-05-08 12:00Z"
          },
          "terminal": "2"
         },
         "isCargo": false,
         "number": "LH 1942",
         "status": "Canceled"
        },
        {
         "aircraft": {
          "modeS": "4D2413",
          "model": "Airbus A320",
          "reg": "9H-EWA"
         },
         "airline": {
          "iata": "LH",
          "icao": "DLH",
          "name": "Lufthansa"
         },
         "arrival": {
          "baggageBelt": "A2",
          "gate": "A36",
          "quality": [
           "Basic",
           "Live"
          ],
          "revisedTime": {
           "local": "2024-05-08 15:31+02:00",
           "utc": "2024-05-08 13:31Z"
          },
          "scheduledTime": {
           "local": "2024-05-08 15:40+02:00",
           "utc": "2024-05-08 13:40Z"
          },
          "terminal": "1"
         },
         "codeshareStatus": "IsCodeshared",
         "departure": {
          "airport": {
           "iata": "ARN",
           "icao": "ESSA",
           "name": "Stockholm"
          },
          "quality": []
         },
         "isCargo": false,
         "number": "LH 5343",
         "status": "Arrived"
        },
        {
         "aircraft": {
          "modeS": "502D0E",
          "model": "Airbus A220-300",
          "reg": "YL-AAR"
         },
         "airline": {
          "iata": "LX",
          "icao": "SWR",
          "name": "SWISS"
         },
         "arrival": {
          "baggageBelt": "B3",
          "gate": "B02",
          "quality": [
           "Basic",
           "Live"
          ],
          "revisedTime": {
           "local": "2024-05-08 14:55+02:00",
           "utc": "2024-05-08 12:55Z"
          },
          "scheduledTime": {
           "local": "2024-05-08 15:00+02:00",
           "utc": "2024-05-08 13:00Z"
          },
          "terminal": "1"
         },
         "callSign": "SWR968",
         "codeshareStatus": "IsOperator",
         "departure": {
          "airport": {
           "iata": "ZRH",
           "icao": "LSZH",
           "name": "Zurich"
          },
          "checkInDesk": "1",
          "gate": "A64",
          "quality": [
           "Basic",
           "Live"
          ],
          "revisedTime": {
           "local": "2024-05-08 13:35+02:00",
           "utc": "2024-05-08 11:35Z"
          },
          "runwayTime": {
           "local": "2024-05-08 13:55+02:00",
           "utc": "2024-05-08 11:55Z"
          },
          "scheduledTime": {
           "local": "2024-05-08 13:35+02:00",
           "utc": "2024-05-08 11:35Z"
          }
         },
         "isCargo": false,
         "number": "LX 968",
         "status": "Arrived"
        },
        {
         "aircraft": {
          "modeS": "494112",
          "model": "Embraer Phenom 300",
          "reg": "CS-PHR"
         },
         "airline": {
          "name": "NJE"
         },
         "arrival": {
          "quality": [
           "Basic",
           "Live"
          ],
          "revisedTime": {
           "local": "2024-05-08 15:52+02:00",
           "utc": "2024-05-08 13:52Z"
          },
          "runwayTime": {
           "local": "2024-05-08 15:52+02:00",
           "utc": "2024-05-08 13:52Z"
          },
          "scheduledTime": {
           "local": "2024-05-08 15:52+02:00",
           "utc": "2024-05-08 13:52Z"
          }
         },
         "callSign": "NJE018R",
         "codeshareStatus": "IsOperator",
         "departure": {
          "airport": {
           "name": "Unknown"
          },
          "quality": []
         },
         "isCargo": false,
         "number": "NJE 18R",
         "status": "Arrived"
        },
        {
         "aircraft": {
          "modeS": "4BC882",
          "model": "Airbus A321 NEO",
          "reg": "TC-RDB"
         },
         "airline": {
          "iata": "PC",
          "icao": "PGT",
          "name": "Pegasus"
         },
         "arrival": {
          "baggageBelt": "A3",
          "gate": "X01",
          "quality": [
           "Basic",
           "Live"
          ],
          "revisedTime": {
           "local": "2024-05-08 15:07+02:00",
           "utc": "2024-05-08 13:07Z"
          },
          "runwayTime": {
           "local": "2024-05-08 15:07+02:00",
           "utc": "2024-05-08 13:07Z"
          },
          "scheduledTime": {
           "local": "2024-05-08 15:25+02:00",
           "utc": "2024-05-08 13:25Z"
          },
          "terminal": "1"
         },
         "callSign": "PGT977",
         "codeshareStatus": "IsOperator",
         "departure": {
          "airport": {
           "iata": "SAW",
           "icao": "LTFJ",
           "name": "Istanbul"
          },
          "quality": [
           "Basic"
          ],
          "scheduledTime": {
           "local": "2024-05-08 13:30+03:00",
           "utc": "2024-05-08 10:30Z"
          }
         },
         "isCargo": false,
         "number": "PC 977",
         "status": "Arrived"
        },
        {
         "aircraft": {
          "modeS": "502D29",
          "model": "Airbus A220-300",
          "reg": "YL-AAY"
         },
         "airline": {
          "iata": "TP",
          "icao": "TAP",
          "name": "TAP Air Portugal"
         },
         "arrival": {
          "baggageBelt": "A4",
          "gate": "A33",
          "quality": [
           "Basic",
           "Live"
          ],
          "revisedTime": {
           "local": "2024-05-08 15:09+02:00",
           "utc": "2024-05-08 13:09Z"
          },
          "scheduledTime": {
           "local": "2024-05-08 15:00+02:00",
           "utc": "2024-05-08 13:00Z"
          },
          "terminal": "1"
         },
         "codeshareStatus": "IsCodeshared",
         "departure": {
          "airport": {
           "iata": "TLL",
           "icao": "EETN",
           "name": "Tallinn"
          },
          "quality": []
         },
         "isCargo": false,
         "number": "TP 6442",
         "status": "Arrived"
        },
        {
         "aircraft": {
          "modeS": "3C48EE",
          "model": "Airbus A319",
          "reg": "D-ABGN"
         },
         "airline": {
          "iata": "4U",
          "icao": "GWI",
          "name": "Germanwings"
         },
         "arrival": {
          "quality": [
           "Basic",
           "Live"
          ],
          "revisedTime": {
           "local": "2024-05-08 16:29+02:00",
           "utc": "2024-05-08 14:29Z"
          },
          "runwayTime": {
           "local": "2024-05-08 16:29+02:00",
           "utc": "2024-05-08 14:29Z"
          },
          "scheduledTime": {
           "local": "2024-05-08 16:29+02:00",
           "utc": "2024-05-08 14:29Z"
          }
         },
         "callSign": "GWI006",
         "codeshareStatus": "IsOperator",
         "departure": {
          "airport": {
           "iata": "CGN",
           "icao": "EDDK",
           "name": "Cologne"
          },
          "quality": []
         },
         "isCargo": false,
         "number": "4U 6",
         "status": "Arrived"
        },
        {
         "aircraft": {
          "modeS": "406B6C",
          "model": "Embraer 190",
          "reg": "G-LCYS"
         },
         "airline": {
          "iata": "BA",
          "icao": "BAW",
          "name": "British Airways"
         },
         "arrival": {
          "baggageBelt": "A1",
          "gate": "X02",
          "quality": [
           "Basic",
           "Live"
          ],
          "revisedTime": {
           "local": "2024-05-08 16:16+02:00",
           "utc": "2024-05-08 14:16Z"
          },
          "scheduledTime": {
           "local": "2024-05-08 16:05+02:00",
           "utc": "2024-05-08 14:05Z"
          },
          "terminal": "1"
         },
         "callSign": "CFE93AU",
         "codeshareStatus": "IsOperator",
         "departure": {
          "airport": {
           "iata": "LCY",
           "icao": "EGLC",
           "name": "London"
          },
          "gate": "5",
          "quality": [
           "Basic",
           "Live"
          ],
          "revisedTime": {
           "local": "2024-05-08 13:48+01:00",
           "utc": "2024-05-08 12:48Z"
          },
          "runway": "09",
          "runwayTime": {
           "local": "2024-05-08 13:54+01:00",
           "utc": "2024-05-08 12:54Z"
          },
          "scheduledTime": {
           "local": "2024-05-08 13:25+01:00",
           "utc": "2024-05-08 12:25Z"
          }
         },
         "isCargo": false,
         "number": "BA 8493",
         "status": "Arrived"
        },
        {
         "aircraft": {
          "modeS": "407537",
          "model": "Airbus A320 (Sharklets)",
          "reg": "G-TTNG"
         },
         "airline": {
          "iata": "BA",
          "icao": "BAW",
          "name": "British Airways"
         },
         "arrival": {
          "baggageBelt": "A4",
          "gate": "X03",
          "quality": [
           "Basic",
           "Live"
          ],
          "revisedTime": {
           "local": "2024-05-08 16:26+02:00",
           "utc": "2024-05-08 14:26Z"
          },
          "scheduledTime": {
           "local": "2024-05-08 16:25+02:00",
           "utc": "2024-05-08 14:25Z"
          },
          "terminal": "1"
         },
         "codeshareStatus": "IsOperator",
         "departure": {
          "airport": {
           "iata": "LHR",
           "icao": "EGLL",
           "name": "London"
          },
          "checkInDesk": "C",
          "quality": [
           "Basic",
           "Live"
          ],
          "revisedTime": {
           "local": "2024-05-08 14:03+01:00",
           "utc": "2024-05-08 13:03Z"
          },
          "scheduledTime": {
           "local": "2024-05-08 13:30+01:00",
           "utc": "2024-05-08 12:30Z"
          },
          "terminal": "5"
         },
         "isCargo": false,
         "number": "BA 984",
         "status": "Arrived"
        },
        {
         "aircraft": {
          "modeS": "4ACB02",
          "model": "Boeing 737-800",
          "reg": "SE-RXB"
         },
         "airline": {
          "iata": "D8",
          "icao": "NSZ",
          "name": "Norwegian Air Sweden"
         },
         "arrival": {
          "baggageBelt": "C2",
          "gate": "Z34",
          "quality": [
           "Basic",
           "Live"
          ],
          "revisedTime": {
           "local": "2024-05-08 16:41+02:00",
           "utc": "2024-05-08 14:41Z"
          },
          "scheduledTime": {
           "local": "2024-05-08 16:45+02:00",
           "utc": "2024-05-08 14:45Z"
          },
          "terminal": "2"
         },
         "callSign": "NSZ3302",
         "codeshareStatus": "IsOperator",
         "departure": {
          "airport": {
           "iata": "CPH",
           "icao": "EKCH",
           "name": "Copenhagen"
          },
          "gate": "A22",
          "quality": [
           "Basic",
           "Live"
          ],
          "revisedTime": {
           "local": "2024-05-08 15:45+02:00",
           "utc": "2024-05-08 13:45Z"
          },
          "runwayTime": {
           "local": "2024-05-08 16:04+02:00",
           "utc": "2024-05-08 14:04Z"
          },
          "scheduledTime": {
           "local": "2024-05-08 15:45+02:00",
           "utc": "2024-05-08 13:45Z"
          },
          "terminal": "erminal2"
         },
         "isCargo": false,
         "number": "D8 3302",
         "status": "Arrived"
        },
        {
         "aircraft": {
          "modeS": "3C5EF6",
          "model": "Airbus A319",
          "reg": "D-AGWV"
         },
         "airline": {
          "iata": "EW",
          "icao": "EWG",
          "name": "Eurowings"
         },
         "arrival": {
          "baggageBelt": "B1",
          "gate": "B07",
          "quality": [
           "Basic",
           "Live"
          ],
          "revisedTime": {
           "local": "2024-05-08 16:23+02:00",
           "utc": "2024-05-08 14:23Z"
          },
          "scheduledTime": {
           "local": "2024-05-08 16:35+02:00",
           "utc": "2024-05-08 14:35Z"
          },
          "terminal": "1"
         },
         "codeshareStatus": "IsOperator",
         "departure": {
          "airport": {
           "iata": "STR",
           "icao": "EDDS",
           "name": "Stuttgart"
          },
          "gate": "114",
          "quality": [
           "Basic",
           "Live"
          ],
          "revisedTime": {
           "local": "2024-05-08 15:25+02:00",
           "utc": "2024-05-08 13:25Z"
          },
          "scheduledTime": {
           "local": "2024-05-08 15:25+02:00",
           "utc": "2024-05-08 13:25Z"
          },
          "terminal": "3"
         },
         "isCargo": false,
         "number": "EW 2004",
         "status": "Arrived"
        },
        {
         "aircraft": {
          "modeS": "3C48EE",
          "model": "Airbus A319",
          "reg": "D-ABGN"
         },
         "airline": {
          "iata": "EW",
          "icao": "EWG",
          "name": "Eurowings"
         },
         "arrival": {
          "baggageBelt": "A4",
          "gate": "A06",
          "quality": [
           "Basic",
           "Live"
          ],
          "revisedTime": {
           "local": "2024-05-08 16:29+02:00",
           "utc": "2024-05-08 14:29Z"
          },
          "scheduledTime": {
           "local": "2024-05-08 16:40+02:00",
           "utc": "2024-05-08 14:40Z"
          },
          "terminal": "1"
         },
         "codeshareStatus": "IsOperator",
         "departure": {
          "airport": {
           "iata": "CGN",
           "icao": "EDDK",
           "name": "Cologne"
          },
          "quality": [
           "Basic"
          ],
          "scheduledTime": {
           "local": "2024-05-08 15:30+02:00",
           "utc": "2024-05-08 13:30Z"
          },
          "terminal": "1"
         },
         "isCargo": false,
         "number": "EW 6",
         "status": "Arrived"
        },
        {
         "aircraft": {
          "modeS": "3C5EEF",
          "model": "Airbus A319",
          "reg": "D-AGWO"
         },
         "airline": {
          "iata": "EW",
          "icao": "EWG",
          "name": "Eurowings"
         },
         "arrival": {
          "baggageBelt": "B1",
          "gate": "B20",
          "quality": [
           "Basic",
           "Live"
          ],
          "revisedTime": {
           "local": "2024-05-08 16:00+02:00",
           "utc": "2024-05-08 14:00Z"
          },
          "scheduledTime": {
           "local": "2024-05-08 16:10+02:00",
           "utc": "2024-05-08 14:10Z"
          },
          "terminal": "1"
         },
         "callSign": "GWI4ZU",
         "codeshareStatus": "IsOperator",
         "departure": {
          "airport": {
           "iata": "DUS",
           "icao": "EDDL",
           "name": "Duesseldorf"
          },
          "checkInDesk": "161,170",
          "gate": "A25",
          "quality": [
           "Basic",
           "Live"
          ],
          "revisedTime": {
           "local": "2024-05-08 14:57+02:00",
           "utc": "2024-05-08 12:57Z"
          },
          "runwayTime": {
           "local": "2024-05-08 15:07+02:00",
           "utc": "2024-05-08 13:07Z"
          },
          "scheduledTime": {
           "local": "2024-05-08 15:00+02:00",
           "utc": "2024-05-08 13:00Z"
          },
          "terminal": "B"
         },
         "isCargo": false,
         "number": "EW 9042",
         "status": "Arrived"
        },
        {
         "aircraft": {
          "modeS": "4D21EB",
          "model": "Boeing 737-800",
          "reg": "9H-QAC"
         },
         "airline": {
          "iata": "FR",
          "icao": "RYR",
          "name": "Ryanair"
         },
         "arrival": {
          "baggageBelt": "C1",
          "gate": "Z33",
          "quality": [
           "Basic",
           "Live"
          ],
          "revisedTime": {
           "local": "2024-05-08 17:43+02:00",
           "utc": "2024-05-08 15:43Z"
          },
          "runwayTime": {
           "local": "2024-05-08 17:43+02:00",
           "utc": "2024-05-08 15:43Z"
          },
          "scheduledTime": {
           "local": "2024-05-08 16:55+02:00",
           "utc": "2024-05-08 14:55Z"
          },
          "terminal": "2"
         },
         "callSign": "RYR1CU",
         "codeshareStatus": "IsOperator",
         "departure": {
          "airport": {
           "iata": "ATH",
           "icao": "LGAV",
           "name": "Athens"
          },
          "checkInDesk": "78---81",
          "gate": "C15",
          "quality": [
           "Basic",
           "Live"
          ],
          "revisedTime": {
           "local": "2024-05-08 16:10+03:00",
           "utc": "2024-05-08 13:10Z"
          },
          "runwayTime": {
           "local": "2024-05-08 16:10+03:00",
           "utc": "2024-05-08 13:10Z"
          },
          "scheduledTime": {
           "local": "2024-05-08 15:00+03:00",
           "utc": "2024-05-08 12:00Z"
          },
          "terminal": "D"
         },
         "isCargo": false,
         "number": "FR 171",
         "status": "Arrived"
        },
        {
         "aircraft": {
          "modeS": "4D24EA",
          "model": "Boeing 737 MAX 8",
          "reg": "9H-VVL"
         },
         "airline": {
          "iata": "FR",
          "icao": "RYR",
          "name": "Ryanair"
         },
         "arrival": {
          "baggageBelt": "C3",
          "gate": "Z36",
          "quality": [
           "Basic",
           "Live"
          ],
          "revisedTime": {
           "local": "2024-05-08 17:16+02:00",
           "utc": "2024-05-08 15:16Z"
          },
          "scheduledTime": {
           "local": "2024-05-08 16:40+02:00",
           "utc": "2024-05-08 14:40Z"
          },
          "terminal": "2"
         },
         "callSign": "RYR6TB",
         "codeshareStatus": "IsOperator",
         "departure": {
          "airport": {
           "iata": "PMO",
           "icao": "LICJ",
           "name": "Palermo"
          },
          "quality": [
           "Basic"
          ],
          "scheduledTime": {
           "local": "2024-05-08 14:10+02:00",
           "utc": "2024-05-08 12:10Z"
          }
         },
         "isCargo": false,
         "number": "FR 3361",
         "status": "Arrived"
        },
        {
         "aircraft": {
          "modeS": "484133",
          "model": "Boeing 737-800 (winglets)",
          "reg": "PH-BXD"
         },
         "airline": {
          "iata": "KL",
          "icao": "KLM",
          "name": "KLM"
         },
         "arrival": {
          "baggageBelt": "A2",
          "gate": "A17",
          "quality": [
           "Basic",
           "Live"
          ],
          "revisedTime": {
           "local": "2024-05-08 16:32+02:00",
           "utc": "2024-05-08 14:32Z"
          },
          "runwayTime": {
           "local": "2024-05-08 16:32+02:00",
           "utc": "2024-05-08 14:32Z"
          },
          "scheduledTime": {
           "local": "2024-05-08 16:40+02:00",
           "utc": "2024-05-08 14:40Z"
          },
          "terminal": "1"
         },
         "callSign": "KLM1779",
         "codeshareStatus": "IsOperator",
         "departure": {
          "airport": {
           "iata": "AMS",
           "icao": "EHAM",
           "name": "Amsterdam"
          },
          "checkInDesk": "6-8",
          "gate": "D59",
          "quality": [
           "Basic",
           "Live"
          ],
          "revisedTime": {
           "local": "2024-05-08 15:21+02:00",
           "utc": "2024-05-08 13:21Z"
          },
          "scheduledTime": {
           "local": "2024-05-08 15:20+02:00",
           "utc": "2024-05-08 13:20Z"
          },
          "terminal": "1"
         },
         "isCargo": false,
         "number": "KL 1779",
         "status": "Arrived"
        },
        {
         "aircraft": {
          "modeS": "3C6674",
          "model": "Airbus A321",
          "reg": "D-AIST"
         },
         "airline": {
          "iata": "LH",
          "icao": "DLH",
          "name": "Lufthansa"
         },
         "arrival": {
          "baggageBelt": "B1",
          "gate": "A01",
          "quality": [
           "Basic",
           "Live"
          ],
          "revisedTime": {
           "local": "2024-05-08 17:28+02:00",
           "utc": "2024-05-08 15:28Z"
          },
          "scheduledTime": {
           "local": "2024-05-08 16:55+02:00",
           "utc": "2024-05-08 14:55Z"
          },
          "terminal": "1"
         },
         "codeshareStatus": "IsOperator",
         "departure": {
          "airport": {
           "iata": "FRA",
           "icao": "EDDF",
           "name": "Frankfurt-am-Main"
          },
          "checkInDesk": "259-335",
          "gate": "A54",
          "quality": [
           "Basic",
           "Live"
          ],
          "revisedTime": {
           "local": "2024-05-08 16:25+02:00",
           "utc": "2024-05-08 14:25Z"
          },
          "scheduledTime": {
           "local": "2024-05-08 15:45+02:00",
           "utc": "2024-05-08 13:45Z"
          },
          "terminal": "1"
         },
         "isCargo": false,
         "number": "LH 190",
         "status": "Arrived"
        },
        {
         "aircraft": {
          "modeS": "3C4DC8",
          "model": "Canadair CRJ 900NG",
          "reg": "D-ACNH"
         },
         "airline": {
          "iata": "LH",
          "icao": "DLH",
          "name": "Lufthansa"
         },
         "arrival": {
          "baggageBelt": "B3",
          "gate": "S01",
          "quality": [
           "Basic",
           "Live"
          ],
          "revisedTime": {
           "local": "2024-05-08 17:03+02:00",
           "utc": "2024-05-08 15:03Z"
          },
          "scheduledTime": {
           "local": "2024-05-08 16:05+02:00",
           "utc": "2024-05-08 14:05Z"
          },
          "terminal": "1"
         },
         "callSign": "DLH6T",
         "codeshareStatus": "IsOperator",
         "departure": {
          "airport": {
           "iata": "MUC",
           "icao": "EDDM",
           "name": "Munich"
          },
          "quality": [
           "Basic",
           "Live"
          ],
          "revisedTime": {
           "local": "2024-05-08 16:05+02:00",
           "utc": "2024-05-08 14:05Z"
          },
          "runwayTime": {
           "local": "2024-05-08 16:17+02:00",
           "utc": "2024-05-08 14:17Z"
          },
          "scheduledTime": {
           "local": "2024-05-08 15:00+02:00",
           "utc": "2024-05-08 13:00Z"
          },
          "terminal": "2"
         },
         "isCargo": false,
         "number": "LH 1944",
         "status": "Arrived"
        },
        {
         "aircraft": {
          "modeS": "3C5EF6",
          "model": "Airbus A319",
          "reg": "D-AGWV"
         },
         "airline": {
          "iata": "LH",
          "icao": "DLH",
          "name": "Lufthansa"
         },
         "arrival": {
          "baggageBelt": "B1",
          "gate": "B07",
          "quality": [
           "Basic",
           "Live"
          ],
          "revisedTime": {
           "local": "2024-05-08 16:23+02:00",
           "utc": "2024-05-08 14:23Z"
          },
          "scheduledTime": {
           "local": "2024-05-08 16:35+02:00",
           "utc": "2024-05-08 14:35Z"
          },
          "terminal": "1"
         },
         "codeshareStatus": "IsCodeshared",
         "departure": {
          "airport": {
           "iata": "STR",
           "icao": "EDDS",
           "name": "Stuttgart"
          },
          "quality": []
         },
         "isCargo": false,
         "number": "LH 5387",
         "status": "Arrived"
        },
        {
         "aircraft": {
          "modeS": "440604",
          "model": "Airbus A320 (Sharklets)",
          "reg": "OE-LZE"
         },
         "airline": {
          "iata": "OS",
          "icao": "AUA",
          "name": "Austrian"
         },
         "arrival": {
          "baggageBelt": "B3",
          "gate": "B02",
          "quality": [
           "Basic",
           "Live"
          ],
          "revisedTime": {
           "local": "2024-05-08 16:14+02:00",
           "utc": "2024-05-08 14:14Z"
          },
          "scheduledTime": {
           "local": "2024-05-08 16:10+02:00",
           "utc": "2024-05-08 14:10Z"
          },
          "terminal": "1"
         },
         "codeshareStatus": "IsOperator",
         "departure": {
          "airport": {
           "iata": "VIE",
           "icao": "LOWW",
           "name": "Vienna"
          },
          "checkInDesk": "351-372",
          "gate": "F16",
          "quality": [
           "Basic",
           "Live"
          ],
          "revisedTime": {
           "local": "2024-05-08 15:22+02:00",
           "utc": "2024-05-08 13:22Z"
          },
          "scheduledTime": {
           "local": "2024-05-08 15:00+02:00",
           "utc": "2024-05-08 13:00Z"
          },
          "terminal": "3"
         },
         "isCargo": false,
         "number": "OS 231",
         "status": "Arrived"
        },
        {
         "aircraft": {
          "modeS": "4952CA",
          "model": "Airbus A320 NEO",
          "reg": "CS-TVJ"
         },
         "airline": {
          "iata": "TP",
          "icao": "TAP",
          "name": "TAP Air Portugal"
         },
         "arrival": {
          "baggageBelt": "A2",
          "gate": "A37",
          "quality": [
           "Basic",
           "Live"
          ],
          "revisedTime": {
           "local": "2024-05-08 16:45+02:00",
           "utc": "2024-05-08 14:45Z"
          },
          "scheduledTime": {
           "local": "2024-05-08 16:30+02:00",
           "utc": "2024-05-08 14:30Z"
          },
          "terminal": "1"
         },
         "callSign": "TAP532P",
         "codeshareStatus": "IsOperator",
         "departure": {
          "airport": {
           "iata": "LIS",
           "icao": "LPPT",
           "name": "Lisbon"
          },
          "quality": [
           "Basic",
           "Live"
          ],
          "revisedTime": {
           "local": "2024-05-08 12:34+01:00",
           "utc": "2024-05-08 11:34Z"
          },
          "runwayTime": {
           "local": "2024-05-08 12:34+01:00",
           "utc": "2024-05-08 11:34Z"
          },
          "scheduledTime": {
           "local": "2024-05-08 12:05+01:00",
           "utc": "2024-05-08 11:05Z"
          },
          "terminal": "1"
         },
         "isCargo": false,
         "number": "TP 532",
         "status": "Arrived"
        },
        {
         "aircraft": {
          "modeS": "4BCDAC",
          "model": "Boeing 737 MAX 8",
          "reg": "TC-SML"
         },
         "airline": {
          "iata": "XQ",
          "icao": "SXS",
          "name": "Sun Express"
         },
         "arrival": {
          "baggageBelt": "A3",
          "gate": "X19",
          "quality": [
           "Basic",
           "Live"
          ],
          "revisedTime": {
           "local": "2024-05-08 16:36+02:00",
           "utc": "2024-05-08 14:36Z"
          },
          "runwayTime": {
           "local": "2024-05-08 16:36+02:00",
           "utc": "2024-05-08 14:36Z"
          },
          "scheduledTime": {
           "local": "2024-05-08 16:35+02:00",
           "utc": "2024-05-08 14:35Z"
          },
          "terminal": "1"
         },
         "callSign": "SXS1U",
         "codeshareStatus": "IsOperator",
         "departure": {
          "airport": {
           "iata": "AYT",
           "icao": "LTAI",
           "name": "Antalya"
          },
          "checkInDesk": "132-134",
          "quality": [
           "Basic",
           "Live"
          ],
          "revisedTime": {
           "local": "2024-05-08 14:00+03:00",
           "utc": "2024-05-08 11:00Z"
          },
          "scheduledTime": {
           "local": "2024-05-08 14:00+03:00",
           "utc": "2024-05-08 11:00Z"
          },
          "terminal": "1"
         },
         "isCargo": false,
         "number": "XQ 660",
         "status": "Arrived"
        },
        {
         "aircraft": {
          "modeS": "3C54A2",
          "model": "Airbus A321 NEO",
          "reg": "D-AEEB"
         },
         "airline": {
          "iata": "AC",
          "icao": "ACA",
          "name": "Air Canada"
         },
         "arrival": {
          "baggageBelt": "A4",
          "gate": "A35",
          "quality": [
           "Basic",
           "Live"
          ],
          "revisedTime": {
           "local": "2024-05-08 16:58+02:00",
           "utc": "2024-05-08 14:58Z"
          },
          "scheduledTime": {
           "local": "2024-05-08 17:15+02:00",
           "utc": "2024-05-08 15:15Z"
          },
          "terminal": "1"
         },
         "codeshareStatus": "IsCodeshared",
         "departure": {
          "airport": {
           "iata": "CPH",
           "icao": "EKCH",
           "name": "Copenhagen"
          },
          "quality": []
         },
         "isCargo": false,
         "number": "AC 6967",
         "status": "Arrived"
        },
        {
         "aircraft": {
          "modeS": "394C14",
          "model": "Airbus A321",
          "reg": "F-GTAU"
         },
         "airline": {
          "iata": "AF",
          "icao": "AFR",
          "name": "Air France"
         },
         "arrival": {
          "baggageBelt": "A3",
          "gate": "A07",
          "quality": [
           "Basic",
           "Live"
          ],
          "revisedTime": {
           "local": "2024-05-08 17:13+02:00",
           "utc": "2024-05-08 15:13Z"
          },
          "runwayTime": {
           "local": "2024-05-08 17:12+02:00",
           "utc": "2024-05-08 15:12Z"
          },
          "scheduledTime": {
           "local": "2024-05-08 17:05+02:00",
           "utc": "2024-05-08 15:05Z"
          },
          "terminal": "1"
         },
         "callSign": "AFR89CE",
         "codeshareStatus": "IsOperator",
         "departure": {
          "airport": {
           "iata": "CDG",
           "icao": "LFPG",
           "name": "Paris"
          },
          "quality": [
           "Basic"
          ],
          "scheduledTime": {
           "local": "2024-05-08 15:25+02:00",
           "utc": "2024-05-08 13:25Z"
          },
          "terminal": "2F"
         },
         "isCargo": false,
         "number": "AF 1834",
         "status": "Arrived"
        },
        {
         "aircraft": {
          "modeS": "461F6C",
          "model": "Airbus A320",
          "reg": "OH-LXK"
         },
         "airline": {
          "iata": "AY",
          "icao": "FIN",
          "name": "Finnair"
         },
         "arrival": {
          "baggageBelt": "B1",
          "gate": "A31",
          "quality": [
           "Basic",
           "Live"
          ],
          "revisedTime": {
           "local": "2024-05-08 17:18+02:00",
           "utc": "2024-05-08 15:18Z"
          },
          "scheduledTime": {
           "local": "2024-05-08 17:20+02:00",
           "utc": "2024-05-08 15:20Z"
          },
          "terminal": "1"
         },
         "callSign": "FIN4QA",
         "codeshareStatus": "IsOperator",
         "departure": {
          "airport": {
           "iata": "HEL",
           "icao": "EFHK",
           "name": "Helsinki"
          },
          "checkInDesk": "211",
          "gate": "34A",
          "quality": [
           "Basic",
           "Live"
          ],
          "revisedTime": {
           "local": "2024-05-08 16:28+03:00",
           "utc": "2024-05-08 13:28Z"
          },
          "runwayTime": {
           "local": "2024-05-08 16:37+03:00",
           "utc": "2024-05-08 13:37Z"
          },
          "scheduledTime": {
           "local": "2024-05-08 16:15+03:00",
           "utc": "2024-05-08 13:15Z"
          },
          "terminal": "2"
         },
         "isCargo": false,
         "number": "AY 1437",
         "status": "Arrived"
        },
        {
         "aircraft": {
          "modeS": "440DA5",
          "model": "Airbus A320",
          "reg": "OE-IDS"
         },
         "airline": {
          "iata": "EC",
          "icao": "EJU",
          "name": "EasyJet Europe"
         },
         "arrival": {
          "baggageBelt": "A1",
          "gate": "A22",
          "quality": [
           "Basic",
           "Live"
          ],
          "revisedTime": {
           "local": "2024-05-08 17:32+02:00",
           "utc": "2024-05-08 15:32Z"
          },
          "scheduledTime": {
           "local": "2024-05-08 17:20+02:00",
           "utc": "2024-05-08 15:20Z"
          },
          "terminal": "1"
         },
         "codeshareStatus": "IsCodeshared",
         "departure": {
          "airport": {
           "iata": "OLB",
           "icao": "LIEO",
           "name": "Olbia"
          },
          "quality": []
         },
         "isCargo": false,
         "number": "EC 5056",
         "status": "Arrived"
        },
        {
         "aircraft": {
          "modeS": "440062",
          "model": "Airbus A320",
          "reg": "OE-IVF"
         },
         "airline": {
          "iata": "EC",
          "icao": "EJU",
          "name": "EasyJet Europe"
         },
         "arrival": {
          "baggageBelt": "A1",
          "gate": "S02",
          "quality": [
           "Basic",
           "Live"
          ],
          "revisedTime": {
           "local": "2024-05-08 17:20+02:00",
           "utc": "2024-05-08 15:20Z"
          },
          "scheduledTime": {
           "local": "2024-05-08 17:15+02:00",
           "utc": "2024-05-08 15:15Z"
          },
          "terminal": "1"
         },
         "callSign": "EJU19XM",
         "codeshareStatus": "IsCodeshared",
         "departure": {
          "airport": {
           "iata": "ORY",
           "icao": "LFPO",
           "name": "Paris"
          },
          "quality": []
         },
         "isCargo": false,
         "number": "EC 5158",
         "status": "Arrived"
        },
        {
         "aircraft": {
          "modeS": "440179",
          "model": "Airbus A319",
          "reg": "OE-LQJ"
         },
         "airline": {
          "iata": "EC",
          "icao": "EJU",
          "name": "EasyJet Europe"
         },
         "arrival": {
          "baggageBelt": "A1",
          "gate": "A33",
          "quality": [
           "Basic",
           "Live"
          ],
          "revisedTime": {
           "local": "2024-05-08 17:15+02:00",
           "utc": "2024-05-08 15:15Z"
          },
          "scheduledTime": {
           "local": "2024-05-08 17:20+02:00",
           "utc": "2024-05-08 15:20Z"
          },
          "terminal": "1"
         },
         "callSign": "EJU53DL",
         "codeshareStatus": "IsCodeshared",
         "departure": {
          "airport": {
           "iata": "SPU",
           "icao": "LDSP",
           "name": "Split"
          },
          "quality": []
         },
         "isCargo": false,
         "number": "EC 5214",
         "status": "Arrived"
        },
        {
         "aircraft": {
          "modeS": "3CC09C",
          "model": "Embraer Pheom 300",
          "reg": "D-CAGA"
         },
         "airline": {
          "name": "PVD"
         },
         "arrival": {
          "quality": [
           "Basic",
           "Live"
          ],
          "revisedTime": {
           "local": "2024-05-08 16:34+02:00",
           "utc": "2024-05-08 14:34Z"
          },
          "runwayTime": {
           "local": "2024-05-08 16:34+02:00",
           "utc": "2024-05-08 14:34Z"
          },
          "scheduledTime": {
           "local": "2024-05-08 16:34+02:00",
           "utc": "2024-05-08 14:34Z"
          }
         },
         "callSign": "PVD79U",
         "codeshareStatus": "IsOperator",
         "departure": {
          "airport": {
           "name": "Unknown"
          },
          "quality": []
         },
         "isCargo": false,
         "number": "PVD 79U",
         "status": "Arrived"
        },
        {
         "aircraft": {
          "modeS": "3C5EF5",
          "model": "Airbus A319",
          "reg": "D-AGWU"
         },
         "airline": {
          "iata": "EW",
          "icao": "EWG",
          "name": "Eurowings"
         },
         "arrival": {
          "baggageBelt": "A3",
          "gate": "A34",
          "quality": [
           "Basic",
           "Live"
          ],
          "revisedTime": {
           "local": "2024-05-08 17:11+02:00",
           "utc": "2024-05-08 15:11Z"
          },
          "scheduledTime": {
           "local": "2024-05-08 17:25+02:00",
           "utc": "2024-05-08 15:25Z"
          },
          "terminal": "1"
         },
         "callSign": "GWI27LR",
         "codeshareStatus": "IsOperator",
         "departure": {
          "airport": {
           "iata": "DUS",
           "icao": "EDDL",
           "name": "Duesseldorf"
          },
          "checkInDesk": "161,170",
          "gate": "A25",
          "quality": [
           "Basic",
           "Live"
          ],
          "revisedTime": {
           "local": "2024-05-08 16:15+02:00",
           "utc": "2024-05-08 14:15Z"
          },
          "runwayTime": {
           "local": "2024-05-08 16:22+02:00",
           "utc": "2024-05-08 14:22Z"
          },
          "scheduledTime": {
           "local": "2024-05-08 16:15+02:00",
           "utc": "2024-05-08 14:15Z"
          },
          "terminal": "B"
         },
         "isCargo": false,
         "number": "EW 8047",
         "status": "Arrived"
        },
        {
         "aircraft": {
          "modeS": "3C54A2",
          "model": "Airbus A321 NEO",
          "reg": "D-AEEB"
         },
         "airline": {
          "iata": "EW",
          "icao": "EWG",
          "name": "Eurowings"
         },
         "arrival": {
          "baggageBelt": "A4",
          "gate": "A35",
          "quality": [
           "Basic",
           "Live"
          ],
          "revisedTime": {
           "local": "2024-05-08 16:58+02:00",
           "utc": "2024-05-08 14:58Z"
          },
          "scheduledTime": {
           "local": "2024-05-08 17:15+02:00",
           "utc": "2024-05-08 15:15Z"
          },
          "terminal": "1"
         },
         "codeshareStatus": "IsOperator",
         "departure": {
          "airport": {
           "iata": "CPH",
           "icao": "EKCH",
           "name": "Copenhagen"
          },
          "gate": "D4",
          "quality": [
           "Basic",
           "Live"
          ],
          "revisedTime": {
           "local": "2024-05-08 16:10+02:00",
           "utc": "2024-05-08 14:10Z"
          },
          "scheduledTime": {
           "local": "2024-05-08 16:10+02:00",
           "utc": "2024-05-08 14:10Z"
          },
          "terminal": "erminal3"
         },
         "isCargo": false,
         "number": "EW 8227",
         "status": "Arrived"
        },
        {
         "aircraft": {
          "modeS": "4D2494",
          "model": "Airbus A320",
          "reg": "9H-MLZ"
         },
         "airline": {
          "iata": "EW",
          "icao": "EWG",
          "name": "Eurowings"
         },
         "arrival": {
          "baggageBelt": "A3",
          "gate": "A36",
          "quality": [
           "Basic",
           "Live"
          ],
          "revisedTime": {
           "local": "2024-05-08 17:38+02:00",
           "utc": "2024-05-08 15:38Z"
          },
          "scheduledTime": {
           "local": "2024-05-08 17:20+02:00",
           "utc": "2024-05-08 15:20Z"
          },
          "terminal": "1"
         },
         "callSign": "EWG28W",
         "codeshareStatus": "IsOperator",
         "departure": {
          "airport": {
           "iata": "HEL",
           "icao": "EFHK",
           "name": "Helsinki"
          },
          "checkInDesk": "302-303",
          "gate": "24",
          "quality": [
           "Basic",
           "Live"
          ],
          "revisedTime": {
           "local": "2024-05-08 16:37+03:00",
           "utc": "2024-05-08 13:37Z"
          },
          "runwayTime": {
           "local": "2024-05-08 17:02+03:00",
           "utc": "2024-05-08 14:02Z"
          },
          "scheduledTime": {
           "local": "2024-05-08 16:15+03:00",
           "utc": "2024-05-08 13:15Z"
          },
          "terminal": "2"
         },
         "isCargo": false,
         "number": "EW 8231",
         "status": "Arrived"
        },
        {
         "aircraft": {
          "modeS": "4D2221",
          "model": "Boeing 737-800",
          "reg": "9H-QCH"
         },
         "airline": {
          "iata": "FR",
          "icao": "RYR",
          "name": "Ryanair"
         },
         "arrival": {
          "baggageBelt": "C1",
          "gate": "Z42",
          "quality": [
           "Basic",
           "Live"
          ],
          "revisedTime": {
           "local": "2024-05-08 17:23+02:00",
           "utc": "2024-05-08 15:23Z"
          },
          "scheduledTime": {
           "local": "2024-05-08 17:25+02:00",
           "utc": "2024-05-08 15:25Z"
          },
          "terminal": "2"
         },
         "callSign": "RYR55VA",
         "codeshareStatus": "IsOperator",
         "departure": {
          "airport": {
           "iata": "MAN",
           "icao": "EGCC",
           "name": "Manchester"
          },
          "gate": "54",
          "quality": [
           "Basic",
           "Live"
          ],
          "revisedTime": {
           "local": "2024-05-08 14:37+01:00",
           "utc": "2024-05-08 13:37Z"
          },
          "runwayTime": {
           "local": "2024-05-08 14:52+01:00",
           "utc": "2024-05-08 13:52Z"
          },
          "scheduledTime": {
           "local": "2024-05-08 14:30+01:00",
           "utc": "2024-05-08 13:30Z"
          },
          "terminal": "3"
         },
         "isCargo": false,
         "number": "FR 1145",
         "status": "Arrived"
        },
        {
         "aircraft": {
          "modeS": "4D2503",
          "model": "Boeing 737 MAX 8 ",
          "reg": "9H-VVR"
         },
         "airline": {
          "iata": "FR",
          "icao": "RYR",
          "name": "Ryanair"
         },
         "arrival": {
          "baggageBelt": "C2",
          "gate": "Z43",
          "quality": [
           "Basic",
           "Live"
          ],
          "revisedTime": {
           "local": "2024-05-08 17:50+02:00",
           "utc": "2024-05-08 15:50Z"
          },
          "scheduledTime": {
           "local": "2024-05-08 17:25+02:00",
           "utc": "2024-05-08 15:25Z"
          },
          "terminal": "2"
         },
         "callSign": "RYR7VD",
         "codeshareStatus": "IsOperator",
         "departure": {
          "airport": {
           "iata": "TGD",
           "icao": "LYPG",
           "name": "Podgorica"
          },
          "checkInDesk": "C2E",
          "gate": "G3,G4",
          "quality": [
           "Basic",
           "Live"
          ],
          "revisedTime": {
           "local": "2024-05-08 16:05+02:00",
           "utc": "2024-05-08 14:05Z"
          },
          "scheduledTime": {
           "local": "2024-05-08 15:25+02:00",
           "utc": "2024-05-08 13:25Z"
          }
         },
         "isCargo": false,
         "number": "FR 1579",
         "status": "Arrived"
        },
        {
         "aircraft": {
          "modeS": "3C6650",
          "model": "Airbus A321-200",
          "reg": "D-AISO"
         },
         "airline": {
          "iata": "LH",
          "icao": "DLH",
          "name": "Lufthansa"
         },
         "arrival": {
          "baggageBelt": "B3",
          "gate": "B17",
          "quality": [
           "Basic",
           "Live"
          ],
          "revisedTime": {
           "local": "2024-05-08 19:53+02:00",
           "utc": "2024-05-08 17:53Z"
          },
          "scheduledTime": {
           "local": "2024-05-08 17:55+02:00",
           "utc": "2024-05-08 15:55Z"
          },
          "terminal": "1"
         },
         "callSign": "DLH1VK",
         "codeshareStatus": "IsOperator",
         "departure": {
          "airport": {
           "iata": "FRA",
           "icao": "EDDF",
           "name": "Frankfurt-am-Main"
          },
          "checkInDesk": "259-335",
          "gate": "A50",
          "quality": [
           "Basic",
           "Live"
          ],
          "revisedTime": {
           "local": "2024-05-08 18:55+02:00",
           "utc": "2024-05-08 16:55Z"
          },
          "runwayTime": {
           "local": "2024-05-08 19:05+02:00",
           "utc": "2024-05-08 17:05Z"
          },
          "scheduledTime": {
           "local": "2024-05-08 16:45+02:00",
           "utc": "2024-05-08 14:45Z"
          },
          "terminal": "1"
         },
         "isCargo": false,
         "number": "LH 192",
         "status": "Arrived"
        },
        {
         "aircraft": {
          "modeS": "3C6751",
          "model": "Airbus A320 (Sharklets)",
          "reg": "D-AIZQ"
         },
         "airline": {
          "iata": "LH",
          "icao": "DLH",
          "name": "Lufthansa"
         },
         "arrival": {
          "baggageBelt": "B3",
          "gate": "B20",
          "quality": [
           "Basic",
           "Live"
          ],
          "revisedTime": {
           "local": "2024-05-08 17:48+02:00",
           "utc": "2024-05-08 15:48Z"
          },
          "runwayTime": {
           "local": "2024-05-08 17:47+02:00",
           "utc": "2024-05-08 15:47Z"
          },
          "scheduledTime": {
           "local": "2024-05-08 17:05+02:00",
           "utc": "2024-05-08 15:05Z"
          },
          "terminal": "1"
         },
         "callSign": "DLH5N",
         "codeshareStatus": "IsOperator",
         "departure": {
          "airport": {
           "iata": "MUC",
           "icao": "EDDM",
           "name": "Munich"
          },
          "quality": [
           "Basic",
           "Live"
          ],
          "revisedTime": {
           "local": "2024-05-08 16:45+02:00",
           "utc": "2024-05-08 14:45Z"
          },
          "runwayTime": {
           "local": "2024-05-08 17:00+02:00",
           "utc": "2024-05-08 15:00Z"
          },
          "scheduledTime": {
           "local": "2024-05-08 16:00+02:00",
           "utc": "2024-05-08 14:00Z"
          },
          "terminal": "2"
         },
         "isCargo": false,
         "number": "LH 1946",
         "status": "Arrived"
        },
        {
         "aircraft": {
          "modeS": "3C54A2",
          "model": "Airbus A321 NEO",
          "reg": "D-AEEB"
         },
         "airline": {
          "iata": "LH",
          "icao": "DLH",
          "name": "Lufthansa"
         },
         "arrival": {
          "baggageBelt": "A4",
          "gate": "A35",
          "quality": [
           "Basic",
           "Live"
          ],
          "revisedTime": {
           "local": "2024-05-08 16:58+02:00",
           "utc": "2024-05-08 14:58Z"
          },
          "scheduledTime": {
           "local": "2024-05-08 17:15+02:00",
           "utc": "2024-05-08 15:15Z"
          },
          "terminal": "1"
         },
         "codeshareStatus": "IsCodeshared",
         "departure": {
          "airport": {
           "iata": "CPH",
           "icao": "EKCH",
           "name": "Copenhagen"
          },
          "quality": []
         },
         "isCargo": false,
         "number": "LH 5321",
         "status": "Arrived"
        },
        {
         "aircraft": {
          "modeS": "4B1618",
          "model": "Airbus A320",
          "reg": "HB-IJO"
         },
         "airline": {
          "iata": "LX",
          "icao": "SWR",
          "name": "SWISS"
         },
         "arrival": {
          "baggageBelt": "A4",
          "gate": "A03",
          "quality": [
           "Basic",
           "Live"
          ],
          "revisedTime": {
           "local": "2024-05-08 17:51+02:00",
           "utc": "2024-05-08 15:51Z"
          },
          "scheduledTime": {
           "local": "2024-05-08 17:55+02:00",
           "utc": "2024-05-08 15:55Z"
          },
          "terminal": "1"
         },
         "callSign": "SWR23F",
         "codeshareStatus": "IsOperator",
         "departure": {
          "airport": {
           "iata": "ZRH",
           "icao": "LSZH",
           "name": "Zurich"
          },
          "checkInDesk": "1",
          "gate": "A62",
          "quality": [
           "Basic",
           "Live"
          ],
          "revisedTime": {
           "local": "2024-05-08 16:30+02:00",
           "utc": "2024-05-08 14:30Z"
          },
          "runwayTime": {
           "local": "2024-05-08 16:49+02:00",
           "utc": "2024-05-08 14:49Z"
          },
          "scheduledTime": {
           "local": "2024-05-08 16:30+02:00",
           "utc": "2024-05-08 14:30Z"
          }
         },
         "isCargo": false,
         "number": "LX 970",
         "status": "Arrived"
        },
        {
         "aircraft": {
          "modeS": "A43F8D",
          "model": "Bombardier Global 5000",
          "reg": "N373GG"
         },
         "airline": {
          "name": "Unknown/Private owner"
         },
         "arrival": {
          "quality": [
           "Basic",
           "Live"
          ],
          "revisedTime": {
           "local": "2024-05-08 17:09+02:00",
           "utc": "2024-05-08 15:09Z"
          },
          "runwayTime": {
           "local": "2024-05-08 17:09+02:00",
           "utc": "2024-05-08 15:09Z"
          },
          "scheduledTime": {
           "local": "2024-05-08 17:09+02:00",
           "utc": "2024-05-08 15:09Z"
          }
         },
         "callSign": "N373GG",
         "codeshareStatus": "IsOperator",
         "departure": {
          "airport": {
           "name": "Unknown"
          },
          "quality": []
         },
         "isCargo": false,
         "number": "N3 73GG",
         "status": "Arrived"
        },
        {
         "aircraft": {
          "modeS": "440821",
          "model": "Embraer 195",
          "reg": "OE-LWE"
         },
         "airline": {
          "iata": "OS",
          "icao": "AUA",
          "name": "Austrian"
         },
         "arrival": {
          "baggageBelt": "B1",
          "gate": "B06",
          "quality": [
           "Basic",
           "Live"
          ],
          "revisedTime": {
           "local": "2024-05-08 17:41+02:00",
           "utc": "2024-05-08 15:41Z"
          },
          "runwayTime": {
           "local": "2024-05-08 17:40+02:00",
           "utc": "2024-05-08 15:40Z"
          },
          "scheduledTime": {
           "local": "2024-05-08 17:45+02:00",
           "utc": "2024-05-08 15:45Z"
          },
          "terminal": "1"
         },
         "callSign": "AUA233E",
         "codeshareStatus": "IsOperator",
         "departure": {
          "airport": {
           "iata": "VIE",
           "icao": "LOWW",
           "name": "Vienna"
          },
          "checkInDesk": "351-372",
          "gate": "F22",
          "quality": [
           "Basic",
           "Live"
          ],
          "revisedTime": {
           "local": "2024-05-08 16:47+02:00",
           "utc": "2024-05-08 14:47Z"
          },
          "scheduledTime": {
           "local": "2024-05-08 16:35+02:00",
           "utc": "2024-05-08 14:35Z"
          },
          "terminal": "3"
         },
         "isCargo": false,
         "number": "OS 233",
         "status": "Arrived"
        },
        {
         "aircraft": {
          "modeS": "44CC41",
          "model": "Airbus A320 NEO",
          "reg": "OO-SBA"
         },
         "airline": {
          "iata": "SN",
          "icao": "BEL",
          "name": "Brussels"
         },
         "arrival": {
          "baggageBelt": "A3",
          "gate": "A30",
          "quality": [
           "Basic",
           "Live"
          ],
          "revisedTime": {
           "local": "2024-05-08 18:00+02:00",
           "utc": "2024-05-08 16:00Z"
          },
          "scheduledTime": {
           "local": "2024-05-08 17:55+02:00",
           "utc": "2024-05-08 15:55Z"
          },
          "terminal": "1"
         },
         "callSign": "BEL2RA",
         "codeshareStatus": "IsOperator",
         "departure": {
          "airport": {
           "iata": "BRU",
           "icao": "EBBR",
           "name": "Brussels"
          },
          "checkInDesk": "05",
          "quality": [
           "Basic",
           "Live"
          ],
          "revisedTime": {
           "local": "2024-05-08 16:49+02:00",
           "utc": "2024-05-08 14:49Z"
          },
          "runwayTime": {
           "local": "2024-05-08 16:50+02:00",
           "utc": "2024-05-08 14:50Z"
          },
          "scheduledTime": {
           "local": "2024-05-08 16:30+02:00",
           "utc": "2024-05-08 14:30Z"
          }
         },
         "isCargo": false,
         "number": "SN 2587",
         "status": "Arrived"
        },
        {
         "aircraft": {
          "modeS": "4BA9C9",
          "model": "Airbus A330-300",
          "reg": "TC-JNI"
         },
         "airline": {
          "iata": "TK",
          "icao": "THY",
          "name": "Turkish"
         },
         "arrival": {
          "baggageBelt": "A2",
          "gate": "X01",
          "quality": [
           "Basic",
           "Live"
          ],
          "revisedTime": {
           "local": "2024-05-08 18:22+02:00",
           "utc": "2024-05-08 16:22Z"
          },
          "runwayTime": {
           "local": "2024-05-08 18:21+02:00",
           "utc": "2024-05-08 16:21Z"
          },
          "scheduledTime": {
           "local": "2024-05-08 17:45+02:00",
           "utc": "2024-05-08 15:45Z"
          },
          "terminal": "1"
         },
         "callSign": "THY7CX",
         "codeshareStatus": "IsOperator",
         "departure": {
          "airport": {
           "iata": "IST",
           "icao": "LTFM",
           "name": "Istanbul"
          },
          "checkInDesk": "E-F",
          "gate": "F19",
          "quality": [
           "Basic",
           "Live"
          ],
          "revisedTime": {
           "local": "2024-05-08 15:55+03:00",
           "utc": "2024-05-08 12:55Z"
          },
          "scheduledTime": {
           "local": "2024-05-08 15:55+03:00",
           "utc": "2024-05-08 12:55Z"
          }
         },
         "isCargo": false,
         "number": "TK 1723",
         "status": "Arrived"
        },
        {
         "aircraft": {
          "modeS": "440DA5",
          "model": "Airbus A320",
          "reg": "OE-IDS"
         },
         "airline": {
          "iata": "U2",
          "icao": "EZY",
          "name": "easyJet"
         },
         "arrival": {
          "baggageBelt": "A1",
          "gate": "A22",
          "quality": [
           "Basic",
           "Live"
          ],
          "revisedTime": {
           "local": "2024-05-08 17:32+02:00",
           "utc": "2024-05-08 15:32Z"
          },
          "scheduledTime": {
           "local": "2024-05-08 17:20+02:00",
           "utc": "2024-05-08 15:20Z"
          },
          "terminal": "1"
         },
         "codeshareStatus": "IsOperator",
         "departure": {
          "airport": {
           "iata": "OLB",
           "icao": "LIEO",
           "name": "Olbia"
          },
          "quality": [
           "Basic"
          ],
          "scheduledTime": {
           "local": "2024-05-08 15:05+02:00",
           "utc": "2024-05-08 13:05Z"
          }
         },
         "isCargo": false,
         "number": "U2 5056",
         "status": "Arrived"
        },
        {
         "aircraft": {
          "modeS": "440062",
          "model": "Airbus A320",
          "reg": "OE-IVF"
         },
         "airline": {
          "iata": "U2",
          "icao": "EZY",
          "name": "easyJet"
         },
         "arrival": {
          "baggageBelt": "A1",
          "gate": "S02",
          "quality": [
           "Basic",
           "Live"
          ],
          "revisedTime": {
           "local": "2024-05-08 17:20+02:00",
           "utc": "2024-05-08 15:20Z"
          },
          "scheduledTime": {
           "local": "2024-05-08 17:15+02:00",
           "utc": "2024-05-08 15:15Z"
          },
          "terminal": "1"
         },
         "callSign": "EJU19XM",
         "codeshareStatus": "IsOperator",
         "departure": {
          "airport": {
           "iata": "ORY",
           "icao": "LFPO",
           "name": "Paris"
          },
          "quality": [
           "Basic"
          ],
          "scheduledTime": {
           "local": "2024-05-08 15:35+02:00",
           "utc": "2024-05-08 13:35Z"
          },
          "terminal": "1"
         },
         "isCargo": false,
         "number": "U2 5158",
         "status": "Arrived"
        },
        {
         "aircraft": {
          "modeS": "440179",
          "model": "Airbus A319",
          "reg": "OE-LQJ"
         },
         "airline": {
          "iata": "U2",
          "icao": "EZY",
          "name": "easyJet"
         },
         "arrival": {
          "baggageBelt": "A1",
          "gate": "A33",
          "quality": [
           "Basic",
           "Live"
          ],
          "revisedTime": {
           "local": "2024-05-08 17:15+02:00",
           "utc": "2024-05-08 15:15Z"
          },
          "scheduledTime": {
           "local": "2024-05-08 17:20+02:00",
           "utc": "2024-05-08 15:20Z"
          },
          "terminal": "1"
         },
         "callSign": "EJU53DL",
         "codeshareStatus": "IsOperator",
         "departure": {
          "airport": {
           "iata": "SPU",
           "icao": "LDSP",
           "name": "Split"
          },
          "quality": [
           "Basic"
          ],
          "scheduledTime": {
           "local": "2024-05-08 15:35+02:00",
           "utc": "2024-05-08 13:35Z"
          }
         },
         "isCargo": false,
         "number": "U2 5214",
         "status": "Arrived"
        },
        {
         "aircraft": {
          "modeS": "471F87",
          "model": "Airbus A320",
          "reg": "HA-LYL"
         },
         "airline": {
          "iata": "W6",
          "icao": "WZZ",
          "name": "Wizz Air"
         },
         "arrival": {
          "baggageBelt": "C3",
          "gate": "Z44",
          "quality": [
           "Basic",
           "Live"
          ],
          "revisedTime": {
           "local": "2024-05-08 17:45+02:00",
           "utc": "2024-05-08 15:45Z"
          },
          "runwayTime": {
           "local": "2024-05-08 17:45+02:00",
           "utc": "2024-05-08 15:45Z"
          },
          "scheduledTime": {
           "local": "2024-05-08 17:50+02:00",
           "utc": "2024-05-08 15:50Z"
          },
          "terminal": "2"
         },
         "callSign": "WZZ5CW",
         "codeshareStatus": "IsOperator",
         "departure": {
          "airport": {
           "iata": "SKP",
           "icao": "LWSK",
           "name": "Skopje"
          },
          "checkInDesk": "20",
          "gate": "202",
          "quality": [
           "Basic",
           "Live"
          ],
          "revisedTime": {
           "local": "2024-05-08 15:53+02:00",
           "utc": "2024-05-08 13:53Z"
          },
          "scheduledTime": {
           "local": "2024-05-08 15:30+02:00",
           "utc": "2024-05-08 13:30Z"
          }
         },
         "isCargo": false,
         "number": "W6 4739",
         "status": "Arrived"
        },
        {
         "aircraft": {
          "modeS": "40649F",
          "model": "Airbus A320",
          "reg": "G-EUYK"
         },
         "airline": {
          "iata": "BA",
          "icao": "BAW",
          "name": "British Airways"
         },
         "arrival": {
          "baggageBelt": "B3",
          "gate": "Y07",
          "quality": [
           "Basic",
           "Live"
          ],
          "revisedTime": {
           "local": "2024-05-08 18:41+02:00",
           "utc": "2024-05-08 16:41Z"
          },
          "scheduledTime": {
           "local": "2024-05-08 18:30+02:00",
           "utc": "2024-05-08 16:30Z"
          },
          "terminal": "1"
         },
         "callSign": "BAW986G",
         "codeshareStatus": "IsOperator",
         "departure": {
          "airport": {
           "iata": "LHR",
           "icao": "EGLL",
           "name": "London"
          },
          "checkInDesk": "D",
          "quality": [
           "Basic",
           "Live"
          ],
          "revisedTime": {
           "local": "2024-05-08 16:17+01:00",
           "utc": "2024-05-08 15:17Z"
          },
          "runwayTime": {
           "local": "2024-05-08 16:18+01:00",
           "utc": "2024-05-08 15:18Z"
          },
          "scheduledTime": {
           "local": "2024-05-08 15:35+01:00",
           "utc": "2024-05-08 14:35Z"
          },
          "terminal": "5"
         },
         "isCargo": false,
         "number": "BA 986",
         "status": "Arrived"
        },
        {
         "aircraft": {
          "modeS": "440209",
          "model": "Airbus A320",
          "reg": "OE-IZH"
         },
         "airline": {
          "iata": "EC",
          "icao": "EJU",
          "name": "EasyJet Europe"
         },
         "arrival": {
          "baggageBelt": "A4",
          "gate": "A32",
          "quality": [
           "Basic",
           "Live"
          ],
          "revisedTime": {
           "local": "2024-05-08 18:46+02:00",
           "utc": "2024-05-08 16:46Z"
          },
          "scheduledTime": {
           "local": "2024-05-08 18:35+02:00",
           "utc": "2024-05-08 16:35Z"
          },
          "terminal": "1"
         },
         "codeshareStatus": "IsCodeshared",
         "departure": {
          "airport": {
           "iata": "LIN",
           "icao": "LIML",
           "name": "Milan"
          },
          "quality": []
         },
         "isCargo": false,
         "number": "EC 5072",
         "status": "Arrived"
        },
        {
         "aircraft": {
          "modeS": "3C5EE5",
          "model": "Airbus A319",
          "reg": "D-AGWE"
         },
         "airline": {
          "iata": "4U",
          "icao": "GWI",
          "name": "Germanwings"
         },
         "arrival": {
          "quality": [
           "Basic",
           "Live"
          ],
          "revisedTime": {
           "local": "2024-05-08 18:19+02:00",
           "utc": "2024-05-08 16:19Z"
          },
          "runwayTime": {
           "local": "2024-05-08 18:15+02:00",
           "utc": "2024-05-08 16:15Z"
          },
          "scheduledTime": {
           "local": "2024-05-08 18:19+02:00",
           "utc": "2024-05-08 16:19Z"
          }
         },
         "callSign": "GWI8Q",
         "codeshareStatus": "IsOperator",
         "departure": {
          "airport": {
           "iata": "STR",
           "icao": "EDDS",
           "name": "Stuttgart"
          },
          "quality": [
           "Basic",
           "Live"
          ],
          "revisedTime": {
           "local": "2024-05-08 17:17+02:00",
           "utc": "2024-05-08 15:17Z"
          },
          "runwayTime": {
           "local": "2024-05-08 17:25+02:00",
           "utc": "2024-05-08 15:25Z"
          },
          "scheduledTime": {
           "local": "2024-05-08 17:17+02:00",
           "utc": "2024-05-08 15:17Z"
          }
         },
         "isCargo": false,
         "number": "4U 8005",
         "status": "Arrived"
        },
        {
         "aircraft": {
          "modeS": "39BDA3",
          "model": "Airbus A220-300",
          "reg": "F-HPND"
         },
         "airline": {
          "iata": "AF",
          "icao": "AFR",
          "name": "Air France"
         },
         "arrival": {
          "baggageBelt": "A1",
          "gate": "A17",
          "quality": [
           "Basic",
           "Live"
          ],
          "revisedTime": {
           "local": "2024-05-08 18:05+02:00",
           "utc": "2024-05-08 16:05Z"
          },
          "runwayTime": {
           "local": "2024-05-08 18:05+02:00",
           "utc": "2024-05-08 16:05Z"
          },
          "scheduledTime": {
           "local": "2024-05-08 18:05+02:00",
           "utc": "2024-05-08 16:05Z"
          },
          "terminal": "1"
         },
         "callSign": "AFR55VR",
         "codeshareStatus": "IsOperator",
         "departure": {
          "airport": {
           "iata": "CDG",
           "icao": "LFPG",
           "name": "Paris"
          },
          "quality": [
           "Basic",
           "Live"
          ],
          "revisedTime": {
           "local": "2024-05-08 16:41+02:00",
           "utc": "2024-05-08 14:41Z"
          },
          "runwayTime": {
           "local": "2024-05-08 16:41+02:00",
           "utc": "2024-05-08 14:41Z"
          },
          "scheduledTime": {
           "local": "2024-05-08 16:25+02:00",
           "utc": "2024-05-08 14:25Z"
          },
          "terminal": "2F"
         },
         "isCargo": false,
         "number": "AF 1534",
         "status": "Arrived"
        },
        {
         "aircraft": {
          "modeS": "4D2417",
          "model": "Airbus A320",
          "reg": "9H-EWE"
         },
         "airline": {
          "iata": "EW",
          "icao": "EWG",
          "name": "Eurowings"
         },
         "arrival": {
          "baggageBelt": "A3",
          "gate": "A36",
          "quality": [
           "Basic",
           "Live"
          ],
          "revisedTime": {
           "local": "2024-05-08 18:56+02:00",
           "utc": "2024-05-08 16:56Z"
          },
          "runwayTime": {
           "local": "2024-05-08 18:55+02:00",
           "utc": "2024-05-08 16:55Z"
          },
          "scheduledTime": {
           "local": "2024-05-08 18:50+02:00",
           "utc": "2024-05-08 16:50Z"
          },
          "terminal": "1"
         },
         "callSign": "EWG8WT",
         "codeshareStatus": "IsOperator",
         "departure": {
          "airport": {
           "iata": "SZG",
           "icao": "LOWS",
           "name": "Salzburg"
          },
          "quality": [
           "Basic",
           "Live"
          ],
          "revisedTime": {
           "local": "2024-05-08 18:08+02:00",
           "utc": "2024-05-08 16:08Z"
          },
          "runwayTime": {
           "local": "2024-05-08 18:08+02:00",
           "utc": "2024-05-08 16:08Z"
          },
          "scheduledTime": {
           "local": "2024-05-08 17:45+02:00",
           "utc": "2024-05-08 15:45Z"
          }
         },
         "isCargo": false,
         "number": "EW 4342",
         "status": "Arrived"
        },
        {
         "aircraft": {
          "modeS": "3C5EE4",
          "model": "Airbus A319",
          "reg": "D-AGWD"
         },
         "airline": {
          "iata": "EW",
          "icao": "EWG",
          "name": "Eurowings"
         },
         "arrival": {
          "baggageBelt": "A4",
          "gate": "A38",
          "quality": [
           "Basic",
           "Live"
          ],
          "revisedTime": {
           "local": "2024-05-08 18:16+02:00",
           "utc": "2024-05-08 16:16Z"
          },
          "scheduledTime": {
           "local": "2024-05-08 18:25+02:00",
           "utc": "2024-05-08 16:25Z"
          },
          "terminal": "1"
         },
         "codeshareStatus": "IsOperator",
         "departure": {
          "airport": {
           "iata": "STR",
           "icao": "EDDS",
           "name": "Stuttgart"
          },
          "gate": "316",
          "quality": [
           "Basic",
           "Live"
          ],
          "revisedTime": {
           "local": "2024-05-08 17:15+02:00",
           "utc": "2024-05-08 15:15Z"
          },
          "scheduledTime": {
           "local": "2024-05-08 17:15+02:00",
           "utc": "2024-05-08 15:15Z"
          },
          "terminal": "3"
         },
         "isCargo": false,
         "number": "EW 8005",
         "status": "Arrived"
        },
        {
         "aircraft": {
          "modeS": "4D239F",
          "model": "Airbus A320",
          "reg": "9H-MLP"
         },
         "airline": {
          "iata": "EW",
          "icao": "EWG",
          "name": "Eurowings"
         },
         "arrival": {
          "baggageBelt": "A1",
          "gate": "A20",
          "quality": [
           "Basic",
           "Live"
          ],
          "revisedTime": {
           "local": "2024-05-08 18:25+02:00",
           "utc": "2024-05-08 16:25Z"
          },
          "runwayTime": {
           "local": "2024-05-08 18:24+02:00",
           "utc": "2024-05-08 16:24Z"
          },
          "scheduledTime": {
           "local": "2024-05-08 18:10+02:00",
           "utc": "2024-05-08 16:10Z"
          },
          "terminal": "1"
         },
         "callSign": "EWG3G",
         "codeshareStatus": "IsOperator",
         "departure": {
          "airport": {
           "iata": "PMI",
           "icao": "LEPA",
           "name": "Palma De Mallorca"
          },
          "checkInDesk": "154-169",
          "gate": "C60",
          "quality": [
           "Basic",
           "Live"
          ],
          "revisedTime": {
           "local": "2024-05-08 15:47+02:00",
           "utc": "2024-05-08 13:47Z"
          },
          "runwayTime": {
           "local": "2024-05-08 16:00+02:00",
           "utc": "2024-05-08 14:00Z"
          },
          "scheduledTime": {
           "local": "2024-05-08 15:30+02:00",
           "utc": "2024-05-08 13:30Z"
          },
          "terminal": "N"
         },
         "isCargo": false,
         "number": "EW 8591",
         "status": "Arrived"
        },
        {
         "aircraft": {
          "modeS": "4CAD3F",
          "model": "Boeing 737 MAX 8",
          "reg": "EI-HMX"
         },
         "airline": {
          "iata": "FR",
          "icao": "RYR",
          "name": "Ryanair"
         },
         "arrival": {
          "baggageBelt": "C1",
          "gate": "Z30",
          "quality": [
           "Basic",
           "Live"
          ],
          "revisedTime": {
           "local": "2024-05-08 18:48+02:00",
           "utc": "2024-05-08 16:48Z"
          },
          "runwayTime": {
           "local": "2024-05-08 18:48+02:00",
           "utc": "2024-05-08 16:48Z"
          },
          "scheduledTime": {
           "local": "2024-05-08 18:10+02:00",
           "utc": "2024-05-08 16:10Z"
          },
          "terminal": "2"
         },
         "callSign": "RYR2SR",
         "codeshareStatus": "IsOperator",
         "departure": {
          "airport": {
           "iata": "BCN",
           "icao": "LEBL",
           "name": "Barcelona"
          },
          "checkInDesk": "B64-B71",
          "gate": "U31",
          "quality": [
           "Basic",
           "Live"
          ],
          "revisedTime": {
           "local": "2024-05-08 16:10+02:00",
           "utc": "2024-05-08 14:10Z"
          },
          "runwayTime": {
           "local": "2024-05-08 16:33+02:00",
           "utc": "2024-05-08 14:33Z"
          },
          "scheduledTime": {
           "local": "2024-05-08 15:25+02:00",
           "utc": "2024-05-08 13:25Z"
          },
          "terminal": "2"
         },
         "isCargo": false,
         "number": "FR 133",
         "status": "Arrived"
        },
        {
         "aircraft": {
          "modeS": "4CAD3B",
          "model": "Boeing 737 MAX 8",
          "reg": "EI-HGS"
         },
         "airline": {
          "iata": "FR",
          "icao": "RYR",
          "name": "Ryanair"
         },
         "arrival": {
          "baggageBelt": "C3",
          "gate": "Z32",
          "quality": [
           "Basic",
           "Live"
          ],
          "revisedTime": {
           "local": "2024-05-08 18:12+02:00",
           "utc": "2024-05-08 16:12Z"
          },
          "scheduledTime": {
           "local": "2024-05-08 18:00+02:00",
           "utc": "2024-05-08 16:00Z"
          },
          "terminal": "2"
         },
         "callSign": "RYR56AL",
         "codeshareStatus": "IsOperator",
         "departure": {
          "airport": {
           "iata": "PMI",
           "icao": "LEPA",
           "name": "Palma De Mallorca"
          },
          "checkInDesk": "002-017",
          "gate": "C39",
          "quality": [
           "Basic",
           "Live"
          ],
          "revisedTime": {
           "local": "2024-05-08 15:31+02:00",
           "utc": "2024-05-08 13:31Z"
          },
          "runwayTime": {
           "local": "2024-05-08 15:49+02:00",
           "utc": "2024-05-08 13:49Z"
          },
          "scheduledTime": {
           "local": "2024-05-08 15:15+02:00",
           "utc": "2024-05-08 13:15Z"
          },
          "terminal": "N"
         },
         "isCargo": false,
         "number": "FR 227",
         "status": "Arrived"
        },
        {
         "aircraft": {
          "modeS": "4D2274",
          "model": "Boeing 737-800",
          "reg": "9H-QBC"
         },
         "airline": {
          "iata": "FR",
          "icao": "RYR",
          "name": "Ryanair"
         },
         "arrival": {
          "baggageBelt": "C2",
          "gate": "Z36",
          "quality": [
           "Basic",
           "Live"
          ],
          "revisedTime": {
           "local": "2024-05-08 18:26+02:00",
           "utc": "2024-05-08 16:26Z"
          },
          "scheduledTime": {
           "local": "2024-05-08 18:35+02:00",
           "utc": "2024-05-08 16:35Z"
          },
          "terminal": "2"
         },
         "callSign": "RYR2600",
         "codeshareStatus": "IsOperator",
         "departure": {
          "airport": {
           "iata": "RIX",
           "icao": "EVRA",
           "name": "Riga"
          },
          "gate": "B4",
          "quality": [
           "Basic",
           "Live"
          ],
          "revisedTime": {
           "local": "2024-05-08 17:55+03:00",
           "utc": "2024-05-08 14:55Z"
          },
          "scheduledTime": {
           "local": "2024-05-08 17:50+03:00",
           "utc": "2024-05-08 14:50Z"
          },
          "terminal": "B"
         },
         "isCargo": false,
         "number": "FR 2600",
         "status": "Arrived"
        },
        {
         "aircraft": {
          "modeS": "485A33",
          "model": "Boeing 737-800",
          "reg": "PH-BCH"
         },
         "airline": {
          "iata": "KL",
          "icao": "KLM",
          "name": "KLM"
         },
         "arrival": {
          "baggageBelt": "A3",
          "gate": "A06",
          "quality": [
           "Basic",
           "Live"
          ],
          "revisedTime": {
           "local": "2024-05-08 18:01+02:00",
           "utc": "2024-05-08 16:01Z"
          },
          "scheduledTime": {
           "local": "2024-05-08 18:00+02:00",
           "utc": "2024-05-08 16:00Z"
          },
          "terminal": "1"
         },
         "callSign": "KLM67B",
         "codeshareStatus": "IsOperator",
         "departure": {
          "airport": {
           "iata": "AMS",
           "icao": "EHAM",
           "name": "Amsterdam"
          },
          "checkInDesk": "6-8",
          "gate": "D73",
          "quality": [
           "Basic",
           "Live"
          ],
          "revisedTime": {
           "local": "2024-05-08 16:52+02:00",
           "utc": "2024-05-08 14:52Z"
          },
          "runwayTime": {
           "local": "2024-05-08 17:04+02:00",
           "utc": "2024-05-08 15:04Z"
          },
          "scheduledTime": {
           "local": "2024-05-08 16:45+02:00",
           "utc": "2024-05-08 14:45Z"
          },
          "terminal": "1"
         },
         "isCargo": false,
         "number": "KL 1781",
         "status": "Arrived"
        },
        {
         "aircraft": {
          "modeS": "3C4DCF",
          "model": "Canadair CRJ 900NG",
          "reg": "D-ACNO"
         },
         "airline": {
          "iata": "LH",
          "icao": "DLH",
          "name": "Lufthansa"
         },
         "arrival": {
          "baggageBelt": "B1",
          "gate": "S01",
          "quality": [
           "Basic",
           "Live"
          ],
          "revisedTime": {
           "local": "2024-05-08 18:53+02:00",
           "utc": "2024-05-08 16:53Z"
          },
          "runwayTime": {
           "local": "2024-05-08 18:52+02:00",
           "utc": "2024-05-08 16:52Z"
          },
          "scheduledTime": {
           "local": "2024-05-08 18:55+02:00",
           "utc": "2024-05-08 16:55Z"
          },
          "terminal": "1"
         },
         "callSign": "DLH1EY",
         "codeshareStatus": "IsOperator",
         "departure": {
          "airport": {
           "iata": "FRA",
           "icao": "EDDF",
           "name": "Frankfurt-am-Main"
          },
          "checkInDesk": "259-335",
          "gate": "A60",
          "quality": [
           "Basic",
           "Live"
          ],
          "revisedTime": {
           "local": "2024-05-08 17:45+02:00",
           "utc": "2024-05-08 15:45Z"
          },
          "runwayTime": {
           "local": "2024-05-08 18:11+02:00",
           "utc": "2024-05-08 16:11Z"
          },
          "scheduledTime": {
           "local": "2024-05-08 17:45+02:00",
           "utc": "2024-05-08 15:45Z"
          },
          "terminal": "1"
         },
         "isCargo": false,
         "number": "LH 194",
         "status": "Arrived"
        },
        {
         "aircraft": {
          "model": "Airbus A320 NEO"
         },
         "airline": {
          "iata": "LH",
          "icao": "DLH",
          "name": "Lufthansa"
         },
         "arrival": {
          "quality": [
           "Basic",
           "Live"
          ],
          "revisedTime": {
           "local": "2024-05-08 18:05+02:00",
           "utc": "2024-05-08 16:05Z"
          },
          "scheduledTime": {
           "local": "2024-05-08 18:05+02:00",
           "utc": "2024-05-08 16:05Z"
          },
          "terminal": "1"
         },
         "codeshareStatus": "IsOperator",
         "departure": {
          "airport": {
           "iata": "MUC",
           "icao": "EDDM",
           "name": "Munich"
          },
          "quality": []
         },
         "isCargo": false,
         "number": "LH 1948",
         "status": "Canceled"
        },
        {
         "aircraft": {
          "modeS": "3C5EE4",
          "model": "Airbus A319",
          "reg": "D-AGWD"
         },
         "airline": {
          "iata": "LH",
          "icao": "DLH",
          "name": "Lufthansa"
         },
         "arrival": {
          "baggageBelt": "A4",
          "gate": "A38",
          "quality": [
           "Basic",
           "Live"
          ],
          "revisedTime": {
           "local": "2024-05-08 18:16+02:00",
           "utc": "2024-05-08 16:16Z"
          },
          "scheduledTime": {
           "local": "2024-05-08 18:25+02:00",
           "utc": "2024-05-08 16:25Z"
          },
          "terminal": "1"
         },
         "codeshareStatus": "IsCodeshared",
         "departure": {
          "airport": {
           "iata": "STR",
           "icao": "EDDS",
           "name": "Stuttgart"
          },
          "quality": []
         },
         "isCargo": false,
         "number": "LH 5397",
         "status": "Arrived"
        },
        {
         "aircraft": {
          "modeS": "48AD0C",
          "model": "Embraer 175",
          "reg": "SP-LIM"
         },
         "airline": {
          "iata": "LO",
          "icao": "LOT",
          "name": "LOT - Polish"
         },
         "arrival": {
          "baggageBelt": "B1",
          "gate": "A37",
          "quality": [
           "Basic",
           "Live"
          ],
          "revisedTime": {
           "local": "2024-05-08 18:19+02:00",
           "utc": "2024-05-08 16:19Z"
          },
          "runwayTime": {
           "local": "2024-05-08 18:18+02:00",
           "utc": "2024-05-08 16:18Z"
          },
          "scheduledTime": {
           "local": "2024-05-08 18:20+02:00",
           "utc": "2024-05-08 16:20Z"
          },
          "terminal": "1"
         },
         "callSign": "LOT389",
         "codeshareStatus": "IsOperator",
         "departure": {
          "airport": {
           "iata": "WAW",
           "icao": "EPWA",
           "name": "Warsaw"
          },
          "quality": [
           "Basic",
           "Live"
          ],
          "revisedTime": {
           "local": "2024-05-08 17:22+02:00",
           "utc": "2024-05-08 15:22Z"
          },
          "runwayTime": {
           "local": "2024-05-08 17:22+02:00",
           "utc": "2024-05-08 15:22Z"
          },
          "scheduledTime": {
           "local": "2024-05-08 17:00+02:00",
           "utc": "2024-05-08 15:00Z"
          }
         },
         "isCargo": false,
         "number": "LO 389",
         "status": "Arrived"
        },
        {
         "aircraft": {
          "modeS": "4B1807",
          "model": "Airbus A220-300",
          "reg": "HB-JCP"
         },
         "airline": {
          "iata": "LX",
          "icao": "SWR",
          "name": "SWISS"
         },
         "arrival": {
          "baggageBelt": "A3",
          "gate": "A07",
          "quality": [
           "Basic",
           "Live"
          ],
          "revisedTime": {
           "local": "2024-05-08 19:40+02:00",
           "utc": "2024-05-08 17:40Z"
          },
          "scheduledTime": {
           "local": "2024-05-08 18:55+02:00",
           "utc": "2024-05-08 16:55Z"
          },
          "terminal": "1"
         },
         "callSign": "SWR948D",
         "codeshareStatus": "IsOperator",
         "departure": {
          "airport": {
           "iata": "ZRH",
           "icao": "LSZH",
           "name": "Zurich"
          },
          "checkInDesk": "1",
          "gate": "A72",
          "quality": [
           "Basic",
           "Live"
          ],
          "revisedTime": {
           "local": "2024-05-08 17:30+02:00",
           "utc": "2024-05-08 15:30Z"
          },
          "runwayTime": {
           "local": "2024-05-08 18:37+02:00",
           "utc": "2024-05-08 16:37Z"
          },
          "scheduledTime": {
           "local": "2024-05-08 17:30+02:00",
           "utc": "2024-05-08 15:30Z"
          }
         },
         "isCargo": false,
         "number": "LX 982",
         "status": "Arrived"
        },
        {
         "aircraft": {
          "modeS": "440C8D",
          "model": "Airbus A321",
          "reg": "OE-LBB"
         },
         "airline": {
          "iata": "OS",
          "icao": "AUA",
          "name": "Austrian"
         },
         "arrival": {
          "baggageBelt": "B4",
          "gate": "B02",
          "quality": [
           "Basic",
           "Live"
          ],
          "revisedTime": {
           "local": "2024-05-08 18:57+02:00",
           "utc": "2024-05-08 16:57Z"
          },
          "runwayTime": {
           "local": "2024-05-08 18:57+02:00",
           "utc": "2024-05-08 16:57Z"
          },
          "scheduledTime": {
           "local": "2024-05-08 18:55+02:00",
           "utc": "2024-05-08 16:55Z"
          },
          "terminal": "1"
         },
         "callSign": "AUA235",
         "codeshareStatus": "IsOperator",
         "departure": {
          "airport": {
           "iata": "VIE",
           "icao": "LOWW",
           "name": "Vienna"
          },
          "checkInDesk": "351-372",
          "gate": "F08",
          "quality": [
           "Basic",
           "Live"
          ],
          "revisedTime": {
           "local": "2024-05-08 18:06+02:00",
           "utc": "2024-05-08 16:06Z"
          },
          "runwayTime": {
           "local": "2024-05-08 18:07+02:00",
           "utc": "2024-05-08 16:07Z"
          },
          "scheduledTime": {
           "local": "2024-05-08 17:45+02:00",
           "utc": "2024-05-08 15:45Z"
          },
          "terminal": "3"
         },
         "isCargo": false,
         "number": "OS 235",
         "status": "Arrived"
        },
        {
         "aircraft": {
          "modeS": "4BB86B",
          "model": "Airbus A320 NEO",
          "reg": "TC-NCK"
         },
         "airline": {
          "iata": "PC",
          "icao": "PGT",
          "name": "Pegasus"
         },
         "arrival": {
          "baggageBelt": "A3",
          "gate": "X10",
          "quality": [
           "Basic",
           "Live"
          ],
          "revisedTime": {
           "local": "2024-05-08 18:31+02:00",
           "utc": "2024-05-08 16:31Z"
          },
          "scheduledTime": {
           "local": "2024-05-08 18:00+02:00",
           "utc": "2024-05-08 16:00Z"
          },
          "terminal": "1"
         },
         "callSign": "PGT5007",
         "codeshareStatus": "IsOperator",
         "departure": {
          "airport": {
           "iata": "AYT",
           "icao": "LTAI",
           "name": "Antalya"
          },
          "checkInDesk": "101-103",
          "quality": [
           "Basic",
           "Live"
          ],
          "revisedTime": {
           "local": "2024-05-08 15:30+03:00",
           "utc": "2024-05-08 12:30Z"
          },
          "scheduledTime": {
           "local": "2024-05-08 15:30+03:00",
           "utc": "2024-05-08 12:30Z"
          },
          "terminal": "1"
         },
         "isCargo": false,
         "number": "PC 5007",
         "status": "Arrived"
        },
        {
         "aircraft": {
          "modeS": "39CEB3",
          "model": "Boeing 737-800",
          "reg": "F-HTVT"
         },
         "airline": {
          "iata": "TO",
          "icao": "TVF",
          "name": "Transavia France"
         },
         "arrival": {
          "baggageBelt": "C1",
          "gate": "Z34",
          "quality": [
           "Basic",
           "Live"
          ],
          "revisedTime": {
           "local": "2024-05-08 18:10+02:00",
           "utc": "2024-05-08 16:10Z"
          },
          "scheduledTime": {
           "local": "2024-05-08 18:00+02:00",
           "utc": "2024-05-08 16:00Z"
          },
          "terminal": "2"
         },
         "codeshareStatus": "IsOperator",
         "departure": {
          "airport": {
           "iata": "ORY",
           "icao": "LFPO",
           "name": "Paris"
          },
          "quality": [
           "Basic"
          ],
          "scheduledTime": {
           "local": "2024-05-08 16:10+02:00",
           "utc": "2024-05-08 14:10Z"
          },
          "terminal": "3"
         },
         "isCargo": false,
         "number": "TO 3406",
         "status": "Arrived"
        },
        {
         "aircraft": {
          "modeS": "440209",
          "model": "Airbus A320",
          "reg": "OE-IZH"
         },
         "airline": {
          "iata": "U2",
          "icao": "EZY",
          "name": "easyJet"
         },
         "arrival": {
          "baggageBelt": "A4",
          "gate": "A32",
          "quality": [
           "Basic",
           "Live"
          ],
          "revisedTime": {
           "local": "2024-05-08 18:46+02:00",
           "utc": "2024-05-08 16:46Z"
          },
          "scheduledTime": {
           "local": "2024-05-08 18:35+02:00",
           "utc": "2024-05-08 16:35Z"
          },
          "terminal": "1"
         },
         "callSign": "EJU87MG",
         "codeshareStatus": "IsOperator",
         "departure": {
          "airport": {
           "iata": "LIN",
           "icao": "LIML",
           "name": "Milan"
          },
          "quality": [
           "Basic",
           "Live"
          ],
          "revisedTime": {
           "local": "2024-05-08 17:30+02:00",
           "utc": "2024-05-08 15:30Z"
          },
          "runwayTime": {
           "local": "2024-05-08 17:30+02:00",
           "utc": "2024-05-08 15:30Z"
          },
          "scheduledTime": {
           "local": "2024-05-08 16:55+02:00",
           "utc": "2024-05-08 14:55Z"
          }
         },
         "isCargo": false,
         "number": "U2 5072",
         "status": "Arrived"
        },
        {
         "aircraft": {
          "modeS": "461E1F",
          "model": "Embraer 190",
          "reg": "OH-LKP"
         },
         "airline": {
          "iata": "AY",
          "icao": "FIN",
          "name": "Finnair"
         },
         "arrival": {
          "baggageBelt": "A4",
          "gate": "A31",
          "quality": [
           "Basic",
           "Live"
          ],
          "revisedTime": {
           "local": "2024-05-08 18:43+02:00",
           "utc": "2024-05-08 16:43Z"
          },
          "scheduledTime": {
           "local": "2024-05-08 19:00+02:00",
           "utc": "2024-05-08 17:00Z"
          },
          "terminal": "1"
         },
         "callSign": "FIN7PM",
         "codeshareStatus": "IsOperator",
         "departure": {
          "airport": {
           "iata": "HEL",
           "icao": "EFHK",
           "name": "Helsinki"
          },
          "checkInDesk": "211",
          "gate": "24",
          "quality": [
           "Basic",
           "Live"
          ],
          "revisedTime": {
           "local": "2024-05-08 17:58+03:00",
           "utc": "2024-05-08 14:58Z"
          },
          "runwayTime": {
           "local": "2024-05-08 18:06+03:00",
           "utc": "2024-05-08 15:06Z"
          },
          "scheduledTime": {
           "local": "2024-05-08 18:00+03:00",
           "utc": "2024-05-08 15:00Z"
          },
          "terminal": "2"
         },
         "isCargo": false,
         "number": "AY 1435",
         "status": "Arrived"
        },
        {
         "aircraft": {
          "modeS": "502CE4",
          "model": "Airbus A220-300",
          "reg": "YL-CSJ"
         },
         "airline": {
          "iata": "BT",
          "icao": "BTI",
          "name": "airBaltic"
         },
         "arrival": {
          "baggageBelt": "A1",
          "gate": "A34",
          "quality": [
           "Basic",
           "Live"
          ],
          "revisedTime": {
           "local": "2024-05-08 18:50+02:00",
           "utc": "2024-05-08 16:50Z"
          },
          "runwayTime": {
           "local": "2024-05-08 18:50+02:00",
           "utc": "2024-05-08 16:50Z"
          },
          "scheduledTime": {
           "local": "2024-05-08 19:00+02:00",
           "utc": "2024-05-08 17:00Z"
          },
          "terminal": "1"
         },
         "callSign": "BTI6UN",
         "codeshareStatus": "IsOperator",
         "departure": {
          "airport": {
           "iata": "RIX",
           "icao": "EVRA",
           "name": "Riga"
          },
          "gate": "B9",
          "quality": [
           "Basic",
           "Live"
          ],
          "revisedTime": {
           "local": "2024-05-08 18:20+03:00",
           "utc": "2024-05-08 15:20Z"
          },
          "scheduledTime": {
           "local": "2024-05-08 18:20+03:00",
           "utc": "2024-05-08 15:20Z"
          },
          "terminal": "B"
         },
         "isCargo": false,
         "number": "BT 213",
         "status": "Arrived"
        },
        {
         "aircraft": {
          "modeS": "45CAA6",
          "model": "ATR 42-500",
          "reg": "OY-RUF"
         },
         "airline": {
          "iata": "DX",
          "icao": "DTR",
          "name": "Danish Air"
         },
         "arrival": {
          "baggageBelt": "C2",
          "gate": "Z29",
          "quality": [
           "Basic",
           "Live"
          ],
          "revisedTime": {
           "local": "2024-05-08 19:10+02:00",
           "utc": "2024-05-08 17:10Z"
          },
          "scheduledTime": {
           "local": "2024-05-08 19:15+02:00",
           "utc": "2024-05-08 17:15Z"
          },
          "terminal": "2"
         },
         "codeshareStatus": "IsOperator",
         "departure": {
          "airport": {
           "iata": "SCN",
           "icao": "EDDR",
           "name": "Saarbrücken"
          },
          "quality": [
           "Basic"
          ],
          "scheduledTime": {
           "local": "2024-05-08 17:40+02:00",
           "utc": "2024-05-08 15:40Z"
          }
         },
         "isCargo": false,
         "number": "DX 125",
         "status": "Arrived"
        },
        {
         "aircraft": {
          "modeS": "3C5EEA",
          "model": "Airbus A319",
          "reg": "D-AGWJ"
         },
         "airline": {
          "iata": "EW",
          "icao": "EWG",
          "name": "Eurowings"
         },
         "arrival": {
          "baggageBelt": "A4",
          "gate": "A03",
          "quality": [
           "Basic",
           "Live"
          ],
          "revisedTime": {
           "local": "2024-05-08 19:33+02:00",
           "utc": "2024-05-08 17:33Z"
          },
          "scheduledTime": {
           "local": "2024-05-08 19:50+02:00",
           "utc": "2024-05-08 17:50Z"
          },
          "terminal": "1"
         },
         "codeshareStatus": "IsOperator",
         "departure": {
          "airport": {
           "iata": "CGN",
           "icao": "EDDK",
           "name": "Cologne"
          },
          "quality": [
           "Basic"
          ],
          "scheduledTime": {
           "local": "2024-05-08 18:40+02:00",
           "utc": "2024-05-08 16:40Z"
          },
          "terminal": "1"
         },
         "isCargo": false,
         "number": "EW 20",
         "status": "Arrived"
        },
        {
         "aircraft": {
          "modeS": "3C5EE5",
          "model": "Airbus A319",
          "reg": "D-AGWE"
         },
         "airline": {
          "iata": "EW",
          "icao": "EWG",
          "name": "Eurowings"
         },
         "arrival": {
          "baggageBelt": "A1",
          "gate": "A36",
          "quality": [
           "Basic",
           "Live"
          ],
          "revisedTime": {
           "local": "2024-05-08 20:03+02:00",
           "utc": "2024-05-08 18:03Z"
          },
          "scheduledTime": {
           "local": "2024-05-08 19:55+02:00",
           "utc": "2024-05-08 17:55Z"
          },
          "terminal": "1"
         },
         "codeshareStatus": "IsOperator",
         "departure": {
          "airport": {
           "iata": "STR",
           "icao": "EDDS",
           "name": "Stuttgart"
          },
          "gate": "322",
          "quality": [
           "Basic",
           "Live"
          ],
          "revisedTime": {
           "local": "2024-05-08 18:45+02:00",
           "utc": "2024-05-08 16:45Z"
          },
          "scheduledTime": {
           "local": "2024-05-08 18:45+02:00",
           "utc": "2024-05-08 16:45Z"
          },
          "terminal": "3"
         },
         "isCargo": false,
         "number": "EW 2020",
         "status": "Arrived"
        },
        {
         "aircraft": {
          "modeS": "3C5EE9",
          "model": "Airbus A319",
          "reg": "D-AGWI"
         },
         "airline": {
          "iata": "EW",
          "icao": "EWG",
          "name": "Eurowings"
         },
         "arrival": {
          "baggageBelt": "A2",
          "gate": "A37",
          "quality": [
           "Basic",
           "Live"
          ],
          "revisedTime": {
           "local": "2024-05-08 20:07+02:00",
           "utc": "2024-05-08 18:07Z"
          },
          "scheduledTime": {
           "local": "2024-05-08 19:50+02:00",
           "utc": "2024-05-08 17:50Z"
          },
          "terminal": "1"
         },
         "callSign": "GWI5CN",
         "codeshareStatus": "IsOperator",
         "departure": {
          "airport": {
           "iata": "DUS",
           "icao": "EDDL",
           "name": "Duesseldorf"
          },
          "checkInDesk": "161,170",
          "gate": "A49",
          "quality": [
           "Basic",
           "Live"
          ],
          "revisedTime": {
           "local": "2024-05-08 19:02+02:00",
           "utc": "2024-05-08 17:02Z"
          },
          "runwayTime": {
           "local": "2024-05-08 19:17+02:00",
           "utc": "2024-05-08 17:17Z"
          },
          "scheduledTime": {
           "local": "2024-05-08 18:40+02:00",
           "utc": "2024-05-08 16:40Z"
          },
          "terminal": "B"
         },
         "isCargo": false,
         "number": "EW 9044",
         "status": "Arrived"
        },
        {
         "aircraft": {
          "modeS": "4D2304",
          "model": "Boeing 737-800",
          "reg": "9H-VUF"
         },
         "airline": {
          "iata": "FR",
          "icao": "RYR",
          "name": "Ryanair"
         },
         "arrival": {
          "baggageBelt": "C1",
          "gate": "Z32",
          "quality": [
           "Basic",
           "Live"
          ],
          "revisedTime": {
           "local": "2024-05-08 19:30+02:00",
           "utc": "2024-05-08 17:30Z"
          },
          "scheduledTime": {
           "local": "2024-05-08 19:10+02:00",
           "utc": "2024-05-08 17:10Z"
          },
          "terminal": "2"
         },
         "codeshareStatus": "IsOperator",
         "departure": {
          "airport": {
           "iata": "BRI",
           "icao": "LIBD",
           "name": "Bari"
          },
          "quality": [
           "Basic"
          ],
          "scheduledTime": {
           "local": "2024-05-08 17:00+02:00",
           "utc": "2024-05-08 15:00Z"
          }
         },
         "isCargo": false,
         "number": "FR 3310",
         "status": "Arrived"
        },
        {
         "aircraft": {
          "modeS": "342105",
          "model": "Airbus A320",
          "reg": "EC-JFG"
         },
         "airline": {
          "iata": "I2",
          "icao": "IBS",
          "name": "Iberia Express"
         },
         "arrival": {
          "baggageBelt": "A4",
          "gate": "A35",
          "quality": [
           "Basic",
           "Live"
          ],
          "revisedTime": {
           "local": "2024-05-08 18:59+02:00",
           "utc": "2024-05-08 16:59Z"
          },
          "runwayTime": {
           "local": "2024-05-08 18:58+02:00",
           "utc": "2024-05-08 16:58Z"
          },
          "scheduledTime": {
           "local": "2024-05-08 19:05+02:00",
           "utc": "2024-05-08 17:05Z"
          },
          "terminal": "1"
         },
         "callSign": "IBS36HC",
         "codeshareStatus": "IsOperator",
         "departure": {
          "airport": {
           "iata": "MAD",
           "icao": "LEMD",
           "name": "Madrid"
          },
          "checkInDesk": "850-858",
          "gate": "H18",
          "quality": [
           "Basic",
           "Live"
          ],
          "revisedTime": {
           "local": "2024-05-08 16:05+02:00",
           "utc": "2024-05-08 14:05Z"
          },
          "runwayTime": {
           "local": "2024-05-08 16:24+02:00",
           "utc": "2024-05-08 14:24Z"
          },
          "scheduledTime": {
           "local": "2024-05-08 16:00+02:00",
           "utc": "2024-05-08 14:00Z"
          },
          "terminal": "4"
         },
         "isCargo": false,
         "number": "I2 3672",
         "status": "Arrived"
        },
        {
         "aircraft": {
          "modeS": "4C01EB",
          "model": "Airbus A319",
          "reg": "YU-APL"
         },
         "airline": {
          "iata": "JA",
          "icao": "JAT",
          "name": "JetSMART"
         },
         "arrival": {
          "baggageBelt": "A2",
          "gate": "X06",
          "quality": [
           "Basic",
           "Live"
          ],
          "revisedTime": {
           "local": "2024-05-08 19:28+02:00",
           "utc": "2024-05-08 17:28Z"
          },
          "scheduledTime": {
           "local": "2024-05-08 19:10+02:00",
           "utc": "2024-05-08 17:10Z"
          },
          "terminal": "1"
         },
         "codeshareStatus": "IsOperator",
         "departure": {
          "airport": {
           "iata": "BEG",
           "icao": "LYBE",
           "name": "Belgrade"
          },
          "quality": []
         },
         "isCargo": false,
         "number": "JA 356",
         "status": "Arrived"
        },
        {
         "aircraft": {
          "modeS": "502CE4",
          "model": "Airbus A220-300",
          "reg": "YL-CSJ"
         },
         "airline": {
          "iata": "JU",
          "icao": "ASL",
          "name": "Air Serbia"
         },
         "arrival": {
          "baggageBelt": "A1",
          "gate": "A34",
          "quality": [
           "Basic",
           "Live"
          ],
          "revisedTime": {
           "local": "2024-05-08 18:50+02:00",
           "utc": "2024-05-08 16:50Z"
          },
          "scheduledTime": {
           "local": "2024-05-08 19:00+02:00",
           "utc": "2024-05-08 17:00Z"
          },
          "terminal": "1"
         },
         "codeshareStatus": "IsCodeshared",
         "departure": {
          "airport": {
           "iata": "RIX",
           "icao": "EVRA",
           "name": "Riga"
          },
          "gate": "B9",
          "quality": [
           "Basic",
           "Live"
          ],
          "revisedTime": {
           "local": "2024-05-08 18:20+03:00",
           "utc": "2024-05-08 15:20Z"
          },
          "scheduledTime": {
           "local": "2024-05-08 18:20+03:00",
           "utc": "2024-05-08 15:20Z"
          },
          "terminal": "B"
         },
         "isCargo": false,
         "number": "JU 7660",
         "status": "Arrived"
        },
        {
         "aircraft": {
          "modeS": "484C52",
          "model": "Embraer 190",
          "reg": "PH-EZN"
         },
         "airline": {
          "iata": "KL",
          "icao": "KLM",
          "name": "KLM"
         },
         "arrival": {
          "baggageBelt": "A3",
          "gate": "A22",
          "quality": [
           "Basic",
           "Live"
          ],
          "revisedTime": {
           "local": "2024-05-08 19:47+02:00",
           "utc": "2024-05-08 17:47Z"
          },
          "scheduledTime": {
           "local": "2024-05-08 19:55+02:00",
           "utc": "2024-05-08 17:55Z"
          },
          "terminal": "1"
         },
         "callSign": "KLM67D",
         "codeshareStatus": "IsOperator",
         "departure": {
          "airport": {
           "iata": "AMS",
           "icao": "EHAM",
           "name": "Amsterdam"
          },
          "checkInDesk": "6-8",
          "gate": "B16",
          "quality": [
           "Basic",
           "Live"
          ],
          "revisedTime": {
           "local": "2024-05-08 18:34+02:00",
           "utc": "2024-05-08 16:34Z"
          },
          "scheduledTime": {
           "local": "2024-05-08 18:35+02:00",
           "utc": "2024-05-08 16:35Z"
          },
          "terminal": "1"
         },
         "isCargo": false,
         "number": "KL 1783",
         "status": "Arrived"
        },
        {
         "aircraft": {
          "modeS": "502CE4",
          "model": "Airbus A220-300",
          "reg": "YL-CSJ"
         },
         "airline": {
          "iata": "KM",
          "icao": "AMC",
          "name": "Air Malta"
         },
         "arrival": {
          "baggageBelt": "A1",
          "gate": "A34",
          "quality": [
           "Basic",
           "Live"
          ],
          "revisedTime": {
           "local": "2024-05-08 18:50+02:00",
           "utc": "2024-05-08 16:50Z"
          },
          "scheduledTime": {
           "local": "2024-05-08 19:00+02:00",
           "utc": "2024-05-08 17:00Z"
          },
          "terminal": "1"
         },
         "codeshareStatus": "IsCodeshared",
         "departure": {
          "airport": {
           "iata": "RIX",
           "icao": "EVRA",
           "name": "Riga"
          },
          "quality": []
         },
         "isCargo": false,
         "number": "KM 2811",
         "status": "Arrived"
        },
        {
         "aircraft": {
          "modeS": "3C6549",
          "model": "Airbus A320 NEO",
          "reg": "D-AIJI"
         },
         "airline": {
          "iata": "LH",
          "icao": "DLH",
          "name": "Lufthansa"
         },
         "arrival": {
          "baggageBelt": "B3",
          "gate": "B20",
          "quality": [
           "Basic",
           "Live"
          ],
          "revisedTime": {
           "local": "2024-05-08 19:55+02:00",
           "utc": "2024-05-08 17:55Z"
          },
          "scheduledTime": {
           "local": "2024-05-08 19:05+02:00",
           "utc": "2024-05-08 17:05Z"
          },
          "terminal": "1"
         },
         "codeshareStatus": "IsOperator",
         "departure": {
          "airport": {
           "iata": "MUC",
           "icao": "EDDM",
           "name": "Munich"
          },
          "quality": [
           "Basic",
           "Live"
          ],
          "revisedTime": {
           "local": "2024-05-08 18:20+02:00",
           "utc": "2024-05-08 16:20Z"
          },
          "scheduledTime": {
           "local": "2024-05-08 18:00+02:00",
           "utc": "2024-05-08 16:00Z"
          },
          "terminal": "2"
         },
         "isCargo": false,
         "number": "LH 1952",
         "status": "Arrived"
        },
        {
         "aircraft": {
          "modeS": "3C6449",
          "model": "Airbus A319",
          "reg": "D-AIBI"
         },
         "airline": {
          "iata": "LH",
          "icao": "DLH",
          "name": "Lufthansa"
         },
         "arrival": {
          "baggageBelt": "B1",
          "gate": "B07",
          "quality": [
           "Basic",
           "Live"
          ],
          "revisedTime": {
           "local": "2024-05-08 19:44+02:00",
           "utc": "2024-05-08 17:44Z"
          },
          "scheduledTime": {
           "local": "2024-05-08 19:55+02:00",
           "utc": "2024-05-08 17:55Z"
          },
          "terminal": "1"
         },
         "callSign": "DLH198",
         "codeshareStatus": "IsOperator",
         "departure": {
          "airport": {
           "iata": "FRA",
           "icao": "EDDF",
           "name": "Frankfurt-am-Main"
          },
          "checkInDesk": "259-335",
          "gate": "A60",
          "quality": [
           "Basic",
           "Live"
          ],
          "revisedTime": {
           "local": "2024-05-08 18:45+02:00",
           "utc": "2024-05-08 16:45Z"
          },
          "runwayTime": {
           "local": "2024-05-08 19:04+02:00",
           "utc": "2024-05-08 17:04Z"
          },
          "scheduledTime": {
           "local": "2024-05-08 18:45+02:00",
           "utc": "2024-05-08 16:45Z"
          },
          "terminal": "1"
         },
         "isCargo": false,
         "number": "LH 198",
         "status": "Arrived"
        },
        {
         "aircraft": {
          "modeS": "502D0B",
          "model": "Airbus A220-300",
          "reg": "YL-AAO"
         },
         "airline": {
          "iata": "LX",
          "icao": "SWR",
          "name": "SWISS"
         },
         "arrival": {
          "baggageBelt": "B4",
          "gate": "B03",
          "quality": [
           "Basic",
           "Live"
          ],
          "revisedTime": {
           "local": "2024-05-08 20:05+02:00",
           "utc": "2024-05-08 18:05Z"
          },
          "runwayTime": {
           "local": "2024-05-08 20:04+02:00",
           "utc": "2024-05-08 18:04Z"
          },
          "scheduledTime": {
           "local": "2024-05-08 19:45+02:00",
           "utc": "2024-05-08 17:45Z"
          },
          "terminal": "1"
         },
         "callSign": "SWR7LH",
         "codeshareStatus": "IsOperator",
         "departure": {
          "airport": {
           "iata": "ZRH",
           "icao": "LSZH",
           "name": "Zurich"
          },
          "checkInDesk": "1",
          "gate": "A81",
          "quality": [
           "Basic",
           "Live"
          ],
          "revisedTime": {
           "local": "2024-05-08 18:40+02:00",
           "utc": "2024-05-08 16:40Z"
          },
          "runwayTime": {
           "local": "2024-05-08 19:01+02:00",
           "utc": "2024-05-08 17:01Z"
          },
          "scheduledTime": {
           "local": "2024-05-08 18:20+02:00",
           "utc": "2024-05-08 16:20Z"
          }
         },
         "isCargo": false,
         "number": "LX 978",
         "status": "Arrived"
        },
        {
         "aircraft": {
          "modeS": "4D242A",
          "model": "Airbus A320",
          "reg": "9H-WAV"
         },
         "airline": {
          "iata": "W6",
          "icao": "WZZ",
          "name": "Wizz Air"
         },
         "arrival": {
          "baggageBelt": "C3",
          "gate": "Z44",
          "quality": [
           "Basic",
           "Live"
          ],
          "revisedTime": {
           "local": "2024-05-08 19:36+02:00",
           "utc": "2024-05-08 17:36Z"
          },
          "scheduledTime": {
           "local": "2024-05-08 19:45+02:00",
           "utc": "2024-05-08 17:45Z"
          },
          "terminal": "2"
         },
         "callSign": "WZZ4009",
         "codeshareStatus": "IsOperator",
         "departure": {
          "airport": {
           "iata": "BEG",
           "icao": "LYBE",
           "name": "Belgrade"
          },
          "quality": [
           "Basic"
          ],
          "scheduledTime": {
           "local": "2024-05-08 17:50+02:00",
           "utc": "2024-05-08 15:50Z"
          },
          "terminal": "2"
         },
         "isCargo": false,
         "number": "W6 4009",
         "status": "Arrived"
        },
        {
         "aircraft": {
          "modeS": "3C5EE9",
          "model": "Airbus A319",
          "reg": "D-AGWI"
         },
         "airline": {
          "iata": "4U",
          "icao": "GWI",
          "name": "Germanwings"
         },
         "arrival": {
          "quality": [
           "Basic",
           "Live"
          ],
          "revisedTime": {
           "local": "2024-05-08 20:17+02:00",
           "utc": "2024-05-08 18:17Z"
          },
          "runwayTime": {
           "local": "2024-05-08 20:07+02:00",
           "utc": "2024-05-08 18:07Z"
          },
          "scheduledTime": {
           "local": "2024-05-08 20:07+02:00",
           "utc": "2024-05-08 18:07Z"
          }
         },
         "callSign": "GWI5CN",
         "codeshareStatus": "IsOperator",
         "departure": {
          "airport": {
           "iata": "DUS",
           "icao": "EDDL",
           "name": "Duesseldorf"
          },
          "quality": []
         },
         "isCargo": false,
         "number": "4U 5CN",
         "status": "Arrived"
        },
        {
         "aircraft": {
          "modeS": "407844",
          "model": "Airbus A321 (Sharklets)",
          "reg": "G-NEOZ"
         },
         "airline": {
          "iata": "BA",
          "icao": "BAW",
          "name": "British Airways"
         },
         "arrival": {
          "baggageBelt": "A4",
          "gate": "X17",
          "quality": [
           "Basic",
           "Live"
          ],
          "revisedTime": {
           "local": "2024-05-08 19:58+02:00",
           "utc": "2024-05-08 17:58Z"
          },
          "scheduledTime": {
           "local": "2024-05-08 20:10+02:00",
           "utc": "2024-05-08 18:10Z"
          },
          "terminal": "1"
         },
         "callSign": "BAW994G",
         "codeshareStatus": "IsOperator",
         "departure": {
          "airport": {
           "iata": "LHR",
           "icao": "EGLL",
           "name": "London"
          },
          "checkInDesk": "D",
          "quality": [
           "Basic",
           "Live"
          ],
          "revisedTime": {
           "local": "2024-05-08 17:36+01:00",
           "utc": "2024-05-08 16:36Z"
          },
          "runwayTime": {
           "local": "2024-05-08 17:37+01:00",
           "utc": "2024-05-08 16:37Z"
          },
          "scheduledTime": {
           "local": "2024-05-08 17:15+01:00",
           "utc": "2024-05-08 16:15Z"
          },
          "terminal": "5"
         },
         "isCargo": false,
         "number": "BA 994",
         "status": "Arrived"
        },
        {
         "aircraft": {
          "modeS": "44001F",
          "model": "Airbus A320",
          "reg": "OE-ICN"
         },
         "airline": {
          "iata": "EC",
          "icao": "EJU",
          "name": "EasyJet Europe"
         },
         "arrival": {
          "baggageBelt": "A4",
          "gate": "A32",
          "quality": [
           "Basic",
           "Live"
          ],
          "revisedTime": {
           "local": "2024-05-08 20:24+02:00",
           "utc": "2024-05-08 18:24Z"
          },
          "scheduledTime": {
           "local": "2024-05-08 20:00+02:00",
           "utc": "2024-05-08 18:00Z"
          },
          "terminal": "1"
         },
         "callSign": "EJU13GM",
         "codeshareStatus": "IsCodeshared",
         "departure": {
          "airport": {
           "iata": "CDG",
           "icao": "LFPG",
           "name": "Paris"
          },
          "quality": []
         },
         "isCargo": false,
         "number": "EC 4633",
         "status": "Arrived"
        },
        {
         "aircraft": {
          "modeS": "440185",
          "model": "Airbus A320",
          "reg": "OE-IJI"
         },
         "airline": {
          "iata": "EC",
          "icao": "EJU",
          "name": "EasyJet Europe"
         },
         "arrival": {
          "baggageBelt": "A4",
          "gate": "A31",
          "quality": [
           "Basic",
           "Live"
          ],
          "revisedTime": {
           "local": "2024-05-08 20:26+02:00",
           "utc": "2024-05-08 18:26Z"
          },
          "scheduledTime": {
           "local": "2024-05-08 20:45+02:00",
           "utc": "2024-05-08 18:45Z"
          },
          "terminal": "1"
         },
         "callSign": "EJU73UA",
         "codeshareStatus": "IsCodeshared",
         "departure": {
          "airport": {
           "iata": "CPH",
           "icao": "EKCH",
           "name": "Copenhagen"
          },
          "gate": "F7",
          "quality": [
           "Basic",
           "Live"
          ],
          "revisedTime": {
           "local": "2024-05-08 19:40+02:00",
           "utc": "2024-05-08 17:40Z"
          },
          "runwayTime": {
           "local": "2024-05-08 19:47+02:00",
           "utc": "2024-05-08 17:47Z"
          },
          "scheduledTime": {
           "local": "2024-05-08 19:40+02:00",
           "utc": "2024-05-08 17:40Z"
          },
          "terminal": "erminal2"
         },
         "isCargo": false,
         "number": "EC 5268",
         "status": "Arrived"
        },
        {
         "aircraft": {
          "modeS": "440CF8",
          "model": "Airbus A320",
          "reg": "OE-IBF"
         },
         "airline": {
          "iata": "EC",
          "icao": "EJU",
          "name": "EasyJet Europe"
         },
         "arrival": {
          "baggageBelt": "A4",
          "gate": "X19",
          "quality": [
           "Basic",
           "Live"
          ],
          "revisedTime": {
           "local": "2024-05-08 20:00+02:00",
           "utc": "2024-05-08 18:00Z"
          },
          "runwayTime": {
           "local": "2024-05-08 20:00+02:00",
           "utc": "2024-05-08 18:00Z"
          },
          "scheduledTime": {
           "local": "2024-05-08 20:20+02:00",
           "utc": "2024-05-08 18:20Z"
          },
          "terminal": "1"
         },
         "callSign": "EJU5073",
         "codeshareStatus": "IsCodeshared",
         "departure": {
          "airport": {
           "iata": "LGW",
           "icao": "EGKK",
           "name": "London"
          },
          "quality": []
         },
         "isCargo": false,
         "number": "EC 8623",
         "status": "Arrived"
        },
        {
         "aircraft": {
          "modeS": "47A50D",
          "model": "Boeing 737-800",
          "reg": "LN-ENM"
         },
         "airline": {
          "iata": "DY",
          "icao": "NOZ",
          "name": "Norwegian Air Shuttle"
         },
         "arrival": {
          "baggageBelt": "C2",
          "gate": "Z30",
          "quality": [
           "Basic",
           "Live"
          ],
          "revisedTime": {
           "local": "2024-05-08 19:52+02:00",
           "utc": "2024-05-08 17:52Z"
          },
          "scheduledTime": {
           "local": "2024-05-08 20:05+02:00",
           "utc": "2024-05-08 18:05Z"
          },
          "terminal": "2"
         },
         "callSign": "NOZ8GB",
         "codeshareStatus": "IsOperator",
         "departure": {
          "airport": {
           "iata": "OSL",
           "icao": "ENGM",
           "name": "Oslo"
          },
          "checkInDesk": "123",
          "gate": "D8",
          "quality": [
           "Basic",
           "Live"
          ],
          "revisedTime": {
           "local": "2024-05-08 18:24+02:00",
           "utc": "2024-05-08 16:24Z"
          },
          "runwayTime": {
           "local": "2024-05-08 18:34+02:00",
           "utc": "2024-05-08 16:34Z"
          },
          "scheduledTime": {
           "local": "2024-05-08 18:30+02:00",
           "utc": "2024-05-08 16:30Z"
          }
         },
         "isCargo": false,
         "number": "DY 1108",
         "status": "Arrived"
        },
        {
         "aircraft": {
          "modeS": "4CA806",
          "model": "Boeing 737-800",
          "reg": "EI-EKH"
         },
         "airline": {
          "iata": "FR",
          "icao": "RYR",
          "name": "Ryanair"
         },
         "arrival": {
          "baggageBelt": "C1",
          "gate": "Z42",
          "quality": [
           "Basic",
           "Live"
          ],
          "revisedTime": {
           "local": "2024-05-08 20:54+02:00",
           "utc": "2024-05-08 18:54Z"
          },
          "scheduledTime": {
           "local": "2024-05-08 20:55+02:00",
           "utc": "2024-05-08 18:55Z"
          },
          "terminal": "2"
         },
         "callSign": "RYR1DC",
         "codeshareStatus": "IsOperator",
         "departure": {
          "airport": {
           "iata": "STN",
           "icao": "EGSS",
           "name": "London"
          },
          "gate": "44",
          "quality": [
           "Basic",
           "Live"
          ],
          "revisedTime": {
           "local": "2024-05-08 18:22+01:00",
           "utc": "2024-05-08 17:22Z"
          },
          "runwayTime": {
           "local": "2024-05-08 18:35+01:00",
           "utc": "2024-05-08 17:35Z"
          },
          "scheduledTime": {
           "local": "2024-05-08 18:10+01:00",
           "utc": "2024-05-08 17:10Z"
          },
          "terminal": "1"
         },
         "isCargo": false,
         "number": "FR 147",
         "status": "Arrived"
        },
        {
         "aircraft": {
          "modeS": "4CAD2B",
          "model": "Boeing 737-800",
          "reg": "EI-HEW"
         },
         "airline": {
          "iata": "FR",
          "icao": "RYR",
          "name": "Ryanair"
         },
         "arrival": {
          "baggageBelt": "C1",
          "gate": "Z32",
          "quality": [
           "Basic",
           "Live"
          ],
          "revisedTime": {
           "local": "2024-05-08 20:15+02:00",
           "utc": "2024-05-08 18:15Z"
          },
          "scheduledTime": {
           "local": "2024-05-08 20:15+02:00",
           "utc": "2024-05-08 18:15Z"
          },
          "terminal": "2"
         },
         "callSign": "RYR17NM",
         "codeshareStatus": "IsOperator",
         "departure": {
          "airport": {
           "iata": "FAO",
           "icao": "LPFR",
           "name": "Faro"
          },
          "quality": [
           "Basic",
           "Live"
          ],
          "revisedTime": {
           "local": "2024-05-08 15:56+01:00",
           "utc": "2024-05-08 14:56Z"
          },
          "runwayTime": {
           "local": "2024-05-08 15:58+01:00",
           "utc": "2024-05-08 14:58Z"
          },
          "scheduledTime": {
           "local": "2024-05-08 15:45+01:00",
           "utc": "2024-05-08 14:45Z"
          },
          "terminal": "1"
         },
         "isCargo": false,
         "number": "FR 254",
         "status": "Arrived"
        },
        {
         "aircraft": {
          "modeS": "4D21ED",
          "model": "Boeing 737-800",
          "reg": "9H-QAE"
         },
         "airline": {
          "iata": "FR",
          "icao": "RYR",
          "name": "Ryanair"
         },
         "arrival": {
          "baggageBelt": "C3",
          "gate": "Z36",
          "quality": [
           "Basic",
           "Live"
          ],
          "revisedTime": {
           "local": "2024-05-08 20:22+02:00",
           "utc": "2024-05-08 18:22Z"
          },
          "scheduledTime": {
           "local": "2024-05-08 20:05+02:00",
           "utc": "2024-05-08 18:05Z"
          },
          "terminal": "2"
         },
         "callSign": "RYR63SZ",
         "codeshareStatus": "IsOperator",
         "departure": {
          "airport": {
           "iata": "BGY",
           "icao": "LIME",
           "name": "Bergamo"
          },
          "quality": [
           "Basic",
           "Live"
          ],
          "revisedTime": {
           "local": "2024-05-08 19:08+02:00",
           "utc": "2024-05-08 17:08Z"
          },
          "runwayTime": {
           "local": "2024-05-08 19:08+02:00",
           "utc": "2024-05-08 17:08Z"
          },
          "scheduledTime": {
           "local": "2024-05-08 18:25+02:00",
           "utc": "2024-05-08 16:25Z"
          }
         },
         "isCargo": false,
         "number": "FR 4733",
         "status": "Arrived"
        },
        {
         "aircraft": {
          "modeS": "4CADBB",
          "model": "Boeing 737 MAX 8",
          "reg": "EI-IGI"
         },
         "airline": {
          "iata": "FR",
          "icao": "RYR",
          "name": "Ryanair"
         },
         "arrival": {
          "baggageBelt": "C3",
          "gate": "Z44",
          "quality": [
           "Basic",
           "Live"
          ],
          "revisedTime": {
           "local": "2024-05-08 21:19+02:00",
           "utc": "2024-05-08 19:19Z"
          },
          "runwayTime": {
           "local": "2024-05-08 21:19+02:00",
           "utc": "2024-05-08 19:19Z"
          },
          "scheduledTime": {
           "local": "2024-05-08 20:30+02:00",
           "utc": "2024-05-08 18:30Z"
          },
          "terminal": "2"
         },
         "callSign": "RYR365L",
         "codeshareStatus": "IsOperator",
         "departure": {
          "airport": {
           "iata": "RAK",
           "icao": "GMMX",
           "name": "Marrakech"
          },
          "quality": [
           "Basic"
          ],
          "scheduledTime": {
           "local": "2024-05-08 15:20+01:00",
           "utc": "2024-05-08 14:20Z"
          },
          "terminal": "1"
         },
         "isCargo": false,
         "number": "FR 5475",
         "status": "Arrived"
        },
        {
         "aircraft": {
          "modeS": "3C5835",
          "model": "Bombardier Global Express",
          "reg": "D-AFAU"
         },
         "airline": {
          "name": "IFA"
         },
         "arrival": {
          "quality": [
           "Basic",
           "Live"
          ],
          "revisedTime": {
           "local": "2024-05-08 20:20+02:00",
           "utc": "2024-05-08 18:20Z"
          },
          "runwayTime": {
           "local": "2024-05-08 20:13+02:00",
           "utc": "2024-05-08 18:13Z"
          },
          "scheduledTime": {
           "local": "2024-05-08 20:13+02:00",
           "utc": "2024-05-08 18:13Z"
          }
         },
         "callSign": "IFA6152",
         "codeshareStatus": "IsOperator",
         "departure": {
          "airport": {
           "name": "Unknown"
          },
          "quality": []
         },
         "isCargo": false,
         "number": "IFA 6152",
         "status": "Arrived"
        },
        {
         "aircraft": {
          "modeS": "4D2026",
          "model": "Airbus A320",
          "reg": "9H-AEP"
         },
         "airline": {
          "iata": "KM",
          "icao": "AMC",
          "name": "Air Malta"
         },
         "arrival": {
          "baggageBelt": "A3",
          "gate": "A30",
          "quality": [
           "Basic",
           "Live"
          ],
          "revisedTime": {
           "local": "2024-05-08 20:39+02:00",
           "utc": "2024-05-08 18:39Z"
          },
          "scheduledTime": {
           "local": "2024-05-08 20:55+02:00",
           "utc": "2024-05-08 18:55Z"
          },
          "terminal": "1"
         },
         "codeshareStatus": "IsOperator",
         "departure": {
          "airport": {
           "iata": "MLA",
           "icao": "LMML",
           "name": "Luqa"
          },
          "quality": [
           "Basic"
          ],
          "scheduledTime": {
           "local": "2024-05-08 18:00+02:00",
           "utc": "2024-05-08 16:00Z"
          }
         },
         "isCargo": false,
         "number": "KM 376",
         "status": "Arrived"
        },
        {
         "aircraft": {
          "modeS": "4D2026",
          "model": "Airbus A320",
          "reg": "9H-AEP"
         },
         "airline": {
          "name": "KMM"
         },
         "arrival": {
          "quality": [
           "Basic",
           "Live"
          ],
          "revisedTime": {
           "local": "2024-05-08 20:44+02:00",
           "utc": "2024-05-08 18:44Z"
          },
          "runwayTime": {
           "local": "2024-05-08 20:38+02:00",
           "utc": "2024-05-08 18:38Z"
          },
          "scheduledTime": {
           "local": "2024-05-08 20:44+02:00",
           "utc": "2024-05-08 18:44Z"
          }
         },
         "callSign": "KMM376",
         "codeshareStatus": "IsOperator",
         "departure": {
          "airport": {
           "iata": "MLA",
           "icao": "LMML",
           "name": "Luqa"
          },
          "quality": [
           "Basic",
           "Live"
          ],
          "revisedTime": {
           "local": "2024-05-08 18:12+02:00",
           "utc": "2024-05-08 16:12Z"
          },
          "runwayTime": {
           "local": "2024-05-08 18:12+02:00",
           "utc": "2024-05-08 16:12Z"
          },
          "scheduledTime": {
           "local": "2024-05-08 18:12+02:00",
           "utc": "2024-05-08 16:12Z"
          }
         },
         "isCargo": false,
         "number": "KMM 376",
         "status": "Arrived"
        },
        {
         "aircraft": {
          "modeS": "4D00D0",
          "model": "De Havilland Canada DHC-8-400 Dash 8Q",
          "reg": "LX-LGM"
         },
         "airline": {
          "iata": "LG",
          "icao": "LGL",
          "name": "Luxair"
         },
         "arrival": {
          "baggageBelt": "B1",
          "gate": "S01",
          "quality": [
           "Basic",
           "Live"
          ],
          "revisedTime": {
           "local": "2024-05-08 20:11+02:00",
           "utc": "2024-05-08 18:11Z"
          },
          "runwayTime": {
           "local": "2024-05-08 20:11+02:00",
           "utc": "2024-05-08 18:11Z"
          },
          "scheduledTime": {
           "local": "2024-05-08 20:25+02:00",
           "utc": "2024-05-08 18:25Z"
          },
          "terminal": "1"
         },
         "callSign": "LGL9473",
         "codeshareStatus": "IsOperator",
         "departure": {
          "airport": {
           "iata": "LUX",
           "icao": "ELLX",
           "name": "Luxembourg"
          },
          "gate": "A10",
          "quality": [
           "Basic",
           "Live"
          ],
          "revisedTime": {
           "local": "2024-05-08 18:52+02:00",
           "utc": "2024-05-08 16:52Z"
          },
          "runwayTime": {
           "local": "2024-05-08 19:03+02:00",
           "utc": "2024-05-08 17:03Z"
          },
          "scheduledTime": {
           "local": "2024-05-08 18:55+02:00",
           "utc": "2024-05-08 16:55Z"
          },
          "terminal": "A"
         },
         "isCargo": false,
         "number": "LG 9473",
         "status": "Arrived"
        },
        {
         "aircraft": {
          "modeS": "3C644A",
          "model": "Airbus A319",
          "reg": "D-AIBJ"
         },
         "airline": {
          "iata": "LH",
          "icao": "DLH",
          "name": "Lufthansa"
         },
         "arrival": {
          "baggageBelt": "B3",
          "gate": "B20",
          "quality": [
           "Basic",
           "Live"
          ],
          "revisedTime": {
           "local": "2024-05-08 20:48+02:00",
           "utc": "2024-05-08 18:48Z"
          },
          "runwayTime": {
           "local": "2024-05-08 20:47+02:00",
           "utc": "2024-05-08 18:47Z"
          },
          "scheduledTime": {
           "local": "2024-05-08 20:55+02:00",
           "utc": "2024-05-08 18:55Z"
          },
          "terminal": "1"
         },
         "callSign": "DLH8LE",
         "codeshareStatus": "IsOperator",
         "departure": {
          "airport": {
           "iata": "FRA",
           "icao": "EDDF",
           "name": "Frankfurt-am-Main"
          },
          "checkInDesk": "259-335",
          "gate": "A56",
          "quality": [
           "Basic",
           "Live"
          ],
          "revisedTime": {
           "local": "2024-05-08 19:45+02:00",
           "utc": "2024-05-08 17:45Z"
          },
          "runwayTime": {
           "local": "2024-05-08 20:04+02:00",
           "utc": "2024-05-08 18:04Z"
          },
          "scheduledTime": {
           "local": "2024-05-08 19:45+02:00",
           "utc": "2024-05-08 17:45Z"
          },
          "terminal": "1"
         },
         "isCargo": false,
         "number": "LH 200",
         "status": "Arrived"
        },
        {
         "aircraft": {
          "modeS": "49130E",
          "model": "Cessna 560 Citation Excel",
          "reg": "CS-DXN"
         },
         "airline": {
          "name": "NJE"
         },
         "arrival": {
          "quality": [
           "Basic",
           "Live"
          ],
          "revisedTime": {
           "local": "2024-05-08 20:51+02:00",
           "utc": "2024-05-08 18:51Z"
          },
          "runwayTime": {
           "local": "2024-05-08 20:51+02:00",
           "utc": "2024-05-08 18:51Z"
          },
          "scheduledTime": {
           "local": "2024-05-08 20:51+02:00",
           "utc": "2024-05-08 18:51Z"
          }
         },
         "callSign": "NJE510D",
         "codeshareStatus": "IsOperator",
         "departure": {
          "airport": {
           "name": "Unknown"
          },
          "quality": []
         },
         "isCargo": false,
         "number": "NJE 510D",
         "status": "Arrived"
        },
        {
         "aircraft": {
          "modeS": "44006D",
          "model": "Airbus A321",
          "reg": "OE-LBF"
         },
         "airline": {
          "iata": "OS",
          "icao": "AUA",
          "name": "Austrian"
         },
         "arrival": {
          "baggageBelt": "B1",
          "gate": "B10",
          "quality": [
           "Basic",
           "Live"
          ],
          "revisedTime": {
           "local": "2024-05-08 20:37+02:00",
           "utc": "2024-05-08 18:37Z"
          },
          "runwayTime": {
           "local": "2024-05-08 20:36+02:00",
           "utc": "2024-05-08 18:36Z"
          },
          "scheduledTime": {
           "local": "2024-05-08 20:10+02:00",
           "utc": "2024-05-08 18:10Z"
          },
          "terminal": "1"
         },
         "callSign": "AUA237",
         "codeshareStatus": "IsOperator",
         "departure": {
          "airport": {
           "iata": "VIE",
           "icao": "LOWW",
           "name": "Vienna"
          },
          "checkInDesk": "351-372",
          "gate": "F32",
          "quality": [
           "Basic",
           "Live"
          ],
          "revisedTime": {
           "local": "2024-05-08 19:46+02:00",
           "utc": "2024-05-08 17:46Z"
          },
          "scheduledTime": {
           "local": "2024-05-08 19:00+02:00",
           "utc": "2024-05-08 17:00Z"
          },
          "terminal": "3"
         },
         "isCargo": false,
         "number": "OS 237",
         "status": "Arrived"
        },
        {
         "aircraft": {
          "modeS": "4AC9F5",
          "model": "Airbus A320 NEO",
          "reg": "SE-ROU"
         },
         "airline": {
          "iata": "SK",
          "icao": "SAS",
          "name": "SAS"
         },
         "arrival": {
          "baggageBelt": "B4",
          "gate": "B02",
          "quality": [
           "Basic",
           "Live"
          ],
          "revisedTime": {
           "local": "2024-05-08 20:31+02:00",
           "utc": "2024-05-08 18:31Z"
          },
          "scheduledTime": {
           "local": "2024-05-08 20:35+02:00",
           "utc": "2024-05-08 18:35Z"
          },
          "terminal": "1"
         },
         "callSign": "SAS1679",
         "codeshareStatus": "IsOperator",
         "departure": {
          "airport": {
           "iata": "CPH",
           "icao": "EKCH",
           "name": "Copenhagen"
          },
          "gate": "D2",
          "quality": [
           "Basic",
           "Live"
          ],
          "revisedTime": {
           "local": "2024-05-08 19:40+02:00",
           "utc": "2024-05-08 17:40Z"
          },
          "scheduledTime": {
           "local": "2024-05-08 19:40+02:00",
           "utc": "2024-05-08 17:40Z"
          },
          "terminal": "erminal3"
         },
         "isCargo": false,
         "number": "SK 1679",
         "status": "Arrived"
        },
        {
         "aircraft": {
          "modeS": "4CAC79",
          "model": "Airbus A320 NEO",
          "reg": "EI-SIJ"
         },
         "airline": {
          "iata": "SK",
          "icao": "SAS",
          "name": "SAS"
         },
         "arrival": {
          "baggageBelt": "A1",
          "gate": "B06",
          "quality": [
           "Basic",
           "Live"
          ],
          "revisedTime": {
           "local": "2024-05-08 20:28+02:00",
           "utc": "2024-05-08 18:28Z"
          },
          "scheduledTime": {
           "local": "2024-05-08 20:45+02:00",
           "utc": "2024-05-08 18:45Z"
          },
          "terminal": "1"
         },
         "callSign": "SAS95W",
         "codeshareStatus": "IsOperator",
         "departure": {
          "airport": {
           "iata": "ARN",
           "icao": "ESSA",
           "name": "Stockholm"
          },
          "checkInDesk": "71-80",
          "gate": "E4",
          "quality": [
           "Basic",
           "Live"
          ],
          "revisedTime": {
           "local": "2024-05-08 19:08+02:00",
           "utc": "2024-05-08 17:08Z"
          },
          "scheduledTime": {
           "local": "2024-05-08 19:10+02:00",
           "utc": "2024-05-08 17:10Z"
          },
          "terminal": "5"
         },
         "isCargo": false,
         "number": "SK 2679",
         "status": "Arrived"
        },
        {
         "aircraft": {
          "modeS": "44001F",
          "model": "Airbus A320",
          "reg": "OE-ICN"
         },
         "airline": {
          "iata": "U2",
          "icao": "EZY",
          "name": "easyJet"
         },
         "arrival": {
          "baggageBelt": "A4",
          "gate": "A32",
          "quality": [
           "Basic",
           "Live"
          ],
          "revisedTime": {
           "local": "2024-05-08 20:24+02:00",
           "utc": "2024-05-08 18:24Z"
          },
          "scheduledTime": {
           "local": "2024-05-08 20:00+02:00",
           "utc": "2024-05-08 18:00Z"
          },
          "terminal": "1"
         },
         "callSign": "EJU13GM",
         "codeshareStatus": "IsOperator",
         "departure": {
          "airport": {
           "iata": "CDG",
           "icao": "LFPG",
           "name": "Paris"
          },
          "quality": [
           "Basic",
           "Live"
          ],
          "revisedTime": {
           "local": "2024-05-08 19:07+02:00",
           "utc": "2024-05-08 17:07Z"
          },
          "runwayTime": {
           "local": "2024-05-08 19:07+02:00",
           "utc": "2024-05-08 17:07Z"
          },
          "scheduledTime": {
           "local": "2024-05-08 18:10+02:00",
           "utc": "2024-05-08 16:10Z"
          },
          "terminal": "2B"
         },
         "isCargo": false,
         "number": "U2 4633",
         "status": "Arrived"
        },
        {
         "aircraft": {
          "modeS": "440185",
          "model": "Airbus A320",
          "reg": "OE-IJI"
         },
         "airline": {
          "iata": "U2",
          "icao": "EZY",
          "name": "easyJet"
         },
         "arrival": {
          "baggageBelt": "A4",
          "gate": "A31",
          "quality": [
           "Basic",
           "Live"
          ],
          "revisedTime": {
           "local": "2024-05-08 20:26+02:00",
           "utc": "2024-05-08 18:26Z"
          },
          "scheduledTime": {
           "local": "2024-05-08 20:45+02:00",
           "utc": "2024-05-08 18:45Z"
          },
          "terminal": "1"
         },
         "callSign": "EJU73UA",
         "codeshareStatus": "IsOperator",
         "departure": {
          "airport": {
           "iata": "CPH",
           "icao": "EKCH",
           "name": "Copenhagen"
          },
          "gate": "F7",
          "quality": [
           "Basic",
           "Live"
          ],
          "revisedTime": {
           "local": "2024-05-08 19:40+02:00",
           "utc": "2024-05-08 17:40Z"
          },
          "runwayTime": {
           "local": "2024-05-08 19:47+02:00",
           "utc": "2024-05-08 17:47Z"
          },
          "scheduledTime": {
           "local": "2024-05-08 19:40+02:00",
           "utc": "2024-05-08 17:40Z"
          },
          "terminal": "erminal2"
         },
         "isCargo": false,
         "number": "U2 5268",
         "status": "Arrived"
        },
        {
         "aircraft": {
          "modeS": "406016",
          "model": "Airbus A320",
          "reg": "G-EZTM"
         },
         "airline": {
          "iata": "U2",
          "icao": "EZY",
          "name": "easyJet"
         },
         "arrival": {
          "baggageBelt": "A2",
          "gate": "X10",
          "quality": [
           "Basic",
           "Live"
          ],
          "revisedTime": {
           "local": "2024-05-08 20:46+02:00",
           "utc": "2024-05-08 18:46Z"
          },
          "runwayTime": {
           "local": "2024-05-08 20:46+02:00",
           "utc": "2024-05-08 18:46Z"
          },
          "scheduledTime": {
           "local": "2024-05-08 20:45+02:00",
           "utc": "2024-05-08 18:45Z"
          },
          "terminal": "1"
         },
         "callSign": "EZY46ZP",
         "codeshareStatus": "IsOperator",
         "departure": {
          "airport": {
           "iata": "BHX",
           "icao": "EGBB",
           "name": "Birmingham"
          },
          "quality": [
           "Basic",
           "Live"
          ],
          "revisedTime": {
           "local": "2024-05-08 18:00+01:00",
           "utc": "2024-05-08 17:00Z"
          },
          "runwayTime": {
           "local": "2024-05-08 18:15+01:00",
           "utc": "2024-05-08 17:15Z"
          },
          "scheduledTime": {
           "local": "2024-05-08 18:00+01:00",
           "utc": "2024-05-08 17:00Z"
          }
         },
         "isCargo": false,
         "number": "U2 6621",
         "status": "Arrived"
        },
        {
         "aircraft": {
          "modeS": "440CF8",
          "model": "Airbus A320",
          "reg": "OE-IBF"
         },
         "airline": {
          "iata": "U2",
          "icao": "EZY",
          "name": "easyJet"
         },
         "arrival": {
          "baggageBelt": "A4",
          "gate": "X19",
          "quality": [
           "Basic",
           "Live"
          ],
          "revisedTime": {
           "local": "2024-05-08 20:00+02:00",
           "utc": "2024-05-08 18:00Z"
          },
          "runwayTime": {
           "local": "2024-05-08 20:00+02:00",
           "utc": "2024-05-08 18:00Z"
          },
          "scheduledTime": {
           "local": "2024-05-08 20:20+02:00",
           "utc": "2024-05-08 18:20Z"
          },
          "terminal": "1"
         },
         "callSign": "EJU5073",
         "codeshareStatus": "IsOperator",
         "departure": {
          "airport": {
           "iata": "LGW",
           "icao": "EGKK",
           "name": "London"
          },
          "quality": [
           "Basic",
           "Live"
          ],
          "revisedTime": {
           "local": "2024-05-08 17:35+01:00",
           "utc": "2024-05-08 16:35Z"
          },
          "runwayTime": {
           "local": "2024-05-08 17:35+01:00",
           "utc": "2024-05-08 16:35Z"
          },
          "scheduledTime": {
           "local": "2024-05-08 17:25+01:00",
           "utc": "2024-05-08 16:25Z"
          },
          "terminal": "N"
         },
         "isCargo": false,
         "number": "U2 8623",
         "status": "Arrived"
        },
        {
         "aircraft": {
          "modeS": "4BCDE8",
          "model": "Boeing 737-800",
          "reg": "TC-SOH"
         },
         "airline": {
          "iata": "XQ",
          "icao": "SXS",
          "name": "Sun Express"
         },
         "arrival": {
          "baggageBelt": "A3",
          "gate": "X02",
          "quality": [
           "Basic",
           "Live"
          ],
          "revisedTime": {
           "local": "2024-05-08 20:34+02:00",
           "utc": "2024-05-08 18:34Z"
          },
          "runwayTime": {
           "local": "2024-05-08 20:34+02:00",
           "utc": "2024-05-08 18:34Z"
          },
          "scheduledTime": {
           "local": "2024-05-08 20:25+02:00",
           "utc": "2024-05-08 18:25Z"
          },
          "terminal": "1"
         },
         "callSign": "SXS7WX",
         "codeshareStatus": "IsOperator",
         "departure": {
          "airport": {
           "iata": "AYT",
           "icao": "LTAI",
           "name": "Antalya"
          },
          "checkInDesk": "123-125",
          "quality": [
           "Basic",
           "Live"
          ],
          "revisedTime": {
           "local": "2024-05-08 17:50+03:00",
           "utc": "2024-05-08 14:50Z"
          },
          "scheduledTime": {
           "local": "2024-05-08 17:50+03:00",
           "utc": "2024-05-08 14:50Z"
          },
          "terminal": "1"
         },
         "isCargo": false,
         "number": "XQ 662",
         "status": "Arrived"
        },
        {
         "aircraft": {
          "modeS": "3C5EE4",
          "model": "Airbus A319",
          "reg": "D-AGWD"
         },
         "airline": {
          "iata": "4U",
          "icao": "GWI",
          "name": "Germanwings"
         },
         "arrival": {
          "quality": [
           "Basic",
           "Live"
          ],
          "revisedTime": {
           "local": "2024-05-08 21:56+02:00",
           "utc": "2024-05-08 19:56Z"
          },
          "runwayTime": {
           "local": "2024-05-08 21:51+02:00",
           "utc": "2024-05-08 19:51Z"
          },
          "scheduledTime": {
           "local": "2024-05-08 21:56+02:00",
           "utc": "2024-05-08 19:56Z"
          }
         },
         "callSign": "GWI71CL",
         "codeshareStatus": "IsOperator",
         "departure": {
          "airport": {
           "iata": "STR",
           "icao": "EDDS",
           "name": "Stuttgart"
          },
          "quality": [
           "Basic",
           "Live"
          ],
          "revisedTime": {
           "local": "2024-05-08 20:53+02:00",
           "utc": "2024-05-08 18:53Z"
          },
          "runwayTime": {
           "local": "2024-05-08 21:00+02:00",
           "utc": "2024-05-08 19:00Z"
          },
          "scheduledTime": {
           "local": "2024-05-08 20:53+02:00",
           "utc": "2024-05-08 18:53Z"
          }
         },
         "isCargo": false,
         "number": "4U 71CL",
         "status": "Arrived"
        },
        {
         "aircraft": {
          "modeS": "406B6C",
          "model": "Embraer 190",
          "reg": "G-LCYS"
         },
         "airline": {
          "iata": "BA",
          "icao": "BAW",
          "name": "British Airways"
         },
         "arrival": {
          "baggageBelt": "B4",
          "gate": "N01",
          "quality": [
           "Basic",
           "Live"
          ],
          "revisedTime": {
           "local": "2024-05-08 21:16+02:00",
           "utc": "2024-05-08 19:16Z"
          },
          "runwayTime": {
           "local": "2024-05-08 21:15+02:00",
           "utc": "2024-05-08 19:15Z"
          },
          "scheduledTime": {
           "local": "2024-05-08 21:15+02:00",
           "utc": "2024-05-08 19:15Z"
          },
          "terminal": "1"
         },
         "callSign": "CFE8495",
         "codeshareStatus": "IsOperator",
         "departure": {
          "airport": {
           "iata": "LCY",
           "icao": "EGLC",
           "name": "London"
          },
          "gate": "5",
          "quality": [
           "Basic",
           "Live"
          ],
          "revisedTime": {
           "local": "2024-05-08 18:44+01:00",
           "utc": "2024-05-08 17:44Z"
          },
          "runway": "09",
          "runwayTime": {
           "local": "2024-05-08 18:52+01:00",
           "utc": "2024-05-08 17:52Z"
          },
          "scheduledTime": {
           "local": "2024-05-08 18:30+01:00",
           "utc": "2024-05-08 17:30Z"
          }
         },
         "isCargo": false,
         "number": "BA 8495",
         "status": "Arrived"
        },
        {
         "aircraft": {
          "modeS": "4B1A37",
          "model": "Airbus A320",
          "reg": "HB-JYD"
         },
         "airline": {
          "iata": "DS",
          "icao": "EZS",
          "name": "Easyjet Switzerland"
         },
         "arrival": {
          "baggageBelt": "A2",
          "gate": "A33",
          "quality": [
           "Basic",
           "Live"
          ],
          "revisedTime": {
           "local": "2024-05-08 20:59+02:00",
           "utc": "2024-05-08 18:59Z"
          },
          "scheduledTime": {
           "local": "2024-05-08 21:10+02:00",
           "utc": "2024-05-08 19:10Z"
          },
          "terminal": "1"
         },
         "callSign": "EZS72LD",
         "codeshareStatus": "IsCodeshared",
         "departure": {
          "airport": {
           "iata": "BSL",
           "icao": "LFSB",
           "name": "Bâle/Mulhouse"
          },
          "checkInDesk": "42-50",
          "gate": "84",
          "quality": [
           "Basic",
           "Live"
          ],
          "revisedTime": {
           "local": "2024-05-08 19:53+02:00",
           "utc": "2024-05-08 17:53Z"
          },
          "runwayTime": {
           "local": "2024-05-08 19:54+02:00",
           "utc": "2024-05-08 17:54Z"
          },
          "scheduledTime": {
           "local": "2024-05-08 19:40+02:00",
           "utc": "2024-05-08 17:40Z"
          }
         },
         "isCargo": false,
         "number": "DS 1189",
         "status": "Arrived"
        },
        {
         "aircraft": {
          "modeS": "440172",
          "model": "Airbus A319",
          "reg": "OE-LQX"
         },
         "airline": {
          "iata": "EC",
          "icao": "EJU",
          "name": "EasyJet Europe"
         },
         "arrival": {
          "baggageBelt": "A4",
          "gate": "A36",
          "quality": [
           "Basic",
           "Live"
          ],
          "revisedTime": {
           "local": "2024-05-08 21:07+02:00",
           "utc": "2024-05-08 19:07Z"
          },
          "scheduledTime": {
           "local": "2024-05-08 21:25+02:00",
           "utc": "2024-05-08 19:25Z"
          },
          "terminal": "1"
         },
         "callSign": "EJU82HE",
         "codeshareStatus": "IsCodeshared",
         "departure": {
          "airport": {
           "iata": "VCE",
           "icao": "LIPZ",
           "name": "Venice"
          },
          "quality": []
         },
         "isCargo": false,
         "number": "EC 4077",
         "status": "Arrived"
        },
        {
         "aircraft": {
          "modeS": "440D10",
          "model": "Airbus A320",
          "reg": "OE-IBS"
         },
         "airline": {
          "iata": "EC",
          "icao": "EJU",
          "name": "EasyJet Europe"
         },
         "arrival": {
          "baggageBelt": "A3",
          "gate": "A34",
          "quality": [
           "Basic",
           "Live"
          ],
          "revisedTime": {
           "local": "2024-05-08 21:53+02:00",
           "utc": "2024-05-08 19:53Z"
          },
          "runwayTime": {
           "local": "2024-05-08 21:53+02:00",
           "utc": "2024-05-08 19:53Z"
          },
          "scheduledTime": {
           "local": "2024-05-08 21:35+02:00",
           "utc": "2024-05-08 19:35Z"
          },
          "terminal": "1"
         },
         "callSign": "EJU82CP",
         "codeshareStatus": "IsCodeshared",
         "departure": {
          "airport": {
           "iata": "LPA",
           "icao": "GCLP",
           "name": "Gran Canaria Island"
          },
          "checkInDesk": "219-220",
          "gate": "C19",
          "quality": [
           "Basic",
           "Live"
          ],
          "revisedTime": {
           "local": "2024-05-08 15:59+01:00",
           "utc": "2024-05-08 14:59Z"
          },
          "scheduledTime": {
           "local": "2024-05-08 15:35+01:00",
           "utc": "2024-05-08 14:35Z"
          },
          "terminal": "1"
         },
         "isCargo": false,
         "number": "EC 5112",
         "status": "Arrived"
        },
        {
         "aircraft": {
          "modeS": "440B1E",
          "model": "Airbus A320",
          "reg": "OE-IWW"
         },
         "airline": {
          "iata": "EC",
          "icao": "EJU",
          "name": "EasyJet Europe"
         },
         "arrival": {
          "baggageBelt": "B1",
          "gate": "Y07",
          "quality": [
           "Basic",
           "Live"
          ],
          "revisedTime": {
           "local": "2024-05-08 20:57+02:00",
           "utc": "2024-05-08 18:57Z"
          },
          "scheduledTime": {
           "local": "2024-05-08 21:05+02:00",
           "utc": "2024-05-08 19:05Z"
          },
          "terminal": "1"
         },
         "callSign": "EJU91TU",
         "codeshareStatus": "IsCodeshared",
         "departure": {
          "airport": {
           "iata": "ADB",
           "icao": "LTBJ",
           "name": "İzmir"
          },
          "checkInDesk": "53-55",
          "gate": "28",
          "quality": [
           "Basic",
           "Live"
          ],
          "revisedTime": {
           "local": "2024-05-08 19:12+03:00",
           "utc": "2024-05-08 16:12Z"
          },
          "runwayTime": {
           "local": "2024-05-08 19:15+03:00",
           "utc": "2024-05-08 16:15Z"
          },
          "scheduledTime": {
           "local": "2024-05-08 18:50+03:00",
           "utc": "2024-05-08 15:50Z"
          }
         },
         "isCargo": false,
         "number": "EC 5316",
         "status": "Arrived"
        },
        {
         "aircraft": {
          "modeS": "44017C",
          "model": "Airbus A320",
          "reg": "OE-IJH"
         },
         "airline": {
          "iata": "EC",
          "icao": "EJU",
          "name": "EasyJet Europe"
         },
         "arrival": {
          "baggageBelt": "A2",
          "gate": "A22",
          "quality": [
           "Basic",
           "Live"
          ],
          "revisedTime": {
           "local": "2024-05-08 21:46+02:00",
           "utc": "2024-05-08 19:46Z"
          },
          "scheduledTime": {
           "local": "2024-05-08 21:15+02:00",
           "utc": "2024-05-08 19:15Z"
          },
          "terminal": "1"
         },
         "codeshareStatus": "IsCodeshared",
         "departure": {
          "airport": {
           "iata": "PMI",
           "icao": "LEPA",
           "name": "Palma De Mallorca"
          },
          "checkInDesk": "080-085",
          "gate": "C45",
          "quality": [
           "Basic",
           "Live"
          ],
          "revisedTime": {
           "local": "2024-05-08 19:11+02:00",
           "utc": "2024-05-08 17:11Z"
          },
          "scheduledTime": {
           "local": "2024-05-08 18:25+02:00",
           "utc": "2024-05-08 16:25Z"
          },
          "terminal": "N"
         },
         "isCargo": false,
         "number": "EC 7337",
         "status": "Arrived"
        },
        {
         "aircraft": {
          "modeS": "3C54A1",
          "model": "Airbus A321 NEO",
          "reg": "D-AEEA"
         },
         "airline": {
          "iata": "EW",
          "icao": "EWG",
          "name": "Eurowings"
         },
         "arrival": {
          "baggageBelt": "A1",
          "gate": "A07",
          "quality": [
           "Basic",
           "Live"
          ],
          "revisedTime": {
           "local": "2024-05-08 21:09+02:00",
           "utc": "2024-05-08 19:09Z"
          },
          "scheduledTime": {
           "local": "2024-05-08 21:25+02:00",
           "utc": "2024-05-08 19:25Z"
          },
          "terminal": "1"
         },
         "callSign": "GWI8043",
         "codeshareStatus": "IsOperator",
         "departure": {
          "airport": {
           "iata": "DUS",
           "icao": "EDDL",
           "name": "Duesseldorf"
          },
          "checkInDesk": "161,167",
          "gate": "A25",
          "quality": [
           "Basic",
           "Live"
          ],
          "revisedTime": {
           "local": "2024-05-08 20:10+02:00",
           "utc": "2024-05-08 18:10Z"
          },
          "runwayTime": {
           "local": "2024-05-08 20:22+02:00",
           "utc": "2024-05-08 18:22Z"
          },
          "scheduledTime": {
           "local": "2024-05-08 20:15+02:00",
           "utc": "2024-05-08 18:15Z"
          },
          "terminal": "B"
         },
         "isCargo": false,
         "number": "EW 8043",
         "status": "Arrived"
        },
        {
         "aircraft": {
          "modeS": "4D239F",
          "model": "Airbus A320",
          "reg": "9H-MLP"
         },
         "airline": {
          "iata": "EW",
          "icao": "EWG",
          "name": "Eurowings"
         },
         "arrival": {
          "baggageBelt": "B4",
          "gate": "A38",
          "quality": [
           "Basic",
           "Live"
          ],
          "revisedTime": {
           "local": "2024-05-08 22:06+02:00",
           "utc": "2024-05-08 20:06Z"
          },
          "scheduledTime": {
           "local": "2024-05-08 21:35+02:00",
           "utc": "2024-05-08 19:35Z"
          },
          "terminal": "1"
         },
         "callSign": "EWG8JW",
         "codeshareStatus": "IsOperator",
         "departure": {
          "airport": {
           "iata": "CGN",
           "icao": "EDDK",
           "name": "Cologne"
          },
          "quality": [
           "Basic",
           "Live"
          ],
          "revisedTime": {
           "local": "2024-05-08 21:17+02:00",
           "utc": "2024-05-08 19:17Z"
          },
          "runwayTime": {
           "local": "2024-05-08 21:17+02:00",
           "utc": "2024-05-08 19:17Z"
          },
          "scheduledTime": {
           "local": "2024-05-08 20:25+02:00",
           "utc": "2024-05-08 18:25Z"
          },
          "terminal": "1"
         },
         "isCargo": false,
         "number": "EW 8055",
         "status": "Arrived"
        },
        {
         "aircraft": {
          "modeS": "4D2494",
          "model": "Airbus A320",
          "reg": "9H-MLZ"
         },
         "airline": {
          "iata": "EW",
          "icao": "EWG",
          "name": "Eurowings"
         },
         "arrival": {
          "baggageBelt": "A1",
          "gate": "A35",
          "quality": [
           "Basic",
           "Live"
          ],
          "revisedTime": {
           "local": "2024-05-08 22:03+02:00",
           "utc": "2024-05-08 20:03Z"
          },
          "runwayTime": {
           "local": "2024-05-08 22:02+02:00",
           "utc": "2024-05-08 20:02Z"
          },
          "scheduledTime": {
           "local": "2024-05-08 21:30+02:00",
           "utc": "2024-05-08 19:30Z"
          },
          "terminal": "1"
         },
         "callSign": "EWG2KV",
         "codeshareStatus": "IsOperator",
         "departure": {
          "airport": {
           "iata": "VIE",
           "icao": "LOWW",
           "name": "Vienna"
          },
          "checkInDesk": "341-348",
          "gate": "C38",
          "quality": [
           "Basic",
           "Live"
          ],
          "revisedTime": {
           "local": "2024-05-08 20:55+02:00",
           "utc": "2024-05-08 18:55Z"
          },
          "runwayTime": {
           "local": "2024-05-08 20:56+02:00",
           "utc": "2024-05-08 18:56Z"
          },
          "scheduledTime": {
           "local": "2024-05-08 20:10+02:00",
           "utc": "2024-05-08 18:10Z"
          },
          "terminal": "3"
         },
         "isCargo": false,
         "number": "EW 8753",
         "status": "Arrived"
        },
        {
         "aircraft": {
          "modeS": "3C5EF5",
          "model": "Airbus A319",
          "reg": "D-AGWU"
         },
         "airline": {
          "iata": "EW",
          "icao": "EWG",
          "name": "Eurowings"
         },
         "arrival": {
          "baggageBelt": "B3",
          "gate": "A37",
          "quality": [
           "Basic",
           "Live"
          ],
          "revisedTime": {
           "local": "2024-05-08 21:34+02:00",
           "utc": "2024-05-08 19:34Z"
          },
          "scheduledTime": {
           "local": "2024-05-08 21:55+02:00",
           "utc": "2024-05-08 19:55Z"
          },
          "terminal": "1"
         },
         "callSign": "EWG3NK",
         "codeshareStatus": "IsOperator",
         "departure": {
          "airport": {
           "iata": "ZRH",
           "icao": "LSZH",
           "name": "Zurich"
          },
          "checkInDesk": "2(5)",
          "gate": "A75",
          "quality": [
           "Basic",
           "Live"
          ],
          "revisedTime": {
           "local": "2024-05-08 20:15+02:00",
           "utc": "2024-05-08 18:15Z"
          },
          "runwayTime": {
           "local": "2024-05-08 20:29+02:00",
           "utc": "2024-05-08 18:29Z"
          },
          "scheduledTime": {
           "local": "2024-05-08 20:15+02:00",
           "utc": "2024-05-08 18:15Z"
          }
         },
         "isCargo": false,
         "number": "EW 8763",
         "status": "Arrived"
        },
        {
         "aircraft": {
          "modeS": "4D24EA",
          "model": "Boeing 737 MAX 8",
          "reg": "9H-VVL"
         },
         "airline": {
          "iata": "FR",
          "icao": "RYR",
          "name": "Ryanair"
         },
         "arrival": {
          "baggageBelt": "C1",
          "gate": "Z40",
          "quality": [
           "Basic",
           "Live"
          ],
          "revisedTime": {
           "local": "2024-05-08 21:52+02:00",
           "utc": "2024-05-08 19:52Z"
          },
          "runwayTime": {
           "local": "2024-05-08 21:52+02:00",
           "utc": "2024-05-08 19:52Z"
          },
          "scheduledTime": {
           "local": "2024-05-08 21:25+02:00",
           "utc": "2024-05-08 19:25Z"
          },
          "terminal": "2"
         },
         "callSign": "RYR56BP",
         "codeshareStatus": "IsOperator",
         "departure": {
          "airport": {
           "iata": "MAN",
           "icao": "EGCC",
           "name": "Manchester"
          },
          "gate": "54",
          "quality": [
           "Basic",
           "Live"
          ],
          "revisedTime": {
           "local": "2024-05-08 19:13+01:00",
           "utc": "2024-05-08 18:13Z"
          },
          "runwayTime": {
           "local": "2024-05-08 19:26+01:00",
           "utc": "2024-05-08 18:26Z"
          },
          "scheduledTime": {
           "local": "2024-05-08 18:30+01:00",
           "utc": "2024-05-08 17:30Z"
          },
          "terminal": "3"
         },
         "isCargo": false,
         "number": "FR 1155",
         "status": "Arrived"
        },
        {
         "aircraft": {
          "modeS": "48C1A4",
          "model": "Boeing 737-800",
          "reg": "SP-RNE"
         },
         "airline": {
          "iata": "FR",
          "icao": "RYR",
          "name": "Ryanair"
         },
         "arrival": {
          "baggageBelt": "C1",
          "gate": "Z34",
          "quality": [
           "Basic",
           "Live"
          ],
          "revisedTime": {
           "local": "2024-05-08 21:30+02:00",
           "utc": "2024-05-08 19:30Z"
          },
          "scheduledTime": {
           "local": "2024-05-08 21:40+02:00",
           "utc": "2024-05-08 19:40Z"
          },
          "terminal": "2"
         },
         "callSign": "RYR9YP",
         "codeshareStatus": "IsOperator",
         "departure": {
          "airport": {
           "iata": "BUD",
           "icao": "LHBP",
           "name": "Budapest"
          },
          "quality": [
           "Basic",
           "Live"
          ],
          "revisedTime": {
           "local": "2024-05-08 20:23+02:00",
           "utc": "2024-05-08 18:23Z"
          },
          "runwayTime": {
           "local": "2024-05-08 20:24+02:00",
           "utc": "2024-05-08 18:24Z"
          },
          "scheduledTime": {
           "local": "2024-05-08 20:10+02:00",
           "utc": "2024-05-08 18:10Z"
          },
          "terminal": "2B"
         },
         "isCargo": false,
         "number": "FR 197",
         "status": "Arrived"
        },
        {
         "aircraft": {
          "modeS": "4CA6A9",
          "model": "Boeing 737-800",
          "reg": "EI-DYV"
         },
         "airline": {
          "iata": "FR",
          "icao": "RYR",
          "name": "Ryanair"
         },
         "arrival": {
          "baggageBelt": "C3",
          "gate": "Z30",
          "quality": [
           "Basic",
           "Live"
          ],
          "revisedTime": {
           "local": "2024-05-08 21:57+02:00",
           "utc": "2024-05-08 19:57Z"
          },
          "runwayTime": {
           "local": "2024-05-08 21:57+02:00",
           "utc": "2024-05-08 19:57Z"
          },
          "scheduledTime": {
           "local": "2024-05-08 21:55+02:00",
           "utc": "2024-05-08 19:55Z"
          },
          "terminal": "2"
         },
         "callSign": "RYR37SR",
         "codeshareStatus": "IsOperator",
         "departure": {
          "airport": {
           "iata": "IBZ",
           "icao": "LEIB",
           "name": "Ibiza Town"
          },
          "checkInDesk": "01-07",
          "gate": "15",
          "quality": [
           "Basic",
           "Live"
          ],
          "revisedTime": {
           "local": "2024-05-08 19:18+02:00",
           "utc": "2024-05-08 17:18Z"
          },
          "runwayTime": {
           "local": "2024-05-08 19:25+02:00",
           "utc": "2024-05-08 17:25Z"
          },
          "scheduledTime": {
           "local": "2024-05-08 19:05+02:00",
           "utc": "2024-05-08 17:05Z"
          },
          "terminal": "1"
         },
         "isCargo": false,
         "number": "FR 209",
         "status": "Arrived"
        },
        {
         "aircraft": {
          "modeS": "4CAE51",
          "model": "Boeing 737 MAX 8",
          "reg": "EI-IJA"
         },
         "airline": {
          "iata": "FR",
          "icao": "RYR",
          "name": "Ryanair"
         },
         "arrival": {
          "baggageBelt": "C3",
          "gate": "Z29",
          "quality": [
           "Basic",
           "Live"
          ],
          "revisedTime": {
           "local": "2024-05-08 21:32+02:00",
           "utc": "2024-05-08 19:32Z"
          },
          "scheduledTime": {
           "local": "2024-05-08 21:20+02:00",
           "utc": "2024-05-08 19:20Z"
          },
          "terminal": "2"
         },
         "callSign": "RYR8HR",
         "codeshareStatus": "IsOperator",
         "departure": {
          "airport": {
           "iata": "PMI",
           "icao": "LEPA",
           "name": "Palma De Mallorca"
          },
          "checkInDesk": "002-017",
          "gate": "C54",
          "quality": [
           "Basic",
           "Live"
          ],
          "revisedTime": {
           "local": "2024-05-08 18:53+02:00",
           "utc": "2024-05-08 16:53Z"
          },
          "runwayTime": {
           "local": "2024-05-08 19:09+02:00",
           "utc": "2024-05-08 17:09Z"
          },
          "scheduledTime": {
           "local": "2024-05-08 18:35+02:00",
           "utc": "2024-05-08 16:35Z"
          },
          "terminal": "N"
         },
         "isCargo": false,
         "number": "FR 263",
         "status": "Arrived"
        },
        {
         "aircraft": {
          "modeS": "4CA215",
          "model": "Airbus A320",
          "reg": "EI-DEG"
         },
         "airline": {
          "iata": "EI",
          "icao": "EIN",
          "name": "Aer Lingus"
         },
         "arrival": {
          "baggageBelt": "A1",
          "gate": "X06",
          "quality": [
           "Basic",
           "Live"
          ],
          "revisedTime": {
           "local": "2024-05-08 20:49+02:00",
           "utc": "2024-05-08 18:49Z"
          },
          "runwayTime": {
           "local": "2024-05-08 20:49+02:00",
           "utc": "2024-05-08 18:49Z"
          },
          "scheduledTime": {
           "local": "2024-05-08 21:05+02:00",
           "utc": "2024-05-08 19:05Z"
          },
          "terminal": "1"
         },
         "callSign": "EIN33T",
         "codeshareStatus": "IsOperator",
         "departure": {
          "airport": {
           "iata": "DUB",
           "icao": "EIDW",
           "name": "Dublin"
          },
          "checkInDesk": "29-56",
          "gate": "412",
          "quality": [
           "Basic",
           "Live"
          ],
          "revisedTime": {
           "local": "2024-05-08 17:45+01:00",
           "utc": "2024-05-08 16:45Z"
          },
          "runwayTime": {
           "local": "2024-05-08 18:02+01:00",
           "utc": "2024-05-08 17:02Z"
          },
          "scheduledTime": {
           "local": "2024-05-08 17:45+01:00",
           "utc": "2024-05-08 16:45Z"
          },
          "terminal": "2"
         },
         "isCargo": false,
         "number": "EI 336",
         "status": "Arrived"
        },
        {
         "aircraft": {
          "modeS": "4D224C",
          "model": "Boeing 737-800",
          "reg": "9H-QAT"
         },
         "airline": {
          "iata": "FR",
          "icao": "RYR",
          "name": "Ryanair"
         },
         "arrival": {
          "baggageBelt": "C2",
          "gate": "Z36",
          "quality": [
           "Basic",
           "Live"
          ],
          "revisedTime": {
           "local": "2024-05-08 22:00+02:00",
           "utc": "2024-05-08 20:00Z"
          },
          "runwayTime": {
           "local": "2024-05-08 22:00+02:00",
           "utc": "2024-05-08 20:00Z"
          },
          "scheduledTime": {
           "local": "2024-05-08 21:40+02:00",
           "utc": "2024-05-08 19:40Z"
          },
          "terminal": "2"
         },
         "callSign": "RYR2D",
         "codeshareStatus": "IsOperator",
         "departure": {
          "airport": {
           "iata": "OTP",
           "icao": "LROP",
           "name": "Bucharest"
          },
          "quality": [
           "Basic",
           "Live"
          ],
          "revisedTime": {
           "local": "2024-05-08 21:04+03:00",
           "utc": "2024-05-08 18:04Z"
          },
          "scheduledTime": {
           "local": "2024-05-08 20:25+03:00",
           "utc": "2024-05-08 17:25Z"
          }
         },
         "isCargo": false,
         "number": "FR 315",
         "status": "Arrived"
        },
        {
         "aircraft": {
          "modeS": "4CAE55",
          "model": "Boeing 737 MAX 8",
          "reg": "EI-IJE"
         },
         "airline": {
          "iata": "FR",
          "icao": "RYR",
          "name": "Ryanair"
         },
         "arrival": {
          "baggageBelt": "C2",
          "gate": "Z42",
          "quality": [
           "Basic",
           "Live"
          ],
          "revisedTime": {
           "local": "2024-05-08 21:36+02:00",
           "utc": "2024-05-08 19:36Z"
          },
          "scheduledTime": {
           "local": "2024-05-08 21:45+02:00",
           "utc": "2024-05-08 19:45Z"
          },
          "terminal": "2"
         },
         "callSign": "RYR7784",
         "codeshareStatus": "IsOperator",
         "departure": {
          "airport": {
           "iata": "EDI",
           "icao": "EGPH",
           "name": "Edinburgh"
          },
          "quality": [
           "Basic",
           "Live"
          ],
          "revisedTime": {
           "local": "2024-05-08 18:57+01:00",
           "utc": "2024-05-08 17:57Z"
          },
          "scheduledTime": {
           "local": "2024-05-08 18:45+01:00",
           "utc": "2024-05-08 17:45Z"
          }
         },
         "isCargo": false,
         "number": "FR 7784",
         "status": "Arrived"
        },
        {
         "aircraft": {
          "modeS": "3C66AA",
          "model": "Airbus A320 (Sharklets)",
          "reg": "D-AIUJ"
         },
         "airline": {
          "iata": "LH",
          "icao": "DLH",
          "name": "Lufthansa"
         },
         "arrival": {
          "baggageBelt": "B3",
          "gate": "B03",
          "quality": [
           "Basic",
           "Live"
          ],
          "revisedTime": {
           "local": "2024-05-08 21:13+02:00",
           "utc": "2024-05-08 19:13Z"
          },
          "scheduledTime": {
           "local": "2024-05-08 21:05+02:00",
           "utc": "2024-05-08 19:05Z"
          },
          "terminal": "1"
         },
         "callSign": "DLH4N",
         "codeshareStatus": "IsOperator",
         "departure": {
          "airport": {
           "iata": "MUC",
           "icao": "EDDM",
           "name": "Munich"
          },
          "quality": [
           "Basic",
           "Live"
          ],
          "revisedTime": {
           "local": "2024-05-08 20:00+02:00",
           "utc": "2024-05-08 18:00Z"
          },
          "runwayTime": {
           "local": "2024-05-08 20:27+02:00",
           "utc": "2024-05-08 18:27Z"
          },
          "scheduledTime": {
           "local": "2024-05-08 20:00+02:00",
           "utc": "2024-05-08 18:00Z"
          },
          "terminal": "2"
         },
         "isCargo": false,
         "number": "LH 1960",
         "status": "Arrived"
        },
        {
         "aircraft": {
          "modeS": "3C658E",
          "model": "Airbus A319",
          "reg": "D-AILN"
         },
         "airline": {
          "iata": "LH",
          "icao": "DLH",
          "name": "Lufthansa"
         },
         "arrival": {
          "baggageBelt": "B1",
          "gate": "B02",
          "quality": [
           "Basic",
           "Live"
          ],
          "revisedTime": {
           "local": "2024-05-08 22:15+02:00",
           "utc": "2024-05-08 20:15Z"
          },
          "scheduledTime": {
           "local": "2024-05-08 21:25+02:00",
           "utc": "2024-05-08 19:25Z"
          },
          "terminal": "1"
         },
         "callSign": "DLH044",
         "codeshareStatus": "IsOperator",
         "departure": {
          "airport": {
           "iata": "FRA",
           "icao": "EDDF",
           "name": "Frankfurt-am-Main"
          },
          "checkInDesk": "259-335",
          "gate": "A54",
          "quality": [
           "Basic",
           "Live"
          ],
          "revisedTime": {
           "local": "2024-05-08 21:05+02:00",
           "utc": "2024-05-08 19:05Z"
          },
          "runwayTime": {
           "local": "2024-05-08 21:29+02:00",
           "utc": "2024-05-08 19:29Z"
          },
          "scheduledTime": {
           "local": "2024-05-08 20:15+02:00",
           "utc": "2024-05-08 18:15Z"
          },
          "terminal": "1"
         },
         "isCargo": false,
         "number": "LH 44",
         "status": "Arrived"
        },
        {
         "aircraft": {
          "modeS": "4BAA64",
          "model": "Airbus A321",
          "reg": "TC-JSD"
         },
         "airline": {
          "iata": "TK",
          "icao": "THY",
          "name": "Turkish"
         },
         "arrival": {
          "baggageBelt": "A3",
          "gate": "X01",
          "quality": [
           "Basic",
           "Live"
          ],
          "revisedTime": {
           "local": "2024-05-08 21:04+02:00",
           "utc": "2024-05-08 19:04Z"
          },
          "scheduledTime": {
           "local": "2024-05-08 21:05+02:00",
           "utc": "2024-05-08 19:05Z"
          },
          "terminal": "1"
         },
         "callSign": "THY9AV",
         "codeshareStatus": "IsOperator",
         "departure": {
          "airport": {
           "iata": "IST",
           "icao": "LTFM",
           "name": "Istanbul"
          },
          "checkInDesk": "E-F",
          "gate": "A7B",
          "quality": [
           "Basic",
           "Live"
          ],
          "revisedTime": {
           "local": "2024-05-08 19:15+03:00",
           "utc": "2024-05-08 16:15Z"
          },
          "scheduledTime": {
           "local": "2024-05-08 19:15+03:00",
           "utc": "2024-05-08 16:15Z"
          }
         },
         "isCargo": false,
         "number": "TK 1727",
         "status": "Arrived"
        },
        {
         "aircraft": {
          "modeS": "4B1A37",
          "model": "Airbus A320",
          "reg": "HB-JYD"
         },
         "airline": {
          "iata": "U2",
          "icao": "EZY",
          "name": "easyJet"
         },
         "arrival": {
          "baggageBelt": "A2",
          "gate": "A33",
          "quality": [
           "Basic",
           "Live"
          ],
          "revisedTime": {
           "local": "2024-05-08 20:59+02:00",
           "utc": "2024-05-08 18:59Z"
          },
          "scheduledTime": {
           "local": "2024-05-08 21:10+02:00",
           "utc": "2024-05-08 19:10Z"
          },
          "terminal": "1"
         },
         "callSign": "EZS72LD",
         "codeshareStatus": "IsOperator",
         "departure": {
          "airport": {
           "iata": "BSL",
           "icao": "LFSB",
           "name": "Bâle/Mulhouse"
          },
          "checkInDesk": "42-50",
          "gate": "84",
          "quality": [
           "Basic",
           "Live"
          ],
          "revisedTime": {
           "local": "2024-05-08 19:53+02:00",
           "utc": "2024-05-08 17:53Z"
          },
          "runwayTime": {
           "local": "2024-05-08 19:54+02:00",
           "utc": "2024-05-08 17:54Z"
          },
          "scheduledTime": {
           "local": "2024-05-08 19:40+02:00",
           "utc": "2024-05-08 17:40Z"
          }
         },
         "isCargo": false,
         "number": "U2 1189",
         "status": "Arrived"
        },
        {
         "aircraft": {
          "modeS": "406A91",
          "model": "Airbus A320 (Sharklets)",
          "reg": "G-EZWP"
         },
         "airline": {
          "iata": "U2",
          "icao": "EZY",
          "name": "easyJet"
         },
         "arrival": {
          "baggageBelt": "A2",
          "gate": "X03",
          "quality": [
           "Basic",
           "Live"
          ],
          "revisedTime": {
           "local": "2024-05-08 21:01+02:00",
           "utc": "2024-05-08 19:01Z"
          },
          "scheduledTime": {
           "local": "2024-05-08 21:20+02:00",
           "utc": "2024-05-08 19:20Z"
          },
          "terminal": "1"
         },
         "callSign": "EZY51BJ",
         "codeshareStatus": "IsOperator",
         "departure": {
          "airport": {
           "iata": "BRS",
           "icao": "EGGD",
           "name": "Bristol"
          },
          "quality": [
           "Basic"
          ],
          "scheduledTime": {
           "local": "2024-05-08 18:20+01:00",
           "utc": "2024-05-08 17:20Z"
          }
         },
         "isCargo": false,
         "number": "U2 2933",
         "status": "Arrived"
        },
        {
         "aircraft": {
          "modeS": "440172",
          "model": "Airbus A319",
          "reg": "OE-LQX"
         },
         "airline": {
          "iata": "U2",
          "icao": "EZY",
          "name": "easyJet"
         },
         "arrival": {
          "baggageBelt": "A4",
          "gate": "A36",
          "quality": [
           "Basic",
           "Live"
          ],
          "revisedTime": {
           "local": "2024-05-08 21:07+02:00",
           "utc": "2024-05-08 19:07Z"
          },
          "scheduledTime": {
           "local": "2024-05-08 21:25+02:00",
           "utc": "2024-05-08 19:25Z"
          },
          "terminal": "1"
         },
         "callSign": "EJU82HE",
         "codeshareStatus": "IsOperator",
         "departure": {
          "airport": {
           "iata": "VCE",
           "icao": "LIPZ",
           "name": "Venice"
          },
          "quality": [
           "Basic",
           "Live"
          ],
          "revisedTime": {
           "local": "2024-05-08 19:48+02:00",
           "utc": "2024-05-08 17:48Z"
          },
          "runwayTime": {
           "local": "2024-05-08 19:51+02:00",
           "utc": "2024-05-08 17:51Z"
          },
          "scheduledTime": {
           "local": "2024-05-08 19:40+02:00",
           "utc": "2024-05-08 17:40Z"
          }
         },
         "isCargo": false,
         "number": "U2 4077",
         "status": "Arrived"
        },
        {
         "aircraft": {
          "modeS": "440D10",
          "model": "Airbus A320",
          "reg": "OE-IBS"
         },
         "airline": {
          "iata": "U2",
          "icao": "EZY",
          "name": "easyJet"
         },
         "arrival": {
          "baggageBelt": "A3",
          "gate": "A34",
          "quality": [
           "Basic",
           "Live"
          ],
          "revisedTime": {
           "local": "2024-05-08 21:53+02:00",
           "utc": "2024-05-08 19:53Z"
          },
          "runwayTime": {
           "local": "2024-05-08 21:53+02:00",
           "utc": "2024-05-08 19:53Z"
          },
          "scheduledTime": {
           "local": "2024-05-08 21:35+02:00",
           "utc": "2024-05-08 19:35Z"
          },
          "terminal": "1"
         },
         "callSign": "EJU82CP",
         "codeshareStatus": "IsOperator",
         "departure": {
          "airport": {
           "iata": "LPA",
           "icao": "GCLP",
           "name": "Gran Canaria Island"
          },
          "checkInDesk": "219-220",
          "gate": "C19",
          "quality": [
           "Basic",
           "Live"
          ],
          "revisedTime": {
           "local": "2024-05-08 15:59+01:00",
           "utc": "2024-05-08 14:59Z"
          },
          "scheduledTime": {
           "local": "2024-05-08 15:35+01:00",
           "utc": "2024-05-08 14:35Z"
          },
          "terminal": "1"
         },
         "isCargo": false,
         "number": "U2 5112",
         "status": "Arrived"
        },
        {
         "aircraft": {
          "modeS": "440B1E",
          "model": "Airbus A320",
          "reg": "OE-IWW"
         },
         "airline": {
          "iata": "U2",
          "icao": "EZY",
          "name": "easyJet"
         },
         "arrival": {
          "baggageBelt": "B1",
          "gate": "Y07",
          "quality": [
           "Basic",
           "Live"
          ],
          "revisedTime": {
           "local": "2024-05-08 20:57+02:00",
           "utc": "2024-05-08 18:57Z"
          },
          "scheduledTime": {
           "local": "2024-05-08 21:05+02:00",
           "utc": "2024-05-08 19:05Z"
          },
          "terminal": "1"
         },
         "callSign": "EJU91TU",
         "codeshareStatus": "IsOperator",
         "departure": {
          "airport": {
           "iata": "ADB",
           "icao": "LTBJ",
           "name": "İzmir"
          },
          "checkInDesk": "53-55",
          "gate": "28",
          "quality": [
           "Basic",
           "Live"
          ],
          "revisedTime": {
           "local": "2024-05-08 19:12+03:00",
           "utc": "2024-05-08 16:12Z"
          },
          "runwayTime": {
           "local": "2024-05-08 19:15+03:00",
           "utc": "2024-05-08 16:15Z"
          },
          "scheduledTime": {
           "local": "2024-05-08 18:50+03:00",
           "utc": "2024-05-08 15:50Z"
          }
         },
         "isCargo": false,
         "number": "U2 5316",
         "status": "Arrived"
        },
        {
         "aircraft": {
          "modeS": "44017C",
          "model": "Airbus A320",
          "reg": "OE-IJH"
         },
         "airline": {
          "iata": "U2",
          "icao": "EZY",
          "name": "easyJet"
         },
         "arrival": {
          "baggageBelt": "A2",
          "gate": "A22",
          "quality": [
           "Basic",
           "Live"
          ],
          "revisedTime": {
           "local": "2024-05-08 21:46+02:00",
           "utc": "2024-05-08 19:46Z"
          },
          "scheduledTime": {
           "local": "2024-05-08 21:15+02:00",
           "utc": "2024-05-08 19:15Z"
          },
          "terminal": "1"
         },
         "codeshareStatus": "IsOperator",
         "departure": {
          "airport": {
           "iata": "PMI",
           "icao": "LEPA",
           "name": "Palma De Mallorca"
          },
          "checkInDesk": "080-085",
          "gate": "C45",
          "quality": [
           "Basic",
           "Live"
          ],
          "revisedTime": {
           "local": "2024-05-08 19:11+02:00",
           "utc": "2024-05-08 17:11Z"
          },
          "scheduledTime": {
           "local": "2024-05-08 18:25+02:00",
           "utc": "2024-05-08 16:25Z"
          },
          "terminal": "N"
         },
         "isCargo": false,
         "number": "U2 7337",
         "status": "Arrived"
        },
        {
         "aircraft": {
          "modeS": "503E9B",
          "model": "Airbus A320",
          "reg": "LY-WIL"
         },
         "airline": {
          "iata": "VY",
          "icao": "VLG",
          "name": "Vueling"
         },
         "arrival": {
          "baggageBelt": "C1",
          "gate": "Z36",
          "quality": [
           "Basic",
           "Live"
          ],
          "revisedTime": {
           "local": "2024-05-08 21:23+02:00",
           "utc": "2024-05-08 19:23Z"
          },
          "runwayTime": {
           "local": "2024-05-08 21:23+02:00",
           "utc": "2024-05-08 19:23Z"
          },
          "scheduledTime": {
           "local": "2024-05-08 21:20+02:00",
           "utc": "2024-05-08 19:20Z"
          },
          "terminal": "2"
         },
         "callSign": "VLG1884",
         "codeshareStatus": "IsOperator",
         "departure": {
          "airport": {
           "iata": "BCN",
           "icao": "LEBL",
           "name": "Barcelona"
          },
          "checkInDesk": "501-514",
          "gate": "B55",
          "quality": [
           "Basic",
           "Live"
          ],
          "revisedTime": {
           "local": "2024-05-08 18:52+02:00",
           "utc": "2024-05-08 16:52Z"
          },
          "runwayTime": {
           "local": "2024-05-08 19:07+02:00",
           "utc": "2024-05-08 17:07Z"
          },
          "scheduledTime": {
           "local": "2024-05-08 18:35+02:00",
           "utc": "2024-05-08 16:35Z"
          },
          "terminal": "1"
         },
         "isCargo": false,
         "number": "VY 1884",
         "status": "Arrived"
        },
        {
         "aircraft": {
          "modeS": "4D2401",
          "model": "Airbus A321 NEO",
          "reg": "9H-WAC"
         },
         "airline": {
          "iata": "W4",
          "icao": "WMT",
          "name": "Aero Services Executive"
         },
         "arrival": {
          "baggageBelt": "C2",
          "gate": "Z32",
          "quality": [
           "Basic",
           "Live"
          ],
          "revisedTime": {
           "local": "2024-05-08 21:25+02:00",
           "utc": "2024-05-08 19:25Z"
          },
          "runwayTime": {
           "local": "2024-05-08 21:26+02:00",
           "utc": "2024-05-08 19:26Z"
          },
          "scheduledTime": {
           "local": "2024-05-08 21:25+02:00",
           "utc": "2024-05-08 19:25Z"
          },
          "terminal": "2"
         },
         "callSign": "WMT171",
         "codeshareStatus": "IsOperator",
         "departure": {
          "airport": {
           "iata": "FCO",
           "icao": "LIRF",
           "name": "Rome"
          },
          "quality": [
           "Basic",
           "Live"
          ],
          "revisedTime": {
           "local": "2024-05-08 19:46+02:00",
           "utc": "2024-05-08 17:46Z"
          },
          "runwayTime": {
           "local": "2024-05-08 19:46+02:00",
           "utc": "2024-05-08 17:46Z"
          },
          "scheduledTime": {
           "local": "2024-05-08 19:10+02:00",
           "utc": "2024-05-08 17:10Z"
          }
         },
         "isCargo": false,
         "number": "W4 6071",
         "status": "Arrived"
        },
        {
         "aircraft": {
          "modeS": "39E682",
          "model": "Airbus A220-300",
          "reg": "F-HZUC"
         },
         "airline": {
          "iata": "AF",
          "icao": "AFR",
          "name": "Air France"
         },
         "arrival": {
          "baggageBelt": "B4",
          "gate": "B17",
          "quality": [
           "Basic",
           "Live"
          ],
          "revisedTime": {
           "local": "2024-05-08 22:40+02:00",
           "utc": "2024-05-08 20:40Z"
          },
          "scheduledTime": {
           "local": "2024-05-08 22:45+02:00",
           "utc": "2024-05-08 20:45Z"
          },
          "terminal": "1"
         },
         "callSign": "AFR87VK",
         "codeshareStatus": "IsOperator",
         "departure": {
          "airport": {
           "iata": "CDG",
           "icao": "LFPG",
           "name": "Paris"
          },
          "quality": [
           "Basic",
           "Live"
          ],
          "revisedTime": {
           "local": "2024-05-08 21:21+02:00",
           "utc": "2024-05-08 19:21Z"
          },
          "runwayTime": {
           "local": "2024-05-08 21:21+02:00",
           "utc": "2024-05-08 19:21Z"
          },
          "scheduledTime": {
           "local": "2024-05-08 21:00+02:00",
           "utc": "2024-05-08 19:00Z"
          },
          "terminal": "2F"
         },
         "isCargo": false,
         "number": "AF 1134",
         "status": "Arrived"
        },
        {
         "aircraft": {
          "modeS": "40097C",
          "model": "Airbus A320",
          "reg": "G-EUUA"
         },
         "airline": {
          "iata": "BA",
          "icao": "BAW",
          "name": "British Airways"
         },
         "arrival": {
          "baggageBelt": "A3",
          "gate": "X03",
          "quality": [
           "Basic",
           "Live"
          ],
          "revisedTime": {
           "local": "2024-05-08 22:24+02:00",
           "utc": "2024-05-08 20:24Z"
          },
          "scheduledTime": {
           "local": "2024-05-08 22:30+02:00",
           "utc": "2024-05-08 20:30Z"
          },
          "terminal": "1"
         },
         "callSign": "BAW988G",
         "codeshareStatus": "IsOperator",
         "departure": {
          "airport": {
           "iata": "LHR",
           "icao": "EGLL",
           "name": "London"
          },
          "checkInDesk": "D",
          "quality": [
           "Basic",
           "Live"
          ],
          "revisedTime": {
           "local": "2024-05-08 20:00+01:00",
           "utc": "2024-05-08 19:00Z"
          },
          "runwayTime": {
           "local": "2024-05-08 20:01+01:00",
           "utc": "2024-05-08 19:01Z"
          },
          "scheduledTime": {
           "local": "2024-05-08 19:35+01:00",
           "utc": "2024-05-08 18:35Z"
          },
          "terminal": "5"
         },
         "isCargo": false,
         "number": "BA 988",
         "status": "Arrived"
        },
        {
         "aircraft": {
          "modeS": "4402AE",
          "model": "Airbus A320",
          "reg": "OE-IVZ"
         },
         "airline": {
          "iata": "EC",
          "icao": "EJU",
          "name": "EasyJet Europe"
         },
         "arrival": {
          "baggageBelt": "B3",
          "gate": "S01",
          "quality": [
           "Basic",
           "Live"
          ],
          "revisedTime": {
           "local": "2024-05-08 22:49+02:00",
           "utc": "2024-05-08 20:49Z"
          },
          "scheduledTime": {
           "local": "2024-05-08 22:30+02:00",
           "utc": "2024-05-08 20:30Z"
          },
          "terminal": "1"
         },
         "callSign": "EJU17GF",
         "codeshareStatus": "IsCodeshared",
         "departure": {
          "airport": {
           "iata": "HER",
           "icao": "LGIR",
           "name": "Heraklion"
          },
          "quality": []
         },
         "isCargo": false,
         "number": "EC 5008",
         "status": "Arrived"
        },
        {
         "aircraft": {
          "modeS": "440096",
          "model": "Airbus A320",
          "reg": "OE-IVR"
         },
         "airline": {
          "iata": "EC",
          "icao": "EJU",
          "name": "EasyJet Europe"
         },
         "arrival": {
          "baggageBelt": "A4",
          "gate": "S02",
          "quality": [
           "Basic",
           "Live"
          ],
          "revisedTime": {
           "local": "2024-05-08 22:13+02:00",
           "utc": "2024-05-08 20:13Z"
          },
          "scheduledTime": {
           "local": "2024-05-08 22:35+02:00",
           "utc": "2024-05-08 20:35Z"
          },
          "terminal": "1"
         },
         "codeshareStatus": "IsCodeshared",
         "departure": {
          "airport": {
           "iata": "TFS",
           "icao": "GCTS",
           "name": "Tenerife Island"
          },
          "checkInDesk": "221-222",
          "gate": "B32",
          "quality": [
           "Basic",
           "Live"
          ],
          "revisedTime": {
           "local": "2024-05-08 16:22+01:00",
           "utc": "2024-05-08 15:22Z"
          },
          "scheduledTime": {
           "local": "2024-05-08 16:25+01:00",
           "utc": "2024-05-08 15:25Z"
          },
          "terminal": "C"
         },
         "isCargo": false,
         "number": "EC 5114",
         "status": "Arrived"
        },
        {
         "aircraft": {
          "modeS": "440179",
          "model": "Airbus A319",
          "reg": "OE-LQJ"
         },
         "airline": {
          "iata": "EC",
          "icao": "EJU",
          "name": "EasyJet Europe"
         },
         "arrival": {
          "baggageBelt": "A3",
          "gate": "A32",
          "quality": [
           "Basic",
           "Live"
          ],
          "revisedTime": {
           "local": "2024-05-08 22:05+02:00",
           "utc": "2024-05-08 20:05Z"
          },
          "scheduledTime": {
           "local": "2024-05-08 22:15+02:00",
           "utc": "2024-05-08 20:15Z"
          },
          "terminal": "1"
         },
         "callSign": "EJU82TX",
         "codeshareStatus": "IsCodeshared",
         "departure": {
          "airport": {
           "iata": "ORY",
           "icao": "LFPO",
           "name": "Paris"
          },
          "quality": []
         },
         "isCargo": false,
         "number": "EC 5154",
         "status": "Arrived"
        },
        {
         "aircraft": {
          "modeS": "440DA5",
          "model": "Airbus A320",
          "reg": "OE-IDS"
         },
         "airline": {
          "iata": "EC",
          "icao": "EJU",
          "name": "EasyJet Europe"
         },
         "arrival": {
          "baggageBelt": "A1",
          "gate": "A30",
          "quality": [
           "Basic",
           "Live"
          ],
          "revisedTime": {
           "local": "2024-05-08 22:33+02:00",
           "utc": "2024-05-08 20:33Z"
          },
          "runwayTime": {
           "local": "2024-05-08 22:33+02:00",
           "utc": "2024-05-08 20:33Z"
          },
          "scheduledTime": {
           "local": "2024-05-08 22:15+02:00",
           "utc": "2024-05-08 20:15Z"
          },
          "terminal": "1"
         },
         "callSign": "EJU59XM",
         "codeshareStatus": "IsCodeshared",
         "departure": {
          "airport": {
           "iata": "GVA",
           "icao": "LSGG",
           "name": "Geneva"
          },
          "checkInDesk": "1-17",
          "gate": "A1",
          "quality": [
           "Basic",
           "Live"
          ],
          "revisedTime": {
           "local": "2024-05-08 21:14+02:00",
           "utc": "2024-05-08 19:14Z"
          },
          "runwayTime": {
           "local": "2024-05-08 21:16+02:00",
           "utc": "2024-05-08 19:16Z"
          },
          "scheduledTime": {
           "local": "2024-05-08 20:35+02:00",
           "utc": "2024-05-08 18:35Z"
          }
         },
         "isCargo": false,
         "number": "EC 5182",
         "status": "Arrived"
        },
        {
         "aircraft": {
          "modeS": "440209",
          "model": "Airbus A320",
          "reg": "OE-IZH"
         },
         "airline": {
          "iata": "EC",
          "icao": "EJU",
          "name": "EasyJet Europe"
         },
         "arrival": {
          "baggageBelt": "A2",
          "gate": "A36",
          "quality": [
           "Basic",
           "Live"
          ],
          "revisedTime": {
           "local": "2024-05-08 22:35+02:00",
           "utc": "2024-05-08 20:35Z"
          },
          "runwayTime": {
           "local": "2024-05-08 22:35+02:00",
           "utc": "2024-05-08 20:35Z"
          },
          "scheduledTime": {
           "local": "2024-05-08 22:50+02:00",
           "utc": "2024-05-08 20:50Z"
          },
          "terminal": "1"
         },
         "callSign": "EJU17BH",
         "codeshareStatus": "IsCodeshared",
         "departure": {
          "airport": {
           "iata": "AMS",
           "icao": "EHAM",
           "name": "Amsterdam"
          },
          "checkInDesk": "28",
          "gate": "M4",
          "quality": [
           "Basic",
           "Live"
          ],
          "revisedTime": {
           "local": "2024-05-08 21:28+02:00",
           "utc": "2024-05-08 19:28Z"
          },
          "scheduledTime": {
           "local": "2024-05-08 21:30+02:00",
           "utc": "2024-05-08 19:30Z"
          },
          "terminal": "3"
         },
         "isCargo": false,
         "number": "EC 5288",
         "status": "Arrived"
        },
        {
         "aircraft": {
          "model": "Airbus A320"
         },
         "airline": {
          "iata": "EC",
          "icao": "EJU",
          "name": "EasyJet Europe"
         },
         "arrival": {
          "quality": [
           "Basic",
           "Live"
          ],
          "revisedTime": {
           "local": "2024-05-08 22:45+02:00",
           "utc": "2024-05-08 20:45Z"
          },
          "scheduledTime": {
           "local": "2024-05-08 22:45+02:00",
           "utc": "2024-05-08 20:45Z"
          },
          "terminal": "1"
         },
         "codeshareStatus": "IsCodeshared",
         "departure": {
          "airport": {
           "iata": "TLV",
           "icao": "LLBG",
           "name": "Tel Aviv Yafo"
          },
          "quality": []
         },
         "isCargo": false,
         "number": "EC 5304",
         "status": "Canceled"
        },
        {
         "aircraft": {
          "modeS": "4401D1",
          "model": "Airbus A320",
          "reg": "OE-IND"
         },
         "airline": {
          "iata": "EC",
          "icao": "EJU",
          "name": "EasyJet Europe"
         },
         "arrival": {
          "baggageBelt": "A2",
          "gate": "X19",
          "quality": [
           "Basic",
           "Live"
          ],
          "revisedTime": {
           "local": "2024-05-08 22:07+02:00",
           "utc": "2024-05-08 20:07Z"
          },
          "scheduledTime": {
           "local": "2024-05-08 22:25+02:00",
           "utc": "2024-05-08 20:25Z"
          },
          "terminal": "1"
         },
         "callSign": "EJU39CF",
         "codeshareStatus": "IsCodeshared",
         "departure": {
          "airport": {
           "iata": "LGW",
           "icao": "EGKK",
           "name": "London"
          },
          "quality": []
         },
         "isCargo": false,
         "number": "EC 8627",
         "status": "Arrived"
        },
        {
         "aircraft": {
          "modeS": "3C5EE4",
          "model": "Airbus A319",
          "reg": "D-AGWD"
         },
         "airline": {
          "iata": "EW",
          "icao": "EWG",
          "name": "Eurowings"
         },
         "arrival": {
          "baggageBelt": "B3",
          "gate": "S02",
          "quality": [
           "Basic",
           "Live"
          ],
          "revisedTime": {
           "local": "2024-05-08 21:52+02:00",
           "utc": "2024-05-08 19:52Z"
          },
          "scheduledTime": {
           "local": "2024-05-08 22:00+02:00",
           "utc": "2024-05-08 20:00Z"
          },
          "terminal": "1"
         },
         "codeshareStatus": "IsOperator",
         "departure": {
          "airport": {
           "iata": "STR",
           "icao": "EDDS",
           "name": "Stuttgart"
          },
          "gate": "316",
          "quality": [
           "Basic",
           "Live"
          ],
          "revisedTime": {
           "local": "2024-05-08 20:50+02:00",
           "utc": "2024-05-08 18:50Z"
          },
          "scheduledTime": {
           "local": "2024-05-08 20:50+02:00",
           "utc": "2024-05-08 18:50Z"
          },
          "terminal": "3"
         },
         "isCargo": false,
         "number": "EW 8007",
         "status": "Arrived"
        },
        {
         "aircraft": {
          "modeS": "4D2503",
          "model": "Boeing 737 MAX 8 ",
          "reg": "9H-VVR"
         },
         "airline": {
          "iata": "FR",
          "icao": "RYR",
          "name": "Ryanair"
         },
         "arrival": {
          "baggageBelt": "C2",
          "gate": "Z32",
          "quality": [
           "Basic",
           "Live"
          ],
          "revisedTime": {
           "local": "2024-05-08 23:15+02:00",
           "utc": "2024-05-08 21:15Z"
          },
          "scheduledTime": {
           "local": "2024-05-08 22:45+02:00",
           "utc": "2024-05-08 20:45Z"
          },
          "terminal": "2"
         },
         "callSign": "RYR1NP",
         "codeshareStatus": "IsOperator",
         "departure": {
          "airport": {
           "iata": "FCO",
           "icao": "LIRF",
           "name": "Rome"
          },
          "quality": [
           "Basic",
           "Live"
          ],
          "revisedTime": {
           "local": "2024-05-08 21:38+02:00",
           "utc": "2024-05-08 19:38Z"
          },
          "runwayTime": {
           "local": "2024-05-08 21:38+02:00",
           "utc": "2024-05-08 19:38Z"
          },
          "scheduledTime": {
           "local": "2024-05-08 20:35+02:00",
           "utc": "2024-05-08 18:35Z"
          },
          "terminal": "1"
         },
         "isCargo": false,
         "number": "FR 135",
         "status": "Arrived"
        },
        {
         "aircraft": {
          "modeS": "4D2304",
          "model": "Boeing 737-800",
          "reg": "9H-VUF"
         },
         "airline": {
          "iata": "FR",
          "icao": "RYR",
          "name": "Ryanair"
         },
         "arrival": {
          "baggageBelt": "C1",
          "gate": "Z33",
          "quality": [
           "Basic",
           "Live"
          ],
          "revisedTime": {
           "local": "2024-05-08 23:12+02:00",
           "utc": "2024-05-08 21:12Z"
          },
          "runwayTime": {
           "local": "2024-05-08 23:12+02:00",
           "utc": "2024-05-08 21:12Z"
          },
          "scheduledTime": {
           "local": "2024-05-08 22:50+02:00",
           "utc": "2024-05-08 20:50Z"
          },
          "terminal": "2"
         },
         "callSign": "RYR4TT",
         "codeshareStatus": "IsOperator",
         "departure": {
          "airport": {
           "iata": "BRU",
           "icao": "EBBR",
           "name": "Brussels"
          },
          "checkInDesk": "08",
          "quality": [
           "Basic",
           "Live"
          ],
          "revisedTime": {
           "local": "2024-05-08 22:10+02:00",
           "utc": "2024-05-08 20:10Z"
          },
          "runwayTime": {
           "local": "2024-05-08 22:11+02:00",
           "utc": "2024-05-08 20:11Z"
          },
          "scheduledTime": {
           "local": "2024-05-08 21:25+02:00",
           "utc": "2024-05-08 19:25Z"
          }
         },
         "isCargo": false,
         "number": "FR 163",
         "status": "Arrived"
        },
        {
         "aircraft": {
          "modeS": "4CADF8",
          "model": "Boeing 737 MAX 8",
          "reg": "EI-IHN"
         },
         "airline": {
          "iata": "FR",
          "icao": "RYR",
          "name": "Ryanair"
         },
         "arrival": {
          "baggageBelt": "C1",
          "gate": "Z44",
          "quality": [
           "Basic",
           "Live"
          ],
          "revisedTime": {
           "local": "2024-05-08 22:09+02:00",
           "utc": "2024-05-08 20:09Z"
          },
          "scheduledTime": {
           "local": "2024-05-08 22:05+02:00",
           "utc": "2024-05-08 20:05Z"
          },
          "terminal": "2"
         },
         "callSign": "RYR98DP",
         "codeshareStatus": "IsOperator",
         "departure": {
          "airport": {
           "iata": "EMA",
           "icao": "EGNX",
           "name": "Nottingham"
          },
          "gate": "1",
          "quality": [
           "Basic",
           "Live"
          ],
          "revisedTime": {
           "local": "2024-05-08 19:29+01:00",
           "utc": "2024-05-08 18:29Z"
          },
          "runwayTime": {
           "local": "2024-05-08 19:40+01:00",
           "utc": "2024-05-08 18:40Z"
          },
          "scheduledTime": {
           "local": "2024-05-08 19:15+01:00",
           "utc": "2024-05-08 18:15Z"
          },
          "terminal": "1"
         },
         "isCargo": false,
         "number": "FR 1638",
         "status": "Arrived"
        },
        {
         "aircraft": {
          "modeS": "484555",
          "model": "Boeing 737",
          "reg": "PH-BXW"
         },
         "airline": {
          "iata": "KL",
          "icao": "KLM",
          "name": "KLM"
         },
         "arrival": {
          "baggageBelt": "A4",
          "gate": "A17",
          "quality": [
           "Basic",
           "Live"
          ],
          "revisedTime": {
           "local": "2024-05-08 21:55+02:00",
           "utc": "2024-05-08 19:55Z"
          },
          "runwayTime": {
           "local": "2024-05-08 21:55+02:00",
           "utc": "2024-05-08 19:55Z"
          },
          "scheduledTime": {
           "local": "2024-05-08 22:00+02:00",
           "utc": "2024-05-08 20:00Z"
          },
          "terminal": "1"
         },
         "callSign": "KLM27F",
         "codeshareStatus": "IsOperator",
         "departure": {
          "airport": {
           "iata": "AMS",
           "icao": "EHAM",
           "name": "Amsterdam"
          },
          "checkInDesk": "6-8",
          "gate": "D86",
          "quality": [
           "Basic",
           "Live"
          ],
          "revisedTime": {
           "local": "2024-05-08 20:46+02:00",
           "utc": "2024-05-08 18:46Z"
          },
          "scheduledTime": {
           "local": "2024-05-08 20:45+02:00",
           "utc": "2024-05-08 18:45Z"
          },
          "terminal": "1"
         },
         "isCargo": false,
         "number": "KL 1785",
         "status": "Arrived"
        },
        {
         "aircraft": {
          "modeS": "3C6655",
          "model": "Airbus A321",
          "reg": "D-AIRU"
         },
         "airline": {
          "iata": "LH",
          "icao": "DLH",
          "name": "Lufthansa"
         },
         "arrival": {
          "baggageBelt": "B1",
          "gate": "B10",
          "quality": [
           "Basic",
           "Live"
          ],
          "revisedTime": {
           "local": "2024-05-08 22:59+02:00",
           "utc": "2024-05-08 20:59Z"
          },
          "scheduledTime": {
           "local": "2024-05-08 22:35+02:00",
           "utc": "2024-05-08 20:35Z"
          },
          "terminal": "1"
         },
         "callSign": "DLH1T",
         "codeshareStatus": "IsOperator",
         "departure": {
          "airport": {
           "iata": "MUC",
           "icao": "EDDM",
           "name": "Munich"
          },
          "quality": [
           "Basic",
           "Live"
          ],
          "revisedTime": {
           "local": "2024-05-08 21:50+02:00",
           "utc": "2024-05-08 19:50Z"
          },
          "runwayTime": {
           "local": "2024-05-08 22:13+02:00",
           "utc": "2024-05-08 20:13Z"
          },
          "scheduledTime": {
           "local": "2024-05-08 21:30+02:00",
           "utc": "2024-05-08 19:30Z"
          },
          "terminal": "2"
         },
         "isCargo": false,
         "number": "LH 1962",
         "status": "Arrived"
        },
        {
         "aircraft": {
          "modeS": "3C6448",
          "model": "Airbus A319",
          "reg": "D-AIBH"
         },
         "airline": {
          "iata": "LH",
          "icao": "DLH",
          "name": "Lufthansa"
         },
         "arrival": {
          "baggageBelt": "A1",
          "gate": "A02",
          "quality": [
           "Basic",
           "Live"
          ],
          "revisedTime": {
           "local": "2024-05-08 22:16+02:00",
           "utc": "2024-05-08 20:16Z"
          },
          "scheduledTime": {
           "local": "2024-05-08 22:25+02:00",
           "utc": "2024-05-08 20:25Z"
          },
          "terminal": "1"
         },
         "callSign": "DLH202",
         "codeshareStatus": "IsOperator",
         "departure": {
          "airport": {
           "iata": "FRA",
           "icao": "EDDF",
           "name": "Frankfurt-am-Main"
          },
          "checkInDesk": "259-335",
          "gate": "A58",
          "quality": [
           "Basic",
           "Live"
          ],
          "revisedTime": {
           "local": "2024-05-08 21:15+02:00",
           "utc": "2024-05-08 19:15Z"
          },
          "runwayTime": {
           "local": "2024-05-08 21:33+02:00",
           "utc": "2024-05-08 19:33Z"
          },
          "scheduledTime": {
           "local": "2024-05-08 21:15+02:00",
           "utc": "2024-05-08 19:15Z"
          },
          "terminal": "1"
         },
         "isCargo": false,
         "number": "LH 202",
         "status": "Arrived"
        },
        {
         "aircraft": {
          "modeS": "3C5EE4",
          "model": "Airbus A319",
          "reg": "D-AGWD"
         },
         "airline": {
          "iata": "LH",
          "icao": "DLH",
          "name": "Lufthansa"
         },
         "arrival": {
          "baggageBelt": "B3",
          "gate": "S02",
          "quality": [
           "Basic",
           "Live"
          ],
          "revisedTime": {
           "local": "2024-05-08 21:52+02:00",
           "utc": "2024-05-08 19:52Z"
          },
          "scheduledTime": {
           "local": "2024-05-08 22:00+02:00",
           "utc": "2024-05-08 20:00Z"
          },
          "terminal": "1"
         },
         "codeshareStatus": "IsCodeshared",
         "departure": {
          "airport": {
           "iata": "STR",
           "icao": "EDDS",
           "name": "Stuttgart"
          },
          "quality": []
         },
         "isCargo": false,
         "number": "LH 5399",
         "status": "Arrived"
        },
        {
         "aircraft": {
          "modeS": "4B19FE",
          "model": "Embraer 190",
          "reg": "HB-JVY"
         },
         "airline": {
          "iata": "LX",
          "icao": "SWR",
          "name": "SWISS"
         },
         "arrival": {
          "baggageBelt": "B1",
          "gate": "B06",
          "quality": [
           "Basic",
           "Live"
          ],
          "revisedTime": {
           "local": "2024-05-08 22:53+02:00",
           "utc": "2024-05-08 20:53Z"
          },
          "scheduledTime": {
           "local": "2024-05-08 22:55+02:00",
           "utc": "2024-05-08 20:55Z"
          },
          "terminal": "1"
         },
         "callSign": "SWR558F",
         "codeshareStatus": "IsOperator",
         "departure": {
          "airport": {
           "iata": "ZRH",
           "icao": "LSZH",
           "name": "Zurich"
          },
          "checkInDesk": "1",
          "gate": "A74",
          "quality": [
           "Basic",
           "Live"
          ],
          "revisedTime": {
           "local": "2024-05-08 21:30+02:00",
           "utc": "2024-05-08 19:30Z"
          },
          "runwayTime": {
           "local": "2024-05-08 21:48+02:00",
           "utc": "2024-05-08 19:48Z"
          },
          "scheduledTime": {
           "local": "2024-05-08 21:30+02:00",
           "utc": "2024-05-08 19:30Z"
          }
         },
         "isCargo": false,
         "number": "LX 962",
         "status": "Arrived"
        },
        {
         "aircraft": {
          "modeS": "44001C",
          "model": "Airbus A320",
          "reg": "OE-LBP"
         },
         "airline": {
          "iata": "OS",
          "icao": "AUA",
          "name": "Austrian"
         },
         "arrival": {
          "baggageBelt": "A1",
          "gate": "A10",
          "quality": [
           "Basic",
           "Live"
          ],
          "revisedTime": {
           "local": "2024-05-08 22:10+02:00",
           "utc": "2024-05-08 20:10Z"
          },
          "scheduledTime": {
           "local": "2024-05-08 22:10+02:00",
           "utc": "2024-05-08 20:10Z"
          },
          "terminal": "1"
         },
         "callSign": "AUA39B",
         "codeshareStatus": "IsOperator",
         "departure": {
          "airport": {
           "iata": "VIE",
           "icao": "LOWW",
           "name": "Vienna"
          },
          "checkInDesk": "351-372",
          "gate": "F08",
          "quality": [
           "Basic",
           "Live"
          ],
          "revisedTime": {
           "local": "2024-05-08 21:16+02:00",
           "utc": "2024-05-08 19:16Z"
          },
          "runwayTime": {
           "local": "2024-05-08 21:17+02:00",
           "utc": "2024-05-08 19:17Z"
          },
          "scheduledTime": {
           "local": "2024-05-08 21:00+02:00",
           "utc": "2024-05-08 19:00Z"
          },
          "terminal": "3"
         },
         "isCargo": false,
         "number": "OS 239",
         "status": "Arrived"
        },
        {
         "aircraft": {
          "modeS": "44CDCC",
          "model": "Airbus A320",
          "reg": "OO-SNL"
         },
         "airline": {
          "iata": "SN",
          "icao": "BEL",
          "name": "Brussels"
         },
         "arrival": {
          "baggageBelt": "B4",
          "gate": "A06",
          "quality": [
           "Basic",
           "Live"
          ],
          "revisedTime": {
           "local": "2024-05-08 22:42+02:00",
           "utc": "2024-05-08 20:42Z"
          },
          "scheduledTime": {
           "local": "2024-05-08 22:15+02:00",
           "utc": "2024-05-08 20:15Z"
          },
          "terminal": "1"
         },
         "callSign": "BEL1ZK",
         "codeshareStatus": "IsOperator",
         "departure": {
          "airport": {
           "iata": "BRU",
           "icao": "EBBR",
           "name": "Brussels"
          },
          "checkInDesk": "05",
          "quality": [
           "Basic",
           "Live"
          ],
          "revisedTime": {
           "local": "2024-05-08 21:37+02:00",
           "utc": "2024-05-08 19:37Z"
          },
          "runwayTime": {
           "local": "2024-05-08 21:38+02:00",
           "utc": "2024-05-08 19:38Z"
          },
          "scheduledTime": {
           "local": "2024-05-08 20:50+02:00",
           "utc": "2024-05-08 18:50Z"
          }
         },
         "isCargo": false,
         "number": "SN 2591",
         "status": "Arrived"
        },
        {
         "aircraft": {
          "modeS": "3C0893",
          "model": "Airbus A320",
          "reg": "D-ASGK"
         },
         "airline": {
          "iata": "SR",
          "icao": "SDR",
          "name": "SundAir"
         },
         "arrival": {
          "baggageBelt": "B3",
          "gate": "N01",
          "quality": [
           "Basic",
           "Live"
          ],
          "revisedTime": {
           "local": "2024-05-08 22:12+02:00",
           "utc": "2024-05-08 20:12Z"
          },
          "scheduledTime": {
           "local": "2024-05-08 22:10+02:00",
           "utc": "2024-05-08 20:10Z"
          },
          "terminal": "1"
         },
         "callSign": "SDR15XL",
         "codeshareStatus": "IsOperator",
         "departure": {
          "airport": {
           "iata": "BEY",
           "icao": "OLBA",
           "name": "Beirut"
          },
          "quality": [
           "Basic"
          ],
          "scheduledTime": {
           "local": "2024-05-08 18:45+03:00",
           "utc": "2024-05-08 15:45Z"
          }
         },
         "isCargo": false,
         "number": "SR 135",
         "status": "Arrived"
        },
        {
         "aircraft": {
          "modeS": "4402AE",
          "model": "Airbus A320",
          "reg": "OE-IVZ"
         },
         "airline": {
          "iata": "U2",
          "icao": "EZY",
          "name": "easyJet"
         },
         "arrival": {
          "baggageBelt": "B3",
          "gate": "S01",
          "quality": [
           "Basic",
           "Live"
          ],
          "revisedTime": {
           "local": "2024-05-08 22:49+02:00",
           "utc": "2024-05-08 20:49Z"
          },
          "scheduledTime": {
           "local": "2024-05-08 22:30+02:00",
           "utc": "2024-05-08 20:30Z"
          },
          "terminal": "1"
         },
         "callSign": "EJU17GF",
         "codeshareStatus": "IsOperator",
         "departure": {
          "airport": {
           "iata": "HER",
           "icao": "LGIR",
           "name": "Heraklion"
          },
          "quality": [
           "Basic"
          ],
          "scheduledTime": {
           "local": "2024-05-08 20:15+03:00",
           "utc": "2024-05-08 17:15Z"
          }
         },
         "isCargo": false,
         "number": "U2 5008",
         "status": "Arrived"
        },
        {
         "aircraft": {
          "modeS": "440096",
          "model": "Airbus A320",
          "reg": "OE-IVR"
         },
         "airline": {
          "iata": "U2",
          "icao": "EZY",
          "name": "easyJet"
         },
         "arrival": {
          "baggageBelt": "A4",
          "gate": "S02",
          "quality": [
           "Basic",
           "Live"
          ],
          "revisedTime": {
           "local": "2024-05-08 22:13+02:00",
           "utc": "2024-05-08 20:13Z"
          },
          "scheduledTime": {
           "local": "2024-05-08 22:35+02:00",
           "utc": "2024-05-08 20:35Z"
          },
          "terminal": "1"
         },
         "codeshareStatus": "IsOperator",
         "departure": {
          "airport": {
           "iata": "TFS",
           "icao": "GCTS",
           "name": "Tenerife Island"
          },
          "checkInDesk": "221-222",
          "gate": "B32",
          "quality": [
           "Basic",
           "Live"
          ],
          "revisedTime": {
           "local": "2024-05-08 16:22+01:00",
           "utc": "2024-05-08 15:22Z"
          },
          "scheduledTime": {
           "local": "2024-05-08 16:25+01:00",
           "utc": "2024-05-08 15:25Z"
          },
          "terminal": "C"
         },
         "isCargo": false,
         "number": "U2 5114",
         "status": "Arrived"
        },
        {
         "aircraft": {
          "modeS": "440179",
          "model": "Airbus A319",
          "reg": "OE-LQJ"
         },
         "airline": {
          "iata": "U2",
          "icao": "EZY",
          "name": "easyJet"
         },
         "arrival": {
          "baggageBelt": "A3",
          "gate": "A32",
          "quality": [
           "Basic",
           "Live"
          ],
          "revisedTime": {
           "local": "2024-05-08 22:05+02:00",
           "utc": "2024-05-08 20:05Z"
          },
          "scheduledTime": {
           "local": "2024-05-08 22:15+02:00",
           "utc": "2024-05-08 20:15Z"
          },
          "terminal": "1"
         },
         "callSign": "EJU82TX",
         "codeshareStatus": "IsOperator",
         "departure": {
          "airport": {
           "iata": "ORY",
           "icao": "LFPO",
           "name": "Paris"
          },
          "quality": [
           "Basic"
          ],
          "scheduledTime": {
           "local": "2024-05-08 20:30+02:00",
           "utc": "2024-05-08 18:30Z"
          },
          "terminal": "1"
         },
         "isCargo": false,
         "number": "U2 5154",
         "status": "Arrived"
        },
        {
         "aircraft": {
          "modeS": "440DA5",
          "model": "Airbus A320",
          "reg": "OE-IDS"
         },
         "airline": {
          "iata": "U2",
          "icao": "EZY",
          "name": "easyJet"
         },
         "arrival": {
          "baggageBelt": "A1",
          "gate": "A30",
          "quality": [
           "Basic",
           "Live"
          ],
          "revisedTime": {
           "local": "2024-05-08 22:33+02:00",
           "utc": "2024-05-08 20:33Z"
          },
          "runwayTime": {
           "local": "2024-05-08 22:33+02:00",
           "utc": "2024-05-08 20:33Z"
          },
          "scheduledTime": {
           "local": "2024-05-08 22:15+02:00",
           "utc": "2024-05-08 20:15Z"
          },
          "terminal": "1"
         },
         "callSign": "EJU59XM",
         "codeshareStatus": "IsOperator",
         "departure": {
          "airport": {
           "iata": "GVA",
           "icao": "LSGG",
           "name": "Geneva"
          },
          "checkInDesk": "1-17",
          "gate": "A1",
          "quality": [
           "Basic",
           "Live"
          ],
          "revisedTime": {
           "local": "2024-05-08 21:14+02:00",
           "utc": "2024-05-08 19:14Z"
          },
          "runwayTime": {
           "local": "2024-05-08 21:16+02:00",
           "utc": "2024-05-08 19:16Z"
          },
          "scheduledTime": {
           "local": "2024-05-08 20:35+02:00",
           "utc": "2024-05-08 18:35Z"
          },
          "terminal": "1"
         },
         "isCargo": false,
         "number": "U2 5182",
         "status": "Arrived"
        },
        {
         "aircraft": {
          "modeS": "440209",
          "model": "Airbus A320",
          "reg": "OE-IZH"
         },
         "airline": {
          "iata": "U2",
          "icao": "EZY",
          "name": "easyJet"
         },
         "arrival": {
          "baggageBelt": "A2",
          "gate": "A36",
          "quality": [
           "Basic",
           "Live"
          ],
          "revisedTime": {
           "local": "2024-05-08 22:35+02:00",
           "utc": "2024-05-08 20:35Z"
          },
          "runwayTime": {
           "local": "2024-05-08 22:35+02:00",
           "utc": "2024-05-08 20:35Z"
          },
          "scheduledTime": {
           "local": "2024-05-08 22:50+02:00",
           "utc": "2024-05-08 20:50Z"
          },
          "terminal": "1"
         },
         "callSign": "EJU17BH",
         "codeshareStatus": "IsOperator",
         "departure": {
          "airport": {
           "iata": "AMS",
           "icao": "EHAM",
           "name": "Amsterdam"
          },
          "checkInDesk": "28",
          "gate": "M4",
          "quality": [
           "Basic",
           "Live"
          ],
          "revisedTime": {
           "local": "2024-05-08 21:28+02:00",
           "utc": "2024-05-08 19:28Z"
          },
          "scheduledTime": {
           "local": "2024-05-08 21:30+02:00",
           "utc": "2024-05-08 19:30Z"
          },
          "terminal": "3"
         },
         "isCargo": false,
         "number": "U2 5288",
         "status": "Arrived"
        },
        {
         "aircraft": {
          "model": "Airbus A320"
         },
         "airline": {
          "iata": "U2",
          "icao": "EZY",
          "name": "easyJet"
         },
         "arrival": {
          "quality": [
           "Basic",
           "Live"
          ],
          "revisedTime": {
           "local": "2024-05-08 22:45+02:00",
           "utc": "2024-05-08 20:45Z"
          },
          "scheduledTime": {
           "local": "2024-05-08 22:45+02:00",
           "utc": "2024-05-08 20:45Z"
          },
          "terminal": "1"
         },
         "codeshareStatus": "IsOperator",
         "departure": {
          "airport": {
           "iata": "TLV",
           "icao": "LLBG",
           "name": "Tel Aviv Yafo"
          },
          "quality": []
         },
         "isCargo": false,
         "number": "U2 5304",
         "status": "Canceled"
        },
        {
         "aircraft": {
          "modeS": "4401D1",
          "model": "Airbus A320",
          "reg": "OE-IND"
         },
         "airline": {
          "iata": "U2",
          "icao": "EZY",
          "name": "easyJet"
         },
         "arrival": {
          "baggageBelt": "A2",
          "gate": "X19",
          "quality": [
           "Basic",
           "Live"
          ],
          "revisedTime": {
           "local": "2024-05-08 22:07+02:00",
           "utc": "2024-05-08 20:07Z"
          },
          "scheduledTime": {
           "local": "2024-05-08 22:25+02:00",
           "utc": "2024-05-08 20:25Z"
          },
          "terminal": "1"
         },
         "callSign": "EJU39CF",
         "codeshareStatus": "IsOperator",
         "departure": {
          "airport": {
           "iata": "LGW",
           "icao": "EGKK",
           "name": "London"
          },
          "quality": [
           "Basic",
           "Live"
          ],
          "revisedTime": {
           "local": "2024-05-08 19:43+01:00",
           "utc": "2024-05-08 18:43Z"
          },
          "runwayTime": {
           "local": "2024-05-08 19:43+01:00",
           "utc": "2024-05-08 18:43Z"
          },
          "scheduledTime": {
           "local": "2024-05-08 19:30+01:00",
           "utc": "2024-05-08 18:30Z"
          },
          "terminal": "N"
         },
         "isCargo": false,
         "number": "U2 8627",
         "status": "Arrived"
        },
        {
         "aircraft": {
          "modeS": "4D2274",
          "model": "Boeing 737-800",
          "reg": "9H-QBC"
         },
         "airline": {
          "iata": "FR",
          "icao": "RYR",
          "name": "Ryanair"
         },
         "arrival": {
          "baggageBelt": "C2",
          "gate": "Z38",
          "quality": [
           "Basic",
           "Live"
          ],
          "revisedTime": {
           "local": "2024-05-08 22:54+02:00",
           "utc": "2024-05-08 20:54Z"
          },
          "scheduledTime": {
           "local": "2024-05-08 22:55+02:00",
           "utc": "2024-05-08 20:55Z"
          },
          "terminal": "2"
         },
         "callSign": "RYR32MB",
         "codeshareStatus": "IsOperator",
         "departure": {
          "airport": {
           "iata": "STN",
           "icao": "EGSS",
           "name": "London"
          },
          "gate": "49",
          "quality": [
           "Basic",
           "Live"
          ],
          "revisedTime": {
           "local": "2024-05-08 20:25+01:00",
           "utc": "2024-05-08 19:25Z"
          },
          "runwayTime": {
           "local": "2024-05-08 20:37+01:00",
           "utc": "2024-05-08 19:37Z"
          },
          "scheduledTime": {
           "local": "2024-05-08 20:10+01:00",
           "utc": "2024-05-08 19:10Z"
          },
          "terminal": "1"
         },
         "isCargo": false,
         "number": "FR 176",
         "status": "Arrived"
        },
        {
         "aircraft": {
          "modeS": "3C648F",
          "model": "Airbus A321",
          "reg": "D-AIDO"
         },
         "airline": {
          "iata": "EW",
          "icao": "EWG",
          "name": "Eurowings"
         },
         "arrival": {
          "baggageBelt": "A1",
          "gate": "A22",
          "quality": [
           "Basic",
           "Live"
          ],
          "revisedTime": {
           "local": "2024-05-08 23:28+02:00",
           "utc": "2024-05-08 21:28Z"
          },
          "scheduledTime": {
           "local": "2024-05-08 23:25+02:00",
           "utc": "2024-05-08 21:25Z"
          },
          "terminal": "1"
         },
         "callSign": "EWG8593",
         "codeshareStatus": "IsOperator",
         "departure": {
          "airport": {
           "iata": "PMI",
           "icao": "LEPA",
           "name": "Palma De Mallorca"
          },
          "checkInDesk": "172-178",
          "gate": "C46",
          "quality": [
           "Basic",
           "Live"
          ],
          "revisedTime": {
           "local": "2024-05-08 20:55+02:00",
           "utc": "2024-05-08 18:55Z"
          },
          "runwayTime": {
           "local": "2024-05-08 21:09+02:00",
           "utc": "2024-05-08 19:09Z"
          },
          "scheduledTime": {
           "local": "2024-05-08 20:35+02:00",
           "utc": "2024-05-08 18:35Z"
          },
          "terminal": "N"
         },
         "isCargo": false,
         "number": "EW 8593",
         "status": "Arrived"
        },
        {
         "aircraft": {
          "modeS": "4D24EB",
          "model": "Boeing 737 MAX 8",
          "reg": "9H-VVM"
         },
         "airline": {
          "iata": "FR",
          "icao": "RYR",
          "name": "Ryanair"
         },
         "arrival": {
          "baggageBelt": "C3",
          "gate": "Z34",
          "quality": [
           "Basic",
           "Live"
          ],
          "revisedTime": {
           "local": "2024-05-08 23:09+02:00",
           "utc": "2024-05-08 21:09Z"
          },
          "runwayTime": {
           "local": "2024-05-08 23:09+02:00",
           "utc": "2024-05-08 21:09Z"
          },
          "scheduledTime": {
           "local": "2024-05-08 23:00+02:00",
           "utc": "2024-05-08 21:00Z"
          },
          "terminal": "2"
         },
         "callSign": "RYR10NN",
         "codeshareStatus": "IsOperator",
         "departure": {
          "airport": {
           "iata": "ALC",
           "icao": "LEAL",
           "name": "Alicante"
          },
          "checkInDesk": "50-56",
          "gate": "C46",
          "quality": [
           "Basic",
           "Live"
          ],
          "revisedTime": {
           "local": "2024-05-08 20:24+02:00",
           "utc": "2024-05-08 18:24Z"
          },
          "runwayTime": {
           "local": "2024-05-08 20:30+02:00",
           "utc": "2024-05-08 18:30Z"
          },
          "scheduledTime": {
           "local": "2024-05-08 19:55+02:00",
           "utc": "2024-05-08 17:55Z"
          },
          "terminal": "N"
         },
         "isCargo": false,
         "number": "FR 258",
         "status": "Arrived"
        },
        {
         "aircraft": {
          "modeS": "4D2221",
          "model": "Boeing 737-800",
          "reg": "9H-QCH"
         },
         "airline": {
          "iata": "FR",
          "icao": "RYR",
          "name": "Ryanair"
         },
         "arrival": {
          "baggageBelt": "C3",
          "gate": "Z43",
          "quality": [
           "Basic",
           "Live"
          ],
          "revisedTime": {
           "local": "2024-05-08 22:52+02:00",
           "utc": "2024-05-08 20:52Z"
          },
          "scheduledTime": {
           "local": "2024-05-08 23:00+02:00",
           "utc": "2024-05-08 21:00Z"
          },
          "terminal": "2"
         },
         "callSign": "RYR81FT",
         "codeshareStatus": "IsOperator",
         "departure": {
          "airport": {
           "iata": "DUB",
           "icao": "EIDW",
           "name": "Dublin"
          },
          "checkInDesk": "1204-1319",
          "gate": "111",
          "quality": [
           "Basic",
           "Live"
          ],
          "revisedTime": {
           "local": "2024-05-08 19:45+01:00",
           "utc": "2024-05-08 18:45Z"
          },
          "runwayTime": {
           "local": "2024-05-08 20:01+01:00",
           "utc": "2024-05-08 19:01Z"
          },
          "scheduledTime": {
           "local": "2024-05-08 19:45+01:00",
           "utc": "2024-05-08 18:45Z"
          },
          "terminal": "1"
         },
         "isCargo": false,
         "number": "FR 5418",
         "status": "Arrived"
        },
        {
         "aircraft": {
          "modeS": "34644D",
          "model": "Airbus A321 (Sharklets)",
          "reg": "EC-NIF"
         },
         "airline": {
          "iata": "I2",
          "icao": "IBS",
          "name": "Iberia Express"
         },
         "arrival": {
          "baggageBelt": "A1",
          "gate": "A33",
          "quality": [
           "Basic",
           "Live"
          ],
          "revisedTime": {
           "local": "2024-05-08 22:55+02:00",
           "utc": "2024-05-08 20:55Z"
          },
          "scheduledTime": {
           "local": "2024-05-08 23:00+02:00",
           "utc": "2024-05-08 21:00Z"
          },
          "terminal": "1"
         },
         "callSign": "IBS3674",
         "codeshareStatus": "IsOperator",
         "departure": {
          "airport": {
           "iata": "MAD",
           "icao": "LEMD",
           "name": "Madrid"
          },
          "checkInDesk": "850-858",
          "gate": "H18",
          "quality": [
           "Basic",
           "Live"
          ],
          "revisedTime": {
           "local": "2024-05-08 20:02+02:00",
           "utc": "2024-05-08 18:02Z"
          },
          "runwayTime": {
           "local": "2024-05-08 20:17+02:00",
           "utc": "2024-05-08 18:17Z"
          },
          "scheduledTime": {
           "local": "2024-05-08 20:00+02:00",
           "utc": "2024-05-08 18:00Z"
          },
          "terminal": "4"
         },
         "isCargo": false,
         "number": "I2 3674",
         "status": "Arrived"
        },
        {
         "aircraft": {
          "modeS": "3C79C1",
          "model": "Airbus A320-200",
          "reg": "D-ANNA"
         },
         "airline": {
          "iata": "SR",
          "icao": "SDR",
          "name": "SundAir"
         },
         "arrival": {
          "baggageBelt": "B3",
          "gate": "N01",
          "quality": [
           "Basic",
           "Live"
          ],
          "revisedTime": {
           "local": "2024-05-08 23:20+02:00",
           "utc": "2024-05-08 21:20Z"
          },
          "scheduledTime": {
           "local": "2024-05-08 23:25+02:00",
           "utc": "2024-05-08 21:25Z"
          },
          "terminal": "1"
         },
         "callSign": "SDR69GC",
         "codeshareStatus": "IsOperator",
         "departure": {
          "airport": {
           "iata": "HRG",
           "icao": "HEGN",
           "name": "Hurghada"
          },
          "quality": [
           "Basic"
          ],
          "scheduledTime": {
           "local": "2024-05-08 19:25+03:00",
           "utc": "2024-05-08 16:25Z"
          },
          "terminal": "1"
         },
         "isCargo": false,
         "number": "SR 6493",
         "status": "Arrived"
        },
        {
         "aircraft": {
          "modeS": "39CEB9",
          "model": "Boeing 737-800",
          "reg": "F-HTVZ"
         },
         "airline": {
          "iata": "TO",
          "icao": "TVF",
          "name": "Transavia France"
         },
         "arrival": {
          "baggageBelt": "C1",
          "gate": "Z29",
          "quality": [
           "Basic",
           "Live"
          ],
          "revisedTime": {
           "local": "2024-05-08 23:06+02:00",
           "utc": "2024-05-08 21:06Z"
          },
          "runwayTime": {
           "local": "2024-05-08 23:06+02:00",
           "utc": "2024-05-08 21:06Z"
          },
          "scheduledTime": {
           "local": "2024-05-08 23:10+02:00",
           "utc": "2024-05-08 21:10Z"
          },
          "terminal": "2"
         },
         "callSign": "TVF49LH",
         "codeshareStatus": "IsOperator",
         "departure": {
          "airport": {
           "iata": "ORY",
           "icao": "LFPO",
           "name": "Paris"
          },
          "quality": [
           "Basic"
          ],
          "scheduledTime": {
           "local": "2024-05-08 21:20+02:00",
           "utc": "2024-05-08 19:20Z"
          },
          "terminal": "3"
         },
         "isCargo": false,
         "number": "TO 3412",
         "status": "Arrived"
        }
       ],
       "departures": [
        {
         "aircraft": {
          "modeS": "440DA5",
          "model": "Airbus A320",
          "reg": "OE-IDS"
         },
         "airline": {
          "iata": "EC",
          "icao": "EJU",
          "name": "EasyJet Europe"
         },
         "arrival": {
          "airport": {
           "iata": "OLB",
           "icao": "LIEO",
           "name": "Olbia"
          },
          "quality": []
         },
         "callSign": "EJU75LU",
         "codeshareStatus": "IsCodeshared",
         "departure": {
          "checkInDesk": "514-616",
          "gate": "A38",
          "quality": [
           "Basic",
           "Live"
          ],
          "revisedTime": {
           "local": "2024-05-08 12:17+02:00",
           "utc": "2024-05-08 10:17Z"
          },
          "runwayTime": {
           "local": "2024-05-08 12:47+02:00",
           "utc": "2024-05-08 10:47Z"
          },
          "scheduledTime": {
           "local": "2024-05-08 12:10+02:00",
           "utc": "2024-05-08 10:10Z"
          },
          "terminal": "1"
         },
         "isCargo": false,
         "number": "EC 5055",
         "status": "Departed"
        },
        {
         "aircraft": {
          "modeS": "44033D",
          "model": "Cessna 510 Citation Mustang",
          "reg": "OE-FFB"
         },
         "airline": {
          "name": "GAC"
         },
         "arrival": {
          "airport": {
           "name": "Unknown"
          },
          "quality": []
         },
         "callSign": "GAC384U",
         "codeshareStatus": "IsOperator",
         "departure": {
          "quality": [
           "Basic",
           "Live"
          ],
          "revisedTime": {
           "local": "2024-05-08 12:37+02:00",
           "utc": "2024-05-08 10:37Z"
          },
          "runwayTime": {
           "local": "2024-05-08 12:37+02:00",
           "utc": "2024-05-08 10:37Z"
          },
          "scheduledTime": {
           "local": "2024-05-08 12:37+02:00",
           "utc": "2024-05-08 10:37Z"
          }
         },
         "isCargo": false,
         "number": "GAC 384U",
         "status": "Departed"
        },
        {
         "aircraft": {
          "modeS": "5000D1",
          "model": "Dassault Falcon",
          "reg": "T7-ONE"
         },
         "airline": {
          "name": "Unknown/Private owner"
         },
         "arrival": {
          "airport": {
           "name": "Unknown"
          },
          "quality": []
         },
         "callSign": "T7ONE",
         "codeshareStatus": "IsOperator",
         "departure": {
          "quality": [
           "Basic",
           "Live"
          ],
          "revisedTime": {
           "local": "2024-05-08 12:53+02:00",
           "utc": "2024-05-08 10:53Z"
          },
          "runwayTime": {
           "local": "2024-05-08 12:53+02:00",
           "utc": "2024-05-08 10:53Z"
          },
          "scheduledTime": {
           "local": "2024-05-08 12:53+02:00",
           "utc": "2024-05-08 10:53Z"
          }
         },
         "isCargo": false,
         "number": "T7ONE",
         "status": "Departed"
        },
        {
         "aircraft": {
          "modeS": "502CCC",
          "model": "Airbus A321",
          "reg": "YL-LCQ"
         },
         "airline": {
          "name": "TKJ"
         },
         "arrival": {
          "airport": {
           "iata": "SAW",
           "icao": "LTFJ",
           "name": "Istanbul"
          },
          "quality": []
         },
         "callSign": "TKJ1DL",
         "codeshareStatus": "IsOperator",
         "departure": {
          "quality": [
           "Basic",
           "Live"
          ],
          "revisedTime": {
           "local": "2024-05-08 12:58+02:00",
           "utc": "2024-05-08 10:58Z"
          },
          "runwayTime": {
           "local": "2024-05-08 12:58+02:00",
           "utc": "2024-05-08 10:58Z"
          },
          "scheduledTime": {
           "local": "2024-05-08 12:58+02:00",
           "utc": "2024-05-08 10:58Z"
          }
         },
         "isCargo": false,
         "number": "TKJ 1DL",
         "status": "Departed"
        },
        {
         "aircraft": {
          "modeS": "502CCC",
          "model": "Airbus A321",
          "reg": "YL-LCQ"
         },
         "airline": {
          "iata": "VF",
          "icao": "VLU",
          "name": "Ajet"
         },
         "arrival": {
          "airport": {
           "iata": "SAW",
           "icao": "LTFJ",
           "name": "Istanbul"
          },
          "quality": []
         },
         "codeshareStatus": "IsOperator",
         "departure": {
          "checkInDesk": "714-716",
          "gate": "C10",
          "quality": [
           "Basic",
           "Live"
          ],
          "revisedTime": {
           "local": "2024-05-08 12:25+02:00",
           "utc": "2024-05-08 10:25Z"
          },
          "scheduledTime": {
           "local": "2024-05-08 12:25+02:00",
           "utc": "2024-05-08 10:25Z"
          },
          "terminal": "1"
         },
         "isCargo": false,
         "number": "VF 58",
         "status": "Departed"
        },
        {
         "aircraft": {
          "modeS": "440484",
          "model": "Airbus A319",
          "reg": "OE-LKC"
         },
         "airline": {
          "iata": "EC",
          "icao": "EJU",
          "name": "EasyJet Europe"
         },
         "arrival": {
          "airport": {
           "iata": "VCE",
           "icao": "LIPZ",
           "name": "Venice"
          },
          "quality": []
         },
         "callSign": "EJU67PA",
         "codeshareStatus": "IsCodeshared",
         "departure": {
          "checkInDesk": "514-616",
          "gate": "A38",
          "quality": [
           "Basic",
           "Live"
          ],
          "revisedTime": {
           "local": "2024-05-08 13:35+02:00",
           "utc": "2024-05-08 11:35Z"
          },
          "runwayTime": {
           "local": "2024-05-08 14:11+02:00",
           "utc": "2024-05-08 12:11Z"
          },
          "scheduledTime": {
           "local": "2024-05-08 13:35+02:00",
           "utc": "2024-05-08 11:35Z"
          },
          "terminal": "1"
         },
         "isCargo": false,
         "number": "EC 4076",
         "status": "Departed"
        },
        {
         "aircraft": {
          "modeS": "440062",
          "model": "Airbus A320",
          "reg": "OE-IVF"
         },
         "airline": {
          "iata": "EC",
          "icao": "EJU",
          "name": "EasyJet Europe"
         },
         "arrival": {
          "airport": {
           "iata": "ORY",
           "icao": "LFPO",
           "name": "Paris"
          },
          "quality": []
         },
         "callSign": "EJU93MR",
         "codeshareStatus": "IsCodeshared",
         "departure": {
          "checkInDesk": "514-616",
          "gate": "A32",
          "quality": [
           "Basic",
           "Live"
          ],
          "revisedTime": {
           "local": "2024-05-08 13:15+02:00",
           "utc": "2024-05-08 11:15Z"
          },
          "runwayTime": {
           "local": "2024-05-08 13:32+02:00",
           "utc": "2024-05-08 11:32Z"
          },
          "scheduledTime": {
           "local": "2024-05-08 13:15+02:00",
           "utc": "2024-05-08 11:15Z"
          },
          "terminal": "1"
         },
         "isCargo": false,
         "number": "EC 5157",
         "status": "Departed"
        },
        {
         "aircraft": {
          "model": "Airbus A319"
         },
         "airline": {
          "iata": "EC",
          "icao": "EJU",
          "name": "EasyJet Europe"
         },
         "arrival": {
          "airport": {
           "iata": "TLV",
           "icao": "LLBG",
           "name": "Tel Aviv Yafo"
          },
          "quality": []
         },
         "codeshareStatus": "IsCodeshared",
         "departure": {
          "quality": [
           "Basic",
           "Live"
          ],
          "revisedTime": {
           "local": "2024-05-08 13:20+02:00",
           "utc": "2024-05-08 11:20Z"
          },
          "scheduledTime": {
           "local": "2024-05-08 13:20+02:00",
           "utc": "2024-05-08 11:20Z"
          },
          "terminal": "1"
         },
         "isCargo": false,
         "number": "EC 5303",
         "status": "Canceled"
        },
        {
         "aircraft": {
          "modeS": "76BCCE",
          "model": "Boeing 787-8",
          "reg": "9V-OFN"
         },
         "airline": {
          "iata": "TR",
          "icao": "TGW",
          "name": "Scoot"
         },
         "arrival": {
          "airport": {
           "iata": "ATH",
           "icao": "LGAV",
           "name": "Athens"
          },
          "quality": []
         },
         "callSign": "TGW721",
         "codeshareStatus": "IsOperator",
         "departure": {
          "quality": [
           "Basic",
           "Live"
          ],
          "revisedTime": {
           "local": "2024-05-08 13:11+02:00",
           "utc": "2024-05-08 11:11Z"
          },
          "runwayTime": {
           "local": "2024-05-08 13:11+02:00",
           "utc": "2024-05-08 11:11Z"
          },
          "scheduledTime": {
           "local": "2024-05-08 13:11+02:00",
           "utc": "2024-05-08 11:11Z"
          }
         },
         "isCargo": false,
         "number": "TR 721",
         "status": "Departed"
        },
        {
         "aircraft": {
          "model": "Airbus A319"
         },
         "airline": {
          "iata": "U2",
          "icao": "EZY",
          "name": "easyJet"
         },
         "arrival": {
          "airport": {
           "iata": "TLV",
           "icao": "LLBG",
           "name": "Tel Aviv Yafo"
          },
          "quality": []
         },
         "codeshareStatus": "IsOperator",
         "departure": {
          "quality": [
           "Basic",
           "Live"
          ],
          "revisedTime": {
           "local": "2024-05-08 13:20+02:00",
           "utc": "2024-05-08 11:20Z"
          },
          "scheduledTime": {
           "local": "2024-05-08 13:20+02:00",
           "utc": "2024-05-08 11:20Z"
          },
          "terminal": "1"
         },
         "isCargo": false,
         "number": "U2 5303",
         "status": "Canceled"
        },
        {
         "aircraft": {
          "modeS": "4891B2",
          "model": "Boeing 737-800",
          "reg": "SP-ENT"
         },
         "airline": {
          "iata": "E4",
          "icao": "ENT",
          "name": "Enter Air"
         },
         "arrival": {
          "airport": {
           "name": "Unknown"
          },
          "quality": []
         },
         "callSign": "ENT505",
         "codeshareStatus": "IsOperator",
         "departure": {
          "quality": [
           "Basic",
           "Live"
          ],
          "revisedTime": {
           "local": "2024-05-08 14:12+02:00",
           "utc": "2024-05-08 12:12Z"
          },
          "runwayTime": {
           "local": "2024-05-08 14:12+02:00",
           "utc": "2024-05-08 12:12Z"
          },
          "scheduledTime": {
           "local": "2024-05-08 14:12+02:00",
           "utc": "2024-05-08 12:12Z"
          }
         },
         "isCargo": false,
         "number": "E4 505",
         "status": "Departed"
        },
        {
         "aircraft": {
          "modeS": "440209",
          "model": "Airbus A320",
          "reg": "OE-IZH"
         },
         "airline": {
          "iata": "EC",
          "icao": "EJU",
          "name": "EasyJet Europe"
         },
         "arrival": {
          "airport": {
           "iata": "LIN",
           "icao": "LIML",
           "name": "Milan"
          },
          "quality": []
         },
         "callSign": "EJU5071",
         "codeshareStatus": "IsCodeshared",
         "departure": {
          "checkInDesk": "514-616",
          "gate": "A30",
          "quality": [
           "Basic",
           "Live"
          ],
          "revisedTime": {
           "local": "2024-05-08 14:36+02:00",
           "utc": "2024-05-08 12:36Z"
          },
          "runwayTime": {
           "local": "2024-05-08 15:07+02:00",
           "utc": "2024-05-08 13:07Z"
          },
          "scheduledTime": {
           "local": "2024-05-08 14:25+02:00",
           "utc": "2024-05-08 12:25Z"
          },
          "terminal": "1"
         },
         "isCargo": false,
         "number": "EC 5071",
         "status": "Departed"
        },
        {
         "aircraft": {
          "modeS": "3C54A2",
          "model": "Airbus A321 NEO",
          "reg": "D-AEEB"
         },
         "airline": {
          "iata": "LH",
          "icao": "DLH",
          "name": "Lufthansa"
         },
         "arrival": {
          "airport": {
           "iata": "CPH",
           "icao": "EKCH",
           "name": "Copenhagen"
          },
          "quality": []
         },
         "codeshareStatus": "IsCodeshared",
         "departure": {
          "checkInDesk": "323-326",
          "gate": "A24",
          "quality": [
           "Basic",
           "Live"
          ],
          "revisedTime": {
           "local": "2024-05-08 14:20+02:00",
           "utc": "2024-05-08 12:20Z"
          },
          "scheduledTime": {
           "local": "2024-05-08 14:20+02:00",
           "utc": "2024-05-08 12:20Z"
          },
          "terminal": "1"
         },
         "isCargo": false,
         "number": "LH 5320",
         "status": "Departed"
        },
        {
         "aircraft": {
          "modeS": "3C5EE4",
          "model": "Airbus A319",
          "reg": "D-AGWD"
         },
         "airline": {
          "iata": "4U",
          "icao": "GWI",
          "name": "Germanwings"
         },
         "arrival": {
          "airport": {
           "iata": "STR",
           "icao": "EDDS",
           "name": "Stuttgart"
          },
          "quality": []
         },
         "callSign": "GWI28GB",
         "codeshareStatus": "IsOperator",
         "departure": {
          "quality": [
           "Basic",
           "Live"
          ],
          "revisedTime": {
           "local": "2024-05-08 15:37+02:00",
           "utc": "2024-05-08 13:37Z"
          },
          "runwayTime": {
           "local": "2024-05-08 15:37+02:00",
           "utc": "2024-05-08 13:37Z"
          },
          "scheduledTime": {
           "local": "2024-05-08 15:37+02:00",
           "utc": "2024-05-08 13:37Z"
          }
         },
         "isCargo": false,
         "number": "4U 28GB",
         "status": "Departed"
        },
        {
         "aircraft": {
          "modeS": "502D29",
          "model": "Airbus A220-300",
          "reg": "YL-AAY"
         },
         "airline": {
          "iata": "A3",
          "icao": "AEE",
          "name": "Aegean"
         },
         "arrival": {
          "airport": {
           "iata": "TLL",
           "icao": "EETN",
           "name": "Tallinn"
          },
          "quality": []
         },
         "codeshareStatus": "IsCodeshared",
         "departure": {
          "checkInDesk": "511-513",
          "gate": "A33",
          "quality": [
           "Basic",
           "Live"
          ],
          "revisedTime": {
           "local": "2024-05-08 15:55+02:00",
           "utc": "2024-05-08 13:55Z"
          },
          "scheduledTime": {
           "local": "2024-05-08 15:40+02:00",
           "utc": "2024-05-08 13:40Z"
          },
          "terminal": "1"
         },
         "isCargo": false,
         "number": "A3 3234",
         "status": "Departed"
        },
        {
         "aircraft": {
          "modeS": "4402AE",
          "model": "Airbus A320",
          "reg": "OE-IVZ"
         },
         "airline": {
          "iata": "EC",
          "icao": "EJU",
          "name": "EasyJet Europe"
         },
         "arrival": {
          "airport": {
           "iata": "HER",
           "icao": "LGIR",
           "name": "Heraklion"
          },
          "quality": []
         },
         "callSign": "EJU63BQ",
         "codeshareStatus": "IsCodeshared",
         "departure": {
          "checkInDesk": "514-616",
          "gate": "A31",
          "quality": [
           "Basic",
           "Live"
          ],
          "revisedTime": {
           "local": "2024-05-08 15:26+02:00",
           "utc": "2024-05-08 13:26Z"
          },
          "runwayTime": {
           "local": "2024-05-08 16:05+02:00",
           "utc": "2024-05-08 14:05Z"
          },
          "scheduledTime": {
           "local": "2024-05-08 15:25+02:00",
           "utc": "2024-05-08 13:25Z"
          },
          "terminal": "1"
         },
         "isCargo": false,
         "number": "EC 5007",
         "status": "Departed"
        },
        {
         "aircraft": {
          "modeS": "440CF8",
          "model": "Airbus A320",
          "reg": "OE-IBF"
         },
         "airline": {
          "iata": "EC",
          "icao": "EJU",
          "name": "EasyJet Europe"
         },
         "arrival": {
          "airport": {
           "iata": "LGW",
           "icao": "EGKK",
           "name": "London"
          },
          "quality": []
         },
         "callSign": "EJU43HU",
         "codeshareStatus": "IsCodeshared",
         "departure": {
          "checkInDesk": "514-616",
          "gate": "C06",
          "quality": [
           "Basic",
           "Live"
          ],
          "revisedTime": {
           "local": "2024-05-08 15:45+02:00",
           "utc": "2024-05-08 13:45Z"
          },
          "runwayTime": {
           "local": "2024-05-08 16:08+02:00",
           "utc": "2024-05-08 14:08Z"
          },
          "scheduledTime": {
           "local": "2024-05-08 15:45+02:00",
           "utc": "2024-05-08 13:45Z"
          },
          "terminal": "1"
         },
         "isCargo": false,
         "number": "EC 8622",
         "status": "Departed"
        },
        {
         "aircraft": {
          "modeS": "3C5EE4",
          "model": "Airbus A319",
          "reg": "D-AGWD"
         },
         "airline": {
          "iata": "LH",
          "icao": "DLH",
          "name": "Lufthansa"
         },
         "arrival": {
          "airport": {
           "iata": "STR",
           "icao": "EDDS",
           "name": "Stuttgart"
          },
          "quality": []
         },
         "codeshareStatus": "IsCodeshared",
         "departure": {
          "checkInDesk": "323-326",
          "gate": "A37",
          "quality": [
           "Basic",
           "Live"
          ],
          "revisedTime": {
           "local": "2024-05-08 15:30+02:00",
           "utc": "2024-05-08 13:30Z"
          },
          "scheduledTime": {
           "local": "2024-05-08 15:30+02:00",
           "utc": "2024-05-08 13:30Z"
          },
          "terminal": "1"
         },
         "isCargo": false,
         "number": "LH 5396",
         "status": "Departed"
        },
        {
         "aircraft": {
          "modeS": "502D29",
          "model": "Airbus A220-300",
          "reg": "YL-AAY"
         },
         "airline": {
          "iata": "TP",
          "icao": "TAP",
          "name": "TAP Air Portugal"
         },
         "arrival": {
          "airport": {
           "iata": "TLL",
           "icao": "EETN",
           "name": "Tallinn"
          },
          "quality": []
         },
         "codeshareStatus": "IsCodeshared",
         "departure": {
          "checkInDesk": "511-513",
          "gate": "A33",
          "quality": [
           "Basic",
           "Live"
          ],
          "revisedTime": {
           "local": "2024-05-08 15:55+02:00",
           "utc": "2024-05-08 13:55Z"
          },
          "scheduledTime": {
           "local": "2024-05-08 15:40+02:00",
           "utc": "2024-05-08 13:40Z"
          },
          "terminal": "1"
         },
         "isCargo": false,
         "number": "TP 6441",
         "status": "Departed"
        },
        {
         "aircraft": {
          "modeS": "3C45C4",
          "model": "Dassault Falcon 8X",
          "reg": "D-AAND"
         },
         "airline": {
          "name": "AYJ"
         },
         "arrival": {
          "airport": {
           "name": "Unknown"
          },
          "quality": []
         },
         "callSign": "AYJ193",
         "codeshareStatus": "IsOperator",
         "departure": {
          "quality": [
           "Basic",
           "Live"
          ],
          "revisedTime": {
           "local": "2024-05-08 16:30+02:00",
           "utc": "2024-05-08 14:30Z"
          },
          "runwayTime": {
           "local": "2024-05-08 16:30+02:00",
           "utc": "2024-05-08 14:30Z"
          },
          "scheduledTime": {
           "local": "2024-05-08 16:30+02:00",
           "utc": "2024-05-08 14:30Z"
          }
         },
         "isCargo": false,
         "number": "AYJ 193",
         "status": "Departed"
        },
        {
         "aircraft": {
          "modeS": "3CC24A",
          "model": "Cessna 560 Citation Excel",
          "reg": "D-CAWO"
         },
         "airline": {
          "name": "Unknown/Private owner"
         },
         "arrival": {
          "airport": {
           "name": "Unknown"
          },
          "quality": []
         },
         "callSign": "DCAWO",
         "codeshareStatus": "IsOperator",
         "departure": {
          "quality": [
           "Basic",
           "Live"
          ],
          "revisedTime": {
           "local": "2024-05-08 16:54+02:00",
           "utc": "2024-05-08 14:54Z"
          },
          "runwayTime": {
           "local": "2024-05-08 16:55+02:00",
           "utc": "2024-05-08 14:55Z"
          },
          "scheduledTime": {
           "local": "2024-05-08 16:54+02:00",
           "utc": "2024-05-08 14:54Z"
          }
         },
         "isCargo": false,
         "number": "DCAWO",
         "status": "Departed"
        },
        {
         "aircraft": {
          "model": "Airbus A320 NEO"
         },
         "airline": {
          "iata": "LH",
          "icao": "DLH",
          "name": "Lufthansa"
         },
         "arrival": {
          "airport": {
           "iata": "FRA",
           "icao": "EDDF",
           "name": "Frankfurt-am-Main"
          },
          "quality": []
         },
         "codeshareStatus": "IsOperator",
         "departure": {
          "quality": [
           "Basic",
           "Live"
          ],
          "revisedTime": {
           "local": "2024-05-08 16:45+02:00",
           "utc": "2024-05-08 14:45Z"
          },
          "scheduledTime": {
           "local": "2024-05-08 16:45+02:00",
           "utc": "2024-05-08 14:45Z"
          },
          "terminal": "1"
         },
         "isCargo": false,
         "number": "LH 195",
         "status": "Canceled"
        },
        {
         "aircraft": {
          "modeS": "4D2413",
          "model": "Airbus A320",
          "reg": "9H-EWA"
         },
         "airline": {
          "iata": "LH",
          "icao": "DLH",
          "name": "Lufthansa"
         },
         "arrival": {
          "airport": {
           "iata": "ARN",
           "icao": "ESSA",
           "name": "Stockholm"
          },
          "quality": []
         },
         "codeshareStatus": "IsCodeshared",
         "departure": {
          "checkInDesk": "323-326",
          "gate": "A36",
          "quality": [
           "Basic",
           "Live"
          ],
          "revisedTime": {
           "local": "2024-05-08 16:15+02:00",
           "utc": "2024-05-08 14:15Z"
          },
          "scheduledTime": {
           "local": "2024-05-08 16:15+02:00",
           "utc": "2024-05-08 14:15Z"
          },
          "terminal": "1"
         },
         "isCargo": false,
         "number": "LH 5342",
         "status": "Departed"
        },
        {
         "aircraft": {
          "modeS": "3C78E2",
          "model": "Canadair Challenger",
          "reg": "D-ANGB"
         },
         "airline": {
          "iata": "M2",
          "icao": "MHV",
          "name": "MHS Aviation"
         },
         "arrival": {
          "airport": {
           "name": "Unknown"
          },
          "quality": []
         },
         "callSign": "MHV64B",
         "codeshareStatus": "IsOperator",
         "departure": {
          "quality": [
           "Basic",
           "Live"
          ],
          "revisedTime": {
           "local": "2024-05-08 16:21+02:00",
           "utc": "2024-05-08 14:21Z"
          },
          "runwayTime": {
           "local": "2024-05-08 16:21+02:00",
           "utc": "2024-05-08 14:21Z"
          },
          "scheduledTime": {
           "local": "2024-05-08 16:21+02:00",
           "utc": "2024-05-08 14:21Z"
          }
         },
         "isCargo": false,
         "number": "M2 64B",
         "status": "Departed"
        },
        {
         "aircraft": {
          "modeS": "4D403F",
          "model": "Dassault Falcon 8X",
          "reg": "3A-MGA"
         },
         "airline": {
          "name": "Unknown/Private owner"
         },
         "arrival": {
          "airport": {
           "name": "Unknown"
          },
          "quality": []
         },
         "callSign": "3AMGA",
         "codeshareStatus": "IsOperator",
         "departure": {
          "quality": [
           "Basic",
           "Live"
          ],
          "revisedTime": {
           "local": "2024-05-08 17:02+02:00",
           "utc": "2024-05-08 15:02Z"
          },
          "runwayTime": {
           "local": "2024-05-08 17:02+02:00",
           "utc": "2024-05-08 15:02Z"
          },
          "scheduledTime": {
           "local": "2024-05-08 17:02+02:00",
           "utc": "2024-05-08 15:02Z"
          }
         },
         "isCargo": false,
         "number": "3AMGA",
         "status": "Departed"
        },
        {
         "aircraft": {
          "modeS": "440190",
          "model": "Embraer 135",
          "reg": "OE-IRK"
         },
         "airline": {
          "name": "AOJ"
         },
         "arrival": {
          "airport": {
           "name": "Unknown"
          },
          "quality": []
         },
         "callSign": "AOJ81R",
         "codeshareStatus": "IsOperator",
         "departure": {
          "quality": [
           "Basic",
           "Live"
          ],
          "revisedTime": {
           "local": "2024-05-08 17:12+02:00",
           "utc": "2024-05-08 15:12Z"
          },
          "runwayTime": {
           "local": "2024-05-08 17:12+02:00",
           "utc": "2024-05-08 15:12Z"
          },
          "scheduledTime": {
           "local": "2024-05-08 17:12+02:00",
           "utc": "2024-05-08 15:12Z"
          }
         },
         "isCargo": false,
         "number": "AOJ 81R",
         "status": "Departed"
        },
        {
         "aircraft": {
          "modeS": "4401D1",
          "model": "Airbus A320",
          "reg": "OE-IND"
         },
         "airline": {
          "iata": "EC",
          "icao": "EJU",
          "name": "EasyJet Europe"
         },
         "arrival": {
          "airport": {
           "iata": "LGW",
           "icao": "EGKK",
           "name": "London"
          },
          "quality": []
         },
         "callSign": "EJU38NJ",
         "codeshareStatus": "IsCodeshared",
         "departure": {
          "checkInDesk": "514-616",
          "gate": "C10",
          "quality": [
           "Basic",
           "Live"
          ],
          "revisedTime": {
           "local": "2024-05-08 17:50+02:00",
           "utc": "2024-05-08 15:50Z"
          },
          "runwayTime": {
           "local": "2024-05-08 18:08+02:00",
           "utc": "2024-05-08 16:08Z"
          },
          "scheduledTime": {
           "local": "2024-05-08 17:50+02:00",
           "utc": "2024-05-08 15:50Z"
          },
          "terminal": "1"
         },
         "isCargo": false,
         "number": "EC 8626",
         "status": "Departed"
        },
        {
         "aircraft": {
          "modeS": "393269",
          "model": "Cessna 510 Citation Mustang",
          "reg": "F-GMTJ"
         },
         "airline": {
          "name": "Unknown/Private owner"
         },
         "arrival": {
          "airport": {
           "name": "Unknown"
          },
          "quality": []
         },
         "callSign": "FGMTJ",
         "codeshareStatus": "IsOperator",
         "departure": {
          "quality": [
           "Basic",
           "Live"
          ],
          "revisedTime": {
           "local": "2024-05-08 17:08+02:00",
           "utc": "2024-05-08 15:08Z"
          },
          "runwayTime": {
           "local": "2024-05-08 17:08+02:00",
           "utc": "2024-05-08 15:08Z"
          },
          "scheduledTime": {
           "local": "2024-05-08 17:08+02:00",
           "utc": "2024-05-08 15:08Z"
          }
         },
         "isCargo": false,
         "number": "FGMTJ",
         "status": "Departed"
        },
        {
         "aircraft": {
          "modeS": "3C5EF6",
          "model": "Airbus A319",
          "reg": "D-AGWV"
         },
         "airline": {
          "iata": "LH",
          "icao": "DLH",
          "name": "Lufthansa"
         },
         "arrival": {
          "airport": {
           "iata": "STR",
           "icao": "EDDS",
           "name": "Stuttgart"
          },
          "quality": []
         },
         "codeshareStatus": "IsCodeshared",
         "departure": {
          "checkInDesk": "323-326",
          "gate": "B07",
          "quality": [
           "Basic",
           "Live"
          ],
          "revisedTime": {
           "local": "2024-05-08 17:10+02:00",
           "utc": "2024-05-08 15:10Z"
          },
          "scheduledTime": {
           "local": "2024-05-08 17:10+02:00",
           "utc": "2024-05-08 15:10Z"
          },
          "terminal": "1"
         },
         "isCargo": false,
         "number": "LH 5388",
         "status": "Departed"
        },
        {
         "aircraft": {
          "modeS": "440613",
          "model": "Embraer Phenom 300",
          "reg": "OE-GBH"
         },
         "airline": {
          "name": "TJS"
         },
         "arrival": {
          "airport": {
           "name": "Unknown"
          },
          "quality": []
         },
         "callSign": "TJS47",
         "codeshareStatus": "IsOperator",
         "departure": {
          "quality": [
           "Basic",
           "Live"
          ],
          "revisedTime": {
           "local": "2024-05-08 17:47+02:00",
           "utc": "2024-05-08 15:47Z"
          },
          "runwayTime": {
           "local": "2024-05-08 17:47+02:00",
           "utc": "2024-05-08 15:47Z"
          },
          "scheduledTime": {
           "local": "2024-05-08 17:47+02:00",
           "utc": "2024-05-08 15:47Z"
          }
         },
         "isCargo": false,
         "number": "TJS 47",
         "status": "Departed"
        },
        {
         "aircraft": {
          "modeS": "440179",
          "model": "Airbus A319",
          "reg": "OE-LQJ"
         },
         "airline": {
          "iata": "EC",
          "icao": "EJU",
          "name": "EasyJet Europe"
         },
         "arrival": {
          "airport": {
           "iata": "ORY",
           "icao": "LFPO",
           "name": "Paris"
          },
          "quality": []
         },
         "callSign": "EJU81KC",
         "codeshareStatus": "IsCodeshared",
         "departure": {
          "checkInDesk": "514-616",
          "gate": "A33",
          "quality": [
           "Basic",
           "Live"
          ],
          "revisedTime": {
           "local": "2024-05-08 18:06+02:00",
           "utc": "2024-05-08 16:06Z"
          },
          "runwayTime": {
           "local": "2024-05-08 18:24+02:00",
           "utc": "2024-05-08 16:24Z"
          },
          "scheduledTime": {
           "local": "2024-05-08 18:05+02:00",
           "utc": "2024-05-08 16:05Z"
          },
          "terminal": "1"
         },
         "isCargo": false,
         "number": "EC 5153",
         "status": "Departed"
        },
        {
         "aircraft": {
          "modeS": "440A73",
          "model": "Embraer Legacy 500",
          "reg": "OE-HPC"
         },
         "airline": {
          "name": "LDX"
         },
         "arrival": {
          "airport": {
           "name": "Unknown"
          },
          "quality": []
         },
         "callSign": "LDX11",
         "codeshareStatus": "IsOperator",
         "departure": {
          "quality": [
           "Basic",
           "Live"
          ],
          "revisedTime": {
           "local": "2024-05-08 18:45+02:00",
           "utc": "2024-05-08 16:45Z"
          },
          "runwayTime": {
           "local": "2024-05-08 18:47+02:00",
           "utc": "2024-05-08 16:47Z"
          },
          "scheduledTime": {
           "local": "2024-05-08 18:45+02:00",
           "utc": "2024-05-08 16:45Z"
          }
         },
         "isCargo": false,
         "number": "LDX 11",
         "status": "Departed"
        },
        {
         "aircraft": {
          "model": "Airbus A320 NEO"
         },
         "airline": {
          "iata": "LH",
          "icao": "DLH",
          "name": "Lufthansa"
         },
         "arrival": {
          "airport": {
           "iata": "MUC",
           "icao": "EDDM",
           "name": "Munich"
          },
          "quality": []
         },
         "codeshareStatus": "IsOperator",
         "departure": {
          "quality": [
           "Basic",
           "Live"
          ],
          "revisedTime": {
           "local": "2024-05-08 18:50+02:00",
           "utc": "2024-05-08 16:50Z"
          },
          "scheduledTime": {
           "local": "2024-05-08 18:50+02:00",
           "utc": "2024-05-08 16:50Z"
          },
          "terminal": "1"
         },
         "isCargo": false,
         "number": "LH 1949",
         "status": "Canceled"
        },
        {
         "aircraft": {
          "modeS": "49328E",
          "model": "Cessna 680A Citation Latitude",
          "reg": "CS-LTN"
         },
         "airline": {
          "name": "NJE"
         },
         "arrival": {
          "airport": {
           "name": "Unknown"
          },
          "quality": []
         },
         "callSign": "NJE506H",
         "codeshareStatus": "IsOperator",
         "departure": {
          "quality": [
           "Basic",
           "Live"
          ],
          "revisedTime": {
           "local": "2024-05-08 18:52+02:00",
           "utc": "2024-05-08 16:52Z"
          },
          "runwayTime": {
           "local": "2024-05-08 18:57+02:00",
           "utc": "2024-05-08 16:57Z"
          },
          "scheduledTime": {
           "local": "2024-05-08 18:52+02:00",
           "utc": "2024-05-08 16:52Z"
          }
         },
         "isCargo": false,
         "number": "NJE 506H",
         "status": "Departed"
        },
        {
         "aircraft": {
          "modeS": "4C01EB",
          "model": "Airbus A319",
          "reg": "YU-APL"
         },
         "airline": {
          "iata": "JA",
          "icao": "JAT",
          "name": "JetSMART"
         },
         "arrival": {
          "airport": {
           "iata": "BEG",
           "icao": "LYBE",
           "name": "Belgrade"
          },
          "quality": []
         },
         "codeshareStatus": "IsOperator",
         "departure": {
          "checkInDesk": "924-926",
          "gate": "C06",
          "quality": [
           "Basic",
           "Live"
          ],
          "revisedTime": {
           "local": "2024-05-08 20:15+02:00",
           "utc": "2024-05-08 18:15Z"
          },
          "scheduledTime": {
           "local": "2024-05-08 19:55+02:00",
           "utc": "2024-05-08 17:55Z"
          },
          "terminal": "1"
         },
         "isCargo": false,
         "number": "JA 357",
         "status": "Departed"
        },
        {
         "aircraft": {
          "modeS": "3C5EE4",
          "model": "Airbus A319",
          "reg": "D-AGWD"
         },
         "airline": {
          "iata": "LH",
          "icao": "DLH",
          "name": "Lufthansa"
         },
         "arrival": {
          "airport": {
           "iata": "STR",
           "icao": "EDDS",
           "name": "Stuttgart"
          },
          "quality": []
         },
         "codeshareStatus": "IsCodeshared",
         "departure": {
          "checkInDesk": "323-326",
          "gate": "A38",
          "quality": [
           "Basic",
           "Live"
          ],
          "revisedTime": {
           "local": "2024-05-08 19:00+02:00",
           "utc": "2024-05-08 17:00Z"
          },
          "scheduledTime": {
           "local": "2024-05-08 19:00+02:00",
           "utc": "2024-05-08 17:00Z"
          },
          "terminal": "1"
         },
         "isCargo": false,
         "number": "LH 5398",
         "status": "Departed"
        },
        {
         "aircraft": {
          "modeS": "3C5EE9",
          "model": "Airbus A319",
          "reg": "D-AGWI"
         },
         "airline": {
          "iata": "4U",
          "icao": "GWI",
          "name": "Germanwings"
         },
         "arrival": {
          "airport": {
           "iata": "STR",
           "icao": "EDDS",
           "name": "Stuttgart"
          },
          "quality": []
         },
         "callSign": "GWI37A",
         "codeshareStatus": "IsOperator",
         "departure": {
          "quality": [
           "Basic",
           "Live"
          ],
          "revisedTime": {
           "local": "2024-05-08 20:58+02:00",
           "utc": "2024-05-08 18:58Z"
          },
          "runwayTime": {
           "local": "2024-05-08 21:06+02:00",
           "utc": "2024-05-08 19:06Z"
          },
          "scheduledTime": {
           "local": "2024-05-08 20:58+02:00",
           "utc": "2024-05-08 18:58Z"
          }
         },
         "isCargo": false,
         "number": "4U 37A",
         "status": "Departed"
        },
        {
         "aircraft": {
          "modeS": "44001F",
          "model": "Airbus A320",
          "reg": "OE-ICN"
         },
         "airline": {
          "iata": "EC",
          "icao": "EJU",
          "name": "EasyJet Europe"
         },
         "arrival": {
          "airport": {
           "iata": "CDG",
           "icao": "LFPG",
           "name": "Paris"
          },
          "quality": []
         },
         "callSign": "EJU34AQ",
         "codeshareStatus": "IsCodeshared",
         "departure": {
          "checkInDesk": "514-616",
          "gate": "A32",
          "quality": [
           "Basic",
           "Live"
          ],
          "revisedTime": {
           "local": "2024-05-08 21:10+02:00",
           "utc": "2024-05-08 19:10Z"
          },
          "runwayTime": {
           "local": "2024-05-08 21:25+02:00",
           "utc": "2024-05-08 19:25Z"
          },
          "scheduledTime": {
           "local": "2024-05-08 20:40+02:00",
           "utc": "2024-05-08 18:40Z"
          },
          "terminal": "1"
         },
         "isCargo": false,
         "number": "EC 4634",
         "status": "Departed"
        },
        {
         "aircraft": {
          "modeS": "45CAA6",
          "model": "ATR 42-500",
          "reg": "OY-RUF"
         },
         "airline": {
          "name": "DMS"
         },
         "arrival": {
          "airport": {
           "iata": "SCN",
           "icao": "EDDR",
           "name": "Saarbrücken"
          },
          "quality": []
         },
         "callSign": "DMS2LW",
         "codeshareStatus": "IsOperator",
         "departure": {
          "quality": [
           "Basic",
           "Live"
          ],
          "revisedTime": {
           "local": "2024-05-08 20:08+02:00",
           "utc": "2024-05-08 18:08Z"
          },
          "runwayTime": {
           "local": "2024-05-08 20:08+02:00",
           "utc": "2024-05-08 18:08Z"
          },
          "scheduledTime": {
           "local": "2024-05-08 20:08+02:00",
           "utc": "2024-05-08 18:08Z"
          }
         },
         "isCargo": false,
         "number": "DMS 2LW",
         "status": "Departed"
        },
        {
         "aircraft": {
          "modeS": "4C01EB",
          "model": "Airbus A319",
          "reg": "YU-APL"
         },
         "airline": {
          "iata": "JU",
          "icao": "ASL",
          "name": "Air Serbia"
         },
         "arrival": {
          "airport": {
           "iata": "BEG",
           "icao": "LYBE",
           "name": "Belgrade"
          },
          "quality": []
         },
         "callSign": "ASL79P",
         "codeshareStatus": "IsOperator",
         "departure": {
          "quality": [
           "Basic",
           "Live"
          ],
          "revisedTime": {
           "local": "2024-05-08 20:29+02:00",
           "utc": "2024-05-08 18:29Z"
          },
          "runwayTime": {
           "local": "2024-05-08 20:41+02:00",
           "utc": "2024-05-08 18:41Z"
          },
          "scheduledTime": {
           "local": "2024-05-08 20:29+02:00",
           "utc": "2024-05-08 18:29Z"
          }
         },
         "isCargo": false,
         "number": "JU 79P",
         "status": "Departed"
        },
        {
         "aircraft": {
          "modeS": "440CF8",
          "model": "Airbus A320",
          "reg": "OE-IBF"
         },
         "airline": {
          "iata": "EC",
          "icao": "EJU",
          "name": "EasyJet Europe"
         },
         "arrival": {
          "airport": {
           "iata": "LIN",
           "icao": "LIML",
           "name": "Milan"
          },
          "quality": []
         },
         "callSign": "EJU5073",
         "codeshareStatus": "IsCodeshared",
         "departure": {
          "checkInDesk": "514-616",
          "gate": "A20",
          "quality": [
           "Basic",
           "Live"
          ],
          "revisedTime": {
           "local": "2024-05-08 21:10+02:00",
           "utc": "2024-05-08 19:10Z"
          },
          "runwayTime": {
           "local": "2024-05-08 21:22+02:00",
           "utc": "2024-05-08 19:22Z"
          },
          "scheduledTime": {
           "local": "2024-05-08 21:10+02:00",
           "utc": "2024-05-08 19:10Z"
          },
          "terminal": "1"
         },
         "isCargo": false,
         "number": "EC 5073",
         "status": "Departed"
        },
        {
         "aircraft": {
          "modeS": "4D2026",
          "model": "Airbus A320",
          "reg": "9H-AEP"
         },
         "airline": {
          "name": "KMM"
         },
         "arrival": {
          "airport": {
           "iata": "MLA",
           "icao": "LMML",
           "name": "Luqa"
          },
          "quality": []
         },
         "callSign": "KMM377",
         "codeshareStatus": "IsOperator",
         "departure": {
          "quality": [
           "Basic",
           "Live"
          ],
          "revisedTime": {
           "local": "2024-05-08 21:38+02:00",
           "utc": "2024-05-08 19:38Z"
          },
          "runwayTime": {
           "local": "2024-05-08 22:01+02:00",
           "utc": "2024-05-08 20:01Z"
          },
          "scheduledTime": {
           "local": "2024-05-08 21:38+02:00",
           "utc": "2024-05-08 19:38Z"
          }
         },
         "isCargo": false,
         "number": "KMM 377",
         "status": "Departed"
        },
        {
         "aircraft": {
          "modeS": "39A201",
          "model": "Boeing 737-800",
          "reg": "F-HIQB"
         },
         "airline": {
          "iata": "5O",
          "icao": "FPO",
          "name": "ASL Airlines France"
         },
         "arrival": {
          "airport": {
           "name": "Unknown"
          },
          "quality": []
         },
         "callSign": "FPO6DN",
         "codeshareStatus": "IsOperator",
         "departure": {
          "quality": [
           "Basic",
           "Live"
          ],
          "revisedTime": {
           "local": "2024-05-08 22:15+02:00",
           "utc": "2024-05-08 20:15Z"
          },
          "runwayTime": {
           "local": "2024-05-08 22:19+02:00",
           "utc": "2024-05-08 20:19Z"
          },
          "scheduledTime": {
           "local": "2024-05-08 22:15+02:00",
           "utc": "2024-05-08 20:15Z"
          }
         },
         "isCargo": false,
         "number": "5O 6DN",
         "status": "Departed"
        },
        {
         "aircraft": {
          "modeS": "440172",
          "model": "Airbus A319",
          "reg": "OE-LQX"
         },
         "airline": {
          "iata": "EC",
          "icao": "EJU",
          "name": "EasyJet Europe"
         },
         "arrival": {
          "airport": {
           "iata": "VCE",
           "icao": "LIPZ",
           "name": "Venice"
          },
          "quality": []
         },
         "callSign": "EJU48CX",
         "codeshareStatus": "IsCodeshared",
         "departure": {
          "checkInDesk": "514-616",
          "gate": "A36",
          "quality": [
           "Basic",
           "Live"
          ],
          "revisedTime": {
           "local": "2024-05-08 22:02+02:00",
           "utc": "2024-05-08 20:02Z"
          },
          "runwayTime": {
           "local": "2024-05-08 22:08+02:00",
           "utc": "2024-05-08 20:08Z"
          },
          "scheduledTime": {
           "local": "2024-05-08 22:00+02:00",
           "utc": "2024-05-08 20:00Z"
          },
          "terminal": "1"
         },
         "isCargo": false,
         "number": "EC 4078",
         "status": "Departed"
        },
        {
         "aircraft": {
          "modeS": "4CC52F",
          "model": "Boeing 737-900",
          "reg": "TF-ICC"
         },
         "airline": {
          "iata": "FI",
          "icao": "ICE",
          "name": "Icelandair"
         },
         "arrival": {
          "airport": {
           "iata": "KEF",
           "icao": "BIKF",
           "name": "Reykjavik"
          },
          "baggageBelt": "3",
          "quality": [
           "Basic",
           "Live"
          ],
          "revisedTime": {
           "local": "2024-05-08 16:06+00:00",
           "utc": "2024-05-08 16:06Z"
          },
          "runwayTime": {
           "local": "2024-05-08 16:01+00:00",
           "utc": "2024-05-08 16:01Z"
          },
          "scheduledTime": {
           "local": "2024-05-08 15:50+00:00",
           "utc": "2024-05-08 15:50Z"
          }
         },
         "callSign": "ICE15M",
         "codeshareStatus": "IsOperator",
         "departure": {
          "checkInDesk": "211-213",
          "gate": "A37",
          "quality": [
           "Basic",
           "Live"
          ],
          "revisedTime": {
           "local": "2024-05-08 14:05+02:00",
           "utc": "2024-05-08 12:05Z"
          },
          "runwayTime": {
           "local": "2024-05-08 14:28+02:00",
           "utc": "2024-05-08 12:28Z"
          },
          "scheduledTime": {
           "local": "2024-05-08 14:05+02:00",
           "utc": "2024-05-08 12:05Z"
          },
          "terminal": "1"
         },
         "isCargo": false,
         "number": "FI 529",
         "status": "Departed"
        },
        {
         "aircraft": {
          "modeS": "02A1B1",
          "model": "Airbus A320",
          "reg": "TS-INR"
         },
         "airline": {
          "iata": "BJ",
          "icao": "LBT",
          "name": "Nouvelair Tunisie"
         },
         "arrival": {
          "airport": {
           "iata": "TUN",
           "icao": "DTTA",
           "name": "Tunis"
          },
          "quality": [
           "Basic"
          ],
          "scheduledTime": {
           "local": "2024-05-08 17:35+01:00",
           "utc": "2024-05-08 16:35Z"
          },
          "terminal": "M"
         },
         "callSign": "LBT233",
         "codeshareStatus": "IsOperator",
         "departure": {
          "checkInDesk": "014-016",
          "gate": "C19",
          "quality": [
           "Basic",
           "Live"
          ],
          "revisedTime": {
           "local": "2024-05-08 15:50+02:00",
           "utc": "2024-05-08 13:50Z"
          },
          "runwayTime": {
           "local": "2024-05-08 16:07+02:00",
           "utc": "2024-05-08 14:07Z"
          },
          "scheduledTime": {
           "local": "2024-05-08 15:50+02:00",
           "utc": "2024-05-08 13:50Z"
          },
          "terminal": "1"
         },
         "isCargo": false,
         "number": "BJ 233",
         "status": "Departed"
        },
        {
         "aircraft": {
          "modeS": "44CC41",
          "model": "Airbus A320 NEO",
          "reg": "OO-SBA"
         },
         "airline": {
          "iata": "SN",
          "icao": "BEL",
          "name": "Brussels"
         },
         "arrival": {
          "airport": {
           "iata": "BRU",
           "icao": "EBBR",
           "name": "Brussels"
          },
          "quality": [
           "Basic",
           "Live"
          ],
          "revisedTime": {
           "local": "2024-05-08 20:17+02:00",
           "utc": "2024-05-08 18:17Z"
          },
          "scheduledTime": {
           "local": "2024-05-08 20:10+02:00",
           "utc": "2024-05-08 18:10Z"
          }
         },
         "callSign": "BEL3JZ",
         "codeshareStatus": "IsOperator",
         "departure": {
          "checkInDesk": "421-426",
          "gate": "A30",
          "quality": [
           "Basic",
           "Live"
          ],
          "revisedTime": {
           "local": "2024-05-08 19:05+02:00",
           "utc": "2024-05-08 17:05Z"
          },
          "scheduledTime": {
           "local": "2024-05-08 18:45+02:00",
           "utc": "2024-05-08 16:45Z"
          },
          "terminal": "1"
         },
         "isCargo": false,
         "number": "SN 2588",
         "status": "Departed"
        },
        {
         "aircraft": {
          "modeS": "4D2304",
          "model": "Boeing 737-800",
          "reg": "9H-VUF"
         },
         "airline": {
          "iata": "FR",
          "icao": "RYR",
          "name": "Ryanair"
         },
         "arrival": {
          "airport": {
           "iata": "BRU",
           "icao": "EBBR",
           "name": "Brussels"
          },
          "quality": [
           "Basic",
           "Live"
          ],
          "revisedTime": {
           "local": "2024-05-08 21:26+02:00",
           "utc": "2024-05-08 19:26Z"
          },
          "runwayTime": {
           "local": "2024-05-08 21:13+02:00",
           "utc": "2024-05-08 19:13Z"
          },
          "scheduledTime": {
           "local": "2024-05-08 21:00+02:00",
           "utc": "2024-05-08 19:00Z"
          }
         },
         "callSign": "RYR601Z",
         "codeshareStatus": "IsOperator",
         "departure": {
          "checkInDesk": "158-165",
          "gate": "B32",
          "quality": [
           "Basic",
           "Live"
          ],
          "revisedTime": {
           "local": "2024-05-08 20:10+02:00",
           "utc": "2024-05-08 18:10Z"
          },
          "scheduledTime": {
           "local": "2024-05-08 19:35+02:00",
           "utc": "2024-05-08 17:35Z"
          },
          "terminal": "2"
         },
         "isCargo": false,
         "number": "FR 162",
         "status": "Departed"
        },
        {
         "aircraft": {
          "modeS": "3C66E7",
          "model": "Airbus A320",
          "reg": "D-AIWG"
         },
         "airline": {
          "iata": "LH",
          "icao": "DLH",
          "name": "Lufthansa"
         },
         "arrival": {
          "airport": {
           "iata": "FRA",
           "icao": "EDDF",
           "name": "Frankfurt-am-Main"
          },
          "gate": "A1",
          "quality": [
           "Basic",
           "Live"
          ],
          "revisedTime": {
           "local": "2024-05-08 14:57+02:00",
           "utc": "2024-05-08 12:57Z"
          },
          "scheduledTime": {
           "local": "2024-05-08 14:55+02:00",
           "utc": "2024-05-08 12:55Z"
          },
          "terminal": "1"
         },
         "callSign": "DLH6YR",
         "codeshareStatus": "IsOperator",
         "departure": {
          "checkInDesk": "421-426",
          "gate": "B10",
          "quality": [
           "Basic",
           "Live"
          ],
          "revisedTime": {
           "local": "2024-05-08 13:45+02:00",
           "utc": "2024-05-08 11:45Z"
          },
          "runwayTime": {
           "local": "2024-05-08 13:58+02:00",
           "utc": "2024-05-08 11:58Z"
          },
          "scheduledTime": {
           "local": "2024-05-08 13:45+02:00",
           "utc": "2024-05-08 11:45Z"
          },
          "terminal": "1"
         },
         "isCargo": false,
         "number": "LH 189",
         "status": "Departed"
        },
        {
         "aircraft": {
          "modeS": "3C6650",
          "model": "Airbus A321",
          "reg": "D-AIRP"
         },
         "airline": {
          "iata": "LH",
          "icao": "DLH",
          "name": "Lufthansa"
         },
         "arrival": {
          "airport": {
           "iata": "FRA",
           "icao": "EDDF",
           "name": "Frankfurt-am-Main"
          },
          "gate": "A1",
          "quality": [
           "Basic",
           "Live"
          ],
          "revisedTime": {
           "local": "2024-05-08 16:29+02:00",
           "utc": "2024-05-08 14:29Z"
          },
          "scheduledTime": {
           "local": "2024-05-08 15:55+02:00",
           "utc": "2024-05-08 13:55Z"
          },
          "terminal": "1"
         },
         "callSign": "DLH2VK",
         "codeshareStatus": "IsOperator",
         "departure": {
          "checkInDesk": "421-426",
          "gate": "B19",
          "quality": [
           "Basic",
           "Live"
          ],
          "revisedTime": {
           "local": "2024-05-08 14:55+02:00",
           "utc": "2024-05-08 12:55Z"
          },
          "scheduledTime": {
           "local": "2024-05-08 14:45+02:00",
           "utc": "2024-05-08 12:45Z"
          },
          "terminal": "1"
         },
         "isCargo": false,
         "number": "LH 191",
         "status": "Departed"
        },
        {
         "aircraft": {
          "modeS": "3C6674",
          "model": "Airbus A321",
          "reg": "D-AIST"
         },
         "airline": {
          "iata": "LH",
          "icao": "DLH",
          "name": "Lufthansa"
         },
         "arrival": {
          "airport": {
           "iata": "FRA",
           "icao": "EDDF",
           "name": "Frankfurt-am-Main"
          },
          "gate": "A2",
          "quality": [
           "Basic",
           "Live"
          ],
          "revisedTime": {
           "local": "2024-05-08 19:50+02:00",
           "utc": "2024-05-08 17:50Z"
          },
          "runwayTime": {
           "local": "2024-05-08 19:41+02:00",
           "utc": "2024-05-08 17:41Z"
          },
          "scheduledTime": {
           "local": "2024-05-08 18:55+02:00",
           "utc": "2024-05-08 16:55Z"
          },
          "terminal": "1"
         },
         "callSign": "DLH8FT",
         "codeshareStatus": "IsOperator",
         "departure": {
          "checkInDesk": "421-426",
          "gate": "A01",
          "quality": [
           "Basic",
           "Live"
          ],
          "revisedTime": {
           "local": "2024-05-08 18:15+02:00",
           "utc": "2024-05-08 16:15Z"
          },
          "runwayTime": {
           "local": "2024-05-08 18:53+02:00",
           "utc": "2024-05-08 16:53Z"
          },
          "scheduledTime": {
           "local": "2024-05-08 17:45+02:00",
           "utc": "2024-05-08 15:45Z"
          },
          "terminal": "1"
         },
         "isCargo": false,
         "number": "LH 197",
         "status": "Departed"
        },
        {
         "aircraft": {
          "modeS": "3C6650",
          "model": "Airbus A321-200",
          "reg": "D-AISO"
         },
         "airline": {
          "iata": "LH",
          "icao": "DLH",
          "name": "Lufthansa"
         },
         "arrival": {
          "airport": {
           "iata": "FRA",
           "icao": "EDDF",
           "name": "Frankfurt-am-Main"
          },
          "gate": "A2",
          "quality": [
           "Basic",
           "Live"
          ],
          "revisedTime": {
           "local": "2024-05-08 22:01+02:00",
           "utc": "2024-05-08 20:01Z"
          },
          "scheduledTime": {
           "local": "2024-05-08 19:55+02:00",
           "utc": "2024-05-08 17:55Z"
          },
          "terminal": "1"
         },
         "codeshareStatus": "IsOperator",
         "departure": {
          "checkInDesk": "421-426",
          "gate": "B17",
          "quality": [
           "Basic",
           "Live"
          ],
          "revisedTime": {
           "local": "2024-05-08 20:45+02:00",
           "utc": "2024-05-08 18:45Z"
          },
          "scheduledTime": {
           "local": "2024-05-08 18:45+02:00",
           "utc": "2024-05-08 16:45Z"
          },
          "terminal": "1"
         },
         "isCargo": false,
         "number": "LH 199",
         "status": "Departed"
        },
        {
         "aircraft": {
          "modeS": "3C4DCF",
          "model": "Canadair CRJ 900NG",
          "reg": "D-ACNO"
         },
         "airline": {
          "iata": "LH",
          "icao": "DLH",
          "name": "Lufthansa"
         },
         "arrival": {
          "airport": {
           "iata": "FRA",
           "icao": "EDDF",
           "name": "Frankfurt-am-Main"
          },
          "gate": "A1",
          "quality": [
           "Basic",
           "Live"
          ],
          "revisedTime": {
           "local": "2024-05-08 21:04+02:00",
           "utc": "2024-05-08 19:04Z"
          },
          "scheduledTime": {
           "local": "2024-05-08 20:55+02:00",
           "utc": "2024-05-08 18:55Z"
          },
          "terminal": "1"
         },
         "callSign": "DLH201",
         "codeshareStatus": "IsOperator",
         "departure": {
          "checkInDesk": "421-426",
          "gate": "B12",
          "quality": [
           "Basic",
           "Live"
          ],
          "revisedTime": {
           "local": "2024-05-08 19:45+02:00",
           "utc": "2024-05-08 17:45Z"
          },
          "runwayTime": {
           "local": "2024-05-08 20:04+02:00",
           "utc": "2024-05-08 18:04Z"
          },
          "scheduledTime": {
           "local": "2024-05-08 19:45+02:00",
           "utc": "2024-05-08 17:45Z"
          },
          "terminal": "1"
         },
         "isCargo": false,
         "number": "LH 201",
         "status": "Departed"
        },
        {
         "aircraft": {
          "modeS": "3C6449",
          "model": "Airbus A319",
          "reg": "D-AIBI"
         },
         "airline": {
          "iata": "LH",
          "icao": "DLH",
          "name": "Lufthansa"
         },
         "arrival": {
          "airport": {
           "iata": "FRA",
           "icao": "EDDF",
           "name": "Frankfurt-am-Main"
          },
          "gate": "A2",
          "quality": [
           "Basic",
           "Live"
          ],
          "revisedTime": {
           "local": "2024-05-08 21:50+02:00",
           "utc": "2024-05-08 19:50Z"
          },
          "scheduledTime": {
           "local": "2024-05-08 21:55+02:00",
           "utc": "2024-05-08 19:55Z"
          },
          "terminal": "1"
         },
         "callSign": "DLH9VH",
         "codeshareStatus": "IsOperator",
         "departure": {
          "checkInDesk": "421-426",
          "gate": "B07",
          "quality": [
           "Basic",
           "Live"
          ],
          "revisedTime": {
           "local": "2024-05-08 20:45+02:00",
           "utc": "2024-05-08 18:45Z"
          },
          "scheduledTime": {
           "local": "2024-05-08 20:45+02:00",
           "utc": "2024-05-08 18:45Z"
          },
          "terminal": "1"
         },
         "isCargo": false,
         "number": "LH 203",
         "status": "Departed"
        },
        {
         "aircraft": {
          "modeS": "3C48EE",
          "model": "Airbus A319",
          "reg": "D-ABGN"
         },
         "airline": {
          "iata": "EW",
          "icao": "EWG",
          "name": "Eurowings"
         },
         "arrival": {
          "airport": {
           "iata": "CGN",
           "icao": "EDDK",
           "name": "Cologne"
          },
          "quality": [
           "Basic"
          ],
          "scheduledTime": {
           "local": "2024-05-08 18:20+02:00",
           "utc": "2024-05-08 16:20Z"
          },
          "terminal": "1"
         },
         "codeshareStatus": "IsOperator",
         "departure": {
          "checkInDesk": "323-326",
          "gate": "A06",
          "quality": [
           "Basic",
           "Live"
          ],
          "revisedTime": {
           "local": "2024-05-08 17:15+02:00",
           "utc": "2024-05-08 15:15Z"
          },
          "scheduledTime": {
           "local": "2024-05-08 17:15+02:00",
           "utc": "2024-05-08 15:15Z"
          },
          "terminal": "1"
         },
         "isCargo": false,
         "number": "EW 7",
         "status": "Departed"
        },
        {
         "aircraft": {
          "modeS": "4D239F",
          "model": "Airbus A320",
          "reg": "9H-MLP"
         },
         "airline": {
          "iata": "EW",
          "icao": "EWG",
          "name": "Eurowings"
         },
         "arrival": {
          "airport": {
           "iata": "CGN",
           "icao": "EDDK",
           "name": "Cologne"
          },
          "quality": [
           "Basic",
           "Live"
          ],
          "revisedTime": {
           "local": "2024-05-08 20:19+02:00",
           "utc": "2024-05-08 18:19Z"
          },
          "runwayTime": {
           "local": "2024-05-08 20:19+02:00",
           "utc": "2024-05-08 18:19Z"
          },
          "scheduledTime": {
           "local": "2024-05-08 19:50+02:00",
           "utc": "2024-05-08 17:50Z"
          },
          "terminal": "1"
         },
         "callSign": "EWG2PW",
         "codeshareStatus": "IsOperator",
         "departure": {
          "checkInDesk": "323-326",
          "gate": "A20",
          "quality": [
           "Basic",
           "Live"
          ],
          "revisedTime": {
           "local": "2024-05-08 19:15+02:00",
           "utc": "2024-05-08 17:15Z"
          },
          "runwayTime": {
           "local": "2024-05-08 19:32+02:00",
           "utc": "2024-05-08 17:32Z"
          },
          "scheduledTime": {
           "local": "2024-05-08 18:45+02:00",
           "utc": "2024-05-08 16:45Z"
          },
          "terminal": "1"
         },
         "isCargo": false,
         "number": "EW 8054",
         "status": "Departed"
        },
        {
         "aircraft": {
          "modeS": "3C5EEA",
          "model": "Airbus A319",
          "reg": "D-AGWJ"
         },
         "airline": {
          "iata": "4U",
          "icao": "GWI",
          "name": "Germanwings"
         },
         "arrival": {
          "airport": {
           "iata": "CGN",
           "icao": "EDDK",
           "name": "Cologne"
          },
          "quality": [
           "Basic",
           "Live"
          ],
          "revisedTime": {
           "local": "2024-05-08 21:29+02:00",
           "utc": "2024-05-08 19:29Z"
          },
          "scheduledTime": {
           "local": "2024-05-08 21:29+02:00",
           "utc": "2024-05-08 19:29Z"
          }
         },
         "callSign": "GWI021",
         "codeshareStatus": "IsOperator",
         "departure": {
          "quality": [
           "Basic",
           "Live"
          ],
          "revisedTime": {
           "local": "2024-05-08 20:35+02:00",
           "utc": "2024-05-08 18:35Z"
          },
          "runwayTime": {
           "local": "2024-05-08 20:44+02:00",
           "utc": "2024-05-08 18:44Z"
          },
          "scheduledTime": {
           "local": "2024-05-08 20:35+02:00",
           "utc": "2024-05-08 18:35Z"
          }
         },
         "isCargo": false,
         "number": "4U 21",
         "status": "Departed"
        },
        {
         "aircraft": {
          "modeS": "3C5EEA",
          "model": "Airbus A319",
          "reg": "D-AGWJ"
         },
         "airline": {
          "iata": "EW",
          "icao": "EWG",
          "name": "Eurowings"
         },
         "arrival": {
          "airport": {
           "iata": "CGN",
           "icao": "EDDK",
           "name": "Cologne"
          },
          "quality": [
           "Basic"
          ],
          "scheduledTime": {
           "local": "2024-05-08 21:45+02:00",
           "utc": "2024-05-08 19:45Z"
          },
          "terminal": "1"
         },
         "codeshareStatus": "IsOperator",
         "departure": {
          "checkInDesk": "323-326",
          "gate": "A03",
          "quality": [
           "Basic",
           "Live"
          ],
          "revisedTime": {
           "local": "2024-05-08 20:40+02:00",
           "utc": "2024-05-08 18:40Z"
          },
          "scheduledTime": {
           "local": "2024-05-08 20:40+02:00",
           "utc": "2024-05-08 18:40Z"
          },
          "terminal": "1"
         },
         "isCargo": false,
         "number": "EW 21",
         "status": "Departed"
        },
        {
         "aircraft": {
          "modeS": "3C5EF5",
          "model": "Airbus A319",
          "reg": "D-AGWU"
         },
         "airline": {
          "iata": "4U",
          "icao": "GWI",
          "name": "Germanwings"
         },
         "arrival": {
          "airport": {
           "iata": "DUS",
           "icao": "EDDL",
           "name": "Duesseldorf"
          },
          "quality": [
           "Basic",
           "Live"
          ],
          "revisedTime": {
           "local": "2024-05-08 15:21+02:00",
           "utc": "2024-05-08 13:21Z"
          },
          "runwayTime": {
           "local": "2024-05-08 15:21+02:00",
           "utc": "2024-05-08 13:21Z"
          },
          "scheduledTime": {
           "local": "2024-05-08 15:21+02:00",
           "utc": "2024-05-08 13:21Z"
          }
         },
         "callSign": "GWI8CM",
         "codeshareStatus": "IsOperator",
         "departure": {
          "quality": [
           "Basic",
           "Live"
          ],
          "revisedTime": {
           "local": "2024-05-08 14:37+02:00",
           "utc": "2024-05-08 12:37Z"
          },
          "runwayTime": {
           "local": "2024-05-08 14:37+02:00",
           "utc": "2024-05-08 12:37Z"
          },
          "scheduledTime": {
           "local": "2024-05-08 14:37+02:00",
           "utc": "2024-05-08 12:37Z"
          }
         },
         "isCargo": false,
         "number": "4U 8CM",
         "status": "Departed"
        },
        {
         "aircraft": {
          "modeS": "3C5EF5",
          "model": "Airbus A319",
          "reg": "D-AGWU"
         },
         "airline": {
          "iata": "EW",
          "icao": "EWG",
          "name": "Eurowings"
         },
         "arrival": {
          "airport": {
           "iata": "DUS",
           "icao": "EDDL",
           "name": "Duesseldorf"
          },
          "baggageBelt": "01",
          "gate": "A25",
          "quality": [
           "Basic",
           "Live"
          ],
          "revisedTime": {
           "local": "2024-05-08 15:24+02:00",
           "utc": "2024-05-08 13:24Z"
          },
          "runwayTime": {
           "local": "2024-05-08 15:21+02:00",
           "utc": "2024-05-08 13:21Z"
          },
          "scheduledTime": {
           "local": "2024-05-08 15:40+02:00",
           "utc": "2024-05-08 13:40Z"
          },
          "terminal": "A(1)"
         },
         "callSign": "GWI8CM",
         "codeshareStatus": "IsOperator",
         "departure": {
          "checkInDesk": "323-326",
          "gate": "A33",
          "quality": [
           "Basic",
           "Live"
          ],
          "revisedTime": {
           "local": "2024-05-08 14:30+02:00",
           "utc": "2024-05-08 12:30Z"
          },
          "scheduledTime": {
           "local": "2024-05-08 14:30+02:00",
           "utc": "2024-05-08 12:30Z"
          },
          "terminal": "1"
         },
         "isCargo": false,
         "number": "EW 8046",
         "status": "Departed"
        },
        {
         "aircraft": {
          "modeS": "3C54A2",
          "model": "Airbus A321 NEO",
          "reg": "D-AEEB"
         },
         "airline": {
          "iata": "4U",
          "icao": "GWI",
          "name": "Germanwings"
         },
         "arrival": {
          "airport": {
           "iata": "DUS",
           "icao": "EDDL",
           "name": "Duesseldorf"
          },
          "quality": [
           "Basic",
           "Live"
          ],
          "revisedTime": {
           "local": "2024-05-08 19:08+02:00",
           "utc": "2024-05-08 17:08Z"
          },
          "runwayTime": {
           "local": "2024-05-08 19:08+02:00",
           "utc": "2024-05-08 17:08Z"
          },
          "scheduledTime": {
           "local": "2024-05-08 18:00+02:00",
           "utc": "2024-05-08 16:00Z"
          }
         },
         "callSign": "GWI67L",
         "codeshareStatus": "IsOperator",
         "departure": {
          "quality": [
           "Basic",
           "Live"
          ],
          "revisedTime": {
           "local": "2024-05-08 17:05+02:00",
           "utc": "2024-05-08 15:05Z"
          },
          "runwayTime": {
           "local": "2024-05-08 17:05+02:00",
           "utc": "2024-05-08 15:05Z"
          },
          "scheduledTime": {
           "local": "2024-05-08 17:05+02:00",
           "utc": "2024-05-08 15:05Z"
          }
         },
         "isCargo": false,
         "number": "4U 4SF",
         "status": "Departed"
        },
        {
         "aircraft": {
          "modeS": "3C5EEF",
          "model": "Airbus A319",
          "reg": "D-AGWO"
         },
         "airline": {
          "iata": "EW",
          "icao": "EWG",
          "name": "Eurowings"
         },
         "arrival": {
          "airport": {
           "iata": "DUS",
           "icao": "EDDL",
           "name": "Duesseldorf"
          },
          "baggageBelt": "04",
          "gate": "B91",
          "quality": [
           "Basic",
           "Live"
          ],
          "revisedTime": {
           "local": "2024-05-08 18:05+02:00",
           "utc": "2024-05-08 16:05Z"
          },
          "runwayTime": {
           "local": "2024-05-08 18:00+02:00",
           "utc": "2024-05-08 16:00Z"
          },
          "scheduledTime": {
           "local": "2024-05-08 18:00+02:00",
           "utc": "2024-05-08 16:00Z"
          },
          "terminal": "A(1)"
         },
         "callSign": "GWI4SF",
         "codeshareStatus": "IsOperator",
         "departure": {
          "checkInDesk": "323-326",
          "gate": "B19",
          "quality": [
           "Basic",
           "Live"
          ],
          "revisedTime": {
           "local": "2024-05-08 16:50+02:00",
           "utc": "2024-05-08 14:50Z"
          },
          "scheduledTime": {
           "local": "2024-05-08 16:50+02:00",
           "utc": "2024-05-08 14:50Z"
          },
          "terminal": "1"
         },
         "isCargo": false,
         "number": "EW 9043",
         "status": "Departed"
        },
        {
         "aircraft": {
          "modeS": "3C54A2",
          "model": "Airbus A321 NEO",
          "reg": "D-AEEB"
         },
         "airline": {
          "iata": "EW",
          "icao": "EWG",
          "name": "Eurowings"
         },
         "arrival": {
          "airport": {
           "iata": "DUS",
           "icao": "EDDL",
           "name": "Duesseldorf"
          },
          "baggageBelt": "06",
          "gate": "A39",
          "quality": [
           "Basic",
           "Live"
          ],
          "revisedTime": {
           "local": "2024-05-08 19:14+02:00",
           "utc": "2024-05-08 17:14Z"
          },
          "runwayTime": {
           "local": "2024-05-08 19:08+02:00",
           "utc": "2024-05-08 17:08Z"
          },
          "scheduledTime": {
           "local": "2024-05-08 19:20+02:00",
           "utc": "2024-05-08 17:20Z"
          },
          "terminal": "A(1)"
         },
         "callSign": "GWI67L",
         "codeshareStatus": "IsOperator",
         "departure": {
          "checkInDesk": "323-326",
          "gate": "A35",
          "quality": [
           "Basic",
           "Live"
          ],
          "revisedTime": {
           "local": "2024-05-08 18:05+02:00",
           "utc": "2024-05-08 16:05Z"
          },
          "scheduledTime": {
           "local": "2024-05-08 18:10+02:00",
           "utc": "2024-05-08 16:10Z"
          },
          "terminal": "1"
         },
         "isCargo": false,
         "number": "EW 8042",
         "status": "Departed"
        },
        {
         "aircraft": {
          "modeS": "3C5EE5",
          "model": "Airbus A319",
          "reg": "D-AGWE"
         },
         "airline": {
          "iata": "EW",
          "icao": "EWG",
          "name": "Eurowings"
         },
         "arrival": {
          "airport": {
           "iata": "DUS",
           "icao": "EDDL",
           "name": "Duesseldorf"
          },
          "baggageBelt": "03",
          "gate": "B91",
          "quality": [
           "Basic",
           "Live"
          ],
          "revisedTime": {
           "local": "2024-05-08 21:59+02:00",
           "utc": "2024-05-08 19:59Z"
          },
          "runwayTime": {
           "local": "2024-05-08 21:54+02:00",
           "utc": "2024-05-08 19:54Z"
          },
          "scheduledTime": {
           "local": "2024-05-08 21:50+02:00",
           "utc": "2024-05-08 19:50Z"
          },
          "terminal": "A(1)"
         },
         "callSign": "GWI5XH",
         "codeshareStatus": "IsOperator",
         "departure": {
          "checkInDesk": "323-326",
          "gate": "A36",
          "quality": [
           "Basic",
           "Live"
          ],
          "revisedTime": {
           "local": "2024-05-08 20:55+02:00",
           "utc": "2024-05-08 18:55Z"
          },
          "scheduledTime": {
           "local": "2024-05-08 20:40+02:00",
           "utc": "2024-05-08 18:40Z"
          },
          "terminal": "1"
         },
         "isCargo": false,
         "number": "EW 9045",
         "status": "Departed"
        },
        {
         "aircraft": {
          "modeS": "3C6653",
          "model": "Airbus A321",
          "reg": "D-AIRS"
         },
         "airline": {
          "iata": "LH",
          "icao": "DLH",
          "name": "Lufthansa"
         },
         "arrival": {
          "airport": {
           "iata": "MUC",
           "icao": "EDDM",
           "name": "Munich"
          },
          "quality": [
           "Basic",
           "Live"
          ],
          "revisedTime": {
           "local": "2024-05-08 14:05+02:00",
           "utc": "2024-05-08 12:05Z"
          },
          "scheduledTime": {
           "local": "2024-05-08 14:00+02:00",
           "utc": "2024-05-08 12:00Z"
          },
          "terminal": "2"
         },
         "callSign": "DLH1927",
         "codeshareStatus": "IsOperator",
         "departure": {
          "checkInDesk": "421-426",
          "gate": "B17",
          "quality": [
           "Basic",
           "Live"
          ],
          "revisedTime": {
           "local": "2024-05-08 12:50+02:00",
           "utc": "2024-05-08 10:50Z"
          },
          "runwayTime": {
           "local": "2024-05-08 13:15+02:00",
           "utc": "2024-05-08 11:15Z"
          },
          "scheduledTime": {
           "local": "2024-05-08 12:50+02:00",
           "utc": "2024-05-08 10:50Z"
          },
          "terminal": "1"
         },
         "isCargo": false,
         "number": "LH 1927",
         "status": "Departed"
        },
        {
         "aircraft": {
          "modeS": "3C6581",
          "model": "Airbus A319",
          "reg": "D-AILA"
         },
         "airline": {
          "iata": "LH",
          "icao": "DLH",
          "name": "Lufthansa"
         },
         "arrival": {
          "airport": {
           "iata": "MUC",
           "icao": "EDDM",
           "name": "Munich"
          },
          "quality": [
           "Basic",
           "Live"
          ],
          "revisedTime": {
           "local": "2024-05-08 15:05+02:00",
           "utc": "2024-05-08 13:05Z"
          },
          "scheduledTime": {
           "local": "2024-05-08 15:00+02:00",
           "utc": "2024-05-08 13:00Z"
          },
          "terminal": "2"
         },
         "callSign": "DLH3EM",
         "codeshareStatus": "IsOperator",
         "departure": {
          "checkInDesk": "421-426",
          "gate": "B12",
          "quality": [
           "Basic",
           "Live"
          ],
          "revisedTime": {
           "local": "2024-05-08 13:50+02:00",
           "utc": "2024-05-08 11:50Z"
          },
          "scheduledTime": {
           "local": "2024-05-08 13:50+02:00",
           "utc": "2024-05-08 11:50Z"
          },
          "terminal": "1"
         },
         "isCargo": false,
         "number": "LH 1939",
         "status": "Departed"
        },
        {
         "aircraft": {
          "modeS": "3C64A8",
          "model": "Airbus A321 NEO",
          "reg": "D-AIEH"
         },
         "airline": {
          "iata": "LH",
          "icao": "DLH",
          "name": "Lufthansa"
         },
         "arrival": {
          "airport": {
           "iata": "MUC",
           "icao": "EDDM",
           "name": "Munich"
          },
          "quality": [
           "Basic",
           "Live"
          ],
          "revisedTime": {
           "local": "2024-05-08 17:00+02:00",
           "utc": "2024-05-08 15:00Z"
          },
          "runwayTime": {
           "local": "2024-05-08 17:01+02:00",
           "utc": "2024-05-08 15:01Z"
          },
          "scheduledTime": {
           "local": "2024-05-08 17:00+02:00",
           "utc": "2024-05-08 15:00Z"
          },
          "terminal": "2"
         },
         "callSign": "DLH7HW",
         "codeshareStatus": "IsOperator",
         "departure": {
          "checkInDesk": "421-426",
          "gate": "B17",
          "quality": [
           "Basic",
           "Live"
          ],
          "revisedTime": {
           "local": "2024-05-08 16:00+02:00",
           "utc": "2024-05-08 14:00Z"
          },
          "runwayTime": {
           "local": "2024-05-08 16:18+02:00",
           "utc": "2024-05-08 14:18Z"
          },
          "scheduledTime": {
           "local": "2024-05-08 15:50+02:00",
           "utc": "2024-05-08 13:50Z"
          },
          "terminal": "1"
         },
         "isCargo": false,
         "number": "LH 1943",
         "status": "Departed"
        },
        {
         "aircraft": {
          "modeS": "3C4DC8",
          "model": "Canadair CRJ 900NG",
          "reg": "D-ACNH"
         },
         "airline": {
          "iata": "LH",
          "icao": "DLH",
          "name": "Lufthansa"
         },
         "arrival": {
          "airport": {
           "iata": "MUC",
           "icao": "EDDM",
           "name": "Munich"
          },
          "quality": [
           "Basic",
           "Live"
          ],
          "revisedTime": {
           "local": "2024-05-08 18:50+02:00",
           "utc": "2024-05-08 16:50Z"
          },
          "scheduledTime": {
           "local": "2024-05-08 18:00+02:00",
           "utc": "2024-05-08 16:00Z"
          },
          "terminal": "2"
         },
         "callSign": "DLH8CJ",
         "codeshareStatus": "IsOperator",
         "departure": {
          "checkInDesk": "421-426",
          "gate": "B12",
          "quality": [
           "Basic",
           "Live"
          ],
          "revisedTime": {
           "local": "2024-05-08 17:40+02:00",
           "utc": "2024-05-08 15:40Z"
          },
          "runwayTime": {
           "local": "2024-05-08 18:05+02:00",
           "utc": "2024-05-08 16:05Z"
          },
          "scheduledTime": {
           "local": "2024-05-08 16:50+02:00",
           "utc": "2024-05-08 14:50Z"
          },
          "terminal": "1"
         },
         "isCargo": false,
         "number": "LH 1945",
         "status": "Departed"
        },
        {
         "aircraft": {
          "modeS": "3C6751",
          "model": "Airbus A320 (Sharklets)",
          "reg": "D-AIZQ"
         },
         "airline": {
          "iata": "LH",
          "icao": "DLH",
          "name": "Lufthansa"
         },
         "arrival": {
          "airport": {
           "iata": "MUC",
           "icao": "EDDM",
           "name": "Munich"
          },
          "quality": [
           "Basic",
           "Live"
          ],
          "revisedTime": {
           "local": "2024-05-08 19:40+02:00",
           "utc": "2024-05-08 17:40Z"
          },
          "scheduledTime": {
           "local": "2024-05-08 19:00+02:00",
           "utc": "2024-05-08 17:00Z"
          },
          "terminal": "2"
         },
         "callSign": "DLH1FU",
         "codeshareStatus": "IsOperator",
         "departure": {
          "checkInDesk": "421-426",
          "gate": "B19",
          "quality": [
           "Basic",
           "Live"
          ],
          "revisedTime": {
           "local": "2024-05-08 18:30+02:00",
           "utc": "2024-05-08 16:30Z"
          },
          "runwayTime": {
           "local": "2024-05-08 18:55+02:00",
           "utc": "2024-05-08 16:55Z"
          },
          "scheduledTime": {
           "local": "2024-05-08 17:50+02:00",
           "utc": "2024-05-08 15:50Z"
          },
          "terminal": "1"
         },
         "isCargo": false,
         "number": "LH 1947",
         "status": "Departed"
        },
        {
         "aircraft": {
          "modeS": "3C6549",
          "model": "Airbus A320 NEO",
          "reg": "D-AIJI"
         },
         "airline": {
          "iata": "LH",
          "icao": "DLH",
          "name": "Lufthansa"
         },
         "arrival": {
          "airport": {
           "iata": "MUC",
           "icao": "EDDM",
           "name": "Munich"
          },
          "quality": [
           "Basic",
           "Live"
          ],
          "revisedTime": {
           "local": "2024-05-08 21:40+02:00",
           "utc": "2024-05-08 19:40Z"
          },
          "scheduledTime": {
           "local": "2024-05-08 21:00+02:00",
           "utc": "2024-05-08 19:00Z"
          },
          "terminal": "2"
         },
         "codeshareStatus": "IsOperator",
         "departure": {
          "checkInDesk": "421-426",
          "gate": "B19",
          "quality": [
           "Basic",
           "Live"
          ],
          "revisedTime": {
           "local": "2024-05-08 20:40+02:00",
           "utc": "2024-05-08 18:40Z"
          },
          "scheduledTime": {
           "local": "2024-05-08 19:50+02:00",
           "utc": "2024-05-08 17:50Z"
          },
          "terminal": "1"
         },
         "isCargo": false,
         "number": "LH 1953",
         "status": "Departed"
        },
        {
         "aircraft": {
          "modeS": "45CAA6",
          "model": "ATR 42-500",
          "reg": "OY-RUF"
         },
         "airline": {
          "iata": "DX",
          "icao": "DTR",
          "name": "Danish Air"
         },
         "arrival": {
          "airport": {
           "iata": "SCN",
           "icao": "EDDR",
           "name": "Saarbrücken"
          },
          "quality": [
           "Basic"
          ],
          "scheduledTime": {
           "local": "2024-05-08 21:30+02:00",
           "utc": "2024-05-08 19:30Z"
          }
         },
         "codeshareStatus": "IsOperator",
         "departure": {
          "checkInDesk": "622-623",
          "gate": "B30",
          "quality": [
           "Basic",
           "Live"
          ],
          "revisedTime": {
           "local": "2024-05-08 19:50+02:00",
           "utc": "2024-05-08 17:50Z"
          },
          "scheduledTime": {
           "local": "2024-05-08 19:50+02:00",
           "utc": "2024-05-08 17:50Z"
          },
          "terminal": "1"
         },
         "isCargo": false,
         "number": "DX 126",
         "status": "Departed"
        },
        {
         "aircraft": {
          "modeS": "3C56F3",
          "model": "Airbus A320",
          "reg": "D-AEWS"
         },
         "airline": {
          "iata": "4U",
          "icao": "GWI",
          "name": "Germanwings"
         },
         "arrival": {
          "airport": {
           "iata": "STR",
           "icao": "EDDS",
           "name": "Stuttgart"
          },
          "quality": [
           "Basic",
           "Live"
          ],
          "revisedTime": {
           "local": "2024-05-08 14:20+02:00",
           "utc": "2024-05-08 12:20Z"
          },
          "runwayTime": {
           "local": "2024-05-08 14:08+02:00",
           "utc": "2024-05-08 12:08Z"
          },
          "scheduledTime": {
           "local": "2024-05-08 14:08+02:00",
           "utc": "2024-05-08 12:08Z"
          }
         },
         "callSign": "GWI4KN",
         "codeshareStatus": "IsOperator",
         "departure": {
          "quality": [
           "Basic",
           "Live"
          ],
          "revisedTime": {
           "local": "2024-05-08 13:14+02:00",
           "utc": "2024-05-08 11:14Z"
          },
          "runwayTime": {
           "local": "2024-05-08 13:14+02:00",
           "utc": "2024-05-08 11:14Z"
          },
          "scheduledTime": {
           "local": "2024-05-08 13:14+02:00",
           "utc": "2024-05-08 11:14Z"
          }
         },
         "isCargo": false,
         "number": "4U 4KN",
         "status": "Departed"
        },
        {
         "aircraft": {
          "modeS": "3C56F3",
          "model": "Airbus A320",
          "reg": "D-AEWS"
         },
         "airline": {
          "iata": "EW",
          "icao": "EWG",
          "name": "Eurowings"
         },
         "arrival": {
          "airport": {
           "iata": "STR",
           "icao": "EDDS",
           "name": "Stuttgart"
          },
          "quality": [
           "Basic",
           "Live"
          ],
          "revisedTime": {
           "local": "2024-05-08 14:15+02:00",
           "utc": "2024-05-08 12:15Z"
          },
          "scheduledTime": {
           "local": "2024-05-08 14:20+02:00",
           "utc": "2024-05-08 12:20Z"
          },
          "terminal": "3"
         },
         "codeshareStatus": "IsOperator",
         "departure": {
          "checkInDesk": "323-326",
          "gate": "A31",
          "quality": [
           "Basic",
           "Live"
          ],
          "revisedTime": {
           "local": "2024-05-08 13:10+02:00",
           "utc": "2024-05-08 11:10Z"
          },
          "scheduledTime": {
           "local": "2024-05-08 13:10+02:00",
           "utc": "2024-05-08 11:10Z"
          },
          "terminal": "1"
         },
         "isCargo": false,
         "number": "EW 2019",
         "status": "Departed"
        },
        {
         "aircraft": {
          "modeS": "3C5EE4",
          "model": "Airbus A319",
          "reg": "D-AGWD"
         },
         "airline": {
          "iata": "EW",
          "icao": "EWG",
          "name": "Eurowings"
         },
         "arrival": {
          "airport": {
           "iata": "STR",
           "icao": "EDDS",
           "name": "Stuttgart"
          },
          "quality": [
           "Basic",
           "Live"
          ],
          "revisedTime": {
           "local": "2024-05-08 16:37+02:00",
           "utc": "2024-05-08 14:37Z"
          },
          "scheduledTime": {
           "local": "2024-05-08 16:40+02:00",
           "utc": "2024-05-08 14:40Z"
          },
          "terminal": "3"
         },
         "codeshareStatus": "IsOperator",
         "departure": {
          "checkInDesk": "323-326",
          "gate": "A37",
          "quality": [
           "Basic",
           "Live"
          ],
          "revisedTime": {
           "local": "2024-05-08 15:30+02:00",
           "utc": "2024-05-08 13:30Z"
          },
          "scheduledTime": {
           "local": "2024-05-08 15:30+02:00",
           "utc": "2024-05-08 13:30Z"
          },
          "terminal": "1"
         },
         "isCargo": false,
         "number": "EW 8004",
         "status": "Departed"
        },
        {
         "aircraft": {
          "modeS": "3C5EF6",
          "model": "Airbus A319",
          "reg": "D-AGWV"
         },
         "airline": {
          "iata": "EW",
          "icao": "EWG",
          "name": "Eurowings"
         },
         "arrival": {
          "airport": {
           "iata": "STR",
           "icao": "EDDS",
           "name": "Stuttgart"
          },
          "quality": [
           "Basic",
           "Live"
          ],
          "revisedTime": {
           "local": "2024-05-08 18:52+02:00",
           "utc": "2024-05-08 16:52Z"
          },
          "scheduledTime": {
           "local": "2024-05-08 18:20+02:00",
           "utc": "2024-05-08 16:20Z"
          },
          "terminal": "1"
         },
         "codeshareStatus": "IsOperator",
         "departure": {
          "checkInDesk": "323-326",
          "gate": "B07",
          "quality": [
           "Basic",
           "Live"
          ],
          "revisedTime": {
           "local": "2024-05-08 17:10+02:00",
           "utc": "2024-05-08 15:10Z"
          },
          "scheduledTime": {
           "local": "2024-05-08 17:10+02:00",
           "utc": "2024-05-08 15:10Z"
          },
          "terminal": "1"
         },
         "isCargo": false,
         "number": "EW 2005",
         "status": "Departed"
        },
        {
         "aircraft": {
          "modeS": "3C5EE4",
          "model": "Airbus A319",
          "reg": "D-AGWD"
         },
         "airline": {
          "iata": "EW",
          "icao": "EWG",
          "name": "Eurowings"
         },
         "arrival": {
          "airport": {
           "iata": "STR",
           "icao": "EDDS",
           "name": "Stuttgart"
          },
          "quality": [
           "Basic",
           "Live"
          ],
          "revisedTime": {
           "local": "2024-05-08 20:19+02:00",
           "utc": "2024-05-08 18:19Z"
          },
          "scheduledTime": {
           "local": "2024-05-08 20:10+02:00",
           "utc": "2024-05-08 18:10Z"
          },
          "terminal": "3"
         },
         "codeshareStatus": "IsOperator",
         "departure": {
          "checkInDesk": "323-326",
          "gate": "A38",
          "quality": [
           "Basic",
           "Live"
          ],
          "revisedTime": {
           "local": "2024-05-08 19:00+02:00",
           "utc": "2024-05-08 17:00Z"
          },
          "scheduledTime": {
           "local": "2024-05-08 19:00+02:00",
           "utc": "2024-05-08 17:00Z"
          },
          "terminal": "1"
         },
         "isCargo": false,
         "number": "EW 8006",
         "status": "Departed"
        },
        {
         "aircraft": {
          "modeS": "3C5EE9",
          "model": "Airbus A319",
          "reg": "D-AGWI"
         },
         "airline": {
          "iata": "EW",
          "icao": "EWG",
          "name": "Eurowings"
         },
         "arrival": {
          "airport": {
           "iata": "STR",
           "icao": "EDDS",
           "name": "Stuttgart"
          },
          "quality": [
           "Basic",
           "Live"
          ],
          "revisedTime": {
           "local": "2024-05-08 22:05+02:00",
           "utc": "2024-05-08 20:05Z"
          },
          "scheduledTime": {
           "local": "2024-05-08 21:40+02:00",
           "utc": "2024-05-08 19:40Z"
          },
          "terminal": "3"
         },
         "codeshareStatus": "IsOperator",
         "departure": {
          "checkInDesk": "323-326",
          "gate": "A37",
          "quality": [
           "Basic",
           "Live"
          ],
          "revisedTime": {
           "local": "2024-05-08 20:50+02:00",
           "utc": "2024-05-08 18:50Z"
          },
          "scheduledTime": {
           "local": "2024-05-08 20:30+02:00",
           "utc": "2024-05-08 18:30Z"
          },
          "terminal": "1"
         },
         "isCargo": false,
         "number": "EW 2021",
         "status": "Departed"
        },
        {
         "aircraft": {
          "modeS": "502D29",
          "model": "Airbus A220-300",
          "reg": "YL-AAY"
         },
         "airline": {
          "iata": "BT",
          "icao": "BTI",
          "name": "airBaltic"
         },
         "arrival": {
          "airport": {
           "iata": "TLL",
           "icao": "EETN",
           "name": "Tallinn"
          },
          "quality": [
           "Basic",
           "Live"
          ],
          "revisedTime": {
           "local": "2024-05-08 18:43+03:00",
           "utc": "2024-05-08 15:43Z"
          },
          "runwayTime": {
           "local": "2024-05-08 18:43+03:00",
           "utc": "2024-05-08 15:43Z"
          },
          "scheduledTime": {
           "local": "2024-05-08 18:25+03:00",
           "utc": "2024-05-08 15:25Z"
          }
         },
         "callSign": "BTI72X",
         "codeshareStatus": "IsOperator",
         "departure": {
          "checkInDesk": "511-513",
          "gate": "A33",
          "quality": [
           "Basic",
           "Live"
          ],
          "revisedTime": {
           "local": "2024-05-08 15:55+02:00",
           "utc": "2024-05-08 13:55Z"
          },
          "runwayTime": {
           "local": "2024-05-08 16:09+02:00",
           "utc": "2024-05-08 14:09Z"
          },
          "scheduledTime": {
           "local": "2024-05-08 15:40+02:00",
           "utc": "2024-05-08 13:40Z"
          },
          "terminal": "1"
         },
         "isCargo": false,
         "number": "BT 822",
         "status": "Departed"
        },
        {
         "aircraft": {
          "modeS": "4D2494",
          "model": "Airbus A320",
          "reg": "9H-MLZ"
         },
         "airline": {
          "iata": "EW",
          "icao": "EWG",
          "name": "Eurowings"
         },
         "arrival": {
          "airport": {
           "iata": "HEL",
           "icao": "EFHK",
           "name": "Helsinki"
          },
          "baggageBelt": "12",
          "gate": "24",
          "quality": [
           "Basic",
           "Live"
          ],
          "revisedTime": {
           "local": "2024-05-08 15:44+03:00",
           "utc": "2024-05-08 12:44Z"
          },
          "scheduledTime": {
           "local": "2024-05-08 15:35+03:00",
           "utc": "2024-05-08 12:35Z"
          },
          "terminal": "2"
         },
         "callSign": "EWG23P",
         "codeshareStatus": "IsOperator",
         "departure": {
          "checkInDesk": "323-326",
          "gate": "A33",
          "quality": [
           "Basic",
           "Live"
          ],
          "revisedTime": {
           "local": "2024-05-08 12:30+02:00",
           "utc": "2024-05-08 10:30Z"
          },
          "runwayTime": {
           "local": "2024-05-08 13:00+02:00",
           "utc": "2024-05-08 11:00Z"
          },
          "scheduledTime": {
           "local": "2024-05-08 12:30+02:00",
           "utc": "2024-05-08 10:30Z"
          },
          "terminal": "1"
         },
         "isCargo": false,
         "number": "EW 8230",
         "status": "Departed"
        },
        {
         "aircraft": {
          "modeS": "461F69",
          "model": "Airbus A320-200",
          "reg": "OH-LXH"
         },
         "airline": {
          "iata": "AY",
          "icao": "FIN",
          "name": "Finnair"
         },
         "arrival": {
          "airport": {
           "iata": "HEL",
           "icao": "EFHK",
           "name": "Helsinki"
          },
          "baggageBelt": "4",
          "gate": "25",
          "quality": [
           "Basic",
           "Live"
          ],
          "revisedTime": {
           "local": "2024-05-08 16:19+03:00",
           "utc": "2024-05-08 13:19Z"
          },
          "scheduledTime": {
           "local": "2024-05-08 16:05+03:00",
           "utc": "2024-05-08 13:05Z"
          },
          "terminal": "2"
         },
         "callSign": "FIN3YX",
         "codeshareStatus": "IsOperator",
         "departure": {
          "checkInDesk": "124-126",
          "gate": "A36",
          "quality": [
           "Basic",
           "Live"
          ],
          "revisedTime": {
           "local": "2024-05-08 13:10+02:00",
           "utc": "2024-05-08 11:10Z"
          },
          "runwayTime": {
           "local": "2024-05-08 13:33+02:00",
           "utc": "2024-05-08 11:33Z"
          },
          "scheduledTime": {
           "local": "2024-05-08 13:10+02:00",
           "utc": "2024-05-08 11:10Z"
          },
          "terminal": "1"
         },
         "isCargo": false,
         "number": "AY 1434",
         "status": "Departed"
        },
        {
         "aircraft": {
          "modeS": "461F6C",
          "model": "Airbus A320",
          "reg": "OH-LXK"
         },
         "airline": {
          "iata": "AY",
          "icao": "FIN",
          "name": "Finnair"
         },
         "arrival": {
          "airport": {
           "iata": "HEL",
           "icao": "EFHK",
           "name": "Helsinki"
          },
          "baggageBelt": "2",
          "gate": "27",
          "quality": [
           "Basic",
           "Live"
          ],
          "revisedTime": {
           "local": "2024-05-08 21:07+03:00",
           "utc": "2024-05-08 18:07Z"
          },
          "scheduledTime": {
           "local": "2024-05-08 21:00+03:00",
           "utc": "2024-05-08 18:00Z"
          },
          "terminal": "2"
         },
         "callSign": "FIN1438",
         "codeshareStatus": "IsOperator",
         "departure": {
          "checkInDesk": "211-213",
          "gate": "A31",
          "quality": [
           "Basic",
           "Live"
          ],
          "revisedTime": {
           "local": "2024-05-08 18:05+02:00",
           "utc": "2024-05-08 16:05Z"
          },
          "runwayTime": {
           "local": "2024-05-08 18:29+02:00",
           "utc": "2024-05-08 16:29Z"
          },
          "scheduledTime": {
           "local": "2024-05-08 18:05+02:00",
           "utc": "2024-05-08 16:05Z"
          },
          "terminal": "1"
         },
         "isCargo": false,
         "number": "AY 1438",
         "status": "Departed"
        },
        {
         "aircraft": {
          "modeS": "461E1F",
          "model": "Embraer 190",
          "reg": "OH-LKP"
         },
         "airline": {
          "iata": "AY",
          "icao": "FIN",
          "name": "Finnair"
         },
         "arrival": {
          "airport": {
           "iata": "HEL",
           "icao": "EFHK",
           "name": "Helsinki"
          },
          "baggageBelt": "8",
          "gate": "36",
          "quality": [
           "Basic",
           "Live"
          ],
          "revisedTime": {
           "local": "2024-05-08 22:35+03:00",
           "utc": "2024-05-08 19:35Z"
          },
          "scheduledTime": {
           "local": "2024-05-08 22:40+03:00",
           "utc": "2024-05-08 19:40Z"
          },
          "terminal": "2"
         },
         "callSign": "FIN9YA",
         "codeshareStatus": "IsOperator",
         "departure": {
          "checkInDesk": "214-216",
          "gate": "A31",
          "quality": [
           "Basic",
           "Live"
          ],
          "revisedTime": {
           "local": "2024-05-08 19:55+02:00",
           "utc": "2024-05-08 17:55Z"
          },
          "runwayTime": {
           "local": "2024-05-08 19:57+02:00",
           "utc": "2024-05-08 17:57Z"
          },
          "scheduledTime": {
           "local": "2024-05-08 19:45+02:00",
           "utc": "2024-05-08 17:45Z"
          },
          "terminal": "1"
         },
         "isCargo": false,
         "number": "AY 1436",
         "status": "Departed"
        },
        {
         "aircraft": {
          "modeS": "406016",
          "model": "Airbus A320",
          "reg": "G-EZTM"
         },
         "airline": {
          "iata": "U2",
          "icao": "EZY",
          "name": "easyJet"
         },
         "arrival": {
          "airport": {
           "iata": "BHX",
           "icao": "EGBB",
           "name": "Birmingham"
          },
          "quality": [
           "Basic",
           "Live"
          ],
          "revisedTime": {
           "local": "2024-05-08 22:42+01:00",
           "utc": "2024-05-08 21:42Z"
          },
          "runwayTime": {
           "local": "2024-05-08 22:38+01:00",
           "utc": "2024-05-08 21:38Z"
          },
          "scheduledTime": {
           "local": "2024-05-08 22:20+01:00",
           "utc": "2024-05-08 21:20Z"
          }
         },
         "callSign": "EZY26XL",
         "codeshareStatus": "IsOperator",
         "departure": {
          "checkInDesk": "514-616",
          "gate": "C10",
          "quality": [
           "Basic",
           "Live"
          ],
          "revisedTime": {
           "local": "2024-05-08 21:25+02:00",
           "utc": "2024-05-08 19:25Z"
          },
          "runwayTime": {
           "local": "2024-05-08 21:58+02:00",
           "utc": "2024-05-08 19:58Z"
          },
          "scheduledTime": {
           "local": "2024-05-08 21:25+02:00",
           "utc": "2024-05-08 19:25Z"
          },
          "terminal": "1"
         },
         "isCargo": false,
         "number": "U2 6622",
         "status": "Departed"
        },
        {
         "aircraft": {
          "modeS": "4D2221",
          "model": "Boeing 737-800",
          "reg": "9H-QCH"
         },
         "airline": {
          "iata": "FR",
          "icao": "RYR",
          "name": "Ryanair"
         },
         "arrival": {
          "airport": {
           "iata": "MAN",
           "icao": "EGCC",
           "name": "Manchester"
          },
          "gate": "54",
          "quality": [
           "Basic",
           "Live"
          ],
          "revisedTime": {
           "local": "2024-05-08 13:55+01:00",
           "utc": "2024-05-08 12:55Z"
          },
          "scheduledTime": {
           "local": "2024-05-08 14:05+01:00",
           "utc": "2024-05-08 13:05Z"
          },
          "terminal": "3"
         },
         "callSign": "RYR61QF",
         "codeshareStatus": "IsOperator",
         "departure": {
          "checkInDesk": "158-165",
          "gate": "B40",
          "quality": [
           "Basic",
           "Live"
          ],
          "revisedTime": {
           "local": "2024-05-08 13:05+02:00",
           "utc": "2024-05-08 11:05Z"
          },
          "runwayTime": {
           "local": "2024-05-08 13:14+02:00",
           "utc": "2024-05-08 11:14Z"
          },
          "scheduledTime": {
           "local": "2024-05-08 13:05+02:00",
           "utc": "2024-05-08 11:05Z"
          },
          "terminal": "2"
         },
         "isCargo": false,
         "number": "FR 1144",
         "status": "Departed"
        },
        {
         "aircraft": {
          "modeS": "4D24EA",
          "model": "Boeing 737 MAX 8",
          "reg": "9H-VVL"
         },
         "airline": {
          "iata": "FR",
          "icao": "RYR",
          "name": "Ryanair"
         },
         "arrival": {
          "airport": {
           "iata": "MAN",
           "icao": "EGCC",
           "name": "Manchester"
          },
          "gate": "54",
          "quality": [
           "Basic",
           "Live"
          ],
          "revisedTime": {
           "local": "2024-05-08 18:44+01:00",
           "utc": "2024-05-08 17:44Z"
          },
          "scheduledTime": {
           "local": "2024-05-08 18:05+01:00",
           "utc": "2024-05-08 17:05Z"
          },
          "terminal": "3"
         },
         "callSign": "RYR14MM",
         "codeshareStatus": "IsOperator",
         "departure": {
          "checkInDesk": "158-165",
          "gate": "B40",
          "quality": [
           "Basic",
           "Live"
          ],
          "revisedTime": {
           "local": "2024-05-08 17:50+02:00",
           "utc": "2024-05-08 15:50Z"
          },
          "runwayTime": {
           "local": "2024-05-08 18:10+02:00",
           "utc": "2024-05-08 16:10Z"
          },
          "scheduledTime": {
           "local": "2024-05-08 17:05+02:00",
           "utc": "2024-05-08 15:05Z"
          },
          "terminal": "2"
         },
         "isCargo": false,
         "number": "FR 1154",
         "status": "Departed"
        },
        {
         "aircraft": {
          "modeS": "406A91",
          "model": "Airbus A320 (Sharklets)",
          "reg": "G-EZWP"
         },
         "airline": {
          "iata": "U2",
          "icao": "EZY",
          "name": "easyJet"
         },
         "arrival": {
          "airport": {
           "iata": "BRS",
           "icao": "EGGD",
           "name": "Bristol"
          },
          "quality": [
           "Basic",
           "Live"
          ],
          "revisedTime": {
           "local": "2024-05-08 22:59+01:00",
           "utc": "2024-05-08 21:59Z"
          },
          "runwayTime": {
           "local": "2024-05-08 22:53+01:00",
           "utc": "2024-05-08 21:53Z"
          },
          "scheduledTime": {
           "local": "2024-05-08 23:10+01:00",
           "utc": "2024-05-08 22:10Z"
          }
         },
         "callSign": "EZY73NZ",
         "codeshareStatus": "IsOperator",
         "departure": {
          "checkInDesk": "514-616",
          "gate": "C04",
          "quality": [
           "Basic",
           "Live"
          ],
          "revisedTime": {
           "local": "2024-05-08 22:05+02:00",
           "utc": "2024-05-08 20:05Z"
          },
          "runwayTime": {
           "local": "2024-05-08 22:19+02:00",
           "utc": "2024-05-08 20:19Z"
          },
          "scheduledTime": {
           "local": "2024-05-08 22:05+02:00",
           "utc": "2024-05-08 20:05Z"
          },
          "terminal": "1"
         },
         "isCargo": false,
         "number": "U2 2934",
         "status": "Departed"
        },
        {
         "aircraft": {
          "modeS": "440CF8",
          "model": "Airbus A320",
          "reg": "OE-IBF"
         },
         "airline": {
          "iata": "U2",
          "icao": "EZY",
          "name": "easyJet"
         },
         "arrival": {
          "airport": {
           "iata": "LGW",
           "icao": "EGKK",
           "name": "London"
          },
          "quality": [
           "Basic",
           "Live"
          ],
          "revisedTime": {
           "local": "2024-05-08 16:39+01:00",
           "utc": "2024-05-08 15:39Z"
          },
          "scheduledTime": {
           "local": "2024-05-08 16:50+01:00",
           "utc": "2024-05-08 15:50Z"
          },
          "terminal": "N"
         },
         "callSign": "EJU43HU",
         "codeshareStatus": "IsOperator",
         "departure": {
          "checkInDesk": "514-616",
          "gate": "C06",
          "quality": [
           "Basic",
           "Live"
          ],
          "revisedTime": {
           "local": "2024-05-08 15:45+02:00",
           "utc": "2024-05-08 13:45Z"
          },
          "runwayTime": {
           "local": "2024-05-08 16:08+02:00",
           "utc": "2024-05-08 14:08Z"
          },
          "scheduledTime": {
           "local": "2024-05-08 15:45+02:00",
           "utc": "2024-05-08 13:45Z"
          },
          "terminal": "1"
         },
         "isCargo": false,
         "number": "U2 8622",
         "status": "Departed"
        },
        {
         "aircraft": {
          "modeS": "4401D1",
          "model": "Airbus A320",
          "reg": "OE-IND"
         },
         "airline": {
          "iata": "U2",
          "icao": "EZY",
          "name": "easyJet"
         },
         "arrival": {
          "airport": {
           "iata": "LGW",
           "icao": "EGKK",
           "name": "London"
          },
          "quality": [
           "Basic",
           "Live"
          ],
          "revisedTime": {
           "local": "2024-05-08 18:33+01:00",
           "utc": "2024-05-08 17:33Z"
          },
          "scheduledTime": {
           "local": "2024-05-08 18:50+01:00",
           "utc": "2024-05-08 17:50Z"
          },
          "terminal": "N"
         },
         "callSign": "EJU38NJ",
         "codeshareStatus": "IsOperator",
         "departure": {
          "checkInDesk": "514-616",
          "gate": "C10",
          "quality": [
           "Basic",
           "Live"
          ],
          "revisedTime": {
           "local": "2024-05-08 17:50+02:00",
           "utc": "2024-05-08 15:50Z"
          },
          "runwayTime": {
           "local": "2024-05-08 18:08+02:00",
           "utc": "2024-05-08 16:08Z"
          },
          "scheduledTime": {
           "local": "2024-05-08 17:50+02:00",
           "utc": "2024-05-08 15:50Z"
          },
          "terminal": "1"
         },
         "isCargo": false,
         "number": "U2 8626",
         "status": "Departed"
        },
        {
         "aircraft": {
          "modeS": "406B6C",
          "model": "Embraer 190",
          "reg": "G-LCYS"
         },
         "airline": {
          "iata": "BA",
          "icao": "BAW",
          "name": "British Airways"
         },
         "arrival": {
          "airport": {
           "iata": "LCY",
           "icao": "EGLC",
           "name": "London"
          },
          "baggageBelt": "01",
          "gate": "5",
          "quality": [
           "Basic",
           "Live"
          ],
          "revisedTime": {
           "local": "2024-05-08 13:06+01:00",
           "utc": "2024-05-08 12:06Z"
          },
          "runway": "09",
          "scheduledTime": {
           "local": "2024-05-08 12:30+01:00",
           "utc": "2024-05-08 11:30Z"
          }
         },
         "callSign": "CFE34E",
         "codeshareStatus": "IsOperator",
         "departure": {
          "checkInDesk": "221-224",
          "gate": "C13",
          "quality": [
           "Basic",
           "Live"
          ],
          "revisedTime": {
           "local": "2024-05-08 12:20+02:00",
           "utc": "2024-05-08 10:20Z"
          },
          "runwayTime": {
           "local": "2024-05-08 12:34+02:00",
           "utc": "2024-05-08 10:34Z"
          },
          "scheduledTime": {
           "local": "2024-05-08 11:45+02:00",
           "utc": "2024-05-08 09:45Z"
          },
          "terminal": "1"
         },
         "isCargo": false,
         "number": "BA 8492",
         "status": "Departed"
        },
        {
         "aircraft": {
          "modeS": "40799C",
          "model": "Embraer 190",
          "reg": "G-LCAD"
         },
         "airline": {
          "iata": "BA",
          "icao": "BAW",
          "name": "British Airways"
         },
         "arrival": {
          "airport": {
           "iata": "LCY",
           "icao": "EGLC",
           "name": "London"
          },
          "baggageBelt": "01",
          "gate": "9",
          "quality": [
           "Basic",
           "Live"
          ],
          "revisedTime": {
           "local": "2024-05-08 17:03+01:00",
           "utc": "2024-05-08 16:03Z"
          },
          "runway": "09",
          "scheduledTime": {
           "local": "2024-05-08 16:30+01:00",
           "utc": "2024-05-08 15:30Z"
          }
         },
         "callSign": "BAW7026",
         "codeshareStatus": "IsOperator",
         "departure": {
          "checkInDesk": "221-224",
          "gate": "D07",
          "quality": [
           "Basic",
           "Live"
          ],
          "revisedTime": {
           "local": "2024-05-08 15:40+02:00",
           "utc": "2024-05-08 13:40Z"
          },
          "runwayTime": {
           "local": "2024-05-08 16:32+02:00",
           "utc": "2024-05-08 14:32Z"
          },
          "scheduledTime": {
           "local": "2024-05-08 15:40+02:00",
           "utc": "2024-05-08 13:40Z"
          },
          "terminal": "1"
         },
         "isCargo": false,
         "number": "BA 7026",
         "status": "Departed"
        },
        {
         "aircraft": {
          "modeS": "406B6C",
          "model": "Embraer 190",
          "reg": "G-LCYS"
         },
         "airline": {
          "iata": "BA",
          "icao": "BAW",
          "name": "British Airways"
         },
         "arrival": {
          "airport": {
           "iata": "LCY",
           "icao": "EGLC",
           "name": "London"
          },
          "baggageBelt": "01",
          "gate": "5",
          "quality": [
           "Basic",
           "Live"
          ],
          "revisedTime": {
           "local": "2024-05-08 17:53+01:00",
           "utc": "2024-05-08 16:53Z"
          },
          "runway": "09",
          "scheduledTime": {
           "local": "2024-05-08 17:40+01:00",
           "utc": "2024-05-08 16:40Z"
          }
         },
         "callSign": "CFE39M",
         "codeshareStatus": "IsOperator",
         "departure": {
          "checkInDesk": "221-225",
          "gate": "C02",
          "quality": [
           "Basic",
           "Live"
          ],
          "revisedTime": {
           "local": "2024-05-08 17:00+02:00",
           "utc": "2024-05-08 15:00Z"
          },
          "runwayTime": {
           "local": "2024-05-08 17:24+02:00",
           "utc": "2024-05-08 15:24Z"
          },
          "scheduledTime": {
           "local": "2024-05-08 16:50+02:00",
           "utc": "2024-05-08 14:50Z"
          },
          "terminal": "1"
         },
         "isCargo": false,
         "number": "BA 8494",
         "status": "Departed"
        },
        {
         "aircraft": {
          "modeS": "406A3E",
          "model": "Airbus A320 (Sharklets)",
          "reg": "G-EUYU"
         },
         "airline": {
          "iata": "BA",
          "icao": "BAW",
          "name": "British Airways"
         },
         "arrival": {
          "airport": {
           "iata": "LHR",
           "icao": "EGLL",
           "name": "London"
          },
          "baggageBelt": "8",
          "quality": [
           "Basic",
           "Live"
          ],
          "revisedTime": {
           "local": "2024-05-08 13:30+01:00",
           "utc": "2024-05-08 12:30Z"
          },
          "runwayTime": {
           "local": "2024-05-08 13:30+01:00",
           "utc": "2024-05-08 12:30Z"
          },
          "scheduledTime": {
           "local": "2024-05-08 13:40+01:00",
           "utc": "2024-05-08 12:40Z"
          },
          "terminal": "5"
         },
         "callSign": "BAW983",
         "codeshareStatus": "IsOperator",
         "departure": {
          "checkInDesk": "221-224",
          "gate": "C06",
          "quality": [
           "Basic",
           "Live"
          ],
          "revisedTime": {
           "local": "2024-05-08 12:45+02:00",
           "utc": "2024-05-08 10:45Z"
          },
          "runwayTime": {
           "local": "2024-05-08 13:01+02:00",
           "utc": "2024-05-08 11:01Z"
          },
          "scheduledTime": {
           "local": "2024-05-08 12:45+02:00",
           "utc": "2024-05-08 10:45Z"
          },
          "terminal": "1"
         },
         "isCargo": false,
         "number": "BA 983",
         "status": "Departed"
        },
        {
         "aircraft": {
          "modeS": "407537",
          "model": "Airbus A320 (Sharklets)",
          "reg": "G-TTNG"
         },
         "airline": {
          "iata": "BA",
          "icao": "BAW",
          "name": "British Airways"
         },
         "arrival": {
          "airport": {
           "iata": "LHR",
           "icao": "EGLL",
           "name": "London"
          },
          "baggageBelt": "8",
          "quality": [
           "Basic",
           "Live"
          ],
          "revisedTime": {
           "local": "2024-05-08 17:56+01:00",
           "utc": "2024-05-08 16:56Z"
          },
          "runwayTime": {
           "local": "2024-05-08 17:56+01:00",
           "utc": "2024-05-08 16:56Z"
          },
          "scheduledTime": {
           "local": "2024-05-08 18:05+01:00",
           "utc": "2024-05-08 17:05Z"
          },
          "terminal": "5"
         },
         "callSign": "BAW98BL",
         "codeshareStatus": "IsOperator",
         "departure": {
          "checkInDesk": "221-225",
          "gate": "C04",
          "quality": [
           "Basic",
           "Live"
          ],
          "revisedTime": {
           "local": "2024-05-08 17:10+02:00",
           "utc": "2024-05-08 15:10Z"
          },
          "runwayTime": {
           "local": "2024-05-08 17:31+02:00",
           "utc": "2024-05-08 15:31Z"
          },
          "scheduledTime": {
           "local": "2024-05-08 17:10+02:00",
           "utc": "2024-05-08 15:10Z"
          },
          "terminal": "1"
         },
         "isCargo": false,
         "number": "BA 985",
         "status": "Departed"
        },
        {
         "aircraft": {
          "modeS": "40649F",
          "model": "Airbus A320",
          "reg": "G-EUYK"
         },
         "airline": {
          "iata": "BA",
          "icao": "BAW",
          "name": "British Airways"
         },
         "arrival": {
          "airport": {
           "iata": "LHR",
           "icao": "EGLL",
           "name": "London"
          },
          "baggageBelt": "8",
          "quality": [
           "Basic",
           "Live"
          ],
          "revisedTime": {
           "local": "2024-05-08 20:14+01:00",
           "utc": "2024-05-08 19:14Z"
          },
          "runwayTime": {
           "local": "2024-05-08 20:14+01:00",
           "utc": "2024-05-08 19:14Z"
          },
          "scheduledTime": {
           "local": "2024-05-08 20:10+01:00",
           "utc": "2024-05-08 19:10Z"
          },
          "terminal": "5"
         },
         "callSign": "BAW87AM",
         "codeshareStatus": "IsOperator",
         "departure": {
          "checkInDesk": "221-225",
          "gate": "D07",
          "quality": [
           "Basic",
           "Live"
          ],
          "revisedTime": {
           "local": "2024-05-08 19:15+02:00",
           "utc": "2024-05-08 17:15Z"
          },
          "runwayTime": {
           "local": "2024-05-08 19:46+02:00",
           "utc": "2024-05-08 17:46Z"
          },
          "scheduledTime": {
           "local": "2024-05-08 19:15+02:00",
           "utc": "2024-05-08 17:15Z"
          },
          "terminal": "1"
         },
         "isCargo": false,
         "number": "BA 987",
         "status": "Departed"
        },
        {
         "aircraft": {
          "modeS": "407844",
          "model": "Airbus A321 (Sharklets)",
          "reg": "G-NEOZ"
         },
         "airline": {
          "iata": "BA",
          "icao": "BAW",
          "name": "British Airways"
         },
         "arrival": {
          "airport": {
           "iata": "LHR",
           "icao": "EGLL",
           "name": "London"
          },
          "baggageBelt": "8",
          "quality": [
           "Basic",
           "Live"
          ],
          "revisedTime": {
           "local": "2024-05-08 21:34+01:00",
           "utc": "2024-05-08 20:34Z"
          },
          "runwayTime": {
           "local": "2024-05-08 21:34+01:00",
           "utc": "2024-05-08 20:34Z"
          },
          "scheduledTime": {
           "local": "2024-05-08 21:50+01:00",
           "utc": "2024-05-08 20:50Z"
          },
          "terminal": "5"
         },
         "callSign": "BAW9GM",
         "codeshareStatus": "IsOperator",
         "departure": {
          "checkInDesk": "221-225",
          "gate": "C17",
          "quality": [
           "Basic",
           "Live"
          ],
          "revisedTime": {
           "local": "2024-05-08 20:55+02:00",
           "utc": "2024-05-08 18:55Z"
          },
          "runwayTime": {
           "local": "2024-05-08 21:09+02:00",
           "utc": "2024-05-08 19:09Z"
          },
          "scheduledTime": {
           "local": "2024-05-08 20:55+02:00",
           "utc": "2024-05-08 18:55Z"
          },
          "terminal": "1"
         },
         "isCargo": false,
         "number": "BA 995",
         "status": "Departed"
        },
        {
         "aircraft": {
          "modeS": "4CADF8",
          "model": "Boeing 737 MAX 8",
          "reg": "EI-IHN"
         },
         "airline": {
          "iata": "FR",
          "icao": "RYR",
          "name": "Ryanair"
         },
         "arrival": {
          "airport": {
           "iata": "EMA",
           "icao": "EGNX",
           "name": "Nottingham"
          },
          "gate": "9",
          "quality": [
           "Basic",
           "Live"
          ],
          "revisedTime": {
           "local": "2024-05-08 23:48+01:00",
           "utc": "2024-05-08 22:48Z"
          },
          "scheduledTime": {
           "local": "2024-05-08 23:30+01:00",
           "utc": "2024-05-08 22:30Z"
          },
          "terminal": "1"
         },
         "callSign": "RYR64GD",
         "codeshareStatus": "IsOperator",
         "departure": {
          "checkInDesk": "158-165",
          "gate": "B44",
          "quality": [
           "Basic",
           "Live"
          ],
          "revisedTime": {
           "local": "2024-05-08 22:30+02:00",
           "utc": "2024-05-08 20:30Z"
          },
          "runwayTime": {
           "local": "2024-05-08 23:12+02:00",
           "utc": "2024-05-08 21:12Z"
          },
          "scheduledTime": {
           "local": "2024-05-08 22:30+02:00",
           "utc": "2024-05-08 20:30Z"
          },
          "terminal": "2"
         },
         "isCargo": false,
         "number": "FR 1639",
         "status": "Departed"
        },
        {
         "aircraft": {
          "modeS": "40631A",
          "model": "Airbus A319",
          "reg": "G-EZFV"
         },
         "airline": {
          "iata": "U2",
          "icao": "EZY",
          "name": "easyJet"
         },
         "arrival": {
          "airport": {
           "iata": "GLA",
           "icao": "EGPF",
           "name": "Glasgow"
          },
          "quality": [
           "Basic",
           "Live"
          ],
          "revisedTime": {
           "local": "2024-05-08 15:34+01:00",
           "utc": "2024-05-08 14:34Z"
          },
          "scheduledTime": {
           "local": "2024-05-08 15:25+01:00",
           "utc": "2024-05-08 14:25Z"
          },
          "terminal": "M"
         },
         "callSign": "EZY41FQ",
         "codeshareStatus": "IsOperator",
         "departure": {
          "checkInDesk": "514-616",
          "gate": "C04",
          "quality": [
           "Basic",
           "Live"
          ],
          "revisedTime": {
           "local": "2024-05-08 14:20+02:00",
           "utc": "2024-05-08 12:20Z"
          },
          "runwayTime": {
           "local": "2024-05-08 14:43+02:00",
           "utc": "2024-05-08 12:43Z"
          },
          "scheduledTime": {
           "local": "2024-05-08 14:10+02:00",
           "utc": "2024-05-08 12:10Z"
          },
          "terminal": "1"
         },
         "isCargo": false,
         "number": "U2 3162",
         "status": "Departed"
        },
        {
         "aircraft": {
          "modeS": "406017",
          "model": "Airbus A320",
          "reg": "G-EZTN"
         },
         "airline": {
          "iata": "U2",
          "icao": "EZY",
          "name": "easyJet"
         },
         "arrival": {
          "airport": {
           "iata": "EDI",
           "icao": "EGPH",
           "name": "Edinburgh"
          },
          "quality": [
           "Basic",
           "Live"
          ],
          "revisedTime": {
           "local": "2024-05-08 14:46+01:00",
           "utc": "2024-05-08 13:46Z"
          },
          "scheduledTime": {
           "local": "2024-05-08 14:45+01:00",
           "utc": "2024-05-08 13:45Z"
          }
         },
         "callSign": "EZY35XD",
         "codeshareStatus": "IsOperator",
         "departure": {
          "checkInDesk": "514-616",
          "gate": "C02",
          "quality": [
           "Basic",
           "Live"
          ],
          "revisedTime": {
           "local": "2024-05-08 13:30+02:00",
           "utc": "2024-05-08 11:30Z"
          },
          "runwayTime": {
           "local": "2024-05-08 13:51+02:00",
           "utc": "2024-05-08 11:51Z"
          },
          "scheduledTime": {
           "local": "2024-05-08 13:30+02:00",
           "utc": "2024-05-08 11:30Z"
          },
          "terminal": "1"
         },
         "isCargo": false,
         "number": "U2 3262",
         "status": "Departed"
        },
        {
         "aircraft": {
          "modeS": "4CAE55",
          "model": "Boeing 737 MAX 8",
          "reg": "EI-IJE"
         },
         "airline": {
          "iata": "FR",
          "icao": "RYR",
          "name": "Ryanair"
         },
         "arrival": {
          "airport": {
           "iata": "EDI",
           "icao": "EGPH",
           "name": "Edinburgh"
          },
          "quality": [
           "Basic",
           "Live"
          ],
          "revisedTime": {
           "local": "2024-05-08 23:26+01:00",
           "utc": "2024-05-08 22:26Z"
          },
          "runwayTime": {
           "local": "2024-05-08 23:26+01:00",
           "utc": "2024-05-08 22:26Z"
          },
          "scheduledTime": {
           "local": "2024-05-08 23:20+01:00",
           "utc": "2024-05-08 22:20Z"
          }
         },
         "callSign": "RYR7783",
         "codeshareStatus": "IsOperator",
         "departure": {
          "checkInDesk": "158-165",
          "gate": "B42",
          "quality": [
           "Basic",
           "Live"
          ],
          "revisedTime": {
           "local": "2024-05-08 22:10+02:00",
           "utc": "2024-05-08 20:10Z"
          },
          "runwayTime": {
           "local": "2024-05-08 22:43+02:00",
           "utc": "2024-05-08 20:43Z"
          },
          "scheduledTime": {
           "local": "2024-05-08 22:10+02:00",
           "utc": "2024-05-08 20:10Z"
          },
          "terminal": "2"
         },
         "isCargo": false,
         "number": "FR 7783",
         "status": "Departed"
        },
        {
         "aircraft": {
          "modeS": "4D2274",
          "model": "Boeing 737-800",
          "reg": "9H-QBC"
         },
         "airline": {
          "iata": "FR",
          "icao": "RYR",
          "name": "Ryanair"
         },
         "arrival": {
          "airport": {
           "iata": "STN",
           "icao": "EGSS",
           "name": "London"
          },
          "gate": "49",
          "quality": [
           "Basic",
           "Live"
          ],
          "revisedTime": {
           "local": "2024-05-08 19:50+01:00",
           "utc": "2024-05-08 18:50Z"
          },
          "scheduledTime": {
           "local": "2024-05-08 19:45+01:00",
           "utc": "2024-05-08 18:45Z"
          },
          "terminal": "1"
         },
         "callSign": "RYR31FW",
         "codeshareStatus": "IsOperator",
         "departure": {
          "checkInDesk": "158-165",
          "gate": "B40",
          "quality": [
           "Basic",
           "Live"
          ],
          "revisedTime": {
           "local": "2024-05-08 19:00+02:00",
           "utc": "2024-05-08 17:00Z"
          },
          "scheduledTime": {
           "local": "2024-05-08 19:00+02:00",
           "utc": "2024-05-08 17:00Z"
          },
          "terminal": "2"
         },
         "isCargo": false,
         "number": "FR 146",
         "status": "Departed"
        },
        {
         "aircraft": {
          "modeS": "4CA806",
          "model": "Boeing 737-800",
          "reg": "EI-EKH"
         },
         "airline": {
          "iata": "FR",
          "icao": "RYR",
          "name": "Ryanair"
         },
         "arrival": {
          "airport": {
           "iata": "STN",
           "icao": "EGSS",
           "name": "London"
          },
          "gate": "48",
          "quality": [
           "Basic",
           "Live"
          ],
          "revisedTime": {
           "local": "2024-05-08 22:12+01:00",
           "utc": "2024-05-08 21:12Z"
          },
          "scheduledTime": {
           "local": "2024-05-08 22:05+01:00",
           "utc": "2024-05-08 21:05Z"
          },
          "terminal": "1"
         },
         "callSign": "RYR28KT",
         "codeshareStatus": "IsOperator",
         "departure": {
          "checkInDesk": "158-165",
          "gate": "B42",
          "quality": [
           "Basic",
           "Live"
          ],
          "revisedTime": {
           "local": "2024-05-08 21:20+02:00",
           "utc": "2024-05-08 19:20Z"
          },
          "runwayTime": {
           "local": "2024-05-08 21:46+02:00",
           "utc": "2024-05-08 19:46Z"
          },
          "scheduledTime": {
           "local": "2024-05-08 21:20+02:00",
           "utc": "2024-05-08 19:20Z"
          },
          "terminal": "2"
         },
         "isCargo": false,
         "number": "FR 177",
         "status": "Departed"
        },
        {
         "aircraft": {
          "modeS": "484559",
          "model": "Boeing 737",
          "reg": "PH-BGB"
         },
         "airline": {
          "iata": "KL",
          "icao": "KLM",
          "name": "KLM"
         },
         "arrival": {
          "airport": {
           "iata": "AMS",
           "icao": "EHAM",
           "name": "Amsterdam"
          },
          "baggageBelt": "13",
          "quality": [
           "Basic",
           "Live"
          ],
          "revisedTime": {
           "local": "2024-05-08 13:34+02:00",
           "utc": "2024-05-08 11:34Z"
          },
          "runwayTime": {
           "local": "2024-05-08 13:34+02:00",
           "utc": "2024-05-08 11:34Z"
          },
          "scheduledTime": {
           "local": "2024-05-08 13:35+02:00",
           "utc": "2024-05-08 11:35Z"
          },
          "terminal": "2"
         },
         "callSign": "KLM1776",
         "codeshareStatus": "IsOperator",
         "departure": {
          "checkInDesk": "811-816",
          "gate": "A37",
          "quality": [
           "Basic",
           "Live"
          ],
          "revisedTime": {
           "local": "2024-05-08 12:26+02:00",
           "utc": "2024-05-08 10:26Z"
          },
          "runwayTime": {
           "local": "2024-05-08 12:35+02:00",
           "utc": "2024-05-08 10:35Z"
          },
          "scheduledTime": {
           "local": "2024-05-08 12:15+02:00",
           "utc": "2024-05-08 10:15Z"
          },
          "terminal": "1"
         },
         "isCargo": false,
         "number": "KL 1776",
         "status": "Departed"
        },
        {
         "aircraft": {
          "modeS": "484162",
          "model": "Boeing 737",
          "reg": "PH-BXI"
         },
         "airline": {
          "iata": "KL",
          "icao": "KLM",
          "name": "KLM"
         },
         "arrival": {
          "airport": {
           "iata": "AMS",
           "icao": "EHAM",
           "name": "Amsterdam"
          },
          "baggageBelt": "12",
          "quality": [
           "Basic",
           "Live"
          ],
          "revisedTime": {
           "local": "2024-05-08 16:01+02:00",
           "utc": "2024-05-08 14:01Z"
          },
          "runwayTime": {
           "local": "2024-05-08 16:01+02:00",
           "utc": "2024-05-08 14:01Z"
          },
          "scheduledTime": {
           "local": "2024-05-08 15:55+02:00",
           "utc": "2024-05-08 13:55Z"
          },
          "terminal": "2"
         },
         "callSign": "KLM84H",
         "codeshareStatus": "IsOperator",
         "departure": {
          "checkInDesk": "811-816",
          "gate": "A22",
          "quality": [
           "Basic",
           "Live"
          ],
          "revisedTime": {
           "local": "2024-05-08 14:55+02:00",
           "utc": "2024-05-08 12:55Z"
          },
          "runwayTime": {
           "local": "2024-05-08 15:05+02:00",
           "utc": "2024-05-08 13:05Z"
          },
          "scheduledTime": {
           "local": "2024-05-08 14:30+02:00",
           "utc": "2024-05-08 12:30Z"
          },
          "terminal": "1"
         },
         "isCargo": false,
         "number": "KL 1778",
         "status": "Departed"
        },
        {
         "aircraft": {
          "modeS": "484133",
          "model": "Boeing 737-800 (winglets)",
          "reg": "PH-BXD"
         },
         "airline": {
          "iata": "KL",
          "icao": "KLM",
          "name": "KLM"
         },
         "arrival": {
          "airport": {
           "iata": "AMS",
           "icao": "EHAM",
           "name": "Amsterdam"
          },
          "baggageBelt": "13",
          "quality": [
           "Basic",
           "Live"
          ],
          "revisedTime": {
           "local": "2024-05-08 18:32+02:00",
           "utc": "2024-05-08 16:32Z"
          },
          "runwayTime": {
           "local": "2024-05-08 18:32+02:00",
           "utc": "2024-05-08 16:32Z"
          },
          "scheduledTime": {
           "local": "2024-05-08 18:50+02:00",
           "utc": "2024-05-08 16:50Z"
          },
          "terminal": "2"
         },
         "callSign": "KLM1780",
         "codeshareStatus": "IsOperator",
         "departure": {
          "checkInDesk": "811-816",
          "gate": "A17",
          "quality": [
           "Basic",
           "Live"
          ],
          "revisedTime": {
           "local": "2024-05-08 17:30+02:00",
           "utc": "2024-05-08 15:30Z"
          },
          "runwayTime": {
           "local": "2024-05-08 17:37+02:00",
           "utc": "2024-05-08 15:37Z"
          },
          "scheduledTime": {
           "local": "2024-05-08 17:30+02:00",
           "utc": "2024-05-08 15:30Z"
          },
          "terminal": "1"
         },
         "isCargo": false,
         "number": "KL 1780",
         "status": "Departed"
        },
        {
         "aircraft": {
          "modeS": "485A33",
          "model": "Boeing 737-800",
          "reg": "PH-BCH"
         },
         "airline": {
          "iata": "KL",
          "icao": "KLM",
          "name": "KLM"
         },
         "arrival": {
          "airport": {
           "iata": "AMS",
           "icao": "EHAM",
           "name": "Amsterdam"
          },
          "baggageBelt": "19",
          "quality": [
           "Basic",
           "Live"
          ],
          "revisedTime": {
           "local": "2024-05-08 19:59+02:00",
           "utc": "2024-05-08 17:59Z"
          },
          "runwayTime": {
           "local": "2024-05-08 19:59+02:00",
           "utc": "2024-05-08 17:59Z"
          },
          "scheduledTime": {
           "local": "2024-05-08 20:20+02:00",
           "utc": "2024-05-08 18:20Z"
          },
          "terminal": "4"
         },
         "callSign": "KLM1782",
         "codeshareStatus": "IsOperator",
         "departure": {
          "checkInDesk": "811-816",
          "gate": "A06",
          "quality": [
           "Basic",
           "Live"
          ],
          "revisedTime": {
           "local": "2024-05-08 18:50+02:00",
           "utc": "2024-05-08 16:50Z"
          },
          "scheduledTime": {
           "local": "2024-05-08 18:50+02:00",
           "utc": "2024-05-08 16:50Z"
          },
          "terminal": "1"
         },
         "isCargo": false,
         "number": "KL 1782",
         "status": "Departed"
        },
        {
         "aircraft": {
          "modeS": "440209",
          "model": "Airbus A320",
          "reg": "OE-IZH"
         },
         "airline": {
          "iata": "EC",
          "icao": "EJU",
          "name": "EasyJet Europe"
         },
         "arrival": {
          "airport": {
           "iata": "AMS",
           "icao": "EHAM",
           "name": "Amsterdam"
          },
          "baggageBelt": "15",
          "quality": [
           "Basic",
           "Live"
          ],
          "revisedTime": {
           "local": "2024-05-08 20:50+02:00",
           "utc": "2024-05-08 18:50Z"
          },
          "runwayTime": {
           "local": "2024-05-08 20:50+02:00",
           "utc": "2024-05-08 18:50Z"
          },
          "scheduledTime": {
           "local": "2024-05-08 21:00+02:00",
           "utc": "2024-05-08 19:00Z"
          },
          "terminal": "3"
         },
         "callSign": "EJU36ED",
         "codeshareStatus": "IsCodeshared",
         "departure": {
          "checkInDesk": "514-616",
          "gate": "A32",
          "quality": [
           "Basic",
           "Live"
          ],
          "revisedTime": {
           "local": "2024-05-08 19:40+02:00",
           "utc": "2024-05-08 17:40Z"
          },
          "runwayTime": {
           "local": "2024-05-08 19:49+02:00",
           "utc": "2024-05-08 17:49Z"
          },
          "scheduledTime": {
           "local": "2024-05-08 19:30+02:00",
           "utc": "2024-05-08 17:30Z"
          },
          "terminal": "1"
         },
         "isCargo": false,
         "number": "EC 5287",
         "status": "Departed"
        },
        {
         "aircraft": {
          "modeS": "484C52",
          "model": "Embraer 190",
          "reg": "PH-EZN"
         },
         "airline": {
          "iata": "KL",
          "icao": "KLM",
          "name": "KLM"
         },
         "arrival": {
          "airport": {
           "iata": "AMS",
           "icao": "EHAM",
           "name": "Amsterdam"
          },
          "baggageBelt": "10",
          "quality": [
           "Basic",
           "Live"
          ],
          "revisedTime": {
           "local": "2024-05-08 21:48+02:00",
           "utc": "2024-05-08 19:48Z"
          },
          "runwayTime": {
           "local": "2024-05-08 21:48+02:00",
           "utc": "2024-05-08 19:48Z"
          },
          "scheduledTime": {
           "local": "2024-05-08 21:55+02:00",
           "utc": "2024-05-08 19:55Z"
          },
          "terminal": "2"
         },
         "callSign": "KLM42H",
         "codeshareStatus": "IsOperator",
         "departure": {
          "checkInDesk": "811-816",
          "gate": "A22",
          "quality": [
           "Basic",
           "Live"
          ],
          "revisedTime": {
           "local": "2024-05-08 20:30+02:00",
           "utc": "2024-05-08 18:30Z"
          },
          "runwayTime": {
           "local": "2024-05-08 20:49+02:00",
           "utc": "2024-05-08 18:49Z"
          },
          "scheduledTime": {
           "local": "2024-05-08 20:30+02:00",
           "utc": "2024-05-08 18:30Z"
          },
          "terminal": "1"
         },
         "isCargo": false,
         "number": "KL 1784",
         "status": "Departed"
        },
        {
         "aircraft": {
          "modeS": "440209",
          "model": "Airbus A320",
          "reg": "OE-IZH"
         },
         "airline": {
          "iata": "U2",
          "icao": "EZY",
          "name": "easyJet"
         },
         "arrival": {
          "airport": {
           "iata": "AMS",
           "icao": "EHAM",
           "name": "Amsterdam"
          },
          "baggageBelt": "15",
          "quality": [
           "Basic",
           "Live"
          ],
          "revisedTime": {
           "local": "2024-05-08 20:50+02:00",
           "utc": "2024-05-08 18:50Z"
          },
          "runwayTime": {
           "local": "2024-05-08 20:50+02:00",
           "utc": "2024-05-08 18:50Z"
          },
          "scheduledTime": {
           "local": "2024-05-08 21:00+02:00",
           "utc": "2024-05-08 19:00Z"
          },
          "terminal": "3"
         },
         "callSign": "EJU36ED",
         "codeshareStatus": "IsOperator",
         "departure": {
          "checkInDesk": "514-616",
          "gate": "A32",
          "quality": [
           "Basic",
           "Live"
          ],
          "revisedTime": {
           "local": "2024-05-08 19:40+02:00",
           "utc": "2024-05-08 17:40Z"
          },
          "runwayTime": {
           "local": "2024-05-08 19:49+02:00",
           "utc": "2024-05-08 17:49Z"
          },
          "scheduledTime": {
           "local": "2024-05-08 19:30+02:00",
           "utc": "2024-05-08 17:30Z"
          },
          "terminal": "1"
         },
         "isCargo": false,
         "number": "U2 5287",
         "status": "Departed"
        },
        {
         "aircraft": {
          "modeS": "4D2221",
          "model": "Boeing 737-800",
          "reg": "9H-QCH"
         },
         "airline": {
          "iata": "FR",
          "icao": "RYR",
          "name": "Ryanair"
         },
         "arrival": {
          "airport": {
           "iata": "DUB",
           "icao": "EIDW",
           "name": "Dublin"
          },
          "baggageBelt": "6",
          "gate": "111",
          "quality": [
           "Basic",
           "Live"
          ],
          "revisedTime": {
           "local": "2024-05-08 19:20+01:00",
           "utc": "2024-05-08 18:20Z"
          },
          "scheduledTime": {
           "local": "2024-05-08 19:20+01:00",
           "utc": "2024-05-08 18:20Z"
          },
          "terminal": "1"
         },
         "callSign": "RYR45MX",
         "codeshareStatus": "IsOperator",
         "departure": {
          "checkInDesk": "158-165",
          "gate": "B42",
          "quality": [
           "Basic",
           "Live"
          ],
          "revisedTime": {
           "local": "2024-05-08 17:55+02:00",
           "utc": "2024-05-08 15:55Z"
          },
          "runwayTime": {
           "local": "2024-05-08 18:13+02:00",
           "utc": "2024-05-08 16:13Z"
          },
          "scheduledTime": {
           "local": "2024-05-08 17:55+02:00",
           "utc": "2024-05-08 15:55Z"
          },
          "terminal": "2"
         },
         "isCargo": false,
         "number": "FR 5419",
         "status": "Departed"
        },
        {
         "aircraft": {
          "modeS": "4CA215",
          "model": "Airbus A320",
          "reg": "EI-DEG"
         },
         "airline": {
          "iata": "EI",
          "icao": "EIN",
          "name": "Aer Lingus"
         },
         "arrival": {
          "airport": {
           "iata": "DUB",
           "icao": "EIDW",
           "name": "Dublin"
          },
          "baggageBelt": "2",
          "gate": "BUS",
          "quality": [
           "Basic",
           "Live"
          ],
          "revisedTime": {
           "local": "2024-05-08 23:10+01:00",
           "utc": "2024-05-08 22:10Z"
          },
          "scheduledTime": {
           "local": "2024-05-08 23:10+01:00",
           "utc": "2024-05-08 22:10Z"
          },
          "terminal": "2"
         },
         "callSign": "EIN33W",
         "codeshareStatus": "IsOperator",
         "departure": {
          "checkInDesk": "012-013",
          "gate": "C06",
          "quality": [
           "Basic",
           "Live"
          ],
          "revisedTime": {
           "local": "2024-05-08 21:45+02:00",
           "utc": "2024-05-08 19:45Z"
          },
          "runwayTime": {
           "local": "2024-05-08 22:07+02:00",
           "utc": "2024-05-08 20:07Z"
          },
          "scheduledTime": {
           "local": "2024-05-08 21:45+02:00",
           "utc": "2024-05-08 19:45Z"
          },
          "terminal": "1"
         },
         "isCargo": false,
         "number": "EI 337",
         "status": "Departed"
        },
        {
         "aircraft": {
          "modeS": "4AC9E4",
          "model": "Airbus A321 (Sharklets)",
          "reg": "SE-ROD"
         },
         "airline": {
          "iata": "SK",
          "icao": "SAS",
          "name": "SAS"
         },
         "arrival": {
          "airport": {
           "iata": "CPH",
           "icao": "EKCH",
           "name": "Copenhagen"
          },
          "gate": "A23",
          "quality": [
           "Basic",
           "Live"
          ],
          "revisedTime": {
           "local": "2024-05-08 14:41+02:00",
           "utc": "2024-05-08 12:41Z"
          },
          "scheduledTime": {
           "local": "2024-05-08 14:40+02:00",
           "utc": "2024-05-08 12:40Z"
          },
          "terminal": "erminal3"
         },
         "callSign": "SAS1678",
         "codeshareStatus": "IsOperator",
         "departure": {
          "checkInDesk": "511-513",
          "gate": "A06",
          "quality": [
           "Basic",
           "Live"
          ],
          "revisedTime": {
           "local": "2024-05-08 13:45+02:00",
           "utc": "2024-05-08 11:45Z"
          },
          "runwayTime": {
           "local": "2024-05-08 13:53+02:00",
           "utc": "2024-05-08 11:53Z"
          },
          "scheduledTime": {
           "local": "2024-05-08 13:45+02:00",
           "utc": "2024-05-08 11:45Z"
          },
          "terminal": "1"
         },
         "isCargo": false,
         "number": "SK 1678",
         "status": "Departed"
        },
        {
         "aircraft": {
          "modeS": "3C54A2",
          "model": "Airbus A321 NEO",
          "reg": "D-AEEB"
         },
         "airline": {
          "iata": "EW",
          "icao": "EWG",
          "name": "Eurowings"
         },
         "arrival": {
          "airport": {
           "iata": "CPH",
           "icao": "EKCH",
           "name": "Copenhagen"
          },
          "gate": "D4",
          "quality": [
           "Basic",
           "Live"
          ],
          "revisedTime": {
           "local": "2024-05-08 15:21+02:00",
           "utc": "2024-05-08 13:21Z"
          },
          "scheduledTime": {
           "local": "2024-05-08 15:25+02:00",
           "utc": "2024-05-08 13:25Z"
          },
          "terminal": "erminal3"
         },
         "callSign": "EWG32T",
         "codeshareStatus": "IsOperator",
         "departure": {
          "checkInDesk": "323-326",
          "gate": "A24",
          "quality": [
           "Basic",
           "Live"
          ],
          "revisedTime": {
           "local": "2024-05-08 14:20+02:00",
           "utc": "2024-05-08 12:20Z"
          },
          "runwayTime": {
           "local": "2024-05-08 14:34+02:00",
           "utc": "2024-05-08 12:34Z"
          },
          "scheduledTime": {
           "local": "2024-05-08 14:20+02:00",
           "utc": "2024-05-08 12:20Z"
          },
          "terminal": "1"
         },
         "isCargo": false,
         "number": "EW 8226",
         "status": "Departed"
        },
        {
         "aircraft": {
          "modeS": "4ACB02",
          "model": "Boeing 737-800",
          "reg": "SE-RXB"
         },
         "airline": {
          "iata": "D8",
          "icao": "NSZ",
          "name": "Norwegian Air Sweden"
         },
         "arrival": {
          "airport": {
           "iata": "CPH",
           "icao": "EKCH",
           "name": "Copenhagen"
          },
          "gate": "A4",
          "quality": [
           "Basic",
           "Live"
          ],
          "revisedTime": {
           "local": "2024-05-08 18:15+02:00",
           "utc": "2024-05-08 16:15Z"
          },
          "scheduledTime": {
           "local": "2024-05-08 18:25+02:00",
           "utc": "2024-05-08 16:25Z"
          },
          "terminal": "erminal3"
         },
         "callSign": "NSZ3303",
         "codeshareStatus": "IsOperator",
         "departure": {
          "checkInDesk": "150-152",
          "gate": "B34",
          "quality": [
           "Basic",
           "Live"
          ],
          "revisedTime": {
           "local": "2024-05-08 17:25+02:00",
           "utc": "2024-05-08 15:25Z"
          },
          "scheduledTime": {
           "local": "2024-05-08 17:25+02:00",
           "utc": "2024-05-08 15:25Z"
          },
          "terminal": "2"
         },
         "isCargo": false,
         "number": "D8 3303",
         "status": "Departed"
        },
        {
         "aircraft": {
          "modeS": "440185",
          "model": "Airbus A320",
          "reg": "OE-IJI"
         },
         "airline": {
          "iata": "EC",
          "icao": "EJU",
          "name": "EasyJet Europe"
         },
         "arrival": {
          "airport": {
           "iata": "CPH",
           "icao": "EKCH",
           "name": "Copenhagen"
          },
          "gate": "F7A",
          "quality": [
           "Basic",
           "Live"
          ],
          "revisedTime": {
           "local": "2024-05-08 18:58+02:00",
           "utc": "2024-05-08 16:58Z"
          },
          "scheduledTime": {
           "local": "2024-05-08 19:10+02:00",
           "utc": "2024-05-08 17:10Z"
          },
          "terminal": "erminal3"
         },
         "callSign": "EJU5267",
         "codeshareStatus": "IsCodeshared",
         "departure": {
          "checkInDesk": "514-616",
          "gate": "A38",
          "quality": [
           "Basic",
           "Live"
          ],
          "revisedTime": {
           "local": "2024-05-08 18:00+02:00",
           "utc": "2024-05-08 16:00Z"
          },
          "runwayTime": {
           "local": "2024-05-08 18:12+02:00",
           "utc": "2024-05-08 16:12Z"
          },
          "scheduledTime": {
           "local": "2024-05-08 18:00+02:00",
           "utc": "2024-05-08 16:00Z"
          },
          "terminal": "1"
         },
         "isCargo": false,
         "number": "EC 5267",
         "status": "Departed"
        },
        {
         "aircraft": {
          "modeS": "440185",
          "model": "Airbus A320",
          "reg": "OE-IJI"
         },
         "airline": {
          "iata": "U2",
          "icao": "EZY",
          "name": "easyJet"
         },
         "arrival": {
          "airport": {
           "iata": "CPH",
           "icao": "EKCH",
           "name": "Copenhagen"
          },
          "gate": "F7A",
          "quality": [
           "Basic",
           "Live"
          ],
          "revisedTime": {
           "local": "2024-05-08 18:58+02:00",
           "utc": "2024-05-08 16:58Z"
          },
          "scheduledTime": {
           "local": "2024-05-08 19:10+02:00",
           "utc": "2024-05-08 17:10Z"
          },
          "terminal": "erminal3"
         },
         "callSign": "EZY5267",
         "codeshareStatus": "IsOperator",
         "departure": {
          "checkInDesk": "514-616",
          "gate": "A38",
          "quality": [
           "Basic",
           "Live"
          ],
          "revisedTime": {
           "local": "2024-05-08 18:00+02:00",
           "utc": "2024-05-08 16:00Z"
          },
          "runwayTime": {
           "local": "2024-05-08 18:12+02:00",
           "utc": "2024-05-08 16:12Z"
          },
          "scheduledTime": {
           "local": "2024-05-08 18:00+02:00",
           "utc": "2024-05-08 16:00Z"
          },
          "terminal": "1"
         },
         "isCargo": false,
         "number": "U2 5267",
         "status": "Departed"
        },
        {
         "aircraft": {
          "modeS": "4AC9F5",
          "model": "Airbus A320 NEO",
          "reg": "SE-ROU"
         },
         "airline": {
          "iata": "SK",
          "icao": "SAS",
          "name": "SAS"
         },
         "arrival": {
          "airport": {
           "iata": "CPH",
           "icao": "EKCH",
           "name": "Copenhagen"
          },
          "gate": "B10",
          "quality": [
           "Basic",
           "Live"
          ],
          "revisedTime": {
           "local": "2024-05-08 22:23+02:00",
           "utc": "2024-05-08 20:23Z"
          },
          "scheduledTime": {
           "local": "2024-05-08 22:10+02:00",
           "utc": "2024-05-08 20:10Z"
          },
          "terminal": "erminal3"
         },
         "callSign": "SAS1680",
         "codeshareStatus": "IsOperator",
         "departure": {
          "checkInDesk": "511-513",
          "gate": "B01",
          "quality": [
           "Basic",
           "Live"
          ],
          "revisedTime": {
           "local": "2024-05-08 21:20+02:00",
           "utc": "2024-05-08 19:20Z"
          },
          "scheduledTime": {
           "local": "2024-05-08 21:15+02:00",
           "utc": "2024-05-08 19:15Z"
          },
          "terminal": "1"
         },
         "isCargo": false,
         "number": "SK 1680",
         "status": "Departed"
        },
        {
         "aircraft": {
          "modeS": "4D00D0",
          "model": "De Havilland Canada DHC-8-400 Dash 8Q",
          "reg": "LX-LGM"
         },
         "airline": {
          "iata": "LG",
          "icao": "LGL",
          "name": "Luxair"
         },
         "arrival": {
          "airport": {
           "iata": "LUX",
           "icao": "ELLX",
           "name": "Luxembourg"
          },
          "baggageBelt": "T01",
          "quality": [
           "Basic",
           "Live"
          ],
          "revisedTime": {
           "local": "2024-05-08 22:34+02:00",
           "utc": "2024-05-08 20:34Z"
          },
          "runwayTime": {
           "local": "2024-05-08 22:29+02:00",
           "utc": "2024-05-08 20:29Z"
          },
          "scheduledTime": {
           "local": "2024-05-08 22:40+02:00",
           "utc": "2024-05-08 20:40Z"
          },
          "terminal": "A"
         },
         "callSign": "LGL4BE",
         "codeshareStatus": "IsOperator",
         "departure": {
          "checkInDesk": "111-112",
          "gate": "B25",
          "quality": [
           "Basic",
           "Live"
          ],
          "revisedTime": {
           "local": "2024-05-08 21:10+02:00",
           "utc": "2024-05-08 19:10Z"
          },
          "runwayTime": {
           "local": "2024-05-08 21:17+02:00",
           "utc": "2024-05-08 19:17Z"
          },
          "scheduledTime": {
           "local": "2024-05-08 21:10+02:00",
           "utc": "2024-05-08 19:10Z"
          },
          "terminal": "1"
         },
         "isCargo": false,
         "number": "LG 9474",
         "status": "Departed"
        },
        {
         "aircraft": {
          "modeS": "4ACAAF",
          "model": "Airbus A320 NEO",
          "reg": "SE-RUO"
         },
         "airline": {
          "iata": "SK",
          "icao": "SAS",
          "name": "SAS"
         },
         "arrival": {
          "airport": {
           "iata": "OSL",
           "icao": "ENGM",
           "name": "Oslo"
          },
          "baggageBelt": "6",
          "quality": [
           "Basic",
           "Live"
          ],
          "revisedTime": {
           "local": "2024-05-08 15:02+02:00",
           "utc": "2024-05-08 13:02Z"
          },
          "runwayTime": {
           "local": "2024-05-08 15:02+02:00",
           "utc": "2024-05-08 13:02Z"
          },
          "scheduledTime": {
           "local": "2024-05-08 14:55+02:00",
           "utc": "2024-05-08 12:55Z"
          }
         },
         "callSign": "SAS63M",
         "codeshareStatus": "IsOperator",
         "departure": {
          "checkInDesk": "511-513",
          "gate": "A30",
          "quality": [
           "Basic",
           "Live"
          ],
          "revisedTime": {
           "local": "2024-05-08 13:15+02:00",
           "utc": "2024-05-08 11:15Z"
          },
          "runwayTime": {
           "local": "2024-05-08 13:42+02:00",
           "utc": "2024-05-08 11:42Z"
          },
          "scheduledTime": {
           "local": "2024-05-08 13:15+02:00",
           "utc": "2024-05-08 11:15Z"
          },
          "terminal": "1"
         },
         "isCargo": false,
         "number": "SK 4724",
         "status": "Departed"
        },
        {
         "aircraft": {
          "modeS": "47875A",
          "model": "Boeing 737",
          "reg": "LN-DYT"
         },
         "airline": {
          "iata": "DY",
          "icao": "NOZ",
          "name": "Norwegian Air Shuttle"
         },
         "arrival": {
          "airport": {
           "iata": "OSL",
           "icao": "ENGM",
           "name": "Oslo"
          },
          "baggageBelt": "9",
          "quality": [
           "Basic",
           "Live"
          ],
          "revisedTime": {
           "local": "2024-05-08 15:40+02:00",
           "utc": "2024-05-08 13:40Z"
          },
          "scheduledTime": {
           "local": "2024-05-08 15:50+02:00",
           "utc": "2024-05-08 13:50Z"
          }
         },
         "callSign": "NOZ1105",
         "codeshareStatus": "IsOperator",
         "departure": {
          "checkInDesk": "150-152",
          "gate": "B30",
          "quality": [
           "Basic",
           "Live"
          ],
          "revisedTime": {
           "local": "2024-05-08 14:10+02:00",
           "utc": "2024-05-08 12:10Z"
          },
          "runwayTime": {
           "local": "2024-05-08 14:17+02:00",
           "utc": "2024-05-08 12:17Z"
          },
          "scheduledTime": {
           "local": "2024-05-08 14:10+02:00",
           "utc": "2024-05-08 12:10Z"
          },
          "terminal": "2"
         },
         "isCargo": false,
         "number": "DY 1105",
         "status": "Departed"
        },
        {
         "aircraft": {
          "modeS": "47A50D",
          "model": "Boeing 737-800",
          "reg": "LN-ENM"
         },
         "airline": {
          "iata": "DY",
          "icao": "NOZ",
          "name": "Norwegian Air Shuttle"
         },
         "arrival": {
          "airport": {
           "iata": "OSL",
           "icao": "ENGM",
           "name": "Oslo"
          },
          "baggageBelt": "3",
          "quality": [
           "Basic",
           "Live"
          ],
          "revisedTime": {
           "local": "2024-05-08 22:06+02:00",
           "utc": "2024-05-08 20:06Z"
          },
          "scheduledTime": {
           "local": "2024-05-08 22:25+02:00",
           "utc": "2024-05-08 20:25Z"
          }
         },
         "callSign": "NOZ109B",
         "codeshareStatus": "IsOperator",
         "departure": {
          "checkInDesk": "150-152",
          "gate": "B30",
          "quality": [
           "Basic",
           "Live"
          ],
          "revisedTime": {
           "local": "2024-05-08 20:45+02:00",
           "utc": "2024-05-08 18:45Z"
          },
          "runwayTime": {
           "local": "2024-05-08 20:43+02:00",
           "utc": "2024-05-08 18:43Z"
          },
          "scheduledTime": {
           "local": "2024-05-08 20:45+02:00",
           "utc": "2024-05-08 18:45Z"
          },
          "terminal": "2"
         },
         "isCargo": false,
         "number": "DY 1109",
         "status": "Departed"
        },
        {
         "aircraft": {
          "modeS": "48AD0C",
          "model": "Embraer 175",
          "reg": "SP-LIM"
         },
         "airline": {
          "iata": "LO",
          "icao": "LOT",
          "name": "LOT - Polish"
         },
         "arrival": {
          "airport": {
           "iata": "WAW",
           "icao": "EPWA",
           "name": "Warsaw"
          },
          "quality": [
           "Basic",
           "Live"
          ],
          "revisedTime": {
           "local": "2024-05-08 20:06+02:00",
           "utc": "2024-05-08 18:06Z"
          },
          "runwayTime": {
           "local": "2024-05-08 20:06+02:00",
           "utc": "2024-05-08 18:06Z"
          },
          "scheduledTime": {
           "local": "2024-05-08 20:10+02:00",
           "utc": "2024-05-08 18:10Z"
          }
         },
         "callSign": "LOT3KT",
         "codeshareStatus": "IsOperator",
         "departure": {
          "checkInDesk": "725-726",
          "gate": "A37",
          "quality": [
           "Basic",
           "Live"
          ],
          "revisedTime": {
           "local": "2024-05-08 19:00+02:00",
           "utc": "2024-05-08 17:00Z"
          },
          "scheduledTime": {
           "local": "2024-05-08 19:00+02:00",
           "utc": "2024-05-08 17:00Z"
          },
          "terminal": "1"
         },
         "isCargo": false,
         "number": "LO 390",
         "status": "Departed"
        },
        {
         "aircraft": {
          "modeS": "4ACA15",
          "model": "Boeing 737-800",
          "reg": "SE-RPU"
         },
         "airline": {
          "iata": "DY",
          "icao": "NOZ",
          "name": "Norwegian Air Shuttle"
         },
         "arrival": {
          "airport": {
           "iata": "ARN",
           "icao": "ESSA",
           "name": "Stockholm"
          },
          "baggageBelt": "5",
          "gate": "C33",
          "quality": [
           "Basic",
           "Live"
          ],
          "revisedTime": {
           "local": "2024-05-08 13:30+02:00",
           "utc": "2024-05-08 11:30Z"
          },
          "scheduledTime": {
           "local": "2024-05-08 13:50+02:00",
           "utc": "2024-05-08 11:50Z"
          },
          "terminal": "5"
         },
         "callSign": "NOZ887",
         "codeshareStatus": "IsOperator",
         "departure": {
          "checkInDesk": "150-152",
          "gate": "B30",
          "quality": [
           "Basic",
           "Live"
          ],
          "revisedTime": {
           "local": "2024-05-08 12:15+02:00",
           "utc": "2024-05-08 10:15Z"
          },
          "runwayTime": {
           "local": "2024-05-08 12:15+02:00",
           "utc": "2024-05-08 10:15Z"
          },
          "scheduledTime": {
           "local": "2024-05-08 12:15+02:00",
           "utc": "2024-05-08 10:15Z"
          },
          "terminal": "2"
         },
         "isCargo": false,
         "number": "DY 887",
         "status": "Departed"
        },
        {
         "aircraft": {
          "modeS": "4AC9E9",
          "model": "Airbus A321 (Sharklets)",
          "reg": "SE-ROI"
         },
         "airline": {
          "iata": "SK",
          "icao": "SAS",
          "name": "SAS"
         },
         "arrival": {
          "airport": {
           "iata": "ARN",
           "icao": "ESSA",
           "name": "Stockholm"
          },
          "baggageBelt": "6",
          "gate": "E9",
          "quality": [
           "Basic",
           "Live"
          ],
          "revisedTime": {
           "local": "2024-05-08 13:59+02:00",
           "utc": "2024-05-08 11:59Z"
          },
          "scheduledTime": {
           "local": "2024-05-08 13:55+02:00",
           "utc": "2024-05-08 11:55Z"
          },
          "terminal": "5"
         },
         "callSign": "SAS2678",
         "codeshareStatus": "IsOperator",
         "departure": {
          "checkInDesk": "511-513",
          "gate": "B10",
          "quality": [
           "Basic",
           "Live"
          ],
          "revisedTime": {
           "local": "2024-05-08 12:20+02:00",
           "utc": "2024-05-08 10:20Z"
          },
          "runwayTime": {
           "local": "2024-05-08 12:41+02:00",
           "utc": "2024-05-08 10:41Z"
          },
          "scheduledTime": {
           "local": "2024-05-08 12:20+02:00",
           "utc": "2024-05-08 10:20Z"
          },
          "terminal": "1"
         },
         "isCargo": false,
         "number": "SK 2678",
         "status": "Departed"
        },
        {
         "aircraft": {
          "modeS": "4D2413",
          "model": "Airbus A320",
          "reg": "9H-EWA"
         },
         "airline": {
          "iata": "EW",
          "icao": "EWG",
          "name": "Eurowings"
         },
         "arrival": {
          "airport": {
           "iata": "ARN",
           "icao": "ESSA",
           "name": "Stockholm"
          },
          "baggageBelt": "2",
          "gate": "C43",
          "quality": [
           "Basic",
           "Live"
          ],
          "revisedTime": {
           "local": "2024-05-08 17:55+02:00",
           "utc": "2024-05-08 15:55Z"
          },
          "runwayTime": {
           "local": "2024-05-08 17:55+02:00",
           "utc": "2024-05-08 15:55Z"
          },
          "scheduledTime": {
           "local": "2024-05-08 17:50+02:00",
           "utc": "2024-05-08 15:50Z"
          },
          "terminal": "5"
         },
         "callSign": "EWG9VV",
         "codeshareStatus": "IsOperator",
         "departure": {
          "checkInDesk": "323-326",
          "gate": "A36",
          "quality": [
           "Basic",
           "Live"
          ],
          "revisedTime": {
           "local": "2024-05-08 16:15+02:00",
           "utc": "2024-05-08 14:15Z"
          },
          "runwayTime": {
           "local": "2024-05-08 16:35+02:00",
           "utc": "2024-05-08 14:35Z"
          },
          "scheduledTime": {
           "local": "2024-05-08 16:15+02:00",
           "utc": "2024-05-08 14:15Z"
          },
          "terminal": "1"
         },
         "isCargo": false,
         "number": "EW 4609",
         "status": "Departed"
        },
        {
         "aircraft": {
          "modeS": "4CAC79",
          "model": "Airbus A320 NEO",
          "reg": "EI-SIJ"
         },
         "airline": {
          "iata": "SK",
          "icao": "SAS",
          "name": "SAS"
         },
         "arrival": {
          "airport": {
           "iata": "ARN",
           "icao": "ESSA",
           "name": "Stockholm"
          },
          "baggageBelt": "5",
          "gate": "E6",
          "quality": [
           "Basic",
           "Live"
          ],
          "revisedTime": {
           "local": "2024-05-08 23:31+02:00",
           "utc": "2024-05-08 21:31Z"
          },
          "scheduledTime": {
           "local": "2024-05-08 23:00+02:00",
           "utc": "2024-05-08 21:00Z"
          },
          "terminal": "5"
         },
         "callSign": "SAS79E",
         "codeshareStatus": "IsOperator",
         "departure": {
          "checkInDesk": "511-513",
          "gate": "B06",
          "quality": [
           "Basic",
           "Live"
          ],
          "revisedTime": {
           "local": "2024-05-08 21:55+02:00",
           "utc": "2024-05-08 19:55Z"
          },
          "runwayTime": {
           "local": "2024-05-08 22:10+02:00",
           "utc": "2024-05-08 20:10Z"
          },
          "scheduledTime": {
           "local": "2024-05-08 21:25+02:00",
           "utc": "2024-05-08 19:25Z"
          },
          "terminal": "1"
         },
         "isCargo": false,
         "number": "SK 2680",
         "status": "Departed"
        },
        {
         "aircraft": {
          "modeS": "4D2274",
          "model": "Boeing 737-800",
          "reg": "9H-QBC"
         },
         "airline": {
          "iata": "FR",
          "icao": "RYR",
          "name": "Ryanair"
         },
         "arrival": {
          "airport": {
           "iata": "RIX",
           "icao": "EVRA",
           "name": "Riga"
          },
          "quality": [
           "Basic",
           "Live"
          ],
          "revisedTime": {
           "local": "2024-05-08 17:19+03:00",
           "utc": "2024-05-08 14:19Z"
          },
          "scheduledTime": {
           "local": "2024-05-08 17:25+03:00",
           "utc": "2024-05-08 14:25Z"
          },
          "terminal": "E"
         },
         "callSign": "RYR2599",
         "codeshareStatus": "IsOperator",
         "departure": {
          "checkInDesk": "158-165",
          "gate": "B30",
          "quality": [
           "Basic",
           "Live"
          ],
          "revisedTime": {
           "local": "2024-05-08 14:50+02:00",
           "utc": "2024-05-08 12:50Z"
          },
          "runwayTime": {
           "local": "2024-05-08 15:02+02:00",
           "utc": "2024-05-08 13:02Z"
          },
          "scheduledTime": {
           "local": "2024-05-08 14:50+02:00",
           "utc": "2024-05-08 12:50Z"
          },
          "terminal": "2"
         },
         "isCargo": false,
         "number": "FR 2599",
         "status": "Departed"
        },
        {
         "aircraft": {
          "modeS": "502CE4",
          "model": "Airbus A220-300",
          "reg": "YL-CSJ"
         },
         "airline": {
          "iata": "BT",
          "icao": "BTI",
          "name": "airBaltic"
         },
         "arrival": {
          "airport": {
           "iata": "RIX",
           "icao": "EVRA",
           "name": "Riga"
          },
          "quality": [
           "Basic",
           "Live"
          ],
          "revisedTime": {
           "local": "2024-05-08 22:17+03:00",
           "utc": "2024-05-08 19:17Z"
          },
          "scheduledTime": {
           "local": "2024-05-08 22:15+03:00",
           "utc": "2024-05-08 19:15Z"
          },
          "terminal": "E"
         },
         "callSign": "BTI4UJ",
         "codeshareStatus": "IsOperator",
         "departure": {
          "checkInDesk": "511-513",
          "gate": "A34",
          "quality": [
           "Basic",
           "Live"
          ],
          "revisedTime": {
           "local": "2024-05-08 19:40+02:00",
           "utc": "2024-05-08 17:40Z"
          },
          "runwayTime": {
           "local": "2024-05-08 19:53+02:00",
           "utc": "2024-05-08 17:53Z"
          },
          "scheduledTime": {
           "local": "2024-05-08 19:40+02:00",
           "utc": "2024-05-08 17:40Z"
          },
          "terminal": "1"
         },
         "isCargo": false,
         "number": "BT 214",
         "status": "Departed"
        },
        {
         "aircraft": {
          "modeS": "502CE4",
          "model": "Airbus A220-300",
          "reg": "YL-CSJ"
         },
         "airline": {
          "iata": "TP",
          "icao": "TAP",
          "name": "TAP Air Portugal"
         },
         "arrival": {
          "airport": {
           "iata": "RIX",
           "icao": "EVRA",
           "name": "Riga"
          },
          "quality": [
           "Basic",
           "Live"
          ],
          "revisedTime": {
           "local": "2024-05-08 22:17+03:00",
           "utc": "2024-05-08 19:17Z"
          },
          "scheduledTime": {
           "local": "2024-05-08 22:15+03:00",
           "utc": "2024-05-08 19:15Z"
          },
          "terminal": "E"
         },
         "codeshareStatus": "IsCodeshared",
         "departure": {
          "checkInDesk": "511-513",
          "gate": "A34",
          "quality": [
           "Basic",
           "Live"
          ],
          "revisedTime": {
           "local": "2024-05-08 19:40+02:00",
           "utc": "2024-05-08 17:40Z"
          },
          "scheduledTime": {
           "local": "2024-05-08 19:40+02:00",
           "utc": "2024-05-08 17:40Z"
          },
          "terminal": "1"
         },
         "isCargo": false,
         "number": "TP 6401",
         "status": "Departed"
        },
        {
         "aircraft": {
          "modeS": "48C239",
          "model": "Boeing 737-800",
          "reg": "SP-RSQ"
         },
         "airline": {
          "iata": "FR",
          "icao": "RYR",
          "name": "Ryanair"
         },
         "arrival": {
          "airport": {
           "iata": "VNO",
           "icao": "EYVI",
           "name": "Vilnius"
          },
          "quality": [
           "Basic"
          ],
          "scheduledTime": {
           "local": "2024-05-08 18:40+03:00",
           "utc": "2024-05-08 15:40Z"
          }
         },
         "callSign": "RYR56QE",
         "codeshareStatus": "IsOperator",
         "departure": {
          "checkInDesk": "158-165",
          "gate": "B38",
          "quality": [
           "Basic",
           "Live"
          ],
          "revisedTime": {
           "local": "2024-05-08 16:10+02:00",
           "utc": "2024-05-08 14:10Z"
          },
          "runwayTime": {
           "local": "2024-05-08 16:28+02:00",
           "utc": "2024-05-08 14:28Z"
          },
          "scheduledTime": {
           "local": "2024-05-08 16:10+02:00",
           "utc": "2024-05-08 14:10Z"
          },
          "terminal": "2"
         },
         "isCargo": false,
         "number": "FR 1570",
         "status": "Departed"
        },
        {
         "aircraft": {
          "modeS": "4CADBB",
          "model": "Boeing 737 MAX 8",
          "reg": "EI-IGI"
         },
         "airline": {
          "iata": "FR",
          "icao": "RYR",
          "name": "Ryanair"
         },
         "arrival": {
          "airport": {
           "iata": "RAK",
           "icao": "GMMX",
           "name": "Marrakech"
          },
          "quality": [
           "Basic"
          ],
          "scheduledTime": {
           "local": "2024-05-09 00:10+01:00",
           "utc": "2024-05-08 23:10Z"
          },
          "terminal": "1"
         },
         "callSign": "RYR4PZ",
         "codeshareStatus": "IsOperator",
         "departure": {
          "checkInDesk": "158-165",
          "gate": "B44",
          "quality": [
           "Basic",
           "Live"
          ],
          "revisedTime": {
           "local": "2024-05-08 22:10+02:00",
           "utc": "2024-05-08 20:10Z"
          },
          "runwayTime": {
           "local": "2024-05-08 22:22+02:00",
           "utc": "2024-05-08 20:22Z"
          },
          "scheduledTime": {
           "local": "2024-05-08 20:55+02:00",
           "utc": "2024-05-08 18:55Z"
          },
          "terminal": "2"
         },
         "isCargo": false,
         "number": "FR 5474",
         "status": "Departed"
        },
        {
         "aircraft": {
          "modeS": "010204",
          "model": "Airbus A320 NEO",
          "reg": "SU-GFJ"
         },
         "airline": {
          "iata": "MS",
          "icao": "MSR",
          "name": "EgyptAir"
         },
         "arrival": {
          "airport": {
           "iata": "CAI",
           "icao": "HECA",
           "name": "Cairo"
          },
          "quality": [
           "Basic"
          ],
          "scheduledTime": {
           "local": "2024-05-08 20:50+03:00",
           "utc": "2024-05-08 17:50Z"
          },
          "terminal": "2"
         },
         "callSign": "MSR732",
         "codeshareStatus": "IsOperator",
         "departure": {
          "checkInDesk": "921-924",
          "gate": "D10",
          "quality": [
           "Basic",
           "Live"
          ],
          "revisedTime": {
           "local": "2024-05-08 15:45+02:00",
           "utc": "2024-05-08 13:45Z"
          },
          "runwayTime": {
           "local": "2024-05-08 16:17+02:00",
           "utc": "2024-05-08 14:17Z"
          },
          "scheduledTime": {
           "local": "2024-05-08 15:45+02:00",
           "utc": "2024-05-08 13:45Z"
          },
          "terminal": "1"
         },
         "isCargo": false,
         "number": "MS 732",
         "status": "Departed"
        },
        {
         "aircraft": {
          "modeS": "3C79C1",
          "model": "Airbus A320-200",
          "reg": "D-ANNA"
         },
         "airline": {
          "iata": "SR",
          "icao": "SDR",
          "name": "SundAir"
         },
         "arrival": {
          "airport": {
           "iata": "HRG",
           "icao": "HEGN",
           "name": "Hurghada"
          },
          "quality": [
           "Basic"
          ],
          "scheduledTime": {
           "local": "2024-05-08 18:35+03:00",
           "utc": "2024-05-08 15:35Z"
          },
          "terminal": "1"
         },
         "callSign": "SDR69HD",
         "codeshareStatus": "IsOperator",
         "departure": {
          "checkInDesk": "111-113",
          "gate": "C12",
          "quality": [
           "Basic",
           "Live"
          ],
          "revisedTime": {
           "local": "2024-05-08 12:50+02:00",
           "utc": "2024-05-08 10:50Z"
          },
          "runwayTime": {
           "local": "2024-05-08 13:20+02:00",
           "utc": "2024-05-08 11:20Z"
          },
          "scheduledTime": {
           "local": "2024-05-08 12:50+02:00",
           "utc": "2024-05-08 10:50Z"
          },
          "terminal": "1"
         },
         "isCargo": false,
         "number": "SR 6492",
         "status": "Departed"
        },
        {
         "aircraft": {
          "modeS": "4A3121",
          "model": "Airbus A320",
          "reg": "YR-LIA"
         },
         "airline": {
          "iata": "SM",
          "icao": "MSC",
          "name": "Air Cairo"
         },
         "arrival": {
          "airport": {
           "iata": "HRG",
           "icao": "HEGN",
           "name": "Hurghada"
          },
          "quality": [
           "Basic"
          ],
          "scheduledTime": {
           "local": "2024-05-08 19:40+03:00",
           "utc": "2024-05-08 16:40Z"
          },
          "terminal": "2"
         },
         "callSign": "MSC2961",
         "codeshareStatus": "IsOperator",
         "departure": {
          "checkInDesk": "621-623",
          "gate": "C13",
          "quality": [
           "Basic",
           "Live"
          ],
          "revisedTime": {
           "local": "2024-05-08 14:10+02:00",
           "utc": "2024-05-08 12:10Z"
          },
          "runwayTime": {
           "local": "2024-05-08 14:45+02:00",
           "utc": "2024-05-08 12:45Z"
          },
          "scheduledTime": {
           "local": "2024-05-08 14:10+02:00",
           "utc": "2024-05-08 12:10Z"
          },
          "terminal": "1"
         },
         "isCargo": false,
         "number": "SM 2961",
         "status": "Departed"
        },
        {
         "aircraft": {
          "modeS": "47B1DC",
          "model": "Boeing 787-9",
          "reg": "LN-FNB"
         },
         "airline": {
          "name": "Norse Atlantic Airways AS"
         },
         "arrival": {
          "airport": {
           "iata": "JFK",
           "icao": "KJFK",
           "name": "New York"
          },
          "quality": [
           "Basic"
          ],
          "scheduledTime": {
           "local": "2024-05-08 22:00-04:00",
           "utc": "2024-05-09 02:00Z"
          },
          "terminal": "7"
         },
         "codeshareStatus": "IsOperator",
         "departure": {
          "checkInDesk": "011-016",
          "gate": "D17",
          "quality": [
           "Basic",
           "Live"
          ],
          "revisedTime": {
           "local": "2024-05-08 19:20+02:00",
           "utc": "2024-05-08 17:20Z"
          },
          "scheduledTime": {
           "local": "2024-05-08 19:20+02:00",
           "utc": "2024-05-08 17:20Z"
          },
          "terminal": "1"
         },
         "isCargo": false,
         "number": "N0 601",
         "status": "Departed"
        },
        {
         "aircraft": {
          "modeS": "471F6C",
          "model": "Airbus A321",
          "reg": "HA-LXK"
         },
         "airline": {
          "iata": "W4",
          "icao": "WMT",
          "name": "Aero Services Executive"
         },
         "arrival": {
          "airport": {
           "iata": "TIA",
           "icao": "LATI",
           "name": "Tirana"
          },
          "quality": [
           "Basic"
          ],
          "scheduledTime": {
           "local": "2024-05-08 16:55+02:00",
           "utc": "2024-05-08 14:55Z"
          }
         },
         "callSign": "WMT5SW",
         "codeshareStatus": "IsOperator",
         "departure": {
          "checkInDesk": "154-157",
          "gate": "B44",
          "quality": [
           "Basic",
           "Live"
          ],
          "revisedTime": {
           "local": "2024-05-08 15:00+02:00",
           "utc": "2024-05-08 13:00Z"
          },
          "runwayTime": {
           "local": "2024-05-08 15:23+02:00",
           "utc": "2024-05-08 13:23Z"
          },
          "scheduledTime": {
           "local": "2024-05-08 14:40+02:00",
           "utc": "2024-05-08 12:40Z"
          },
          "terminal": "2"
         },
         "isCargo": false,
         "number": "W4 5106",
         "status": "Departed"
        },
        {
         "aircraft": {
          "modeS": "452142",
          "model": "Airbus A220-300",
          "reg": "LZ-AMS"
         },
         "airline": {
          "iata": "FB",
          "icao": "LZB",
          "name": "Bulgaria Air"
         },
         "arrival": {
          "airport": {
           "iata": "SOF",
           "icao": "LBSF",
           "name": "Sofia"
          },
          "quality": [
           "Basic",
           "Live"
          ],
          "revisedTime": {
           "local": "2024-05-08 19:52+03:00",
           "utc": "2024-05-08 16:52Z"
          },
          "scheduledTime": {
           "local": "2024-05-08 19:45+03:00",
           "utc": "2024-05-08 16:45Z"
          },
          "terminal": "2"
         },
         "callSign": "LZB320",
         "codeshareStatus": "IsOperator",
         "departure": {
          "checkInDesk": "721-723",
          "gate": "B06",
          "quality": [
           "Basic",
           "Live"
          ],
          "revisedTime": {
           "local": "2024-05-08 16:45+02:00",
           "utc": "2024-05-08 14:45Z"
          },
          "runwayTime": {
           "local": "2024-05-08 17:06+02:00",
           "utc": "2024-05-08 15:06Z"
          },
          "scheduledTime": {
           "local": "2024-05-08 16:35+02:00",
           "utc": "2024-05-08 14:35Z"
          },
          "terminal": "1"
         },
         "isCargo": false,
         "number": "FB 320",
         "status": "Departed"
        },
        {
         "aircraft": {
          "modeS": "4D24EB",
          "model": "Boeing 737 MAX 8",
          "reg": "9H-VVM"
         },
         "airline": {
          "iata": "FR",
          "icao": "RYR",
          "name": "Ryanair"
         },
         "arrival": {
          "airport": {
           "iata": "ALC",
           "icao": "LEAL",
           "name": "Alicante"
          },
          "quality": [
           "Basic",
           "Live"
          ],
          "revisedTime": {
           "local": "2024-05-08 19:30+02:00",
           "utc": "2024-05-08 17:30Z"
          },
          "scheduledTime": {
           "local": "2024-05-08 19:20+02:00",
           "utc": "2024-05-08 17:20Z"
          },
          "terminal": "N"
         },
         "callSign": "RYR4GE",
         "codeshareStatus": "IsOperator",
         "departure": {
          "checkInDesk": "158-165",
          "gate": "B30",
          "quality": [
           "Basic",
           "Live"
          ],
          "revisedTime": {
           "local": "2024-05-08 16:15+02:00",
           "utc": "2024-05-08 14:15Z"
          },
          "runwayTime": {
           "local": "2024-05-08 17:00+02:00",
           "utc": "2024-05-08 15:00Z"
          },
          "scheduledTime": {
           "local": "2024-05-08 16:15+02:00",
           "utc": "2024-05-08 14:15Z"
          },
          "terminal": "2"
         },
         "isCargo": false,
         "number": "FR 257",
         "status": "Departed"
        },
        {
         "aircraft": {
          "modeS": "345206",
          "model": "Airbus A320",
          "reg": "EC-MLE"
         },
         "airline": {
          "iata": "VY",
          "icao": "VLG",
          "name": "Vueling"
         },
         "arrival": {
          "airport": {
           "iata": "BCN",
           "icao": "LEBL",
           "name": "Barcelona"
          },
          "quality": [
           "Basic",
           "Live"
          ],
          "revisedTime": {
           "local": "2024-05-08 17:18+02:00",
           "utc": "2024-05-08 15:18Z"
          },
          "runwayTime": {
           "local": "2024-05-08 17:16+02:00",
           "utc": "2024-05-08 15:16Z"
          },
          "scheduledTime": {
           "local": "2024-05-08 17:35+02:00",
           "utc": "2024-05-08 15:35Z"
          },
          "terminal": "1"
         },
         "callSign": "VLG3QX",
         "codeshareStatus": "IsOperator",
         "departure": {
          "checkInDesk": "825-826",
          "gate": "B38",
          "quality": [
           "Basic",
           "Live"
          ],
          "revisedTime": {
           "local": "2024-05-08 15:05+02:00",
           "utc": "2024-05-08 13:05Z"
          },
          "runwayTime": {
           "local": "2024-05-08 15:15+02:00",
           "utc": "2024-05-08 13:15Z"
          },
          "scheduledTime": {
           "local": "2024-05-08 14:55+02:00",
           "utc": "2024-05-08 12:55Z"
          },
          "terminal": "1"
         },
         "isCargo": false,
         "number": "VY 1887",
         "status": "Departed"
        },
        {
         "aircraft": {
          "modeS": "4406F0",
          "model": "Airbus A319",
          "reg": "OE-LQU"
         },
         "airline": {
          "iata": "EC",
          "icao": "EJU",
          "name": "EasyJet Europe"
         },
         "arrival": {
          "airport": {
           "iata": "BCN",
           "icao": "LEBL",
           "name": "Barcelona"
          },
          "quality": [
           "Basic",
           "Live"
          ],
          "revisedTime": {
           "local": "2024-05-08 17:55+02:00",
           "utc": "2024-05-08 15:55Z"
          },
          "runwayTime": {
           "local": "2024-05-08 17:52+02:00",
           "utc": "2024-05-08 15:52Z"
          },
          "scheduledTime": {
           "local": "2024-05-08 18:05+02:00",
           "utc": "2024-05-08 16:05Z"
          },
          "terminal": "2"
         },
         "callSign": "EJU57CZ",
         "codeshareStatus": "IsCodeshared",
         "departure": {
          "checkInDesk": "514-616",
          "gate": "A35",
          "quality": [
           "Basic",
           "Live"
          ],
          "revisedTime": {
           "local": "2024-05-08 15:30+02:00",
           "utc": "2024-05-08 13:30Z"
          },
          "runwayTime": {
           "local": "2024-05-08 15:53+02:00",
           "utc": "2024-05-08 13:53Z"
          },
          "scheduledTime": {
           "local": "2024-05-08 15:30+02:00",
           "utc": "2024-05-08 13:30Z"
          },
          "terminal": "1"
         },
         "isCargo": false,
         "number": "EC 7173",
         "status": "Departed"
        },
        {
         "aircraft": {
          "modeS": "4406F0",
          "model": "Airbus A319",
          "reg": "OE-LQU"
         },
         "airline": {
          "iata": "U2",
          "icao": "EZY",
          "name": "easyJet"
         },
         "arrival": {
          "airport": {
           "iata": "BCN",
           "icao": "LEBL",
           "name": "Barcelona"
          },
          "quality": [
           "Basic",
           "Live"
          ],
          "revisedTime": {
           "local": "2024-05-08 17:55+02:00",
           "utc": "2024-05-08 15:55Z"
          },
          "runwayTime": {
           "local": "2024-05-08 17:52+02:00",
           "utc": "2024-05-08 15:52Z"
          },
          "scheduledTime": {
           "local": "2024-05-08 18:05+02:00",
           "utc": "2024-05-08 16:05Z"
          },
          "terminal": "2"
         },
         "callSign": "EJU57CZ",
         "codeshareStatus": "IsOperator",
         "departure": {
          "checkInDesk": "514-616",
          "gate": "A35",
          "quality": [
           "Basic",
           "Live"
          ],
          "revisedTime": {
           "local": "2024-05-08 15:30+02:00",
           "utc": "2024-05-08 13:30Z"
          },
          "runwayTime": {
           "local": "2024-05-08 15:53+02:00",
           "utc": "2024-05-08 13:53Z"
          },
          "scheduledTime": {
           "local": "2024-05-08 15:30+02:00",
           "utc": "2024-05-08 13:30Z"
          },
          "terminal": "1"
         },
         "isCargo": false,
         "number": "U2 7173",
         "status": "Departed"
        },
        {
         "aircraft": {
          "modeS": "4CAD3F",
          "model": "Boeing 737 MAX 8",
          "reg": "EI-HMX"
         },
         "airline": {
          "iata": "FR",
          "icao": "RYR",
          "name": "Ryanair"
         },
         "arrival": {
          "airport": {
           "iata": "BCN",
           "icao": "LEBL",
           "name": "Barcelona"
          },
          "quality": [
           "Basic",
           "Live"
          ],
          "revisedTime": {
           "local": "2024-05-08 21:47+02:00",
           "utc": "2024-05-08 19:47Z"
          },
          "scheduledTime": {
           "local": "2024-05-08 21:10+02:00",
           "utc": "2024-05-08 19:10Z"
          },
          "terminal": "2"
         },
         "callSign": "RYR4ZY",
         "codeshareStatus": "IsOperator",
         "departure": {
          "checkInDesk": "158-165",
          "gate": "B30",
          "quality": [
           "Basic",
           "Live"
          ],
          "revisedTime": {
           "local": "2024-05-08 19:25+02:00",
           "utc": "2024-05-08 17:25Z"
          },
          "runwayTime": {
           "local": "2024-05-08 19:46+02:00",
           "utc": "2024-05-08 17:46Z"
          },
          "scheduledTime": {
           "local": "2024-05-08 18:35+02:00",
           "utc": "2024-05-08 16:35Z"
          },
          "terminal": "2"
         },
         "isCargo": false,
         "number": "FR 132",
         "status": "Departed"
        },
        {
         "aircraft": {
          "modeS": "503E9B",
          "model": "Airbus A320",
          "reg": "LY-WIL"
         },
         "airline": {
          "iata": "VY",
          "icao": "VLG",
          "name": "Vueling"
         },
         "arrival": {
          "airport": {
           "iata": "BCN",
           "icao": "LEBL",
           "name": "Barcelona"
          },
          "quality": [
           "Basic",
           "Live"
          ],
          "revisedTime": {
           "local": "2024-05-09 00:20+02:00",
           "utc": "2024-05-08 22:20Z"
          },
          "scheduledTime": {
           "local": "2024-05-09 00:50+02:00",
           "utc": "2024-05-08 22:50Z"
          },
          "terminal": "1"
         },
         "callSign": "VLG3DH",
         "codeshareStatus": "IsOperator",
         "departure": {
          "checkInDesk": "121-122",
          "gate": "B38",
          "quality": [
           "Basic",
           "Live"
          ],
          "revisedTime": {
           "local": "2024-05-08 22:05+02:00",
           "utc": "2024-05-08 20:05Z"
          },
          "runwayTime": {
           "local": "2024-05-08 22:21+02:00",
           "utc": "2024-05-08 20:21Z"
          },
          "scheduledTime": {
           "local": "2024-05-08 22:05+02:00",
           "utc": "2024-05-08 20:05Z"
          },
          "terminal": "1"
         },
         "isCargo": false,
         "number": "VY 1885",
         "status": "Departed"
        },
        {
         "aircraft": {
          "modeS": "4CA6A9",
          "model": "Boeing 737-800",
          "reg": "EI-DYV"
         },
         "airline": {
          "iata": "FR",
          "icao": "RYR",
          "name": "Ryanair"
         },
         "arrival": {
          "airport": {
           "iata": "IBZ",
           "icao": "LEIB",
           "name": "Ibiza Town"
          },
          "quality": [
           "Basic",
           "Live"
          ],
          "revisedTime": {
           "local": "2024-05-08 18:24+02:00",
           "utc": "2024-05-08 16:24Z"
          },
          "scheduledTime": {
           "local": "2024-05-08 18:30+02:00",
           "utc": "2024-05-08 16:30Z"
          },
          "terminal": "1"
         },
         "callSign": "RYR5ZX",
         "codeshareStatus": "IsOperator",
         "departure": {
          "checkInDesk": "158-165",
          "gate": "B36",
          "quality": [
           "Basic",
           "Live"
          ],
          "revisedTime": {
           "local": "2024-05-08 15:35+02:00",
           "utc": "2024-05-08 13:35Z"
          },
          "scheduledTime": {
           "local": "2024-05-08 15:35+02:00",
           "utc": "2024-05-08 13:35Z"
          },
          "terminal": "2"
         },
         "isCargo": false,
         "number": "FR 208",
         "status": "Departed"
        },
        {
         "aircraft": {
          "modeS": "342105",
          "model": "Airbus A320",
          "reg": "EC-JFG"
         },
         "airline": {
          "iata": "I2",
          "icao": "IBS",
          "name": "Iberia Express"
         },
         "arrival": {
          "airport": {
           "iata": "MAD",
           "icao": "LEMD",
           "name": "Madrid"
          },
          "quality": [
           "Basic",
           "Live"
          ],
          "revisedTime": {
           "local": "2024-05-08 22:50+02:00",
           "utc": "2024-05-08 20:50Z"
          },
          "scheduledTime": {
           "local": "2024-05-08 23:00+02:00",
           "utc": "2024-05-08 21:00Z"
          },
          "terminal": "4"
         },
         "callSign": "IBS36MB",
         "codeshareStatus": "IsOperator",
         "departure": {
          "checkInDesk": "124-126",
          "gate": "A35",
          "quality": [
           "Basic",
           "Live"
          ],
          "revisedTime": {
           "local": "2024-05-08 20:00+02:00",
           "utc": "2024-05-08 18:00Z"
          },
          "runwayTime": {
           "local": "2024-05-08 20:14+02:00",
           "utc": "2024-05-08 18:14Z"
          },
          "scheduledTime": {
           "local": "2024-05-08 19:50+02:00",
           "utc": "2024-05-08 17:50Z"
          },
          "terminal": "1"
         },
         "isCargo": false,
         "number": "I2 3671",
         "status": "Departed"
        },
        {
         "aircraft": {
          "modeS": "4D239F",
          "model": "Airbus A320",
          "reg": "9H-MLP"
         },
         "airline": {
          "iata": "EW",
          "icao": "EWG",
          "name": "Eurowings"
         },
         "arrival": {
          "airport": {
           "iata": "PMI",
           "icao": "LEPA",
           "name": "Palma De Mallorca"
          },
          "quality": [
           "Basic",
           "Live"
          ],
          "revisedTime": {
           "local": "2024-05-08 14:32+02:00",
           "utc": "2024-05-08 12:32Z"
          },
          "scheduledTime": {
           "local": "2024-05-08 14:45+02:00",
           "utc": "2024-05-08 12:45Z"
          },
          "terminal": "N"
         },
         "callSign": "EWG2AN",
         "codeshareStatus": "IsOperator",
         "departure": {
          "checkInDesk": "323-326",
          "gate": "A32",
          "quality": [
           "Basic",
           "Live"
          ],
          "revisedTime": {
           "local": "2024-05-08 12:05+02:00",
           "utc": "2024-05-08 10:05Z"
          },
          "runwayTime": {
           "local": "2024-05-08 12:09+02:00",
           "utc": "2024-05-08 10:09Z"
          },
          "scheduledTime": {
           "local": "2024-05-08 12:05+02:00",
           "utc": "2024-05-08 10:05Z"
          },
          "terminal": "1"
         },
         "isCargo": false,
         "number": "EW 8590",
         "status": "Departed"
        },
        {
         "aircraft": {
          "modeS": "3C648F",
          "model": "Airbus A321",
          "reg": "D-AIDO"
         },
         "airline": {
          "iata": "EW",
          "icao": "EWG",
          "name": "Eurowings"
         },
         "arrival": {
          "airport": {
           "iata": "PMI",
           "icao": "LEPA",
           "name": "Palma De Mallorca"
          },
          "quality": [
           "Basic",
           "Live"
          ],
          "revisedTime": {
           "local": "2024-05-08 20:00+02:00",
           "utc": "2024-05-08 18:00Z"
          },
          "scheduledTime": {
           "local": "2024-05-08 19:50+02:00",
           "utc": "2024-05-08 17:50Z"
          },
          "terminal": "N"
         },
         "callSign": "EWG8592",
         "codeshareStatus": "IsOperator",
         "departure": {
          "checkInDesk": "323-326",
          "gate": "A32",
          "quality": [
           "Basic",
           "Live"
          ],
          "revisedTime": {
           "local": "2024-05-08 17:15+02:00",
           "utc": "2024-05-08 15:15Z"
          },
          "runwayTime": {
           "local": "2024-05-08 17:47+02:00",
           "utc": "2024-05-08 15:47Z"
          },
          "scheduledTime": {
           "local": "2024-05-08 17:15+02:00",
           "utc": "2024-05-08 15:15Z"
          },
          "terminal": "1"
         },
         "isCargo": false,
         "number": "EW 8592",
         "status": "Departed"
        },
        {
         "aircraft": {
          "modeS": "4CAD3B",
          "model": "Boeing 737 MAX 8",
          "reg": "EI-HGS"
         },
         "airline": {
          "iata": "FR",
          "icao": "RYR",
          "name": "Ryanair"
         },
         "arrival": {
          "airport": {
           "iata": "PMI",
           "icao": "LEPA",
           "name": "Palma De Mallorca"
          },
          "quality": [
           "Basic",
           "Live"
          ],
          "revisedTime": {
           "local": "2024-05-08 21:23+02:00",
           "utc": "2024-05-08 19:23Z"
          },
          "scheduledTime": {
           "local": "2024-05-08 21:05+02:00",
           "utc": "2024-05-08 19:05Z"
          },
          "terminal": "N"
         },
         "callSign": "RYR9TU",
         "codeshareStatus": "IsOperator",
         "departure": {
          "checkInDesk": "158-165",
          "gate": "B32",
          "quality": [
           "Basic",
           "Live"
          ],
          "revisedTime": {
           "local": "2024-05-08 18:42+02:00",
           "utc": "2024-05-08 16:42Z"
          },
          "scheduledTime": {
           "local": "2024-05-08 18:25+02:00",
           "utc": "2024-05-08 16:25Z"
          },
          "terminal": "2"
         },
         "isCargo": false,
         "number": "FR 226",
         "status": "Departed"
        },
        {
         "aircraft": {
          "modeS": "44017C",
          "model": "Airbus A320",
          "reg": "OE-IJH"
         },
         "airline": {
          "iata": "EC",
          "icao": "EJU",
          "name": "EasyJet Europe"
         },
         "arrival": {
          "airport": {
           "iata": "PMI",
           "icao": "LEPA",
           "name": "Palma De Mallorca"
          },
          "quality": [
           "Basic",
           "Live"
          ],
          "revisedTime": {
           "local": "2024-05-09 01:16+02:00",
           "utc": "2024-05-08 23:16Z"
          },
          "scheduledTime": {
           "local": "2024-05-09 00:40+02:00",
           "utc": "2024-05-08 22:40Z"
          },
          "terminal": "N"
         },
         "callSign": "EJU72KH",
         "codeshareStatus": "IsCodeshared",
         "departure": {
          "checkInDesk": "514-616",
          "gate": "A22",
          "quality": [
           "Basic",
           "Live"
          ],
          "revisedTime": {
           "local": "2024-05-08 22:36+02:00",
           "utc": "2024-05-08 20:36Z"
          },
          "runwayTime": {
           "local": "2024-05-08 23:08+02:00",
           "utc": "2024-05-08 21:08Z"
          },
          "scheduledTime": {
           "local": "2024-05-08 21:55+02:00",
           "utc": "2024-05-08 19:55Z"
          },
          "terminal": "1"
         },
         "isCargo": false,
         "number": "EC 7338",
         "status": "Departed"
        },
        {
         "aircraft": {
          "modeS": "4CAE51",
          "model": "Boeing 737 MAX 8",
          "reg": "EI-IJA"
         },
         "airline": {
          "iata": "FR",
          "icao": "RYR",
          "name": "Ryanair"
         },
         "arrival": {
          "airport": {
           "iata": "PMI",
           "icao": "LEPA",
           "name": "Palma De Mallorca"
          },
          "quality": [
           "Basic",
           "Live"
          ],
          "revisedTime": {
           "local": "2024-05-09 00:53+02:00",
           "utc": "2024-05-08 22:53Z"
          },
          "scheduledTime": {
           "local": "2024-05-09 00:25+02:00",
           "utc": "2024-05-08 22:25Z"
          },
          "terminal": "N"
         },
         "callSign": "RYR1WQ",
         "codeshareStatus": "IsOperator",
         "departure": {
          "checkInDesk": "158-165",
          "gate": "B30",
          "quality": [
           "Basic",
           "Live"
          ],
          "revisedTime": {
           "local": "2024-05-08 21:45+02:00",
           "utc": "2024-05-08 19:45Z"
          },
          "runwayTime": {
           "local": "2024-05-08 22:42+02:00",
           "utc": "2024-05-08 20:42Z"
          },
          "scheduledTime": {
           "local": "2024-05-08 21:45+02:00",
           "utc": "2024-05-08 19:45Z"
          },
          "terminal": "2"
         },
         "isCargo": false,
         "number": "FR 264",
         "status": "Departed"
        },
        {
         "aircraft": {
          "modeS": "44017C",
          "model": "Airbus A320",
          "reg": "OE-IJH"
         },
         "airline": {
          "iata": "U2",
          "icao": "EZY",
          "name": "easyJet"
         },
         "arrival": {
          "airport": {
           "iata": "PMI",
           "icao": "LEPA",
           "name": "Palma De Mallorca"
          },
          "quality": [
           "Basic",
           "Live"
          ],
          "revisedTime": {
           "local": "2024-05-09 01:16+02:00",
           "utc": "2024-05-08 23:16Z"
          },
          "scheduledTime": {
           "local": "2024-05-09 00:40+02:00",
           "utc": "2024-05-08 22:40Z"
          },
          "terminal": "N"
         },
         "callSign": "EJU72KH",
         "codeshareStatus": "IsOperator",
         "departure": {
          "checkInDesk": "514-616",
          "gate": "A22",
          "quality": [
           "Basic",
           "Live"
          ],
          "revisedTime": {
           "local": "2024-05-08 22:36+02:00",
           "utc": "2024-05-08 20:36Z"
          },
          "runwayTime": {
           "local": "2024-05-08 23:08+02:00",
           "utc": "2024-05-08 21:08Z"
          },
          "scheduledTime": {
           "local": "2024-05-08 21:55+02:00",
           "utc": "2024-05-08 19:55Z"
          },
          "terminal": "1"
         },
         "isCargo": false,
         "number": "U2 7338",
         "status": "Departed"
        },
        {
         "aircraft": {
          "modeS": "4D2384",
          "model": "Boeing 737-800",
          "reg": "9H-VUW"
         },
         "airline": {
          "iata": "FR",
          "icao": "RYR",
          "name": "Ryanair"
         },
         "arrival": {
          "airport": {
           "iata": "VLC",
           "icao": "LEVC",
           "name": "Valencia"
          },
          "quality": [
           "Basic",
           "Live"
          ],
          "revisedTime": {
           "local": "2024-05-08 19:15+02:00",
           "utc": "2024-05-08 17:15Z"
          },
          "scheduledTime": {
           "local": "2024-05-08 19:20+02:00",
           "utc": "2024-05-08 17:20Z"
          },
          "terminal": "1"
         },
         "callSign": "RYR257N",
         "codeshareStatus": "IsOperator",
         "departure": {
          "checkInDesk": "158-165",
          "gate": "B34",
          "quality": [
           "Basic",
           "Live"
          ],
          "revisedTime": {
           "local": "2024-05-08 16:25+02:00",
           "utc": "2024-05-08 14:25Z"
          },
          "runwayTime": {
           "local": "2024-05-08 16:49+02:00",
           "utc": "2024-05-08 14:49Z"
          },
          "scheduledTime": {
           "local": "2024-05-08 16:25+02:00",
           "utc": "2024-05-08 14:25Z"
          },
          "terminal": "2"
         },
         "isCargo": false,
         "number": "FR 138",
         "status": "Departed"
        },
        {
         "aircraft": {
          "modeS": "392AEF",
          "model": "Airbus A320",
          "reg": "F-GKXP"
         },
         "airline": {
          "iata": "AF",
          "icao": "AFR",
          "name": "Air France"
         },
         "arrival": {
          "airport": {
           "iata": "CDG",
           "icao": "LFPG",
           "name": "Paris"
          },
          "quality": [
           "Basic",
           "Live"
          ],
          "revisedTime": {
           "local": "2024-05-08 13:29+02:00",
           "utc": "2024-05-08 11:29Z"
          },
          "scheduledTime": {
           "local": "2024-05-08 14:00+02:00",
           "utc": "2024-05-08 12:00Z"
          },
          "terminal": "2F"
         },
         "callSign": "AFR95ZB",
         "codeshareStatus": "IsOperator",
         "departure": {
          "checkInDesk": "811-816",
          "gate": "B19",
          "quality": [
           "Basic",
           "Live"
          ],
          "revisedTime": {
           "local": "2024-05-08 12:10+02:00",
           "utc": "2024-05-08 10:10Z"
          },
          "runwayTime": {
           "local": "2024-05-08 12:23+02:00",
           "utc": "2024-05-08 10:23Z"
          },
          "scheduledTime": {
           "local": "2024-05-08 12:10+02:00",
           "utc": "2024-05-08 10:10Z"
          },
          "terminal": "1"
         },
         "isCargo": false,
         "number": "AF 1735",
         "status": "Departed"
        },
        {
         "aircraft": {
          "modeS": "39E691",
          "model": "Airbus A220-300",
          "reg": "F-HZUR"
         },
         "airline": {
          "iata": "AF",
          "icao": "AFR",
          "name": "Air France"
         },
         "arrival": {
          "airport": {
           "iata": "CDG",
           "icao": "LFPG",
           "name": "Paris"
          },
          "quality": [
           "Basic",
           "Live"
          ],
          "revisedTime": {
           "local": "2024-05-08 17:09+02:00",
           "utc": "2024-05-08 15:09Z"
          },
          "scheduledTime": {
           "local": "2024-05-08 17:30+02:00",
           "utc": "2024-05-08 15:30Z"
          },
          "terminal": "2F"
         },
         "callSign": "AFR78MD",
         "codeshareStatus": "IsOperator",
         "departure": {
          "checkInDesk": "811-816",
          "gate": "A03",
          "quality": [
           "Basic",
           "Live"
          ],
          "revisedTime": {
           "local": "2024-05-08 15:46+02:00",
           "utc": "2024-05-08 13:46Z"
          },
          "runwayTime": {
           "local": "2024-05-08 15:55+02:00",
           "utc": "2024-05-08 13:55Z"
          },
          "scheduledTime": {
           "local": "2024-05-08 15:40+02:00",
           "utc": "2024-05-08 13:40Z"
          },
          "terminal": "1"
         },
         "isCargo": false,
         "number": "AF 1235",
         "status": "Departed"
        },
        {
         "aircraft": {
          "modeS": "394C14",
          "model": "Airbus A321",
          "reg": "F-GTAU"
         },
         "airline": {
          "iata": "AF",
          "icao": "AFR",
          "name": "Air France"
         },
         "arrival": {
          "airport": {
           "iata": "CDG",
           "icao": "LFPG",
           "name": "Paris"
          },
          "quality": [
           "Basic",
           "Live"
          ],
          "revisedTime": {
           "local": "2024-05-08 19:38+02:00",
           "utc": "2024-05-08 17:38Z"
          },
          "scheduledTime": {
           "local": "2024-05-08 19:55+02:00",
           "utc": "2024-05-08 17:55Z"
          },
          "terminal": "2F"
         },
         "callSign": "AFR55UD",
         "codeshareStatus": "IsOperator",
         "departure": {
          "checkInDesk": "811-816",
          "gate": "A07",
          "quality": [
           "Basic",
           "Live"
          ],
          "revisedTime": {
           "local": "2024-05-08 18:15+02:00",
           "utc": "2024-05-08 16:15Z"
          },
          "runwayTime": {
           "local": "2024-05-08 18:31+02:00",
           "utc": "2024-05-08 16:31Z"
          },
          "scheduledTime": {
           "local": "2024-05-08 18:05+02:00",
           "utc": "2024-05-08 16:05Z"
          },
          "terminal": "1"
         },
         "isCargo": false,
         "number": "AF 1835",
         "status": "Departed"
        },
        {
         "aircraft": {
          "modeS": "39BDA3",
          "model": "Airbus A220-300",
          "reg": "F-HPND"
         },
         "airline": {
          "iata": "AF",
          "icao": "AFR",
          "name": "Air France"
         },
         "arrival": {
          "airport": {
           "iata": "CDG",
           "icao": "LFPG",
           "name": "Paris"
          },
          "quality": [
           "Basic",
           "Live"
          ],
          "revisedTime": {
           "local": "2024-05-08 20:42+02:00",
           "utc": "2024-05-08 18:42Z"
          },
          "runwayTime": {
           "local": "2024-05-08 20:42+02:00",
           "utc": "2024-05-08 18:42Z"
          },
          "scheduledTime": {
           "local": "2024-05-08 20:55+02:00",
           "utc": "2024-05-08 18:55Z"
          },
          "terminal": "2F"
         },
         "callSign": "AFR34KK",
         "codeshareStatus": "IsOperator",
         "departure": {
          "checkInDesk": "811-816",
          "gate": "A17",
          "quality": [
           "Basic",
           "Live"
          ],
          "revisedTime": {
           "local": "2024-05-08 19:05+02:00",
           "utc": "2024-05-08 17:05Z"
          },
          "scheduledTime": {
           "local": "2024-05-08 19:05+02:00",
           "utc": "2024-05-08 17:05Z"
          },
          "terminal": "1"
         },
         "isCargo": false,
         "number": "AF 1535",
         "status": "Departed"
        },
        {
         "aircraft": {
          "modeS": "44001F",
          "model": "Airbus A320",
          "reg": "OE-ICN"
         },
         "airline": {
          "iata": "U2",
          "icao": "EZY",
          "name": "easyJet"
         },
         "arrival": {
          "airport": {
           "iata": "CDG",
           "icao": "LFPG",
           "name": "Paris"
          },
          "quality": [
           "Basic",
           "Live"
          ],
          "revisedTime": {
           "local": "2024-05-08 22:33+02:00",
           "utc": "2024-05-08 20:33Z"
          },
          "scheduledTime": {
           "local": "2024-05-08 22:35+02:00",
           "utc": "2024-05-08 20:35Z"
          },
          "terminal": "2B"
         },
         "callSign": "EJU34AQ",
         "codeshareStatus": "IsOperator",
         "departure": {
          "checkInDesk": "514-616",
          "gate": "A32",
          "quality": [
           "Basic",
           "Live"
          ],
          "revisedTime": {
           "local": "2024-05-08 21:10+02:00",
           "utc": "2024-05-08 19:10Z"
          },
          "runwayTime": {
           "local": "2024-05-08 21:25+02:00",
           "utc": "2024-05-08 19:25Z"
          },
          "scheduledTime": {
           "local": "2024-05-08 20:40+02:00",
           "utc": "2024-05-08 18:40Z"
          },
          "terminal": "1"
         },
         "isCargo": false,
         "number": "U2 4634",
         "status": "Departed"
        },
        {
         "aircraft": {
          "modeS": "440062",
          "model": "Airbus A320",
          "reg": "OE-IVF"
         },
         "airline": {
          "iata": "U2",
          "icao": "EZY",
          "name": "easyJet"
         },
         "arrival": {
          "airport": {
           "iata": "ORY",
           "icao": "LFPO",
           "name": "Paris"
          },
          "quality": [
           "Basic",
           "Live"
          ],
          "revisedTime": {
           "local": "2024-05-08 14:55+02:00",
           "utc": "2024-05-08 12:55Z"
          },
          "scheduledTime": {
           "local": "2024-05-08 15:00+02:00",
           "utc": "2024-05-08 13:00Z"
          },
          "terminal": "1"
         },
         "callSign": "EJU93MR",
         "codeshareStatus": "IsOperator",
         "departure": {
          "checkInDesk": "514-616",
          "gate": "A32",
          "quality": [
           "Basic",
           "Live"
          ],
          "revisedTime": {
           "local": "2024-05-08 13:15+02:00",
           "utc": "2024-05-08 11:15Z"
          },
          "runwayTime": {
           "local": "2024-05-08 13:32+02:00",
           "utc": "2024-05-08 11:32Z"
          },
          "scheduledTime": {
           "local": "2024-05-08 13:15+02:00",
           "utc": "2024-05-08 11:15Z"
          },
          "terminal": "1"
         },
         "isCargo": false,
         "number": "U2 5157",
         "status": "Departed"
        },
        {
         "aircraft": {
          "modeS": "440179",
          "model": "Airbus A319",
          "reg": "OE-LQJ"
         },
         "airline": {
          "iata": "U2",
          "icao": "EZY",
          "name": "easyJet"
         },
         "arrival": {
          "airport": {
           "iata": "ORY",
           "icao": "LFPO",
           "name": "Paris"
          },
          "quality": [
           "Basic",
           "Live"
          ],
          "revisedTime": {
           "local": "2024-05-08 19:56+02:00",
           "utc": "2024-05-08 17:56Z"
          },
          "scheduledTime": {
           "local": "2024-05-08 19:55+02:00",
           "utc": "2024-05-08 17:55Z"
          },
          "terminal": "1"
         },
         "callSign": "EJU81KC",
         "codeshareStatus": "IsOperator",
         "departure": {
          "checkInDesk": "514-616",
          "gate": "A33",
          "quality": [
           "Basic",
           "Live"
          ],
          "revisedTime": {
           "local": "2024-05-08 18:06+02:00",
           "utc": "2024-05-08 16:06Z"
          },
          "runwayTime": {
           "local": "2024-05-08 18:24+02:00",
           "utc": "2024-05-08 16:24Z"
          },
          "scheduledTime": {
           "local": "2024-05-08 18:05+02:00",
           "utc": "2024-05-08 16:05Z"
          },
          "terminal": "1"
         },
         "isCargo": false,
         "number": "U2 5153",
         "status": "Departed"
        },
        {
         "aircraft": {
          "modeS": "39CEB3",
          "model": "Boeing 737-800",
          "reg": "F-HTVT"
         },
         "airline": {
          "iata": "TO",
          "icao": "TVF",
          "name": "Transavia France"
         },
         "arrival": {
          "airport": {
           "iata": "ORY",
           "icao": "LFPO",
           "name": "Paris"
          },
          "quality": [
           "Basic",
           "Live"
          ],
          "revisedTime": {
           "local": "2024-05-08 20:41+02:00",
           "utc": "2024-05-08 18:41Z"
          },
          "scheduledTime": {
           "local": "2024-05-08 20:40+02:00",
           "utc": "2024-05-08 18:40Z"
          },
          "terminal": "3"
         },
         "callSign": "TVF804D",
         "codeshareStatus": "IsOperator",
         "departure": {
          "checkInDesk": "111-113",
          "gate": "B34",
          "quality": [
           "Basic",
           "Live"
          ],
          "revisedTime": {
           "local": "2024-05-08 19:00+02:00",
           "utc": "2024-05-08 17:00Z"
          },
          "scheduledTime": {
           "local": "2024-05-08 18:45+02:00",
           "utc": "2024-05-08 16:45Z"
          },
          "terminal": "1"
         },
         "isCargo": false,
         "number": "TO 3407",
         "status": "Departed"
        },
        {
         "aircraft": {
          "modeS": "4401E4",
          "model": "Airbus A319",
          "reg": "OE-LQD"
         },
         "airline": {
          "iata": "EC",
          "icao": "EJU",
          "name": "EasyJet Europe"
         },
         "arrival": {
          "airport": {
           "iata": "BSL",
           "icao": "LFSB",
           "name": "Bâle/Mulhouse"
          },
          "baggageBelt": "7",
          "quality": [
           "Basic",
           "Live"
          ],
          "revisedTime": {
           "local": "2024-05-08 14:22+02:00",
           "utc": "2024-05-08 12:22Z"
          },
          "scheduledTime": {
           "local": "2024-05-08 13:35+02:00",
           "utc": "2024-05-08 11:35Z"
          }
         },
         "callSign": "EJU12UZ",
         "codeshareStatus": "IsCodeshared",
         "departure": {
          "checkInDesk": "514-616",
          "gate": "A34",
          "quality": [
           "Basic",
           "Live"
          ],
          "revisedTime": {
           "local": "2024-05-08 12:22+02:00",
           "utc": "2024-05-08 10:22Z"
          },
          "runwayTime": {
           "local": "2024-05-08 13:08+02:00",
           "utc": "2024-05-08 11:08Z"
          },
          "scheduledTime": {
           "local": "2024-05-08 12:05+02:00",
           "utc": "2024-05-08 10:05Z"
          },
          "terminal": "1"
         },
         "isCargo": false,
         "number": "EC 5536",
         "status": "Departed"
        },
        {
         "aircraft": {
          "modeS": "4401E4",
          "model": "Airbus A319",
          "reg": "OE-LQD"
         },
         "airline": {
          "iata": "U2",
          "icao": "EZY",
          "name": "easyJet"
         },
         "arrival": {
          "airport": {
           "iata": "BSL",
           "icao": "LFSB",
           "name": "Bâle/Mulhouse"
          },
          "baggageBelt": "7",
          "quality": [
           "Basic",
           "Live"
          ],
          "revisedTime": {
           "local": "2024-05-08 14:22+02:00",
           "utc": "2024-05-08 12:22Z"
          },
          "scheduledTime": {
           "local": "2024-05-08 13:35+02:00",
           "utc": "2024-05-08 11:35Z"
          }
         },
         "callSign": "EJU12UZ",
         "codeshareStatus": "IsOperator",
         "departure": {
          "checkInDesk": "514-616",
          "gate": "A34",
          "quality": [
           "Basic",
           "Live"
          ],
          "revisedTime": {
           "local": "2024-05-08 12:22+02:00",
           "utc": "2024-05-08 10:22Z"
          },
          "runwayTime": {
           "local": "2024-05-08 13:08+02:00",
           "utc": "2024-05-08 11:08Z"
          },
          "scheduledTime": {
           "local": "2024-05-08 12:05+02:00",
           "utc": "2024-05-08 10:05Z"
          },
          "terminal": "1"
         },
         "isCargo": false,
         "number": "U2 5536",
         "status": "Departed"
        },
        {
         "aircraft": {
          "modeS": "4B1A37",
          "model": "Airbus A320",
          "reg": "HB-JYD"
         },
         "airline": {
          "iata": "DS",
          "icao": "EZS",
          "name": "Easyjet Switzerland"
         },
         "arrival": {
          "airport": {
           "iata": "BSL",
           "icao": "LFSB",
           "name": "Bâle/Mulhouse"
          },
          "baggageBelt": "7",
          "quality": [
           "Basic",
           "Live"
          ],
          "revisedTime": {
           "local": "2024-05-08 23:26+02:00",
           "utc": "2024-05-08 21:26Z"
          },
          "scheduledTime": {
           "local": "2024-05-08 23:15+02:00",
           "utc": "2024-05-08 21:15Z"
          }
         },
         "callSign": "EZS47CH",
         "codeshareStatus": "IsCodeshared",
         "departure": {
          "checkInDesk": "514-616",
          "gate": "A33",
          "quality": [
           "Basic",
           "Live"
          ],
          "revisedTime": {
           "local": "2024-05-08 22:00+02:00",
           "utc": "2024-05-08 20:00Z"
          },
          "runwayTime": {
           "local": "2024-05-08 22:30+02:00",
           "utc": "2024-05-08 20:30Z"
          },
          "scheduledTime": {
           "local": "2024-05-08 21:45+02:00",
           "utc": "2024-05-08 19:45Z"
          },
          "terminal": "1"
         },
         "isCargo": false,
         "number": "DS 1190",
         "status": "Departed"
        },
        {
         "aircraft": {
          "modeS": "4B1A37",
          "model": "Airbus A320",
          "reg": "HB-JYD"
         },
         "airline": {
          "iata": "U2",
          "icao": "EZY",
          "name": "easyJet"
         },
         "arrival": {
          "airport": {
           "iata": "BSL",
           "icao": "LFSB",
           "name": "Bâle/Mulhouse"
          },
          "baggageBelt": "7",
          "quality": [
           "Basic",
           "Live"
          ],
          "revisedTime": {
           "local": "2024-05-08 23:26+02:00",
           "utc": "2024-05-08 21:26Z"
          },
          "scheduledTime": {
           "local": "2024-05-08 23:15+02:00",
           "utc": "2024-05-08 21:15Z"
          }
         },
         "callSign": "EZS47CH",
         "codeshareStatus": "IsOperator",
         "departure": {
          "checkInDesk": "514-616",
          "gate": "A33",
          "quality": [
           "Basic",
           "Live"
          ],
          "revisedTime": {
           "local": "2024-05-08 22:00+02:00",
           "utc": "2024-05-08 20:00Z"
          },
          "runwayTime": {
           "local": "2024-05-08 22:30+02:00",
           "utc": "2024-05-08 20:30Z"
          },
          "scheduledTime": {
           "local": "2024-05-08 21:45+02:00",
           "utc": "2024-05-08 19:45Z"
          },
          "terminal": "1"
         },
         "isCargo": false,
         "number": "U2 1190",
         "status": "Departed"
        },
        {
         "aircraft": {
          "modeS": "4402AE",
          "model": "Airbus A320",
          "reg": "OE-IVZ"
         },
         "airline": {
          "iata": "U2",
          "icao": "EZY",
          "name": "easyJet"
         },
         "arrival": {
          "airport": {
           "iata": "HER",
           "icao": "LGIR",
           "name": "Heraklion"
          },
          "quality": [
           "Basic"
          ],
          "scheduledTime": {
           "local": "2024-05-08 19:30+03:00",
           "utc": "2024-05-08 16:30Z"
          }
         },
         "callSign": "EJU63BQ",
         "codeshareStatus": "IsOperator",
         "departure": {
          "checkInDesk": "514-616",
          "gate": "A31",
          "quality": [
           "Basic",
           "Live"
          ],
          "revisedTime": {
           "local": "2024-05-08 15:26+02:00",
           "utc": "2024-05-08 13:26Z"
          },
          "runwayTime": {
           "local": "2024-05-08 16:05+02:00",
           "utc": "2024-05-08 14:05Z"
          },
          "scheduledTime": {
           "local": "2024-05-08 15:25+02:00",
           "utc": "2024-05-08 13:25Z"
          },
          "terminal": "1"
         },
         "isCargo": false,
         "number": "U2 5007",
         "status": "Departed"
        },
        {
         "aircraft": {
          "modeS": "48C132",
          "model": "Boeing 737-800",
          "reg": "SP-RKT"
         },
         "airline": {
          "iata": "FR",
          "icao": "RYR",
          "name": "Ryanair"
         },
         "arrival": {
          "airport": {
           "iata": "BUD",
           "icao": "LHBP",
           "name": "Budapest"
          },
          "quality": [
           "Basic",
           "Live"
          ],
          "revisedTime": {
           "local": "2024-05-08 15:40+02:00",
           "utc": "2024-05-08 13:40Z"
          },
          "scheduledTime": {
           "local": "2024-05-08 15:50+02:00",
           "utc": "2024-05-08 13:50Z"
          },
          "terminal": "2A"
         },
         "callSign": "RYR23FM",
         "codeshareStatus": "IsOperator",
         "departure": {
          "checkInDesk": "158-165",
          "gate": "B36",
          "quality": [
           "Basic",
           "Live"
          ],
          "revisedTime": {
           "local": "2024-05-08 14:20+02:00",
           "utc": "2024-05-08 12:20Z"
          },
          "runwayTime": {
           "local": "2024-05-08 14:27+02:00",
           "utc": "2024-05-08 12:27Z"
          },
          "scheduledTime": {
           "local": "2024-05-08 14:20+02:00",
           "utc": "2024-05-08 12:20Z"
          },
          "terminal": "2"
         },
         "isCargo": false,
         "number": "FR 3305",
         "status": "Departed"
        },
        {
         "aircraft": {
          "modeS": "48C1A4",
          "model": "Boeing 737-800",
          "reg": "SP-RNE"
         },
         "airline": {
          "iata": "FR",
          "icao": "RYR",
          "name": "Ryanair"
         },
         "arrival": {
          "airport": {
           "iata": "BUD",
           "icao": "LHBP",
           "name": "Budapest"
          },
          "quality": [
           "Basic",
           "Live"
          ],
          "revisedTime": {
           "local": "2024-05-08 23:28+02:00",
           "utc": "2024-05-08 21:28Z"
          },
          "scheduledTime": {
           "local": "2024-05-08 23:30+02:00",
           "utc": "2024-05-08 21:30Z"
          },
          "terminal": "2A"
         },
         "callSign": "RYR2KM",
         "codeshareStatus": "IsOperator",
         "departure": {
          "checkInDesk": "158-165",
          "gate": "B34",
          "quality": [
           "Basic",
           "Live"
          ],
          "revisedTime": {
           "local": "2024-05-08 22:05+02:00",
           "utc": "2024-05-08 20:05Z"
          },
          "runwayTime": {
           "local": "2024-05-08 22:18+02:00",
           "utc": "2024-05-08 20:18Z"
          },
          "scheduledTime": {
           "local": "2024-05-08 22:05+02:00",
           "utc": "2024-05-08 20:05Z"
          },
          "terminal": "2"
         },
         "isCargo": false,
         "number": "FR 196",
         "status": "Departed"
        },
        {
         "aircraft": {
          "modeS": "4D2304",
          "model": "Boeing 737-800",
          "reg": "9H-VUF"
         },
         "airline": {
          "iata": "FR",
          "icao": "RYR",
          "name": "Ryanair"
         },
         "arrival": {
          "airport": {
           "iata": "BRI",
           "icao": "LIBD",
           "name": "Bari"
          },
          "quality": [
           "Basic"
          ],
          "scheduledTime": {
           "local": "2024-05-08 16:35+02:00",
           "utc": "2024-05-08 14:35Z"
          }
         },
         "callSign": "RYR3309",
         "codeshareStatus": "IsOperator",
         "departure": {
          "checkInDesk": "158-165",
          "gate": "B34",
          "quality": [
           "Basic",
           "Live"
          ],
          "revisedTime": {
           "local": "2024-05-08 14:35+02:00",
           "utc": "2024-05-08 12:35Z"
          },
          "runwayTime": {
           "local": "2024-05-08 14:48+02:00",
           "utc": "2024-05-08 12:48Z"
          },
          "scheduledTime": {
           "local": "2024-05-08 14:25+02:00",
           "utc": "2024-05-08 12:25Z"
          },
          "terminal": "2"
         },
         "isCargo": false,
         "number": "FR 3309",
         "status": "Departed"
        },
        {
         "aircraft": {
          "modeS": "440DA5",
          "model": "Airbus A320",
          "reg": "OE-IDS"
         },
         "airline": {
          "iata": "U2",
          "icao": "EZY",
          "name": "easyJet"
         },
         "arrival": {
          "airport": {
           "iata": "OLB",
           "icao": "LIEO",
           "name": "Olbia"
          },
          "quality": [
           "Basic"
          ],
          "scheduledTime": {
           "local": "2024-05-08 14:30+02:00",
           "utc": "2024-05-08 12:30Z"
          }
         },
         "callSign": "EJU75LU",
         "codeshareStatus": "IsOperator",
         "departure": {
          "checkInDesk": "514-616",
          "gate": "A38",
          "quality": [
           "Basic",
           "Live"
          ],
          "revisedTime": {
           "local": "2024-05-08 12:17+02:00",
           "utc": "2024-05-08 10:17Z"
          },
          "runwayTime": {
           "local": "2024-05-08 12:47+02:00",
           "utc": "2024-05-08 10:47Z"
          },
          "scheduledTime": {
           "local": "2024-05-08 12:10+02:00",
           "utc": "2024-05-08 10:10Z"
          },
          "terminal": "1"
         },
         "isCargo": false,
         "number": "U2 5055",
         "status": "Departed"
        },
        {
         "aircraft": {
          "modeS": "4D21ED",
          "model": "Boeing 737-800",
          "reg": "9H-QAE"
         },
         "airline": {
          "iata": "FR",
          "icao": "RYR",
          "name": "Ryanair"
         },
         "arrival": {
          "airport": {
           "iata": "BGY",
           "icao": "LIME",
           "name": "Bergamo"
          },
          "quality": [
           "Basic",
           "Live"
          ],
          "revisedTime": {
           "local": "2024-05-08 22:34+02:00",
           "utc": "2024-05-08 20:34Z"
          },
          "scheduledTime": {
           "local": "2024-05-08 22:10+02:00",
           "utc": "2024-05-08 20:10Z"
          }
         },
         "callSign": "RYR4734",
         "codeshareStatus": "IsOperator",
         "departure": {
          "checkInDesk": "158-165",
          "gate": "B38",
          "quality": [
           "Basic",
           "Live"
          ],
          "revisedTime": {
           "local": "2024-05-08 21:10+02:00",
           "utc": "2024-05-08 19:10Z"
          },
          "runwayTime": {
           "local": "2024-05-08 21:19+02:00",
           "utc": "2024-05-08 19:19Z"
          },
          "scheduledTime": {
           "local": "2024-05-08 20:30+02:00",
           "utc": "2024-05-08 18:30Z"
          },
          "terminal": "2"
         },
         "isCargo": false,
         "number": "FR 4734",
         "status": "Departed"
        },
        {
         "aircraft": {
          "modeS": "440209",
          "model": "Airbus A320",
          "reg": "OE-IZH"
         },
         "airline": {
          "iata": "U2",
          "icao": "EZY",
          "name": "easyJet"
         },
         "arrival": {
          "airport": {
           "iata": "LIN",
           "icao": "LIML",
           "name": "Milan"
          },
          "quality": [
           "Basic",
           "Live"
          ],
          "revisedTime": {
           "local": "2024-05-08 16:26+02:00",
           "utc": "2024-05-08 14:26Z"
          },
          "scheduledTime": {
           "local": "2024-05-08 16:10+02:00",
           "utc": "2024-05-08 14:10Z"
          }
         },
         "callSign": "EZY5071",
         "codeshareStatus": "IsOperator",
         "departure": {
          "checkInDesk": "514-616",
          "gate": "A30",
          "quality": [
           "Basic",
           "Live"
          ],
          "revisedTime": {
           "local": "2024-05-08 14:36+02:00",
           "utc": "2024-05-08 12:36Z"
          },
          "runwayTime": {
           "local": "2024-05-08 15:07+02:00",
           "utc": "2024-05-08 13:07Z"
          },
          "scheduledTime": {
           "local": "2024-05-08 14:25+02:00",
           "utc": "2024-05-08 12:25Z"
          },
          "terminal": "1"
         },
         "isCargo": false,
         "number": "U2 5071",
         "status": "Departed"
        },
        {
         "aircraft": {
          "modeS": "440CF8",
          "model": "Airbus A320",
          "reg": "OE-IBF"
         },
         "airline": {
          "iata": "U2",
          "icao": "EZY",
          "name": "easyJet"
         },
         "arrival": {
          "airport": {
           "iata": "LIN",
           "icao": "LIML",
           "name": "Milan"
          },
          "quality": [
           "Basic",
           "Live"
          ],
          "revisedTime": {
           "local": "2024-05-08 22:36+02:00",
           "utc": "2024-05-08 20:36Z"
          },
          "scheduledTime": {
           "local": "2024-05-08 22:50+02:00",
           "utc": "2024-05-08 20:50Z"
          }
         },
         "callSign": "EZY5073",
         "codeshareStatus": "IsOperator",
         "departure": {
          "checkInDesk": "514-616",
          "gate": "A20",
          "quality": [
           "Basic",
           "Live"
          ],
          "revisedTime": {
           "local": "2024-05-08 21:10+02:00",
           "utc": "2024-05-08 19:10Z"
          },
          "runwayTime": {
           "local": "2024-05-08 21:22+02:00",
           "utc": "2024-05-08 19:22Z"
          },
          "scheduledTime": {
           "local": "2024-05-08 21:10+02:00",
           "utc": "2024-05-08 19:10Z"
          },
          "terminal": "1"
         },
         "isCargo": false,
         "number": "U2 5073",
         "status": "Departed"
        },
        {
         "aircraft": {
          "modeS": "440484",
          "model": "Airbus A319",
          "reg": "OE-LKC"
         },
         "airline": {
          "iata": "U2",
          "icao": "EZY",
          "name": "easyJet"
         },
         "arrival": {
          "airport": {
           "iata": "VCE",
           "icao": "LIPZ",
           "name": "Venice"
          },
          "quality": [
           "Basic",
           "Live"
          ],
          "revisedTime": {
           "local": "2024-05-08 15:26+02:00",
           "utc": "2024-05-08 13:26Z"
          },
          "scheduledTime": {
           "local": "2024-05-08 15:20+02:00",
           "utc": "2024-05-08 13:20Z"
          }
         },
         "callSign": "EZY67PA",
         "codeshareStatus": "IsOperator",
         "departure": {
          "checkInDesk": "514-616",
          "gate": "A38",
          "quality": [
           "Basic",
           "Live"
          ],
          "revisedTime": {
           "local": "2024-05-08 13:35+02:00",
           "utc": "2024-05-08 11:35Z"
          },
          "runwayTime": {
           "local": "2024-05-08 14:11+02:00",
           "utc": "2024-05-08 12:11Z"
          },
          "scheduledTime": {
           "local": "2024-05-08 13:35+02:00",
           "utc": "2024-05-08 11:35Z"
          },
          "terminal": "1"
         },
         "isCargo": false,
         "number": "U2 4076",
         "status": "Departed"
        },
        {
         "aircraft": {
          "modeS": "440172",
          "model": "Airbus A319",
          "reg": "OE-LQX"
         },
         "airline": {
          "iata": "U2",
          "icao": "EZY",
          "name": "easyJet"
         },
         "arrival": {
          "airport": {
           "iata": "VCE",
           "icao": "LIPZ",
           "name": "Venice"
          },
          "quality": [
           "Basic",
           "Live"
          ],
          "revisedTime": {
           "local": "2024-05-08 23:20+02:00",
           "utc": "2024-05-08 21:20Z"
          },
          "scheduledTime": {
           "local": "2024-05-08 23:45+02:00",
           "utc": "2024-05-08 21:45Z"
          }
         },
         "callSign": "EJU48CX",
         "codeshareStatus": "IsOperator",
         "departure": {
          "checkInDesk": "514-616",
          "gate": "A36",
          "quality": [
           "Basic",
           "Live"
          ],
          "revisedTime": {
           "local": "2024-05-08 22:02+02:00",
           "utc": "2024-05-08 20:02Z"
          },
          "runwayTime": {
           "local": "2024-05-08 22:08+02:00",
           "utc": "2024-05-08 20:08Z"
          },
          "scheduledTime": {
           "local": "2024-05-08 22:00+02:00",
           "utc": "2024-05-08 20:00Z"
          },
          "terminal": "1"
         },
         "isCargo": false,
         "number": "U2 4078",
         "status": "Departed"
        },
        {
         "aircraft": {
          "modeS": "4D2229",
          "model": "Boeing 737-800",
          "reg": "9H-QCI"
         },
         "airline": {
          "iata": "FR",
          "icao": "RYR",
          "name": "Ryanair"
         },
         "arrival": {
          "airport": {
           "iata": "FCO",
           "icao": "LIRF",
           "name": "Rome"
          },
          "quality": [
           "Basic",
           "Live"
          ],
          "revisedTime": {
           "local": "2024-05-08 16:24+02:00",
           "utc": "2024-05-08 14:24Z"
          },
          "scheduledTime": {
           "local": "2024-05-08 16:15+02:00",
           "utc": "2024-05-08 14:15Z"
          },
          "terminal": "1"
         },
         "callSign": "RYR30AJ",
         "codeshareStatus": "IsOperator",
         "departure": {
          "checkInDesk": "158-165",
          "gate": "B38",
          "quality": [
           "Basic",
           "Live"
          ],
          "revisedTime": {
           "local": "2024-05-08 14:05+02:00",
           "utc": "2024-05-08 12:05Z"
          },
          "runwayTime": {
           "local": "2024-05-08 14:36+02:00",
           "utc": "2024-05-08 12:36Z"
          },
          "scheduledTime": {
           "local": "2024-05-08 14:05+02:00",
           "utc": "2024-05-08 12:05Z"
          },
          "terminal": "2"
         },
         "isCargo": false,
         "number": "FR 140",
         "status": "Departed"
        },
        {
         "aircraft": {
          "modeS": "4D2503",
          "model": "Boeing 737 MAX 8 ",
          "reg": "9H-VVR"
         },
         "airline": {
          "iata": "FR",
          "icao": "RYR",
          "name": "Ryanair"
         },
         "arrival": {
          "airport": {
           "iata": "FCO",
           "icao": "LIRF",
           "name": "Rome"
          },
          "quality": [
           "Basic",
           "Live"
          ],
          "revisedTime": {
           "local": "2024-05-08 20:26+02:00",
           "utc": "2024-05-08 18:26Z"
          },
          "runwayTime": {
           "local": "2024-05-08 20:26+02:00",
           "utc": "2024-05-08 18:26Z"
          },
          "scheduledTime": {
           "local": "2024-05-08 20:00+02:00",
           "utc": "2024-05-08 18:00Z"
          },
          "terminal": "1"
         },
         "callSign": "RYR4VR",
         "codeshareStatus": "IsOperator",
         "departure": {
          "checkInDesk": "158-165",
          "gate": "B36",
          "quality": [
           "Basic",
           "Live"
          ],
          "revisedTime": {
           "local": "2024-05-08 18:30+02:00",
           "utc": "2024-05-08 16:30Z"
          },
          "runwayTime": {
           "local": "2024-05-08 18:40+02:00",
           "utc": "2024-05-08 16:40Z"
          },
          "scheduledTime": {
           "local": "2024-05-08 17:50+02:00",
           "utc": "2024-05-08 15:50Z"
          },
          "terminal": "2"
         },
         "isCargo": false,
         "number": "FR 134",
         "status": "Departed"
        },
        {
         "aircraft": {
          "modeS": "4D2401",
          "model": "Airbus A321 NEO",
          "reg": "9H-WAC"
         },
         "airline": {
          "iata": "W4",
          "icao": "WMT",
          "name": "Aero Services Executive"
         },
         "arrival": {
          "airport": {
           "iata": "FCO",
           "icao": "LIRF",
           "name": "Rome"
          },
          "quality": [
           "Basic",
           "Live"
          ],
          "revisedTime": {
           "local": "2024-05-09 00:41+02:00",
           "utc": "2024-05-08 22:41Z"
          },
          "scheduledTime": {
           "local": "2024-05-09 00:15+02:00",
           "utc": "2024-05-08 22:15Z"
          }
         },
         "callSign": "WMT9UT",
         "codeshareStatus": "IsOperator",
         "departure": {
          "checkInDesk": "154-157",
          "gate": "B32",
          "quality": [
           "Basic",
           "Live"
          ],
          "revisedTime": {
           "local": "2024-05-08 22:00+02:00",
           "utc": "2024-05-08 20:00Z"
          },
          "runwayTime": {
           "local": "2024-05-08 22:58+02:00",
           "utc": "2024-05-08 20:58Z"
          },
          "scheduledTime": {
           "local": "2024-05-08 22:00+02:00",
           "utc": "2024-05-08 20:00Z"
          },
          "terminal": "2"
         },
         "isCargo": false,
         "number": "W4 6072",
         "status": "Departed"
        },
        {
         "aircraft": {
          "modeS": "4D2026",
          "model": "Airbus A320",
          "reg": "9H-AEP"
         },
         "airline": {
          "iata": "KM",
          "icao": "AMC",
          "name": "Air Malta"
         },
         "arrival": {
          "airport": {
           "iata": "MLA",
           "icao": "LMML",
           "name": "Luqa"
          },
          "quality": [
           "Basic"
          ],
          "scheduledTime": {
           "local": "2024-05-09 00:40+02:00",
           "utc": "2024-05-08 22:40Z"
          }
         },
         "codeshareStatus": "IsOperator",
         "departure": {
          "checkInDesk": "021-023",
          "gate": "A30",
          "quality": [
           "Basic",
           "Live"
          ],
          "revisedTime": {
           "local": "2024-05-08 21:55+02:00",
           "utc": "2024-05-08 19:55Z"
          },
          "scheduledTime": {
           "local": "2024-05-08 21:45+02:00",
           "utc": "2024-05-08 19:45Z"
          },
          "terminal": "1"
         },
         "isCargo": false,
         "number": "KM 377",
         "status": "Departed"
        },
        {
         "aircraft": {
          "modeS": "4D2417",
          "model": "Airbus A320",
          "reg": "9H-EWE"
         },
         "airline": {
          "iata": "EW",
          "icao": "EWG",
          "name": "Eurowings"
         },
         "arrival": {
          "airport": {
           "iata": "SZG",
           "icao": "LOWS",
           "name": "Salzburg"
          },
          "quality": [
           "Basic"
          ],
          "scheduledTime": {
           "local": "2024-05-08 20:30+02:00",
           "utc": "2024-05-08 18:30Z"
          }
         },
         "callSign": "EWG8UZ",
         "codeshareStatus": "IsOperator",
         "departure": {
          "checkInDesk": "323-326",
          "gate": "A36",
          "quality": [
           "Basic",
           "Live"
          ],
          "revisedTime": {
           "local": "2024-05-08 19:40+02:00",
           "utc": "2024-05-08 17:40Z"
          },
          "runwayTime": {
           "local": "2024-05-08 20:02+02:00",
           "utc": "2024-05-08 18:02Z"
          },
          "scheduledTime": {
           "local": "2024-05-08 19:25+02:00",
           "utc": "2024-05-08 17:25Z"
          },
          "terminal": "1"
         },
         "isCargo": false,
         "number": "EW 4343",
         "status": "Departed"
        },
        {
         "aircraft": {
          "modeS": "44022D",
          "model": "Airbus A320",
          "reg": "OE-LXC"
         },
         "airline": {
          "iata": "OS",
          "icao": "AUA",
          "name": "Austrian"
         },
         "arrival": {
          "airport": {
           "iata": "VIE",
           "icao": "LOWW",
           "name": "Vienna"
          },
          "baggageBelt": "05",
          "quality": [
           "Basic",
           "Live"
          ],
          "revisedTime": {
           "local": "2024-05-08 14:40+02:00",
           "utc": "2024-05-08 12:40Z"
          },
          "runwayTime": {
           "local": "2024-05-08 14:35+02:00",
           "utc": "2024-05-08 12:35Z"
          },
          "scheduledTime": {
           "local": "2024-05-08 14:45+02:00",
           "utc": "2024-05-08 12:45Z"
          },
          "terminal": "3"
         },
         "callSign": "AUA8BE",
         "codeshareStatus": "IsOperator",
         "departure": {
          "checkInDesk": "421-426",
          "gate": "B19",
          "quality": [
           "Basic",
           "Live"
          ],
          "revisedTime": {
           "local": "2024-05-08 13:30+02:00",
           "utc": "2024-05-08 11:30Z"
          },
          "runwayTime": {
           "local": "2024-05-08 13:41+02:00",
           "utc": "2024-05-08 11:41Z"
          },
          "scheduledTime": {
           "local": "2024-05-08 13:30+02:00",
           "utc": "2024-05-08 11:30Z"
          },
          "terminal": "1"
         },
         "isCargo": false,
         "number": "OS 228",
         "status": "Departed"
        },
        {
         "aircraft": {
          "modeS": "440CAC",
          "model": "Airbus A320 NEO",
          "reg": "OE-LZO"
         },
         "airline": {
          "iata": "OS",
          "icao": "AUA",
          "name": "Austrian"
         },
         "arrival": {
          "airport": {
           "iata": "VIE",
           "icao": "LOWW",
           "name": "Vienna"
          },
          "baggageBelt": "02",
          "quality": [
           "Basic",
           "Live"
          ],
          "revisedTime": {
           "local": "2024-05-08 16:15+02:00",
           "utc": "2024-05-08 14:15Z"
          },
          "scheduledTime": {
           "local": "2024-05-08 16:25+02:00",
           "utc": "2024-05-08 14:25Z"
          },
          "terminal": "3"
         },
         "callSign": "AUA230",
         "codeshareStatus": "IsOperator",
         "departure": {
          "checkInDesk": "421-426",
          "gate": "B06",
          "quality": [
           "Basic",
           "Live"
          ],
          "revisedTime": {
           "local": "2024-05-08 15:10+02:00",
           "utc": "2024-05-08 13:10Z"
          },
          "scheduledTime": {
           "local": "2024-05-08 15:10+02:00",
           "utc": "2024-05-08 13:10Z"
          },
          "terminal": "1"
         },
         "isCargo": false,
         "number": "OS 230",
         "status": "Departed"
        },
        {
         "aircraft": {
          "modeS": "440604",
          "model": "Airbus A320 (Sharklets)",
          "reg": "OE-LZE"
         },
         "airline": {
          "iata": "OS",
          "icao": "AUA",
          "name": "Austrian"
         },
         "arrival": {
          "airport": {
           "iata": "VIE",
           "icao": "LOWW",
           "name": "Vienna"
          },
          "baggageBelt": "03",
          "quality": [
           "Basic",
           "Live"
          ],
          "revisedTime": {
           "local": "2024-05-08 18:23+02:00",
           "utc": "2024-05-08 16:23Z"
          },
          "runwayTime": {
           "local": "2024-05-08 18:19+02:00",
           "utc": "2024-05-08 16:19Z"
          },
          "scheduledTime": {
           "local": "2024-05-08 18:15+02:00",
           "utc": "2024-05-08 16:15Z"
          },
          "terminal": "3"
         },
         "callSign": "AUA3TG",
         "codeshareStatus": "IsOperator",
         "departure": {
          "checkInDesk": "421-426",
          "gate": "B01",
          "quality": [
           "Basic",
           "Live"
          ],
          "revisedTime": {
           "local": "2024-05-08 17:10+02:00",
           "utc": "2024-05-08 15:10Z"
          },
          "runwayTime": {
           "local": "2024-05-08 17:30+02:00",
           "utc": "2024-05-08 15:30Z"
          },
          "scheduledTime": {
           "local": "2024-05-08 17:00+02:00",
           "utc": "2024-05-08 15:00Z"
          },
          "terminal": "1"
         },
         "isCargo": false,
         "number": "OS 232",
         "status": "Departed"
        },
        {
         "aircraft": {
          "modeS": "4D2494",
          "model": "Airbus A320",
          "reg": "9H-MLZ"
         },
         "airline": {
          "iata": "EW",
          "icao": "EWG",
          "name": "Eurowings"
         },
         "arrival": {
          "airport": {
           "iata": "VIE",
           "icao": "LOWW",
           "name": "Vienna"
          },
          "baggageBelt": "13",
          "quality": [
           "Basic",
           "Live"
          ],
          "revisedTime": {
           "local": "2024-05-08 19:50+02:00",
           "utc": "2024-05-08 17:50Z"
          },
          "scheduledTime": {
           "local": "2024-05-08 19:30+02:00",
           "utc": "2024-05-08 17:30Z"
          },
          "terminal": "3"
         },
         "callSign": "EWG3NB",
         "codeshareStatus": "IsOperator",
         "departure": {
          "checkInDesk": "323-326",
          "gate": "A36",
          "quality": [
           "Basic",
           "Live"
          ],
          "revisedTime": {
           "local": "2024-05-08 18:05+02:00",
           "utc": "2024-05-08 16:05Z"
          },
          "runwayTime": {
           "local": "2024-05-08 18:49+02:00",
           "utc": "2024-05-08 16:49Z"
          },
          "scheduledTime": {
           "local": "2024-05-08 18:05+02:00",
           "utc": "2024-05-08 16:05Z"
          },
          "terminal": "1"
         },
         "isCargo": false,
         "number": "EW 8752",
         "status": "Departed"
        },
        {
         "aircraft": {
          "modeS": "440821",
          "model": "Embraer 195",
          "reg": "OE-LWE"
         },
         "airline": {
          "iata": "OS",
          "icao": "AUA",
          "name": "Austrian"
         },
         "arrival": {
          "airport": {
           "iata": "VIE",
           "icao": "LOWW",
           "name": "Vienna"
          },
          "baggageBelt": "05",
          "quality": [
           "Basic",
           "Live"
          ],
          "revisedTime": {
           "local": "2024-05-08 20:03+02:00",
           "utc": "2024-05-08 18:03Z"
          },
          "scheduledTime": {
           "local": "2024-05-08 19:50+02:00",
           "utc": "2024-05-08 17:50Z"
          },
          "terminal": "3"
         },
         "callSign": "AUA234B",
         "codeshareStatus": "IsOperator",
         "departure": {
          "checkInDesk": "421-426",
          "gate": "B06",
          "quality": [
           "Basic",
           "Live"
          ],
          "revisedTime": {
           "local": "2024-05-08 18:50+02:00",
           "utc": "2024-05-08 16:50Z"
          },
          "scheduledTime": {
           "local": "2024-05-08 18:35+02:00",
           "utc": "2024-05-08 16:35Z"
          },
          "terminal": "1"
         },
         "isCargo": false,
         "number": "OS 234",
         "status": "Departed"
        },
        {
         "aircraft": {
          "modeS": "440C8D",
          "model": "Airbus A321",
          "reg": "OE-LBB"
         },
         "airline": {
          "iata": "OS",
          "icao": "AUA",
          "name": "Austrian"
         },
         "arrival": {
          "airport": {
           "iata": "VIE",
           "icao": "LOWW",
           "name": "Vienna"
          },
          "baggageBelt": "04",
          "quality": [
           "Basic",
           "Live"
          ],
          "revisedTime": {
           "local": "2024-05-08 21:09+02:00",
           "utc": "2024-05-08 19:09Z"
          },
          "scheduledTime": {
           "local": "2024-05-08 21:00+02:00",
           "utc": "2024-05-08 19:00Z"
          },
          "terminal": "3"
         },
         "callSign": "AUA2JA",
         "codeshareStatus": "IsOperator",
         "departure": {
          "checkInDesk": "421-426",
          "gate": "B01",
          "quality": [
           "Basic",
           "Live"
          ],
          "revisedTime": {
           "local": "2024-05-08 19:45+02:00",
           "utc": "2024-05-08 17:45Z"
          },
          "runwayTime": {
           "local": "2024-05-08 20:10+02:00",
           "utc": "2024-05-08 18:10Z"
          },
          "scheduledTime": {
           "local": "2024-05-08 19:45+02:00",
           "utc": "2024-05-08 17:45Z"
          },
          "terminal": "1"
         },
         "isCargo": false,
         "number": "OS 236",
         "status": "Departed"
        },
        {
         "aircraft": {
          "modeS": "44006D",
          "model": "Airbus A321",
          "reg": "OE-LBF"
         },
         "airline": {
          "iata": "OS",
          "icao": "AUA",
          "name": "Austrian"
         },
         "arrival": {
          "airport": {
           "iata": "VIE",
           "icao": "LOWW",
           "name": "Vienna"
          },
          "baggageBelt": "01",
          "quality": [
           "Basic",
           "Live"
          ],
          "revisedTime": {
           "local": "2024-05-08 22:38+02:00",
           "utc": "2024-05-08 20:38Z"
          },
          "runwayTime": {
           "local": "2024-05-08 22:31+02:00",
           "utc": "2024-05-08 20:31Z"
          },
          "scheduledTime": {
           "local": "2024-05-08 22:15+02:00",
           "utc": "2024-05-08 20:15Z"
          },
          "terminal": "3"
         },
         "callSign": "AUA238",
         "codeshareStatus": "IsOperator",
         "departure": {
          "checkInDesk": "421-426",
          "gate": "B10",
          "quality": [
           "Basic",
           "Live"
          ],
          "revisedTime": {
           "local": "2024-05-08 21:20+02:00",
           "utc": "2024-05-08 19:20Z"
          },
          "runwayTime": {
           "local": "2024-05-08 21:40+02:00",
           "utc": "2024-05-08 19:40Z"
          },
          "scheduledTime": {
           "local": "2024-05-08 21:00+02:00",
           "utc": "2024-05-08 19:00Z"
          },
          "terminal": "1"
         },
         "isCargo": false,
         "number": "OS 238",
         "status": "Departed"
        },
        {
         "aircraft": {
          "modeS": "4CAD2B",
          "model": "Boeing 737-800",
          "reg": "EI-HEW"
         },
         "airline": {
          "iata": "FR",
          "icao": "RYR",
          "name": "Ryanair"
         },
         "arrival": {
          "airport": {
           "iata": "FAO",
           "icao": "LPFR",
           "name": "Faro"
          },
          "quality": [
           "Basic",
           "Live"
          ],
          "revisedTime": {
           "local": "2024-05-08 23:21+01:00",
           "utc": "2024-05-08 22:21Z"
          },
          "scheduledTime": {
           "local": "2024-05-08 23:20+01:00",
           "utc": "2024-05-08 22:20Z"
          },
          "terminal": "1"
         },
         "callSign": "RYR16YK",
         "codeshareStatus": "IsOperator",
         "departure": {
          "checkInDesk": "158-165",
          "gate": "B32",
          "quality": [
           "Basic",
           "Live"
          ],
          "revisedTime": {
           "local": "2024-05-08 20:55+02:00",
           "utc": "2024-05-08 18:55Z"
          },
          "runwayTime": {
           "local": "2024-05-08 21:12+02:00",
           "utc": "2024-05-08 19:12Z"
          },
          "scheduledTime": {
           "local": "2024-05-08 20:40+02:00",
           "utc": "2024-05-08 18:40Z"
          },
          "terminal": "2"
         },
         "isCargo": false,
         "number": "FR 253",
         "status": "Departed"
        },
        {
         "aircraft": {
          "modeS": "3C56F1",
          "model": "Airbus A320",
          "reg": "D-AEWQ"
         },
         "airline": {
          "iata": "EW",
          "icao": "EWG",
          "name": "Eurowings"
         },
         "arrival": {
          "airport": {
           "iata": "OPO",
           "icao": "LPPR",
           "name": "Porto"
          },
          "quality": [
           "Basic",
           "Live"
          ],
          "revisedTime": {
           "local": "2024-05-08 17:17+01:00",
           "utc": "2024-05-08 16:17Z"
          },
          "scheduledTime": {
           "local": "2024-05-08 17:30+01:00",
           "utc": "2024-05-08 16:30Z"
          },
          "terminal": "1"
         },
         "callSign": "EWG3VL",
         "codeshareStatus": "IsOperator",
         "departure": {
          "checkInDesk": "323-326",
          "gate": "A36",
          "quality": [
           "Basic",
           "Live"
          ],
          "revisedTime": {
           "local": "2024-05-08 15:15+02:00",
           "utc": "2024-05-08 13:15Z"
          },
          "runwayTime": {
           "local": "2024-05-08 15:29+02:00",
           "utc": "2024-05-08 13:29Z"
          },
          "scheduledTime": {
           "local": "2024-05-08 15:15+02:00",
           "utc": "2024-05-08 13:15Z"
          },
          "terminal": "1"
         },
         "isCargo": false,
         "number": "EW 8600",
         "status": "Departed"
        },
        {
         "aircraft": {
          "modeS": "4CAD3A",
          "model": "Boeing 737 MAX 8",
          "reg": "EI-HGN"
         },
         "airline": {
          "iata": "FR",
          "icao": "RYR",
          "name": "Ryanair"
         },
         "arrival": {
          "airport": {
           "iata": "LIS",
           "icao": "LPPT",
           "name": "Lisbon"
          },
          "quality": [
           "Basic",
           "Live"
          ],
          "revisedTime": {
           "local": "2024-05-08 15:31+01:00",
           "utc": "2024-05-08 14:31Z"
          },
          "scheduledTime": {
           "local": "2024-05-08 14:25+01:00",
           "utc": "2024-05-08 13:25Z"
          },
          "terminal": "1"
         },
         "callSign": "RYR73KK",
         "codeshareStatus": "IsOperator",
         "departure": {
          "checkInDesk": "158-165",
          "gate": "B34",
          "quality": [
           "Basic",
           "Live"
          ],
          "revisedTime": {
           "local": "2024-05-08 12:50+02:00",
           "utc": "2024-05-08 10:50Z"
          },
          "runwayTime": {
           "local": "2024-05-08 13:29+02:00",
           "utc": "2024-05-08 11:29Z"
          },
          "scheduledTime": {
           "local": "2024-05-08 11:40+02:00",
           "utc": "2024-05-08 09:40Z"
          },
          "terminal": "2"
         },
         "isCargo": false,
         "number": "FR 1142",
         "status": "Departed"
        },
        {
         "aircraft": {
          "modeS": "4952CC",
          "model": "Airbus A320 NEO",
          "reg": "CS-TVL"
         },
         "airline": {
          "iata": "TP",
          "icao": "TAP",
          "name": "TAP Air Portugal"
         },
         "arrival": {
          "airport": {
           "iata": "LIS",
           "icao": "LPPT",
           "name": "Lisbon"
          },
          "quality": [
           "Basic",
           "Live"
          ],
          "revisedTime": {
           "local": "2024-05-08 15:36+01:00",
           "utc": "2024-05-08 14:36Z"
          },
          "scheduledTime": {
           "local": "2024-05-08 15:45+01:00",
           "utc": "2024-05-08 14:45Z"
          },
          "terminal": "1"
         },
         "callSign": "TAP53JV",
         "codeshareStatus": "IsOperator",
         "departure": {
          "checkInDesk": "821-824",
          "gate": "A35",
          "quality": [
           "Basic",
           "Live"
          ],
          "revisedTime": {
           "local": "2024-05-08 13:05+02:00",
           "utc": "2024-05-08 11:05Z"
          },
          "runwayTime": {
           "local": "2024-05-08 13:27+02:00",
           "utc": "2024-05-08 11:27Z"
          },
          "scheduledTime": {
           "local": "2024-05-08 13:05+02:00",
           "utc": "2024-05-08 11:05Z"
          },
          "terminal": "1"
         },
         "isCargo": false,
         "number": "TP 531",
         "status": "Departed"
        },
        {
         "aircraft": {
          "modeS": "4952CA",
          "model": "Airbus A320 NEO",
          "reg": "CS-TVJ"
         },
         "airline": {
          "iata": "TP",
          "icao": "TAP",
          "name": "TAP Air Portugal"
         },
         "arrival": {
          "airport": {
           "iata": "LIS",
           "icao": "LPPT",
           "name": "Lisbon"
          },
          "quality": [
           "Basic",
           "Live"
          ],
          "revisedTime": {
           "local": "2024-05-08 20:05+01:00",
           "utc": "2024-05-08 19:05Z"
          },
          "scheduledTime": {
           "local": "2024-05-08 20:15+01:00",
           "utc": "2024-05-08 19:15Z"
          },
          "terminal": "1"
         },
         "callSign": "TAP33LZ",
         "codeshareStatus": "IsOperator",
         "departure": {
          "checkInDesk": "821-824",
          "gate": "A37",
          "quality": [
           "Basic",
           "Live"
          ],
          "revisedTime": {
           "local": "2024-05-08 17:40+02:00",
           "utc": "2024-05-08 15:40Z"
          },
          "runwayTime": {
           "local": "2024-05-08 18:01+02:00",
           "utc": "2024-05-08 16:01Z"
          },
          "scheduledTime": {
           "local": "2024-05-08 17:35+02:00",
           "utc": "2024-05-08 15:35Z"
          },
          "terminal": "1"
         },
         "isCargo": false,
         "number": "TP 533",
         "status": "Departed"
        },
        {
         "aircraft": {
          "modeS": "4D224C",
          "model": "Boeing 737-800",
          "reg": "9H-QAT"
         },
         "airline": {
          "iata": "FR",
          "icao": "RYR",
          "name": "Ryanair"
         },
         "arrival": {
          "airport": {
           "iata": "OTP",
           "icao": "LROP",
           "name": "Bucharest"
          },
          "quality": [
           "Basic",
           "Live"
          ],
          "revisedTime": {
           "local": "2024-05-09 01:29+03:00",
           "utc": "2024-05-08 22:29Z"
          },
          "scheduledTime": {
           "local": "2024-05-09 01:15+03:00",
           "utc": "2024-05-08 22:15Z"
          }
         },
         "callSign": "RYR314",
         "codeshareStatus": "IsOperator",
         "departure": {
          "checkInDesk": "158-165",
          "gate": "B36",
          "quality": [
           "Basic",
           "Live"
          ],
          "revisedTime": {
           "local": "2024-05-08 22:05+02:00",
           "utc": "2024-05-08 20:05Z"
          },
          "runwayTime": {
           "local": "2024-05-08 22:48+02:00",
           "utc": "2024-05-08 20:48Z"
          },
          "scheduledTime": {
           "local": "2024-05-08 22:05+02:00",
           "utc": "2024-05-08 20:05Z"
          },
          "terminal": "2"
         },
         "isCargo": false,
         "number": "FR 314",
         "status": "Departed"
        },
        {
         "aircraft": {
          "modeS": "440DA5",
          "model": "Airbus A320",
          "reg": "OE-IDS"
         },
         "airline": {
          "iata": "EC",
          "icao": "EJU",
          "name": "EasyJet Europe"
         },
         "arrival": {
          "airport": {
           "iata": "GVA",
           "icao": "LSGG",
           "name": "Geneva"
          },
          "baggageBelt": "4",
          "quality": [
           "Basic",
           "Live"
          ],
          "revisedTime": {
           "local": "2024-05-08 20:17+02:00",
           "utc": "2024-05-08 18:17Z"
          },
          "scheduledTime": {
           "local": "2024-05-08 20:00+02:00",
           "utc": "2024-05-08 18:00Z"
          }
         },
         "callSign": "EJU68AK",
         "codeshareStatus": "IsCodeshared",
         "departure": {
          "checkInDesk": "514-616",
          "gate": "A22",
          "quality": [
           "Basic",
           "Live"
          ],
          "revisedTime": {
           "local": "2024-05-08 18:17+02:00",
           "utc": "2024-05-08 16:17Z"
          },
          "runwayTime": {
           "local": "2024-05-08 18:54+02:00",
           "utc": "2024-05-08 16:54Z"
          },
          "scheduledTime": {
           "local": "2024-05-08 18:15+02:00",
           "utc": "2024-05-08 16:15Z"
          },
          "terminal": "1"
         },
         "isCargo": false,
         "number": "EC 5181",
         "status": "Departed"
        },
        {
         "aircraft": {
          "modeS": "440DA5",
          "model": "Airbus A320",
          "reg": "OE-IDS"
         },
         "airline": {
          "iata": "U2",
          "icao": "EZY",
          "name": "easyJet"
         },
         "arrival": {
          "airport": {
           "iata": "GVA",
           "icao": "LSGG",
           "name": "Geneva"
          },
          "baggageBelt": "4",
          "quality": [
           "Basic",
           "Live"
          ],
          "revisedTime": {
           "local": "2024-05-08 20:17+02:00",
           "utc": "2024-05-08 18:17Z"
          },
          "scheduledTime": {
           "local": "2024-05-08 20:00+02:00",
           "utc": "2024-05-08 18:00Z"
          },
          "terminal": "1"
         },
         "callSign": "EJU68AK",
         "codeshareStatus": "IsOperator",
         "departure": {
          "checkInDesk": "514-616",
          "gate": "A22",
          "quality": [
           "Basic",
           "Live"
          ],
          "revisedTime": {
           "local": "2024-05-08 18:17+02:00",
           "utc": "2024-05-08 16:17Z"
          },
          "runwayTime": {
           "local": "2024-05-08 18:54+02:00",
           "utc": "2024-05-08 16:54Z"
          },
          "scheduledTime": {
           "local": "2024-05-08 18:15+02:00",
           "utc": "2024-05-08 16:15Z"
          },
          "terminal": "1"
         },
         "isCargo": false,
         "number": "U2 5181",
         "status": "Departed"
        },
        {
         "aircraft": {
          "modeS": "4B19FD",
          "model": "Embraer 190",
          "reg": "HB-JVX"
         },
         "airline": {
          "iata": "LX",
          "icao": "SWR",
          "name": "SWISS"
         },
         "arrival": {
          "airport": {
           "iata": "ZRH",
           "icao": "LSZH",
           "name": "Zurich"
          },
          "baggageBelt": "14",
          "quality": [
           "Basic",
           "Live"
          ],
          "revisedTime": {
           "local": "2024-05-08 16:26+02:00",
           "utc": "2024-05-08 14:26Z"
          },
          "scheduledTime": {
           "local": "2024-05-08 16:20+02:00",
           "utc": "2024-05-08 14:20Z"
          },
          "terminal": "1"
         },
         "callSign": "SWR6MW",
         "codeshareStatus": "IsOperator",
         "departure": {
          "checkInDesk": "421-426",
          "gate": "B07",
          "quality": [
           "Basic",
           "Live"
          ],
          "revisedTime": {
           "local": "2024-05-08 14:55+02:00",
           "utc": "2024-05-08 12:55Z"
          },
          "runwayTime": {
           "local": "2024-05-08 15:13+02:00",
           "utc": "2024-05-08 13:13Z"
          },
          "scheduledTime": {
           "local": "2024-05-08 14:55+02:00",
           "utc": "2024-05-08 12:55Z"
          },
          "terminal": "1"
         },
         "isCargo": false,
         "number": "LX 967",
         "status": "Departed"
        },
        {
         "aircraft": {
          "modeS": "502D0E",
          "model": "Airbus A220-300",
          "reg": "YL-AAR"
         },
         "airline": {
          "iata": "LX",
          "icao": "SWR",
          "name": "SWISS"
         },
         "arrival": {
          "airport": {
           "iata": "ZRH",
           "icao": "LSZH",
           "name": "Zurich"
          },
          "baggageBelt": "12",
          "quality": [
           "Basic",
           "Live"
          ],
          "revisedTime": {
           "local": "2024-05-08 17:30+02:00",
           "utc": "2024-05-08 15:30Z"
          },
          "scheduledTime": {
           "local": "2024-05-08 17:10+02:00",
           "utc": "2024-05-08 15:10Z"
          },
          "terminal": "1"
         },
         "callSign": "SWR969",
         "codeshareStatus": "IsOperator",
         "departure": {
          "checkInDesk": "421-426",
          "gate": "B01",
          "quality": [
           "Basic",
           "Live"
          ],
          "revisedTime": {
           "local": "2024-05-08 15:55+02:00",
           "utc": "2024-05-08 13:55Z"
          },
          "runwayTime": {
           "local": "2024-05-08 16:10+02:00",
           "utc": "2024-05-08 14:10Z"
          },
          "scheduledTime": {
           "local": "2024-05-08 15:45+02:00",
           "utc": "2024-05-08 13:45Z"
          },
          "terminal": "1"
         },
         "isCargo": false,
         "number": "LX 969",
         "status": "Departed"
        },
        {
         "aircraft": {
          "modeS": "3C5EF5",
          "model": "Airbus A319",
          "reg": "D-AGWU"
         },
         "airline": {
          "iata": "EW",
          "icao": "EWG",
          "name": "Eurowings"
         },
         "arrival": {
          "airport": {
           "iata": "ZRH",
           "icao": "LSZH",
           "name": "Zurich"
          },
          "baggageBelt": "12",
          "quality": [
           "Basic",
           "Live"
          ],
          "revisedTime": {
           "local": "2024-05-08 19:24+02:00",
           "utc": "2024-05-08 17:24Z"
          },
          "scheduledTime": {
           "local": "2024-05-08 19:30+02:00",
           "utc": "2024-05-08 17:30Z"
          },
          "terminal": "1"
         },
         "callSign": "EWG6MX",
         "codeshareStatus": "IsOperator",
         "departure": {
          "checkInDesk": "323-326",
          "gate": "A34",
          "quality": [
           "Basic",
           "Live"
          ],
          "revisedTime": {
           "local": "2024-05-08 18:00+02:00",
           "utc": "2024-05-08 16:00Z"
          },
          "runwayTime": {
           "local": "2024-05-08 18:20+02:00",
           "utc": "2024-05-08 16:20Z"
          },
          "scheduledTime": {
           "local": "2024-05-08 18:00+02:00",
           "utc": "2024-05-08 16:00Z"
          },
          "terminal": "1"
         },
         "isCargo": false,
         "number": "EW 8762",
         "status": "Departed"
        },
        {
         "aircraft": {
          "modeS": "4B1618",
          "model": "Airbus A320",
          "reg": "HB-IJO"
         },
         "airline": {
          "iata": "LX",
          "icao": "SWR",
          "name": "SWISS"
         },
         "arrival": {
          "airport": {
           "iata": "ZRH",
           "icao": "LSZH",
           "name": "Zurich"
          },
          "baggageBelt": "15",
          "quality": [
           "Basic",
           "Live"
          ],
          "revisedTime": {
           "local": "2024-05-08 20:20+02:00",
           "utc": "2024-05-08 18:20Z"
          },
          "runwayTime": {
           "local": "2024-05-08 20:12+02:00",
           "utc": "2024-05-08 18:12Z"
          },
          "scheduledTime": {
           "local": "2024-05-08 20:10+02:00",
           "utc": "2024-05-08 18:10Z"
          },
          "terminal": "1"
         },
         "callSign": "SWR3BY",
         "codeshareStatus": "IsOperator",
         "departure": {
          "checkInDesk": "421-426",
          "gate": "A03",
          "quality": [
           "Basic",
           "Live"
          ],
          "revisedTime": {
           "local": "2024-05-08 18:45+02:00",
           "utc": "2024-05-08 16:45Z"
          },
          "scheduledTime": {
           "local": "2024-05-08 18:45+02:00",
           "utc": "2024-05-08 16:45Z"
          },
          "terminal": "1"
         },
         "isCargo": false,
         "number": "LX 971",
         "status": "Departed"
        },
        {
         "aircraft": {
          "modeS": "4B1807",
          "model": "Airbus A220-300",
          "reg": "HB-JCP"
         },
         "airline": {
          "iata": "LX",
          "icao": "SWR",
          "name": "SWISS"
         },
         "arrival": {
          "airport": {
           "iata": "ZRH",
           "icao": "LSZH",
           "name": "Zurich"
          },
          "baggageBelt": "12",
          "quality": [
           "Basic",
           "Live"
          ],
          "revisedTime": {
           "local": "2024-05-08 21:55+02:00",
           "utc": "2024-05-08 19:55Z"
          },
          "scheduledTime": {
           "local": "2024-05-08 21:15+02:00",
           "utc": "2024-05-08 19:15Z"
          },
          "terminal": "1"
         },
         "callSign": "SWR6MZ",
         "codeshareStatus": "IsOperator",
         "departure": {
          "checkInDesk": "421-426",
          "gate": "A07",
          "quality": [
           "Basic",
           "Live"
          ],
          "revisedTime": {
           "local": "2024-05-08 20:30+02:00",
           "utc": "2024-05-08 18:30Z"
          },
          "runwayTime": {
           "local": "2024-05-08 20:43+02:00",
           "utc": "2024-05-08 18:43Z"
          },
          "scheduledTime": {
           "local": "2024-05-08 19:45+02:00",
           "utc": "2024-05-08 17:45Z"
          },
          "terminal": "1"
         },
         "isCargo": false,
         "number": "LX 983",
         "status": "Departed"
        },
        {
         "aircraft": {
          "modeS": "502D0B",
          "model": "Airbus A220-300",
          "reg": "YL-AAO"
         },
         "airline": {
          "iata": "LX",
          "icao": "SWR",
          "name": "SWISS"
         },
         "arrival": {
          "airport": {
           "iata": "ZRH",
           "icao": "LSZH",
           "name": "Zurich"
          },
          "baggageBelt": "13",
          "quality": [
           "Basic",
           "Live"
          ],
          "revisedTime": {
           "local": "2024-05-08 22:39+02:00",
           "utc": "2024-05-08 20:39Z"
          },
          "scheduledTime": {
           "local": "2024-05-08 22:00+02:00",
           "utc": "2024-05-08 20:00Z"
          },
          "terminal": "1"
         },
         "callSign": "SWR979E",
         "codeshareStatus": "IsOperator",
         "departure": {
          "checkInDesk": "421-426",
          "gate": "B03",
          "quality": [
           "Basic",
           "Live"
          ],
          "revisedTime": {
           "local": "2024-05-08 20:50+02:00",
           "utc": "2024-05-08 18:50Z"
          },
          "runwayTime": {
           "local": "2024-05-08 21:20+02:00",
           "utc": "2024-05-08 19:20Z"
          },
          "scheduledTime": {
           "local": "2024-05-08 20:30+02:00",
           "utc": "2024-05-08 18:30Z"
          },
          "terminal": "1"
         },
         "isCargo": false,
         "number": "LX 979",
         "status": "Departed"
        },
        {
         "aircraft": {
          "modeS": "4BCDE8",
          "model": "Boeing 737-800",
          "reg": "TC-SOH"
         },
         "airline": {
          "iata": "XQ",
          "icao": "SXS",
          "name": "Sun Express"
         },
         "arrival": {
          "airport": {
           "iata": "AYT",
           "icao": "LTAI",
           "name": "Antalya"
          },
          "baggageBelt": "101",
          "quality": [
           "Basic",
           "Live"
          ],
          "revisedTime": {
           "local": "2024-05-08 16:40+03:00",
           "utc": "2024-05-08 13:40Z"
          },
          "scheduledTime": {
           "local": "2024-05-08 16:45+03:00",
           "utc": "2024-05-08 13:45Z"
          },
          "terminal": "1"
         },
         "callSign": "SXS1CM",
         "codeshareStatus": "IsOperator",
         "departure": {
          "checkInDesk": "024-026",
          "gate": "D02",
          "quality": [
           "Basic",
           "Live"
          ],
          "revisedTime": {
           "local": "2024-05-08 12:25+02:00",
           "utc": "2024-05-08 10:25Z"
          },
          "runwayTime": {
           "local": "2024-05-08 12:46+02:00",
           "utc": "2024-05-08 10:46Z"
          },
          "scheduledTime": {
           "local": "2024-05-08 12:25+02:00",
           "utc": "2024-05-08 10:25Z"
          },
          "terminal": "1"
         },
         "isCargo": false,
         "number": "XQ 161",
         "status": "Departed"
        },
        {
         "aircraft": {
          "modeS": "4BCDF6",
          "model": "Boeing 737",
          "reg": "TC-SOV"
         },
         "airline": {
          "iata": "XQ",
          "icao": "SXS",
          "name": "Sun Express"
         },
         "arrival": {
          "airport": {
           "iata": "AYT",
           "icao": "LTAI",
           "name": "Antalya"
          },
          "baggageBelt": "104",
          "quality": [
           "Basic",
           "Live"
          ],
          "revisedTime": {
           "local": "2024-05-08 18:43+03:00",
           "utc": "2024-05-08 15:43Z"
          },
          "scheduledTime": {
           "local": "2024-05-08 18:50+03:00",
           "utc": "2024-05-08 15:50Z"
          },
          "terminal": "1"
         },
         "callSign": "SXS2QW",
         "codeshareStatus": "IsOperator",
         "departure": {
          "checkInDesk": "021-023",
          "gate": "C01",
          "quality": [
           "Basic",
           "Live"
          ],
          "revisedTime": {
           "local": "2024-05-08 14:30+02:00",
           "utc": "2024-05-08 12:30Z"
          },
          "runwayTime": {
           "local": "2024-05-08 14:47+02:00",
           "utc": "2024-05-08 12:47Z"
          },
          "scheduledTime": {
           "local": "2024-05-08 14:30+02:00",
           "utc": "2024-05-08 12:30Z"
          },
          "terminal": "1"
         },
         "isCargo": false,
         "number": "XQ 665",
         "status": "Departed"
        },
        {
         "aircraft": {
          "modeS": "4BCDAC",
          "model": "Boeing 737 MAX 8",
          "reg": "TC-SML"
         },
         "airline": {
          "iata": "XQ",
          "icao": "SXS",
          "name": "Sun Express"
         },
         "arrival": {
          "airport": {
           "iata": "AYT",
           "icao": "LTAI",
           "name": "Antalya"
          },
          "baggageBelt": "101",
          "quality": [
           "Basic",
           "Live"
          ],
          "revisedTime": {
           "local": "2024-05-08 21:50+03:00",
           "utc": "2024-05-08 18:50Z"
          },
          "scheduledTime": {
           "local": "2024-05-08 21:45+03:00",
           "utc": "2024-05-08 18:45Z"
          },
          "terminal": "1"
         },
         "callSign": "SXS2BH",
         "codeshareStatus": "IsOperator",
         "departure": {
          "checkInDesk": "021-023",
          "gate": "C19",
          "quality": [
           "Basic",
           "Live"
          ],
          "revisedTime": {
           "local": "2024-05-08 17:50+02:00",
           "utc": "2024-05-08 15:50Z"
          },
          "runwayTime": {
           "local": "2024-05-08 18:03+02:00",
           "utc": "2024-05-08 16:03Z"
          },
          "scheduledTime": {
           "local": "2024-05-08 17:25+02:00",
           "utc": "2024-05-08 15:25Z"
          },
          "terminal": "1"
         },
         "isCargo": false,
         "number": "XQ 661",
         "status": "Departed"
        },
        {
         "aircraft": {
          "modeS": "4BB86B",
          "model": "Airbus A320 NEO",
          "reg": "TC-NCK"
         },
         "airline": {
          "iata": "PC",
          "icao": "PGT",
          "name": "Pegasus"
         },
         "arrival": {
          "airport": {
           "iata": "AYT",
           "icao": "LTAI",
           "name": "Antalya"
          },
          "baggageBelt": "105",
          "quality": [
           "Basic",
           "Live"
          ],
          "revisedTime": {
           "local": "2024-05-08 23:54+03:00",
           "utc": "2024-05-08 20:54Z"
          },
          "scheduledTime": {
           "local": "2024-05-08 23:10+03:00",
           "utc": "2024-05-08 20:10Z"
          },
          "terminal": "1"
         },
         "callSign": "PGT5WG",
         "codeshareStatus": "IsOperator",
         "departure": {
          "checkInDesk": "521-524",
          "gate": "C10",
          "quality": [
           "Basic",
           "Live"
          ],
          "revisedTime": {
           "local": "2024-05-08 19:25+02:00",
           "utc": "2024-05-08 17:25Z"
          },
          "runwayTime": {
           "local": "2024-05-08 20:07+02:00",
           "utc": "2024-05-08 18:07Z"
          },
          "scheduledTime": {
           "local": "2024-05-08 18:50+02:00",
           "utc": "2024-05-08 16:50Z"
          },
          "terminal": "1"
         },
         "isCargo": false,
         "number": "PC 5008",
         "status": "Departed"
        },
        {
         "aircraft": {
          "modeS": "4BCDE8",
          "model": "Boeing 737-800",
          "reg": "TC-SOH"
         },
         "airline": {
          "iata": "XQ",
          "icao": "SXS",
          "name": "Sun Express"
         },
         "arrival": {
          "airport": {
           "iata": "AYT",
           "icao": "LTAI",
           "name": "Antalya"
          },
          "baggageBelt": "104",
          "quality": [
           "Basic",
           "Live"
          ],
          "revisedTime": {
           "local": "2024-05-09 01:51+03:00",
           "utc": "2024-05-08 22:51Z"
          },
          "scheduledTime": {
           "local": "2024-05-09 01:35+03:00",
           "utc": "2024-05-08 22:35Z"
          },
          "terminal": "1"
         },
         "callSign": "SXS8WT",
         "codeshareStatus": "IsOperator",
         "departure": {
          "checkInDesk": "714-716",
          "gate": "C02",
          "quality": [
           "Basic",
           "Live"
          ],
          "revisedTime": {
           "local": "2024-05-08 21:45+02:00",
           "utc": "2024-05-08 19:45Z"
          },
          "runwayTime": {
           "local": "2024-05-08 22:00+02:00",
           "utc": "2024-05-08 20:00Z"
          },
          "scheduledTime": {
           "local": "2024-05-08 21:15+02:00",
           "utc": "2024-05-08 19:15Z"
          },
          "terminal": "1"
         },
         "isCargo": false,
         "number": "XQ 663",
         "status": "Departed"
        },
        {
         "aircraft": {
          "modeS": "440B1E",
          "model": "Airbus A320",
          "reg": "OE-IWW"
         },
         "airline": {
          "iata": "EC",
          "icao": "EJU",
          "name": "EasyJet Europe"
         },
         "arrival": {
          "airport": {
           "iata": "ADB",
           "icao": "LTBJ",
           "name": "İzmir"
          },
          "baggageBelt": "06",
          "quality": [
           "Basic",
           "Live"
          ],
          "revisedTime": {
           "local": "2024-05-08 18:14+03:00",
           "utc": "2024-05-08 15:14Z"
          },
          "scheduledTime": {
           "local": "2024-05-08 18:05+03:00",
           "utc": "2024-05-08 15:05Z"
          }
         },
         "callSign": "EJU5315",
         "codeshareStatus": "IsCodeshared",
         "departure": {
          "checkInDesk": "514-616",
          "gate": "C09",
          "quality": [
           "Basic",
           "Live"
          ],
          "revisedTime": {
           "local": "2024-05-08 14:10+02:00",
           "utc": "2024-05-08 12:10Z"
          },
          "runwayTime": {
           "local": "2024-05-08 14:39+02:00",
           "utc": "2024-05-08 12:39Z"
          },
          "scheduledTime": {
           "local": "2024-05-08 14:10+02:00",
           "utc": "2024-05-08 12:10Z"
          },
          "terminal": "1"
         },
         "isCargo": false,
         "number": "EC 5315",
         "status": "Departed"
        },
        {
         "aircraft": {
          "modeS": "440B1E",
          "model": "Airbus A320",
          "reg": "OE-IWW"
         },
         "airline": {
          "iata": "U2",
          "icao": "EZY",
          "name": "easyJet"
         },
         "arrival": {
          "airport": {
           "iata": "ADB",
           "icao": "LTBJ",
           "name": "İzmir"
          },
          "baggageBelt": "06",
          "quality": [
           "Basic",
           "Live"
          ],
          "revisedTime": {
           "local": "2024-05-08 18:14+03:00",
           "utc": "2024-05-08 15:14Z"
          },
          "scheduledTime": {
           "local": "2024-05-08 18:05+03:00",
           "utc": "2024-05-08 15:05Z"
          }
         },
         "callSign": "EZY5315",
         "codeshareStatus": "IsOperator",
         "departure": {
          "checkInDesk": "514-616",
          "gate": "C09",
          "quality": [
           "Basic",
           "Live"
          ],
          "revisedTime": {
           "local": "2024-05-08 14:10+02:00",
           "utc": "2024-05-08 12:10Z"
          },
          "runwayTime": {
           "local": "2024-05-08 14:39+02:00",
           "utc": "2024-05-08 12:39Z"
          },
          "scheduledTime": {
           "local": "2024-05-08 14:10+02:00",
           "utc": "2024-05-08 12:10Z"
          },
          "terminal": "1"
         },
         "isCargo": false,
         "number": "U2 5315",
         "status": "Departed"
        },
        {
         "aircraft": {
          "modeS": "4BCDEE",
          "model": "Boeing 737-800",
          "reg": "TC-SON"
         },
         "airline": {
          "iata": "XQ",
          "icao": "SXS",
          "name": "Sun Express"
         },
         "arrival": {
          "airport": {
           "iata": "ADB",
           "icao": "LTBJ",
           "name": "İzmir"
          },
          "baggageBelt": "06",
          "quality": [
           "Basic",
           "Live"
          ],
          "revisedTime": {
           "local": "2024-05-08 18:31+03:00",
           "utc": "2024-05-08 15:31Z"
          },
          "scheduledTime": {
           "local": "2024-05-08 18:35+03:00",
           "utc": "2024-05-08 15:35Z"
          },
          "terminal": "I"
         },
         "callSign": "SXS1VR",
         "codeshareStatus": "IsOperator",
         "departure": {
          "checkInDesk": "024-026",
          "gate": "D02",
          "quality": [
           "Basic",
           "Live"
          ],
          "revisedTime": {
           "local": "2024-05-08 14:40+02:00",
           "utc": "2024-05-08 12:40Z"
          },
          "runwayTime": {
           "local": "2024-05-08 14:58+02:00",
           "utc": "2024-05-08 12:58Z"
          },
          "scheduledTime": {
           "local": "2024-05-08 14:40+02:00",
           "utc": "2024-05-08 12:40Z"
          },
          "terminal": "1"
         },
         "isCargo": false,
         "number": "XQ 947",
         "status": "Departed"
        },
        {
         "aircraft": {
          "modeS": "4BC88E",
          "model": "Airbus A321 NEO",
          "reg": "TC-RDN"
         },
         "airline": {
          "iata": "PC",
          "icao": "PGT",
          "name": "Pegasus"
         },
         "arrival": {
          "airport": {
           "iata": "SAW",
           "icao": "LTFJ",
           "name": "Istanbul"
          },
          "quality": [
           "Basic"
          ],
          "scheduledTime": {
           "local": "2024-05-08 17:05+03:00",
           "utc": "2024-05-08 14:05Z"
          }
         },
         "callSign": "PGT9VE",
         "codeshareStatus": "IsOperator",
         "departure": {
          "checkInDesk": "521-524",
          "gate": "C04",
          "quality": [
           "Basic",
           "Live"
          ],
          "revisedTime": {
           "local": "2024-05-08 13:15+02:00",
           "utc": "2024-05-08 11:15Z"
          },
          "runwayTime": {
           "local": "2024-05-08 13:46+02:00",
           "utc": "2024-05-08 11:46Z"
          },
          "scheduledTime": {
           "local": "2024-05-08 13:15+02:00",
           "utc": "2024-05-08 11:15Z"
          },
          "terminal": "1"
         },
         "isCargo": false,
         "number": "PC 980",
         "status": "Departed"
        },
        {
         "aircraft": {
          "modeS": "4BC882",
          "model": "Airbus A321 NEO",
          "reg": "TC-RDB"
         },
         "airline": {
          "iata": "PC",
          "icao": "PGT",
          "name": "Pegasus"
         },
         "arrival": {
          "airport": {
           "iata": "SAW",
           "icao": "LTFJ",
           "name": "Istanbul"
          },
          "quality": [
           "Basic"
          ],
          "scheduledTime": {
           "local": "2024-05-08 20:20+03:00",
           "utc": "2024-05-08 17:20Z"
          }
         },
         "callSign": "PGT978",
         "codeshareStatus": "IsOperator",
         "departure": {
          "checkInDesk": "521-524",
          "gate": "C01",
          "quality": [
           "Basic",
           "Live"
          ],
          "revisedTime": {
           "local": "2024-05-08 16:30+02:00",
           "utc": "2024-05-08 14:30Z"
          },
          "runwayTime": {
           "local": "2024-05-08 16:53+02:00",
           "utc": "2024-05-08 14:53Z"
          },
          "scheduledTime": {
           "local": "2024-05-08 16:30+02:00",
           "utc": "2024-05-08 14:30Z"
          },
          "terminal": "1"
         },
         "isCargo": false,
         "number": "PC 978",
         "status": "Departed"
        },
        {
         "aircraft": {
          "modeS": "4BB1E2",
          "model": "Airbus A330",
          "reg": "TC-LOB"
         },
         "airline": {
          "iata": "TK",
          "icao": "THY",
          "name": "Turkish"
         },
         "arrival": {
          "airport": {
           "iata": "IST",
           "icao": "LTFM",
           "name": "Istanbul"
          },
          "baggageBelt": "17",
          "quality": [
           "Basic",
           "Live"
          ],
          "revisedTime": {
           "local": "2024-05-08 17:30+03:00",
           "utc": "2024-05-08 14:30Z"
          },
          "scheduledTime": {
           "local": "2024-05-08 17:15+03:00",
           "utc": "2024-05-08 14:15Z"
          }
         },
         "callSign": "THY9AX",
         "codeshareStatus": "IsOperator",
         "departure": {
          "checkInDesk": "911-916",
          "gate": "D07",
          "quality": [
           "Basic",
           "Live"
          ],
          "revisedTime": {
           "local": "2024-05-08 13:15+02:00",
           "utc": "2024-05-08 11:15Z"
          },
          "runwayTime": {
           "local": "2024-05-08 14:01+02:00",
           "utc": "2024-05-08 12:01Z"
          },
          "scheduledTime": {
           "local": "2024-05-08 13:15+02:00",
           "utc": "2024-05-08 11:15Z"
          },
          "terminal": "1"
         },
         "isCargo": false,
         "number": "TK 1730",
         "status": "Departed"
        },
        {
         "aircraft": {
          "modeS": "4BAA90",
          "model": "Airbus A321",
          "reg": "TC-JTP"
         },
         "airline": {
          "iata": "TK",
          "icao": "THY",
          "name": "Turkish"
         },
         "arrival": {
          "airport": {
           "iata": "IST",
           "icao": "LTFM",
           "name": "Istanbul"
          },
          "baggageBelt": "20A",
          "quality": [
           "Basic",
           "Live"
          ],
          "revisedTime": {
           "local": "2024-05-08 19:40+03:00",
           "utc": "2024-05-08 16:40Z"
          },
          "scheduledTime": {
           "local": "2024-05-08 19:15+03:00",
           "utc": "2024-05-08 16:15Z"
          }
         },
         "callSign": "THY1726",
         "codeshareStatus": "IsOperator",
         "departure": {
          "checkInDesk": "911-916",
          "gate": "C17",
          "quality": [
           "Basic",
           "Live"
          ],
          "revisedTime": {
           "local": "2024-05-08 15:35+02:00",
           "utc": "2024-05-08 13:35Z"
          },
          "runwayTime": {
           "local": "2024-05-08 16:14+02:00",
           "utc": "2024-05-08 14:14Z"
          },
          "scheduledTime": {
           "local": "2024-05-08 15:10+02:00",
           "utc": "2024-05-08 13:10Z"
          },
          "terminal": "1"
         },
         "isCargo": false,
         "number": "TK 1726",
         "status": "Departed"
        },
        {
         "aircraft": {
          "modeS": "4BA9C9",
          "model": "Airbus A330-300",
          "reg": "TC-JNI"
         },
         "airline": {
          "iata": "TK",
          "icao": "THY",
          "name": "Turkish"
         },
         "arrival": {
          "airport": {
           "iata": "IST",
           "icao": "LTFM",
           "name": "Istanbul"
          },
          "baggageBelt": "10",
          "quality": [
           "Basic",
           "Live"
          ],
          "revisedTime": {
           "local": "2024-05-08 23:40+03:00",
           "utc": "2024-05-08 20:40Z"
          },
          "scheduledTime": {
           "local": "2024-05-08 23:00+03:00",
           "utc": "2024-05-08 20:00Z"
          }
         },
         "callSign": "THY8XN",
         "codeshareStatus": "IsOperator",
         "departure": {
          "checkInDesk": "911-916",
          "gate": "C01",
          "quality": [
           "Basic",
           "Live"
          ],
          "revisedTime": {
           "local": "2024-05-08 20:00+02:00",
           "utc": "2024-05-08 18:00Z"
          },
          "runwayTime": {
           "local": "2024-05-08 20:18+02:00",
           "utc": "2024-05-08 18:18Z"
          },
          "scheduledTime": {
           "local": "2024-05-08 19:10+02:00",
           "utc": "2024-05-08 17:10Z"
          },
          "terminal": "1"
         },
         "isCargo": false,
         "number": "TK 1724",
         "status": "Departed"
        },
        {
         "aircraft": {
          "modeS": "471F87",
          "model": "Airbus A320",
          "reg": "HA-LYL"
         },
         "airline": {
          "iata": "W6",
          "icao": "WZZ",
          "name": "Wizz Air"
         },
         "arrival": {
          "airport": {
           "iata": "SKP",
           "icao": "LWSK",
           "name": "Skopje"
          },
          "baggageBelt": "01",
          "quality": [
           "Basic",
           "Live"
          ],
          "revisedTime": {
           "local": "2024-05-08 20:42+02:00",
           "utc": "2024-05-08 18:42Z"
          },
          "scheduledTime": {
           "local": "2024-05-08 20:35+02:00",
           "utc": "2024-05-08 18:35Z"
          }
         },
         "callSign": "WZZ2020",
         "codeshareStatus": "IsOperator",
         "departure": {
          "checkInDesk": "154-157",
          "gate": "B44",
          "quality": [
           "Basic",
           "Live"
          ],
          "revisedTime": {
           "local": "2024-05-08 18:25+02:00",
           "utc": "2024-05-08 16:25Z"
          },
          "runwayTime": {
           "local": "2024-05-08 18:43+02:00",
           "utc": "2024-05-08 16:43Z"
          },
          "scheduledTime": {
           "local": "2024-05-08 18:25+02:00",
           "utc": "2024-05-08 16:25Z"
          },
          "terminal": "2"
         },
         "isCargo": false,
         "number": "W6 4740",
         "status": "Departed"
        },
        {
         "aircraft": {
          "modeS": "4D242A",
          "model": "Airbus A320",
          "reg": "9H-WAV"
         },
         "airline": {
          "iata": "W6",
          "icao": "WZZ",
          "name": "Wizz Air"
         },
         "arrival": {
          "airport": {
           "iata": "BEG",
           "icao": "LYBE",
           "name": "Belgrade"
          },
          "quality": [
           "Basic"
          ],
          "scheduledTime": {
           "local": "2024-05-08 22:10+02:00",
           "utc": "2024-05-08 20:10Z"
          },
          "terminal": "2"
         },
         "callSign": "WZZ3010",
         "codeshareStatus": "IsOperator",
         "departure": {
          "checkInDesk": "154-157",
          "gate": "B44",
          "quality": [
           "Basic",
           "Live"
          ],
          "revisedTime": {
           "local": "2024-05-08 20:20+02:00",
           "utc": "2024-05-08 18:20Z"
          },
          "runwayTime": {
           "local": "2024-05-08 20:29+02:00",
           "utc": "2024-05-08 18:29Z"
          },
          "scheduledTime": {
           "local": "2024-05-08 20:20+02:00",
           "utc": "2024-05-08 18:20Z"
          },
          "terminal": "2"
         },
         "isCargo": false,
         "number": "W6 4010",
         "status": "Departed"
        },
        {
         "aircraft": {
          "modeS": "4D2503",
          "model": "Boeing 737 MAX 8 ",
          "reg": "9H-VVR"
         },
         "airline": {
          "iata": "FR",
          "icao": "RYR",
          "name": "Ryanair"
         },
         "arrival": {
          "airport": {
           "iata": "TGD",
           "icao": "LYPG",
           "name": "Podgorica"
          },
          "baggageBelt": "B1",
          "quality": [
           "Basic",
           "Live"
          ],
          "revisedTime": {
           "local": "2024-05-08 15:11+02:00",
           "utc": "2024-05-08 13:11Z"
          },
          "scheduledTime": {
           "local": "2024-05-08 15:00+02:00",
           "utc": "2024-05-08 13:00Z"
          }
         },
         "callSign": "RYR56RD",
         "codeshareStatus": "IsOperator",
         "departure": {
          "checkInDesk": "158-165",
          "gate": "B42",
          "quality": [
           "Basic",
           "Live"
          ],
          "revisedTime": {
           "local": "2024-05-08 12:55+02:00",
           "utc": "2024-05-08 10:55Z"
          },
          "runwayTime": {
           "local": "2024-05-08 13:21+02:00",
           "utc": "2024-05-08 11:21Z"
          },
          "scheduledTime": {
           "local": "2024-05-08 12:55+02:00",
           "utc": "2024-05-08 10:55Z"
          },
          "terminal": "2"
         },
         "isCargo": false,
         "number": "FR 1578",
         "status": "Departed"
        },
        {
         "aircraft": {
          "modeS": "3C0893",
          "model": "Airbus A320",
          "reg": "D-ASGK"
         },
         "airline": {
          "iata": "SR",
          "icao": "SDR",
          "name": "SundAir"
         },
         "arrival": {
          "airport": {
           "iata": "BEY",
           "icao": "OLBA",
           "name": "Beirut"
          },
          "quality": [
           "Basic"
          ],
          "scheduledTime": {
           "local": "2024-05-08 17:45+03:00",
           "utc": "2024-05-08 14:45Z"
          }
         },
         "codeshareStatus": "IsOperator",
         "departure": {
          "checkInDesk": "011-014",
          "gate": "C15",
          "quality": [
           "Basic",
           "Live"
          ],
          "revisedTime": {
           "local": "2024-05-08 12:45+02:00",
           "utc": "2024-05-08 10:45Z"
          },
          "scheduledTime": {
           "local": "2024-05-08 12:45+02:00",
           "utc": "2024-05-08 10:45Z"
          },
          "terminal": "1"
         },
         "isCargo": false,
         "number": "SR 134",
         "status": "Departed"
        },
        {
         "aircraft": {
          "modeS": "06A2E8",
          "model": "Boeing 787-9",
          "reg": "A7-BHE"
         },
         "airline": {
          "iata": "QR",
          "icao": "QTR",
          "name": "Qatar Airways"
         },
         "arrival": {
          "airport": {
           "iata": "DOH",
           "icao": "OTHH",
           "name": "Doha"
          },
          "quality": [
           "Basic"
          ],
          "scheduledTime": {
           "local": "2024-05-08 23:20+03:00",
           "utc": "2024-05-08 20:20Z"
          }
         },
         "callSign": "QTR8M",
         "codeshareStatus": "IsOperator",
         "departure": {
          "checkInDesk": "111-123",
          "gate": "C07",
          "quality": [
           "Basic",
           "Live"
          ],
          "revisedTime": {
           "local": "2024-05-08 16:40+02:00",
           "utc": "2024-05-08 14:40Z"
          },
          "runwayTime": {
           "local": "2024-05-08 16:58+02:00",
           "utc": "2024-05-08 14:58Z"
          },
          "scheduledTime": {
           "local": "2024-05-08 16:40+02:00",
           "utc": "2024-05-08 14:40Z"
          },
          "terminal": "1"
         },
         "isCargo": false,
         "number": "QR 82",
         "status": "Departed"
        },
        {
         "aircraft": {
          "modeS": "5140C2",
          "model": "Boeing 737",
          "reg": "4L-NIK"
         },
         "airline": {
          "iata": "A9",
          "icao": "TGZ",
          "name": "Georgian Airways"
         },
         "arrival": {
          "airport": {
           "iata": "TBS",
           "icao": "UGTB",
           "name": "Tbilisi"
          },
          "baggageBelt": "03",
          "quality": [
           "Basic",
           "Live"
          ],
          "revisedTime": {
           "local": "2024-05-08 21:00+04:00",
           "utc": "2024-05-08 17:00Z"
          },
          "scheduledTime": {
           "local": "2024-05-08 20:50+04:00",
           "utc": "2024-05-08 16:50Z"
          }
         },
         "callSign": "TGZ782",
         "codeshareStatus": "IsOperator",
         "departure": {
          "checkInDesk": "714-716",
          "gate": "C14",
          "quality": [
           "Basic",
           "Live"
          ],
          "revisedTime": {
           "local": "2024-05-08 14:50+02:00",
           "utc": "2024-05-08 12:50Z"
          },
          "runwayTime": {
           "local": "2024-05-08 15:25+02:00",
           "utc": "2024-05-08 13:25Z"
          },
          "scheduledTime": {
           "local": "2024-05-08 14:40+02:00",
           "utc": "2024-05-08 12:40Z"
          },
          "terminal": "1"
         },
         "isCargo": false,
         "number": "A9 782",
         "status": "Departed"
        },
        {
         "aircraft": {
          "modeS": "7813A1",
          "model": "Airbus A330",
          "reg": "B-1098"
         },
         "airline": {
          "iata": "HU",
          "icao": "CHH",
          "name": "Hainan"
         },
         "arrival": {
          "airport": {
           "iata": "PEK",
           "icao": "ZBAA",
           "name": "Beijing"
          },
          "baggageBelt": "01",
          "quality": [
           "Basic",
           "Live"
          ],
          "revisedTime": {
           "local": "2024-05-09 04:35+08:00",
           "utc": "2024-05-08 20:35Z"
          },
          "scheduledTime": {
           "local": "2024-05-09 05:00+08:00",
           "utc": "2024-05-08 21:00Z"
          },
          "terminal": "2"
         },
         "callSign": "CHH490",
         "codeshareStatus": "IsOperator",
         "departure": {
          "checkInDesk": "721-726",
          "gate": "C17",
          "quality": [
           "Basic",
           "Live"
          ],
          "revisedTime": {
           "local": "2024-05-08 13:55+02:00",
           "utc": "2024-05-08 11:55Z"
          },
          "runwayTime": {
           "local": "2024-05-08 14:09+02:00",
           "utc": "2024-05-08 12:09Z"
          },
          "scheduledTime": {
           "local": "2024-05-08 13:55+02:00",
           "utc": "2024-05-08 11:55Z"
          },
          "terminal": "1"
         },
         "isCargo": false,
         "number": "HU 490",
         "status": "Departed"
        }
       ]
      },
      "text/plain": [
       "<IPython.core.display.JSON object>"
      ]
     },
     "execution_count": 36,
     "metadata": {
      "application/json": {
       "expanded": false,
       "root": "root"
      }
     },
     "output_type": "execute_result"
    }
   ],
   "source": [
    "flight_response= response.json()\n",
    "JSON(flight_response)\n"
   ]
  },
  {
   "cell_type": "code",
   "execution_count": 37,
   "id": "e9de8d2d-a406-4360-af2e-a215dcb9f21e",
   "metadata": {},
   "outputs": [
    {
     "data": {
      "text/plain": [
       "'2024-05-08 11:10+02:00'"
      ]
     },
     "execution_count": 37,
     "metadata": {},
     "output_type": "execute_result"
    }
   ],
   "source": [
    "flight_response['arrivals'][0]['arrival']['scheduledTime']['local']"
   ]
  },
  {
   "cell_type": "code",
   "execution_count": 38,
   "id": "c89a77bb-be0c-4194-bdf3-850ecbc3f253",
   "metadata": {},
   "outputs": [
    {
     "data": {
      "text/plain": [
       "'Lisbon'"
      ]
     },
     "execution_count": 38,
     "metadata": {},
     "output_type": "execute_result"
    }
   ],
   "source": [
    "flight_response['arrivals'][0]['departure']['airport'].get('name')"
   ]
  },
  {
   "cell_type": "code",
   "execution_count": 39,
   "id": "b176b285-2e2c-4e50-b96d-bd14d5f955f4",
   "metadata": {},
   "outputs": [
    {
     "data": {
      "text/plain": [
       "'FR 1143'"
      ]
     },
     "execution_count": 39,
     "metadata": {},
     "output_type": "execute_result"
    }
   ],
   "source": [
    "flight_response['arrivals'][0].get('number')"
   ]
  },
  {
   "cell_type": "code",
   "execution_count": 40,
   "id": "f19f7c8b-ecb5-401b-8c82-6776dbcdc4b6",
   "metadata": {},
   "outputs": [
    {
     "data": {
      "text/plain": [
       "'2'"
      ]
     },
     "execution_count": 40,
     "metadata": {},
     "output_type": "execute_result"
    }
   ],
   "source": [
    "flight_response['arrivals'][0].get('arrival').get('terminal')"
   ]
  },
  {
   "cell_type": "code",
   "execution_count": 41,
   "id": "367bb28c-8606-4889-b163-697698415451",
   "metadata": {},
   "outputs": [
    {
     "data": {
      "text/plain": [
       "'Z34'"
      ]
     },
     "execution_count": 41,
     "metadata": {},
     "output_type": "execute_result"
    }
   ],
   "source": [
    "flight_response['arrivals'][0].get('arrival').get('gate')"
   ]
  },
  {
   "cell_type": "code",
   "execution_count": 42,
   "id": "f74a0fa6-6b75-4d0f-b12c-7c1968b62097",
   "metadata": {},
   "outputs": [
    {
     "data": {
      "text/plain": [
       "'Arrived'"
      ]
     },
     "execution_count": 42,
     "metadata": {},
     "output_type": "execute_result"
    }
   ],
   "source": [
    "flight_response['arrivals'][0].get('status')"
   ]
  },
  {
   "cell_type": "markdown",
   "id": "0dcfe2ff-a66d-47d1-8336-13498c0ba71e",
   "metadata": {
    "jp-MarkdownHeadingCollapsed": true
   },
   "source": [
    "#### Looping through"
   ]
  },
  {
   "cell_type": "code",
   "execution_count": 43,
   "id": "b7fab463-be4d-4891-891c-68a90b8bb6ca",
   "metadata": {},
   "outputs": [],
   "source": [
    "ICAO = 'EDDB'\n",
    "flight_info = {'flight_number':[],\n",
    "               'departure_airpot_name': [],\n",
    "               'arrival_ICAO':[],\n",
    "               'arrival_terminal':[],\n",
    "               'arrival_gate':[],\n",
    "               'arrival_time':[],\n",
    "               'flight_status':[]\n",
    "               }\n",
    "\n",
    "for info in flight_response['arrivals']:\n",
    "    flight_info['flight_number'].append(info.get('number', None)),\n",
    "    flight_info['departure_airpot_name'].append(info['departure']['airport'].get('name',None)),\n",
    "    flight_info['arrival_ICAO'].append(ICAO),\n",
    "    flight_info['arrival_terminal'].append(info['arrival'].get('terminal', None)),\n",
    "    flight_info['arrival_gate'].append(info['arrival'].get('gate', None)),\n",
    "    flight_info['arrival_time'].append(info['arrival']['scheduledTime'].get('local', None)),\n",
    "    flight_info['flight_status'].append(info.get('status',None))\n",
    "    \n",
    "    \n",
    "\n",
    "flight_info = pd.DataFrame(flight_info)\n",
    "                                                                          "
   ]
  },
  {
   "cell_type": "code",
   "execution_count": 44,
   "id": "810483f6-b5b2-4794-92b7-808d236a37b0",
   "metadata": {},
   "outputs": [],
   "source": [
    "flight_info['arrival_time']= flight_info['arrival_time'].str[:16] #we can also use [-6] to remove the last six characters"
   ]
  },
  {
   "cell_type": "markdown",
   "id": "b927f849-92dd-44da-8a9f-439928912b79",
   "metadata": {
    "jp-MarkdownHeadingCollapsed": true
   },
   "source": [
    "#### Looping for Both Countries"
   ]
  },
  {
   "cell_type": "code",
   "execution_count": 45,
   "id": "05f724bd-b090-467f-9181-394482e0462c",
   "metadata": {
    "scrolled": true
   },
   "outputs": [],
   "source": [
    "ICAO = ['EDDB', 'EGLL']\n",
    "berlin_timezone = timezone('Europe/Berlin')\n",
    "timestamp= datetime.now(berlin_timezone).strftime(\"%Y-%m-%d\")\n",
    "flight_info = {'flight_number':[],\n",
    "             'departure_airpot_name': [],\n",
    "             'arrival_ICAO':[],\n",
    "             'arrival_terminal':[],\n",
    "             'arrival_gate':[],\n",
    "             'arrival_time':[],\n",
    "             'flight_status':[]\n",
    "                   }  \n",
    "\n",
    "for icao in ICAO:\n",
    "    url = f\"https://aerodatabox.p.rapidapi.com/flights/airports/icao/{icao}/{timestamp}T00:00/{timestamp}T12:00\"\n",
    "    querystring = {\"withLeg\":\"true\",\"withCancelled\":\"true\",\"withCodeshared\":\"true\",\"withCargo\":\"true\",\"withPrivate\":\"true\",\"withLocation\":\"false\"}\n",
    "    headers = {\n",
    "    \t\"X-RapidAPI-Key\": my_stuff.my_Rapid_Key,\n",
    "    \t\"X-RapidAPI-Host\": \"aerodatabox.p.rapidapi.com\"\n",
    "    }\n",
    "    response = requests.get(url, headers=headers, params=querystring)\n",
    "    flight_response= response.json()\n",
    "    for info in flight_response['arrivals']:\n",
    "        flight_info['flight_number'].append(info.get('number', None)),\n",
    "        flight_info['departure_airpot_name'].append(info['departure']['airport'].get('name',None)),\n",
    "        flight_info['arrival_ICAO'].append(icao),\n",
    "        flight_info['arrival_terminal'].append(info['arrival'].get('terminal', None)),\n",
    "        flight_info['arrival_gate'].append(info['arrival'].get('gate', None)),\n",
    "        flight_info['arrival_time'].append(info['arrival']['scheduledTime'].get('local', None)),\n",
    "        flight_info['flight_status'].append(info.get('status',None))\n",
    "        \n",
    "        \n",
    "    \n",
    "flight_info = pd.DataFrame(flight_info)\n",
    "flight_info['arrival_time']= flight_info['arrival_time'].str[:16]\n",
    "\n"
   ]
  },
  {
   "cell_type": "markdown",
   "id": "0da1368e-5ada-411e-87dd-2c313e3d198a",
   "metadata": {
    "jp-MarkdownHeadingCollapsed": true
   },
   "source": [
    "#### Placing Data in a Function"
   ]
  },
  {
   "cell_type": "code",
   "execution_count": 46,
   "id": "418006f3-3fc2-46ce-8166-d055bcec302e",
   "metadata": {},
   "outputs": [
    {
     "data": {
      "text/html": [
       "<div>\n",
       "<style scoped>\n",
       "    .dataframe tbody tr th:only-of-type {\n",
       "        vertical-align: middle;\n",
       "    }\n",
       "\n",
       "    .dataframe tbody tr th {\n",
       "        vertical-align: top;\n",
       "    }\n",
       "\n",
       "    .dataframe thead th {\n",
       "        text-align: right;\n",
       "    }\n",
       "</style>\n",
       "<table border=\"1\" class=\"dataframe\">\n",
       "  <thead>\n",
       "    <tr style=\"text-align: right;\">\n",
       "      <th></th>\n",
       "      <th>icao</th>\n",
       "      <th>city_id</th>\n",
       "    </tr>\n",
       "  </thead>\n",
       "  <tbody>\n",
       "    <tr>\n",
       "      <th>0</th>\n",
       "      <td>EDDB</td>\n",
       "      <td>1</td>\n",
       "    </tr>\n",
       "    <tr>\n",
       "      <th>1</th>\n",
       "      <td>EGLL</td>\n",
       "      <td>2</td>\n",
       "    </tr>\n",
       "  </tbody>\n",
       "</table>\n",
       "</div>"
      ],
      "text/plain": [
       "   icao  city_id\n",
       "0  EDDB        1\n",
       "1  EGLL        2"
      ]
     },
     "execution_count": 46,
     "metadata": {},
     "output_type": "execute_result"
    }
   ],
   "source": [
    "airport_df = pd.read_sql('airport', con= connection_string)\n",
    "airport_df"
   ]
  },
  {
   "cell_type": "code",
   "execution_count": 47,
   "id": "cf0d7935-a800-4e08-bf37-b1d19cad3840",
   "metadata": {},
   "outputs": [],
   "source": [
    "def get_flight_info (airport_df):\n",
    "    \n",
    "    now = datetime.now()\n",
    "    tomorrow = now + timedelta(days=1)\n",
    "    tomorrow = tomorrow.strftime('%Y-%m-%d')\n",
    "\n",
    "    times_list = [{'from':'00:00','to':'11:59'},{'from':'12:00','to':'23:59'}]\n",
    "    flight_info = {\n",
    "                 'flight_number':[],\n",
    "                 'departure_airpot_name': [],\n",
    "                 'arrival_ICAO':[],\n",
    "                 'arrival_terminal':[],\n",
    "                 'arrival_gate':[],\n",
    "                 'arrival_time':[],\n",
    "                 'flight_status':[]\n",
    "                       }  \n",
    "    for i,row in airport_df.iterrows():\n",
    "        for time in times_list:\n",
    "            url = f\"https://aerodatabox.p.rapidapi.com/flights/airports/icao/{row['icao']}/{tomorrow}T{time['from']}/{tomorrow}T{time['to']}\"\n",
    "            querystring = {\"withLeg\":\"true\",\"withCancelled\":\"true\",\"withCodeshared\":\"true\",\"withCargo\":\"true\",\"withPrivate\":\"true\",\"withLocation\":\"false\"}\n",
    "            headers = {\n",
    "            \t\"X-RapidAPI-Key\": my_stuff.my_Rapid_Key,\n",
    "            \t\"X-RapidAPI-Host\": \"aerodatabox.p.rapidapi.com\"\n",
    "            }\n",
    "            response = requests.get(url, headers=headers, params=querystring)\n",
    "            flight_response= response.json()\n",
    "            for info in flight_response['arrivals']:\n",
    "                \n",
    "                flight_info['flight_number'].append(info.get('number', None)),\n",
    "                flight_info['departure_airpot_name'].append(info['departure']['airport'].get('name',None)),\n",
    "                flight_info['arrival_ICAO'].append(row['icao']),\n",
    "                flight_info['arrival_terminal'].append(info['arrival'].get('terminal', None)),\n",
    "                flight_info['arrival_gate'].append(info['arrival'].get('gate', None)),\n",
    "                flight_info['arrival_time'].append(info['arrival']['scheduledTime'].get('local', None)),\n",
    "                flight_info['flight_status'].append(info.get('status',None))\n",
    "                    \n",
    "    flight_info = pd.DataFrame(flight_info)\n",
    "    flight_info['arrival_time']= flight_info['arrival_time'].str[:16]\n",
    "    #flight_info.to_sql('flights',con=connect, if_exists='append', index=False )\n",
    "\n",
    "    "
   ]
  },
  {
   "cell_type": "code",
   "execution_count": 48,
   "id": "e35c2787-1ded-4030-aa46-897c32677af2",
   "metadata": {},
   "outputs": [],
   "source": [
    "#get_flight_info (airport_df)"
   ]
  },
  {
   "cell_type": "code",
   "execution_count": null,
   "id": "bc8668b0-85b4-444c-9005-dc1a10f3baf8",
   "metadata": {},
   "outputs": [],
   "source": []
  }
 ],
 "metadata": {
  "kernelspec": {
   "display_name": "Python 3 (ipykernel)",
   "language": "python",
   "name": "python3"
  },
  "language_info": {
   "codemirror_mode": {
    "name": "ipython",
    "version": 3
   },
   "file_extension": ".py",
   "mimetype": "text/x-python",
   "name": "python",
   "nbconvert_exporter": "python",
   "pygments_lexer": "ipython3",
   "version": "3.11.7"
  }
 },
 "nbformat": 4,
 "nbformat_minor": 5
}
