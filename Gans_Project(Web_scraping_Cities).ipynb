{
 "cells": [
  {
   "cell_type": "code",
   "execution_count": 1,
   "id": "28faec07-ed83-4c97-a9be-324e55d720fc",
   "metadata": {},
   "outputs": [],
   "source": [
    "import pandas as pd\n",
    "import requests\n",
    "from bs4 import BeautifulSoup\n",
    "import re\n",
    "import my_stuff"
   ]
  },
  {
   "cell_type": "markdown",
   "id": "c486f355-e522-487f-824f-e9211ee4cb1a",
   "metadata": {
    "jp-MarkdownHeadingCollapsed": true
   },
   "source": [
    "### Parsing"
   ]
  },
  {
   "cell_type": "code",
   "execution_count": 2,
   "id": "3d1c84af-f2aa-4c3c-9b34-8ce563dda63c",
   "metadata": {},
   "outputs": [],
   "source": [
    "url= 'https://en.wikipedia.org/wiki/London'\n",
    "url1 = 'https://en.wikipedia.org/wiki/Berlin'\n",
    "url2= 'https://en.wikipedia.org/wiki/Hamburg'\n",
    "url3= 'https://en.wikipedia.org/wiki/Munich'\n"
   ]
  },
  {
   "cell_type": "code",
   "execution_count": 3,
   "id": "8fc08d2a-1994-49d6-a025-56b687ff10fe",
   "metadata": {},
   "outputs": [],
   "source": [
    "response_l = requests.get(url)\n",
    "london = BeautifulSoup(response_l.content, 'html.parser')"
   ]
  },
  {
   "cell_type": "code",
   "execution_count": 4,
   "id": "671e168d-f3ac-4bb8-b8ca-ed62b414cbf7",
   "metadata": {},
   "outputs": [],
   "source": [
    "response_b = requests.get(url1)\n",
    "berlin = BeautifulSoup(response_b.content, 'html.parser')"
   ]
  },
  {
   "cell_type": "code",
   "execution_count": 5,
   "id": "3aa6186f-66ee-4398-b014-9da96733efc6",
   "metadata": {},
   "outputs": [],
   "source": [
    "response_h = requests.get(url2)\n",
    "hamburg = BeautifulSoup(response_h.content, 'html.parser')"
   ]
  },
  {
   "cell_type": "code",
   "execution_count": 6,
   "id": "8cb12e99-338c-4eb6-9959-e3a184c9a31c",
   "metadata": {},
   "outputs": [],
   "source": [
    "response_m = requests.get(url3)\n",
    "munich = BeautifulSoup(response_m.content, 'html.parser')"
   ]
  },
  {
   "cell_type": "code",
   "execution_count": 7,
   "id": "821c790b-1e94-43aa-9402-6bce93b3da75",
   "metadata": {
    "scrolled": true
   },
   "outputs": [],
   "source": [
    "#print(berlin.prettify())"
   ]
  },
  {
   "cell_type": "markdown",
   "id": "2d7915be-8a4b-4d1a-90c3-deef83df5297",
   "metadata": {
    "jp-MarkdownHeadingCollapsed": true
   },
   "source": [
    "### Scraping for population"
   ]
  },
  {
   "cell_type": "code",
   "execution_count": 8,
   "id": "19eb8d79-2997-457a-b370-775833b3f9e4",
   "metadata": {},
   "outputs": [
    {
     "data": {
      "text/plain": [
       "'8,799,800[1]'"
      ]
     },
     "execution_count": 8,
     "metadata": {},
     "output_type": "execute_result"
    }
   ],
   "source": [
    "pop_london= london.find_all(class_='infobox-header' )[2]\n",
    "lon_pop= pop_london.find_next(class_= 'infobox-data').get_text()\n",
    "lon_pop"
   ]
  },
  {
   "cell_type": "code",
   "execution_count": 9,
   "id": "ba18904c-aa1c-4cab-aeb5-dd8564d9fdf2",
   "metadata": {},
   "outputs": [
    {
     "data": {
      "text/plain": [
       "'3,755,251'"
      ]
     },
     "execution_count": 9,
     "metadata": {},
     "output_type": "execute_result"
    }
   ],
   "source": [
    "pop_berlin= berlin.find_all(class_= 'infobox-header')[2]\n",
    "stat_berlin= pop_berlin.find_next(class_='infobox-data')\n",
    "ber_pop= stat_berlin.get_text()\n",
    "ber_pop"
   ]
  },
  {
   "cell_type": "code",
   "execution_count": 10,
   "id": "3d542e2b-56e3-481a-929c-f3af4c9ab361",
   "metadata": {},
   "outputs": [
    {
     "data": {
      "text/plain": [
       "'1,945,532'"
      ]
     },
     "execution_count": 10,
     "metadata": {},
     "output_type": "execute_result"
    }
   ],
   "source": [
    "pop_hamburg= hamburg.find_all(class_= 'infobox-header')[2]\n",
    "stat_hamburg= pop_hamburg.find_next(class_='infobox-data')\n",
    "ham_pop= stat_hamburg.get_text()\n",
    "ham_pop"
   ]
  },
  {
   "cell_type": "code",
   "execution_count": 11,
   "id": "d1253aa2-a197-4c5f-81bf-157f63b6e924",
   "metadata": {},
   "outputs": [
    {
     "data": {
      "text/plain": [
       "'1,512,491'"
      ]
     },
     "execution_count": 11,
     "metadata": {},
     "output_type": "execute_result"
    }
   ],
   "source": [
    "pop_munich= munich.find_all(class_= 'infobox-header')[2]\n",
    "stat_munich= pop_munich.find_next(class_='infobox-data')\n",
    "mun_pop=stat_munich.get_text()\n",
    "mun_pop"
   ]
  },
  {
   "cell_type": "markdown",
   "id": "3276026a-2757-4fb1-8c59-472b24e2df2c",
   "metadata": {},
   "source": [
    "##### Alternative methods of scraping for population"
   ]
  },
  {
   "cell_type": "code",
   "execution_count": 12,
   "id": "599966ef-c99a-4e54-ab20-430ae02589f7",
   "metadata": {},
   "outputs": [
    {
     "data": {
      "text/plain": [
       "'3,755,251'"
      ]
     },
     "execution_count": 12,
     "metadata": {},
     "output_type": "execute_result"
    }
   ],
   "source": [
    "berlin_population= berlin.select('#mw-content-text > div.mw-content-ltr.mw-parser-output > table.infobox.ib-settlement.vcard > tbody > tr:nth-child(21) > td')[0].get_text()\n",
    "berlin_population"
   ]
  },
  {
   "cell_type": "code",
   "execution_count": 13,
   "id": "f3c10ade-bdfb-4f59-aa02-43178346eba3",
   "metadata": {},
   "outputs": [
    {
     "data": {
      "text/plain": [
       "'1,945,532'"
      ]
     },
     "execution_count": 13,
     "metadata": {},
     "output_type": "execute_result"
    }
   ],
   "source": [
    "hamburg_population = hamburg.select('#mw-content-text > div.mw-content-ltr.mw-parser-output > table.infobox.ib-settlement.vcard > tbody > tr:nth-child(19) > td')[0].get_text()\n",
    "hamburg_population"
   ]
  },
  {
   "cell_type": "code",
   "execution_count": 14,
   "id": "6ca3ca06-47e2-4da7-b252-49aa43f4ad84",
   "metadata": {},
   "outputs": [
    {
     "data": {
      "text/plain": [
       "'1,512,491'"
      ]
     },
     "execution_count": 14,
     "metadata": {},
     "output_type": "execute_result"
    }
   ],
   "source": [
    "munich_population= munich.select('#mw-content-text > div.mw-content-ltr.mw-parser-output > table.infobox.ib-settlement.vcard > tbody > tr:nth-child(21) > td')[0].get_text()\n",
    "munich_population"
   ]
  },
  {
   "cell_type": "markdown",
   "id": "59029fa0-cc02-4272-a01a-5781d778ca12",
   "metadata": {
    "jp-MarkdownHeadingCollapsed": true
   },
   "source": [
    "### Scraping for Longitude and Latitude"
   ]
  },
  {
   "cell_type": "markdown",
   "id": "228520cf-7bbb-429a-9175-2627d059c912",
   "metadata": {},
   "source": [
    "##### London"
   ]
  },
  {
   "cell_type": "code",
   "execution_count": 15,
   "id": "07bfe43a-9827-4917-a480-c95e916c6f48",
   "metadata": {},
   "outputs": [
    {
     "name": "stdout",
     "output_type": "stream",
     "text": [
      "51°30′26″N\n",
      "0°7′39″W\n"
     ]
    }
   ],
   "source": [
    "for coords in london.find_all(class_= 'infobox-full-data'):\n",
    "    if coords.find(string =re.compile ('Coordinate', re.IGNORECASE)):\n",
    "        lat= coords.find(class_= 'latitude').get_text()\n",
    "        long = coords.find(class_= 'longitude').get_text()\n",
    "        print(lat)\n",
    "        print(long)"
   ]
  },
  {
   "cell_type": "markdown",
   "id": "eba6a2c1-b682-4ed7-8d4e-fc16a7d60f98",
   "metadata": {},
   "source": [
    "##### Berlin"
   ]
  },
  {
   "cell_type": "code",
   "execution_count": 16,
   "id": "b04f8aa1-0395-499d-a08f-25128421e0e4",
   "metadata": {},
   "outputs": [
    {
     "name": "stdout",
     "output_type": "stream",
     "text": [
      "52°31′12″N\n",
      "13°24′18″E\n"
     ]
    }
   ],
   "source": [
    "for coords in berlin.find_all(class_= 'infobox-full-data'):\n",
    "    if coords.find(string=re.compile('Coordinate', re.IGNORECASE)):\n",
    "        lat_b = coords.find(class_= 'latitude').get_text()\n",
    "        long_b = coords.find(class_= 'longitude').get_text()\n",
    "        print(lat_b)\n",
    "        print(long_b)"
   ]
  },
  {
   "cell_type": "markdown",
   "id": "04f7e059-a7fd-4ef2-9650-79c934a6e2e2",
   "metadata": {},
   "source": [
    "##### Hamburg"
   ]
  },
  {
   "cell_type": "code",
   "execution_count": 17,
   "id": "de956e29-c1da-41b5-b5ea-925f16fafc6a",
   "metadata": {},
   "outputs": [
    {
     "name": "stdout",
     "output_type": "stream",
     "text": [
      "53°33′N\n",
      "10°00′E\n"
     ]
    }
   ],
   "source": [
    "for coords in hamburg.find_all(class_= 'infobox-full-data'):\n",
    "    if coords.find(string=re.compile('Coordinates', re.IGNORECASE)):\n",
    "        lat_h= coords.find(class_='latitude').get_text()\n",
    "        long_h = coords.find(class_='longitude').get_text()\n",
    "        print(lat_h)\n",
    "        print(long_h)"
   ]
  },
  {
   "cell_type": "markdown",
   "id": "6a76c0e8-af7f-42af-8f53-2f39d3973f94",
   "metadata": {},
   "source": [
    "##### Munich"
   ]
  },
  {
   "cell_type": "code",
   "execution_count": 18,
   "id": "251621ea-3143-4efa-9fd0-ba56b19aaa99",
   "metadata": {},
   "outputs": [
    {
     "name": "stdout",
     "output_type": "stream",
     "text": [
      "48°08′15″N\n",
      "11°34′30″E\n"
     ]
    }
   ],
   "source": [
    "for coords in munich.find_all(class_= 'infobox-full-data'):\n",
    "    if coords.find(string=re.compile('Coordinates', re.IGNORECASE)):\n",
    "        lat_m= coords.find_next(class_='latitude').get_text()\n",
    "        long_m = coords.find_next(class_='longitude').get_text()\n",
    "        print(lat_m)\n",
    "        print(long_m)"
   ]
  },
  {
   "cell_type": "markdown",
   "id": "c7831423-2842-42dd-ac48-1e0355c1f893",
   "metadata": {
    "jp-MarkdownHeadingCollapsed": true
   },
   "source": [
    "### Scraping for City"
   ]
  },
  {
   "cell_type": "code",
   "execution_count": 19,
   "id": "b196b66a-0edd-4b61-8798-633c24eb2d08",
   "metadata": {},
   "outputs": [
    {
     "data": {
      "text/plain": [
       "'London'"
      ]
     },
     "execution_count": 19,
     "metadata": {},
     "output_type": "execute_result"
    }
   ],
   "source": [
    "city= london.find('h1').get_text()\n",
    "city"
   ]
  },
  {
   "cell_type": "code",
   "execution_count": 20,
   "id": "fd2d76ba-52de-4b6f-9716-92af2efc88a3",
   "metadata": {},
   "outputs": [
    {
     "data": {
      "text/plain": [
       "'Berlin'"
      ]
     },
     "execution_count": 20,
     "metadata": {},
     "output_type": "execute_result"
    }
   ],
   "source": [
    "city1= berlin.find('h1').get_text()\n",
    "city1"
   ]
  },
  {
   "cell_type": "code",
   "execution_count": 21,
   "id": "68e67aca-4ade-445e-b6cb-f4e9e9e7584e",
   "metadata": {},
   "outputs": [
    {
     "data": {
      "text/plain": [
       "'Hamburg'"
      ]
     },
     "execution_count": 21,
     "metadata": {},
     "output_type": "execute_result"
    }
   ],
   "source": [
    "city2= hamburg.find('h1').get_text()\n",
    "city2"
   ]
  },
  {
   "cell_type": "code",
   "execution_count": 22,
   "id": "f309b25d-914e-4747-9287-7a66b736de5e",
   "metadata": {},
   "outputs": [
    {
     "data": {
      "text/plain": [
       "'Munich'"
      ]
     },
     "execution_count": 22,
     "metadata": {},
     "output_type": "execute_result"
    }
   ],
   "source": [
    "city3= munich.find('h1').get_text()\n",
    "city3"
   ]
  },
  {
   "cell_type": "markdown",
   "id": "bf55adb3-6524-44e6-b74d-3a7704a8c989",
   "metadata": {
    "jp-MarkdownHeadingCollapsed": true
   },
   "source": [
    "### Scraping for Country"
   ]
  },
  {
   "cell_type": "code",
   "execution_count": 23,
   "id": "8bc62b0d-3b47-4bdd-8fcb-4b835d2298ca",
   "metadata": {},
   "outputs": [
    {
     "data": {
      "text/plain": [
       "'Germany'"
      ]
     },
     "execution_count": 23,
     "metadata": {},
     "output_type": "execute_result"
    }
   ],
   "source": [
    "country_b= berlin.find_all(class_='infobox-label')[0]\n",
    "country_= country_b.find_next(class_= 'infobox-data')\n",
    "Country= country_.get_text()\n",
    "Country"
   ]
  },
  {
   "cell_type": "code",
   "execution_count": 24,
   "id": "035bb861-71cd-43a8-ad01-d4fd34d9e92d",
   "metadata": {},
   "outputs": [
    {
     "data": {
      "text/plain": [
       "'United Kingdom'"
      ]
     },
     "execution_count": 24,
     "metadata": {},
     "output_type": "execute_result"
    }
   ],
   "source": [
    "country_l= london.find_all(class_='infobox-label')[0]\n",
    "country_= country_l.find_next(class_= 'infobox-data')\n",
    "Country= country_.get_text()\n",
    "Country"
   ]
  },
  {
   "cell_type": "markdown",
   "id": "e5455bcf-3997-461f-964c-d39fbc434b6b",
   "metadata": {},
   "source": [
    "### Creating Dataframe for Results"
   ]
  },
  {
   "cell_type": "markdown",
   "id": "49d78720-2624-485d-8966-ce29bb52c512",
   "metadata": {
    "jp-MarkdownHeadingCollapsed": true
   },
   "source": [
    "##### Manually"
   ]
  },
  {
   "cell_type": "code",
   "execution_count": 25,
   "id": "3a7fbcad-001a-47a3-90da-910c0c58bbcb",
   "metadata": {},
   "outputs": [
    {
     "data": {
      "text/html": [
       "<div>\n",
       "<style scoped>\n",
       "    .dataframe tbody tr th:only-of-type {\n",
       "        vertical-align: middle;\n",
       "    }\n",
       "\n",
       "    .dataframe tbody tr th {\n",
       "        vertical-align: top;\n",
       "    }\n",
       "\n",
       "    .dataframe thead th {\n",
       "        text-align: right;\n",
       "    }\n",
       "</style>\n",
       "<table border=\"1\" class=\"dataframe\">\n",
       "  <thead>\n",
       "    <tr style=\"text-align: right;\">\n",
       "      <th></th>\n",
       "      <th>city</th>\n",
       "      <th>population</th>\n",
       "      <th>latitude</th>\n",
       "      <th>longitude</th>\n",
       "      <th>country</th>\n",
       "    </tr>\n",
       "  </thead>\n",
       "  <tbody>\n",
       "    <tr>\n",
       "      <th>0</th>\n",
       "      <td>Berlin</td>\n",
       "      <td>3,755,251</td>\n",
       "      <td>52°31′12″N</td>\n",
       "      <td>13°24′18″E</td>\n",
       "      <td>Germany</td>\n",
       "    </tr>\n",
       "    <tr>\n",
       "      <th>1</th>\n",
       "      <td>Hamburg</td>\n",
       "      <td>1,945,532</td>\n",
       "      <td>53°33′N</td>\n",
       "      <td>10°00′E</td>\n",
       "      <td>Germany</td>\n",
       "    </tr>\n",
       "    <tr>\n",
       "      <th>2</th>\n",
       "      <td>Munich</td>\n",
       "      <td>1,512,491</td>\n",
       "      <td>48°08′15″N</td>\n",
       "      <td>11°34′30″E</td>\n",
       "      <td>Germany</td>\n",
       "    </tr>\n",
       "    <tr>\n",
       "      <th>3</th>\n",
       "      <td>London</td>\n",
       "      <td>8,799,800</td>\n",
       "      <td>51°30′26″N</td>\n",
       "      <td>0°7′39″W</td>\n",
       "      <td>United Kingdom</td>\n",
       "    </tr>\n",
       "  </tbody>\n",
       "</table>\n",
       "</div>"
      ],
      "text/plain": [
       "      city population    latitude   longitude         country\n",
       "0   Berlin  3,755,251  52°31′12″N  13°24′18″E         Germany\n",
       "1  Hamburg  1,945,532     53°33′N     10°00′E         Germany\n",
       "2   Munich  1,512,491  48°08′15″N  11°34′30″E         Germany\n",
       "3   London  8,799,800  51°30′26″N    0°7′39″W  United Kingdom"
      ]
     },
     "execution_count": 25,
     "metadata": {},
     "output_type": "execute_result"
    }
   ],
   "source": [
    "df ={\n",
    "    'city':['Berlin','Hamburg','Munich','London'],\n",
    "    \"population\": ['3,755,251', '1,945,532','1,512,491','8,799,800'],\n",
    "    \"latitude\":['52°31′12″N','53°33′N', '48°08′15″N','51°30′26″N'], \n",
    "    \"longitude\": ['13°24′18″E','10°00′E','11°34′30″E','0°7′39″W'], \n",
    "    \"country\":['Germany','Germany','Germany', 'United Kingdom']}\n",
    "pd.DataFrame(df)"
   ]
  },
  {
   "cell_type": "markdown",
   "id": "da85314f-0a8f-4490-a05f-defaa3b85b54",
   "metadata": {
    "jp-MarkdownHeadingCollapsed": true
   },
   "source": [
    "##### Looping through"
   ]
  },
  {
   "cell_type": "code",
   "execution_count": 26,
   "id": "259d1315-1534-467d-a101-a2b4a18893f2",
   "metadata": {},
   "outputs": [],
   "source": [
    "cities = ['berlin','london']\n",
    "city_info= {'city':[],\n",
    "          'population':[],\n",
    "         'latitude':[],\n",
    "         'longitude':[],\n",
    "         'country':[]}\n",
    "\n",
    "for city in cities:\n",
    "    \n",
    "    url= 'https://en.wikipedia.org/wiki/'+city\n",
    "    response = requests.get(url)\n",
    "    pop_soup = BeautifulSoup(response.content, 'html.parser')\n",
    "    city = pop_soup.find('h1').get_text()\n",
    "\n",
    "\n",
    "    for header in pop_soup.find_all(class_='infobox-header'):\n",
    "         if header.find(string=re.compile(\"population\", re.IGNORECASE)):\n",
    "            population= header.find_next(class_= 'infobox-data').get_text()\n",
    "        \n",
    "    for coords in pop_soup.find_all(class_='infobox-full-data'):\n",
    "        if coords.find(string=re.compile(\"Coordinates\", re.IGNORECASE)):\n",
    "            longi = coords.find(class_='longitude').get_text()\n",
    "                    \n",
    "    for coords in pop_soup.find_all(class_= 'infobox-full-data'):\n",
    "        if coords.find(string=re.compile(\"Coordinates\", re.IGNORECASE)):\n",
    "            lat= coords.find(class_= 'latitude').get_text()\n",
    "                    \n",
    "    for label in pop_soup.find_all(class_='infobox-label'):\n",
    "         if label.find(string=re.compile(\"country\", re.IGNORECASE)):\n",
    "            country = label.find_next(class_= 'infobox-data').get_text()\n",
    "                   \n",
    "    city_info['city'].append(city)\n",
    "    city_info['population'].append(population)\n",
    "    city_info['latitude'].append(lat)\n",
    "    city_info['longitude'].append(longi)\n",
    "    city_info['country'].append(country)\n",
    "            \n",
    "cities_df = pd.DataFrame(city_info)\n",
    "cities_df['population'] = cities_df['population'].str.replace('[1]','')\n",
    "cities_df['population'] = cities_df['population'].str.replace(',','')\n",
    "cities_df[\"population\"] = pd.to_numeric(cities_df[\"population\"])\n",
    "    "
   ]
  },
  {
   "cell_type": "code",
   "execution_count": 27,
   "id": "af9625d5-92b4-4169-bf54-b3bdd14604d2",
   "metadata": {},
   "outputs": [
    {
     "data": {
      "text/html": [
       "<div>\n",
       "<style scoped>\n",
       "    .dataframe tbody tr th:only-of-type {\n",
       "        vertical-align: middle;\n",
       "    }\n",
       "\n",
       "    .dataframe tbody tr th {\n",
       "        vertical-align: top;\n",
       "    }\n",
       "\n",
       "    .dataframe thead th {\n",
       "        text-align: right;\n",
       "    }\n",
       "</style>\n",
       "<table border=\"1\" class=\"dataframe\">\n",
       "  <thead>\n",
       "    <tr style=\"text-align: right;\">\n",
       "      <th></th>\n",
       "      <th>city</th>\n",
       "      <th>population</th>\n",
       "      <th>latitude</th>\n",
       "      <th>longitude</th>\n",
       "      <th>country</th>\n",
       "    </tr>\n",
       "  </thead>\n",
       "  <tbody>\n",
       "    <tr>\n",
       "      <th>0</th>\n",
       "      <td>Berlin</td>\n",
       "      <td>3755251</td>\n",
       "      <td>52°31′12″N</td>\n",
       "      <td>13°24′18″E</td>\n",
       "      <td>Germany</td>\n",
       "    </tr>\n",
       "    <tr>\n",
       "      <th>1</th>\n",
       "      <td>London</td>\n",
       "      <td>8799800</td>\n",
       "      <td>51°30′26″N</td>\n",
       "      <td>0°7′39″W</td>\n",
       "      <td>England</td>\n",
       "    </tr>\n",
       "  </tbody>\n",
       "</table>\n",
       "</div>"
      ],
      "text/plain": [
       "     city  population    latitude   longitude  country\n",
       "0  Berlin     3755251  52°31′12″N  13°24′18″E  Germany\n",
       "1  London     8799800  51°30′26″N    0°7′39″W  England"
      ]
     },
     "execution_count": 27,
     "metadata": {},
     "output_type": "execute_result"
    }
   ],
   "source": [
    "cities_df"
   ]
  },
  {
   "cell_type": "markdown",
   "id": "6fc93993-6607-4ea2-8c0d-0427de9107fb",
   "metadata": {
    "jp-MarkdownHeadingCollapsed": true
   },
   "source": [
    "### Putting data in a function"
   ]
  },
  {
   "cell_type": "code",
   "execution_count": 28,
   "id": "2b9a4ffa-c006-4583-81c8-08be9dc5b3f1",
   "metadata": {},
   "outputs": [],
   "source": [
    "def city_pop(city):\n",
    "    cities_info = {'city':[],\n",
    "          'population':[],\n",
    "         'latitude':[],\n",
    "         'longitude':[],\n",
    "         'country':[]}\n",
    "    \n",
    "    url = \"https://en.wikipedia.org/wiki/\"+city\n",
    "    response = requests.get(url)\n",
    "    soup_city = BeautifulSoup(response.content, 'html.parser')\n",
    "    city = soup_city.find('h1').get_text()\n",
    "    \n",
    "    for header in soup_city.find_all(class_=\"infobox-header\"):\n",
    "        if header.find(string=re.compile(\"population\", re.IGNORECASE)):\n",
    "            popu = header.find_next(class_=\"infobox-data\").text\n",
    "\n",
    "    for label in soup_city.find_all(class_=\"infobox-label\"):\n",
    "        if label.find(string=re.compile(\"country\", re.IGNORECASE)):\n",
    "            country = label.find_next(class_=\"infobox-data\").text\n",
    "    \n",
    "    for coords in soup_city.find_all(class_=\"infobox-full-data\"):\n",
    "        if coords.find(string=re.compile(\"Coordinates\", re.IGNORECASE)):\n",
    "            lati = coords.find_next(class_=\"latitude\").text\n",
    "            longi = coords.find_next(class_=\"longitude\").text\n",
    "            \n",
    "    cities_info['city'].append(city)\n",
    "    cities_info['population'].append(popu)\n",
    "    cities_info['latitude'].append(lat)\n",
    "    cities_info['longitude'].append(longi)\n",
    "    cities_info['country'].append(country)\n",
    "    \n",
    "    cities_df = pd.DataFrame(cities_info)\n",
    "    cities_df['population'] = cities_df['population'].str.replace('[1]','')\n",
    "    cities_df['population'] = cities_df['population'].str.replace(',','')\n",
    "    cities_df[\"population\"] = pd.to_numeric(cities_df[\"population\"])\n",
    "    return cities_df"
   ]
  },
  {
   "cell_type": "markdown",
   "id": "f60802c3-e797-4a55-a913-00b37dd4779d",
   "metadata": {
    "jp-MarkdownHeadingCollapsed": true
   },
   "source": [
    "### Notebook to SQL"
   ]
  },
  {
   "cell_type": "code",
   "execution_count": 29,
   "id": "01661f08-0ee5-49c4-bbaf-cca37ed903b7",
   "metadata": {},
   "outputs": [],
   "source": [
    "schema = \"gans\"\n",
    "host = \"127.0.0.1\"\n",
    "user = \"root\"\n",
    "password =my_stuff.my_sql_password\n",
    "port = 3306\n",
    "\n",
    "connection_string = f'mysql+pymysql://{user}:{password}@{host}:{port}/{schema}'"
   ]
  },
  {
   "cell_type": "code",
   "execution_count": 30,
   "id": "a6845d2b-096d-4e89-aecc-8ec1bb95871d",
   "metadata": {},
   "outputs": [],
   "source": [
    "#cities_df.to_sql('city', if_exists ='append', con =connection_string, index = False)"
   ]
  },
  {
   "cell_type": "code",
   "execution_count": 31,
   "id": "250254a6-18b2-42d7-8c02-d230d1e46441",
   "metadata": {},
   "outputs": [],
   "source": [
    "city_from_sql=pd.read_sql('city', con=connection_string)"
   ]
  },
  {
   "cell_type": "code",
   "execution_count": 32,
   "id": "bc3f5557-0bfd-418f-a2b9-035c207d983b",
   "metadata": {},
   "outputs": [
    {
     "data": {
      "text/html": [
       "<div>\n",
       "<style scoped>\n",
       "    .dataframe tbody tr th:only-of-type {\n",
       "        vertical-align: middle;\n",
       "    }\n",
       "\n",
       "    .dataframe tbody tr th {\n",
       "        vertical-align: top;\n",
       "    }\n",
       "\n",
       "    .dataframe thead th {\n",
       "        text-align: right;\n",
       "    }\n",
       "</style>\n",
       "<table border=\"1\" class=\"dataframe\">\n",
       "  <thead>\n",
       "    <tr style=\"text-align: right;\">\n",
       "      <th></th>\n",
       "      <th>city_id</th>\n",
       "      <th>city</th>\n",
       "      <th>country</th>\n",
       "      <th>population</th>\n",
       "      <th>latitude</th>\n",
       "      <th>longitude</th>\n",
       "    </tr>\n",
       "  </thead>\n",
       "  <tbody>\n",
       "    <tr>\n",
       "      <th>0</th>\n",
       "      <td>1</td>\n",
       "      <td>Berlin</td>\n",
       "      <td>Germany</td>\n",
       "      <td>3755251</td>\n",
       "      <td>52°31′12″N</td>\n",
       "      <td>13°24′18″E</td>\n",
       "    </tr>\n",
       "    <tr>\n",
       "      <th>1</th>\n",
       "      <td>2</td>\n",
       "      <td>London</td>\n",
       "      <td>United Kingdom</td>\n",
       "      <td>8799800</td>\n",
       "      <td>51°30′26″N</td>\n",
       "      <td>0°7′39″W</td>\n",
       "    </tr>\n",
       "  </tbody>\n",
       "</table>\n",
       "</div>"
      ],
      "text/plain": [
       "   city_id    city         country  population    latitude   longitude\n",
       "0        1  Berlin         Germany     3755251  52°31′12″N  13°24′18″E\n",
       "1        2  London  United Kingdom     8799800  51°30′26″N    0°7′39″W"
      ]
     },
     "execution_count": 32,
     "metadata": {},
     "output_type": "execute_result"
    }
   ],
   "source": [
    "city_from_sql"
   ]
  },
  {
   "cell_type": "code",
   "execution_count": 33,
   "id": "6d521fac-6afe-4cc0-99ca-99e07d93a5ae",
   "metadata": {},
   "outputs": [],
   "source": [
    "airport_df = {'ICAO':['EDDB','EGLL'] ,\"city_id\":[1, 2]}\n",
    "airport_df= pd.DataFrame(airport_df)"
   ]
  },
  {
   "cell_type": "code",
   "execution_count": 34,
   "id": "620b31fb-e93b-4d12-8f15-21194d374c32",
   "metadata": {},
   "outputs": [],
   "source": [
    "#airport_df.to_sql('airport', if_exists ='append', con =connection_string, index = False)"
   ]
  },
  {
   "cell_type": "code",
   "execution_count": 35,
   "id": "a36aa3a0-a793-4a74-bd22-e6a5c41cda40",
   "metadata": {},
   "outputs": [
    {
     "data": {
      "text/html": [
       "<div>\n",
       "<style scoped>\n",
       "    .dataframe tbody tr th:only-of-type {\n",
       "        vertical-align: middle;\n",
       "    }\n",
       "\n",
       "    .dataframe tbody tr th {\n",
       "        vertical-align: top;\n",
       "    }\n",
       "\n",
       "    .dataframe thead th {\n",
       "        text-align: right;\n",
       "    }\n",
       "</style>\n",
       "<table border=\"1\" class=\"dataframe\">\n",
       "  <thead>\n",
       "    <tr style=\"text-align: right;\">\n",
       "      <th></th>\n",
       "      <th>icao</th>\n",
       "      <th>city_id</th>\n",
       "    </tr>\n",
       "  </thead>\n",
       "  <tbody>\n",
       "    <tr>\n",
       "      <th>0</th>\n",
       "      <td>EDDB</td>\n",
       "      <td>1</td>\n",
       "    </tr>\n",
       "    <tr>\n",
       "      <th>1</th>\n",
       "      <td>EGLL</td>\n",
       "      <td>2</td>\n",
       "    </tr>\n",
       "  </tbody>\n",
       "</table>\n",
       "</div>"
      ],
      "text/plain": [
       "   icao  city_id\n",
       "0  EDDB        1\n",
       "1  EGLL        2"
      ]
     },
     "execution_count": 35,
     "metadata": {},
     "output_type": "execute_result"
    }
   ],
   "source": [
    "airport_df = pd.read_sql('airport', con= connection_string)\n",
    "airport_df"
   ]
  }
 ],
 "metadata": {
  "kernelspec": {
   "display_name": "Python 3 (ipykernel)",
   "language": "python",
   "name": "python3"
  },
  "language_info": {
   "codemirror_mode": {
    "name": "ipython",
    "version": 3
   },
   "file_extension": ".py",
   "mimetype": "text/x-python",
   "name": "python",
   "nbconvert_exporter": "python",
   "pygments_lexer": "ipython3",
   "version": "3.11.7"
  }
 },
 "nbformat": 4,
 "nbformat_minor": 5
}
